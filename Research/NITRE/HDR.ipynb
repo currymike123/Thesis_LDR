{
 "cells": [
  {
   "cell_type": "code",
   "execution_count": 23,
   "metadata": {},
   "outputs": [],
   "source": [
    "import cv2\n",
    "from PIL import Image\n",
    "import numpy as np\n",
    "from numpy import interp\n",
    "import matplotlib.pyplot as plt"
   ]
  },
  {
   "cell_type": "code",
   "execution_count": 24,
   "metadata": {},
   "outputs": [],
   "source": [
    "\n",
    "def imread_uint16_png(image_path, alignratio_path):\n",
    "    \"\"\" This function loads a uint16 png image from the specified path and restore its original image range with\n",
    "    the ratio stored in the specified alignratio.npy respective path.\n",
    "\n",
    "\n",
    "    Args:\n",
    "        image_path (str): Path to the uint16 png image\n",
    "        alignratio_path (str): Path to the alignratio.npy file corresponding to the image\n",
    "\n",
    "    Returns:\n",
    "        np.ndarray (np.float32, (h,w,3)): Returns the RGB HDR image specified in image_path.\n",
    "\n",
    "    \"\"\"\n",
    "    # Load the align_ratio variable and ensure is in np.float32 precision\n",
    "    align_ratio = np.load(alignratio_path).astype(np.float32)\n",
    "    # Load image without changing bit depth and normalize by align ratio\n",
    "    return cv2.cvtColor(cv2.imread(image_path, cv2.IMREAD_UNCHANGED), cv2.COLOR_BGR2RGB) / align_ratio\n",
    "\n",
    "def imwrite_uint16_png(image_path, image, alignratio_path):\n",
    "    \"\"\" This function writes the hdr image as a uint16 png and stores its related align_ratio value in the specified paths.\n",
    "\n",
    "        Args:\n",
    "            image_path (str): Write path to the uint16 png image (needs to finish in .png, e.g. 0000.png)\n",
    "            image (np.ndarray): HDR image in float format.\n",
    "            alignratio_path (str): Write path to the align_ratio value (needs to finish in .npy, e.g. 0000_alignratio.npy)\n",
    "\n",
    "        Returns:\n",
    "            np.ndarray (np.float32, (h,w,3)): Returns the RGB HDR image specified in image_path.\n",
    "\n",
    "    \"\"\"\n",
    "    align_ratio = (2 ** 16 - 1) / image.max()\n",
    "    np.save(alignratio_path, align_ratio)\n",
    "    uint16_image_gt = np.round(image * align_ratio).astype(np.uint16)\n",
    "    cv2.imwrite(image_path, cv2.cvtColor(uint16_image_gt, cv2.COLOR_RGB2BGR))\n",
    "    return None"
   ]
  },
  {
   "cell_type": "code",
   "execution_count": 25,
   "metadata": {},
   "outputs": [],
   "source": [
    "img = imread_uint16_png(\"1046_gt.png\",\"1046_alignratio.npy\")"
   ]
  },
  {
   "cell_type": "code",
   "execution_count": 26,
   "metadata": {},
   "outputs": [
    {
     "name": "stderr",
     "output_type": "stream",
     "text": [
      "Clipping input data to the valid range for imshow with RGB data ([0..1] for floats or [0..255] for integers).\n"
     ]
    },
    {
     "data": {
      "text/plain": [
       "<matplotlib.image.AxesImage at 0x7efe902e71c0>"
      ]
     },
     "execution_count": 26,
     "metadata": {},
     "output_type": "execute_result"
    },
    {
     "data": {
      "image/png": "[encoded data removed]",
      "text/plain": [
       "<Figure size 432x288 with 1 Axes>"
      ]
     },
     "metadata": {
      "needs_background": "light"
     },
     "output_type": "display_data"
    }
   ],
   "source": [
    "img = cv2.cvtColor(img, cv2.COLOR_BGR2RGB)\n",
    "plt.imshow(img)"
   ]
  },
  {
   "cell_type": "code",
   "execution_count": 27,
   "metadata": {},
   "outputs": [
    {
     "name": "stdout",
     "output_type": "stream",
     "text": [
      "6042000\n",
      "(1060, 1900, 3)\n",
      "float32\n",
      "[15.5019455 15.389105  14.027237 ]\n"
     ]
    }
   ],
   "source": [
    "#How many elements are in that data. \n",
    "print(img.size)\n",
    "\n",
    "#What is the shape of the array.\n",
    "print(img.shape)\n",
    "\n",
    "#What type are the elements.\n",
    "print(img.dtype)\n",
    "\n",
    "#What are the pixel values\n",
    "print(img[0,0])\n",
    "\n"
   ]
  },
  {
   "cell_type": "code",
   "execution_count": 20,
   "metadata": {},
   "outputs": [],
   "source": [
    "imwrite_uint16_png(\"hdr1.png\",img,\"1046_alignratio.npy\")"
   ]
  }
 ],
 "metadata": {
  "kernelspec": {
   "display_name": "Python 3.10.4 64-bit",
   "language": "python",
   "name": "python3"
  },
  "language_info": {
   "codemirror_mode": {
    "name": "ipython",
    "version": 3
   },
   "file_extension": ".py",
   "mimetype": "text/x-python",
   "name": "python",
   "nbconvert_exporter": "python",
   "pygments_lexer": "ipython3",
   "version": "3.10.4"
  },
  "orig_nbformat": 4,
  "vscode": {
   "interpreter": {
    "hash": "e7370f93d1d0cde622a1f8e1c04877d8463912d04d973331ad4851f04de6915a"
   }
  }
 },
 "nbformat": 4,
 "nbformat_minor": 2
}
