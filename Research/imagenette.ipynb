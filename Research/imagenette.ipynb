{
 "cells": [
  {
   "cell_type": "code",
   "execution_count": 1,
   "metadata": {},
   "outputs": [],
   "source": [
    "import tensorflow as tf\n",
    "from tensorflow import keras\n",
    "from tensorflow.keras import layers\n",
    "from tensorflow.keras.utils import image_dataset_from_directory\n",
    "import tensorflow_datasets as tfds\n",
    "\n",
    "import numpy as np\n",
    "import os\n",
    "import PIL\n",
    "import PIL.Image\n",
    "import glob\n",
    "\n",
    "import cv2\n",
    "\n",
    "import matplotlib.pyplot as plt\n",
    "from matplotlib import gridspec"
   ]
  },
  {
   "cell_type": "code",
   "execution_count": 2,
   "metadata": {},
   "outputs": [
    {
     "name": "stdout",
     "output_type": "stream",
     "text": [
      "Num GPUs: 0\n"
     ]
    },
    {
     "name": "stderr",
     "output_type": "stream",
     "text": [
      "2022-09-21 18:29:52.832800: E tensorflow/stream_executor/cuda/cuda_driver.cc:271] failed call to cuInit: CUDA_ERROR_UNKNOWN: unknown error\n",
      "2022-09-21 18:29:52.832824: I tensorflow/stream_executor/cuda/cuda_diagnostics.cc:169] retrieving CUDA diagnostic information for host: mike-System-Product-Name\n",
      "2022-09-21 18:29:52.832827: I tensorflow/stream_executor/cuda/cuda_diagnostics.cc:176] hostname: mike-System-Product-Name\n",
      "2022-09-21 18:29:52.832909: I tensorflow/stream_executor/cuda/cuda_diagnostics.cc:200] libcuda reported version is: 515.65.1\n",
      "2022-09-21 18:29:52.832920: I tensorflow/stream_executor/cuda/cuda_diagnostics.cc:204] kernel reported version is: 515.65.1\n",
      "2022-09-21 18:29:52.832923: I tensorflow/stream_executor/cuda/cuda_diagnostics.cc:310] kernel version seems to match DSO: 515.65.1\n"
     ]
    }
   ],
   "source": [
    "physical_devices = tf.config.list_physical_devices('GPU')\n",
    "print(\"Num GPUs:\", len(physical_devices))"
   ]
  },
  {
   "cell_type": "code",
   "execution_count": 10,
   "metadata": {},
   "outputs": [],
   "source": [
    "ds, info = tfds.load('imagenette/full-size-v2', with_info=True, as_supervised=True)\n",
    "ds_train, ds_val = ds[\"train\"], ds[\"validation\"]\n",
    "\n",
    "del ds"
   ]
  },
  {
   "cell_type": "code",
   "execution_count": 17,
   "metadata": {},
   "outputs": [
    {
     "data": {
      "text/plain": [
       "<PrefetchDataset element_spec=(TensorSpec(shape=(None, None, 3), dtype=tf.uint8, name=None), TensorSpec(shape=(), dtype=tf.int64, name=None))>"
      ]
     },
     "execution_count": 17,
     "metadata": {},
     "output_type": "execute_result"
    }
   ],
   "source": [
    "ds_train"
   ]
  },
  {
   "cell_type": "code",
   "execution_count": 9,
   "metadata": {},
   "outputs": [],
   "source": []
  },
  {
   "cell_type": "code",
   "execution_count": 3,
   "metadata": {},
   "outputs": [
    {
     "name": "stdout",
     "output_type": "stream",
     "text": [
      "Found 9469 files belonging to 10 classes.\n",
      "Found 3925 files belonging to 10 classes.\n"
     ]
    }
   ],
   "source": [
    "train_dataset = image_dataset_from_directory(\n",
    "'../../imagenette/train',\n",
    "image_size=(213, 160),\n",
    "batch_size=32)\n",
    "\n",
    "val_dataset = image_dataset_from_directory(\n",
    "'../../imagenette/val',\n",
    "image_size=(213,160),\n",
    "batch_size=32)"
   ]
  },
  {
   "cell_type": "code",
   "execution_count": 39,
   "metadata": {},
   "outputs": [],
   "source": [
    "elem = next(iter(train_dataset))"
   ]
  },
  {
   "cell_type": "code",
   "execution_count": 4,
   "metadata": {},
   "outputs": [],
   "source": [
    "for images, labels in train_dataset.take(1):\n",
    "    img_arr = images.numpy()\n",
    "    labels_arr = labels.numpy()"
   ]
  },
  {
   "cell_type": "code",
   "execution_count": 11,
   "metadata": {},
   "outputs": [
    {
     "data": {
      "text/plain": [
       "array([0, 1, 3, 8, 8, 2, 4, 1, 0, 8, 3, 9, 8, 3, 1, 7, 3, 1, 1, 7, 0, 4,\n",
       "       1, 4, 6, 1, 9, 9, 7, 6, 1, 2], dtype=int32)"
      ]
     },
     "execution_count": 11,
     "metadata": {},
     "output_type": "execute_result"
    }
   ],
   "source": [
    "labels_arr"
   ]
  },
  {
   "cell_type": "code",
   "execution_count": 22,
   "metadata": {},
   "outputs": [],
   "source": [
    "conv_base = keras.applications.vgg19.VGG19(\n",
    "weights=\"imagenet\",\n",
    "input_shape=(213, 160, 3),\n",
    "include_top=False)\n",
    "conv_base.trainable = False"
   ]
  },
  {
   "cell_type": "code",
   "execution_count": 23,
   "metadata": {},
   "outputs": [],
   "source": [
    "data_augmentation = keras.Sequential(\n",
    "[\n",
    "layers.RandomFlip(\"horizontal\"),\n",
    "layers.RandomRotation(0.1),\n",
    "layers.RandomZoom(0.2),\n",
    "]\n",
    ")"
   ]
  },
  {
   "cell_type": "code",
   "execution_count": 33,
   "metadata": {},
   "outputs": [],
   "source": [
    "inputs = keras.Input(shape=(213, 160, 3))\n",
    "# x = data_augmentation(inputs)\n",
    "x = keras.applications.vgg16.preprocess_input(inputs)\n",
    "x = conv_base(x)\n",
    "x = layers.Flatten()(x)\n",
    "x = layers.Dense(256)(x)\n",
    "x = layers.Dropout(0.5)(x)\n",
    "outputs = layers.Dense(10, activation=\"softmax\")(x)\n",
    "model = keras.Model(inputs, outputs)\n",
    "model.compile(loss=\"SparseCategoricalCrossentropy\",\n",
    "optimizer=\"rmsprop\",\n",
    "metrics=[\"accuracy\"])"
   ]
  },
  {
   "cell_type": "code",
   "execution_count": 34,
   "metadata": {},
   "outputs": [],
   "source": [
    "callbacks = [\n",
    "keras.callbacks.ModelCheckpoint(\n",
    "filepath=\"feature_extraction_without_data_augmentation.keras\",\n",
    "save_best_only=True,\n",
    "monitor=\"val_loss\")\n",
    "]"
   ]
  },
  {
   "cell_type": "code",
   "execution_count": 35,
   "metadata": {},
   "outputs": [
    {
     "name": "stdout",
     "output_type": "stream",
     "text": [
      "Epoch 1/20\n",
      "296/296 [==============================] - 15s 49ms/step - loss: 15.1027 - accuracy: 0.8887 - val_loss: 9.7057 - val_accuracy: 0.9304\n",
      "Epoch 2/20\n",
      "296/296 [==============================] - 14s 49ms/step - loss: 5.3885 - accuracy: 0.9565 - val_loss: 13.7641 - val_accuracy: 0.9256\n",
      "Epoch 3/20\n",
      "296/296 [==============================] - 14s 48ms/step - loss: 2.9546 - accuracy: 0.9752 - val_loss: 11.2458 - val_accuracy: 0.9422\n",
      "Epoch 4/20\n",
      "296/296 [==============================] - 14s 49ms/step - loss: 1.6678 - accuracy: 0.9830 - val_loss: 12.1764 - val_accuracy: 0.9386\n",
      "Epoch 5/20\n",
      "296/296 [==============================] - 14s 49ms/step - loss: 1.5695 - accuracy: 0.9865 - val_loss: 12.8527 - val_accuracy: 0.9389\n",
      "Epoch 6/20\n",
      "296/296 [==============================] - 14s 49ms/step - loss: 1.2093 - accuracy: 0.9882 - val_loss: 12.0526 - val_accuracy: 0.9447\n",
      "Epoch 7/20\n",
      "296/296 [==============================] - 15s 49ms/step - loss: 0.9774 - accuracy: 0.9897 - val_loss: 12.4892 - val_accuracy: 0.9419\n",
      "Epoch 8/20\n",
      "296/296 [==============================] - 15s 49ms/step - loss: 0.8569 - accuracy: 0.9900 - val_loss: 13.2299 - val_accuracy: 0.9437\n",
      "Epoch 9/20\n",
      "296/296 [==============================] - 15s 49ms/step - loss: 0.7398 - accuracy: 0.9941 - val_loss: 14.5277 - val_accuracy: 0.9409\n",
      "Epoch 10/20\n",
      "296/296 [==============================] - 15s 49ms/step - loss: 0.6956 - accuracy: 0.9931 - val_loss: 14.1736 - val_accuracy: 0.9447\n",
      "Epoch 11/20\n",
      "296/296 [==============================] - 15s 50ms/step - loss: 0.3920 - accuracy: 0.9963 - val_loss: 13.1018 - val_accuracy: 0.9439\n",
      "Epoch 12/20\n",
      "296/296 [==============================] - 15s 49ms/step - loss: 0.3354 - accuracy: 0.9966 - val_loss: 13.9286 - val_accuracy: 0.9429\n",
      "Epoch 13/20\n",
      "296/296 [==============================] - 15s 49ms/step - loss: 0.2941 - accuracy: 0.9962 - val_loss: 13.3117 - val_accuracy: 0.9429\n",
      "Epoch 14/20\n",
      "296/296 [==============================] - 15s 50ms/step - loss: 0.3051 - accuracy: 0.9956 - val_loss: 15.6091 - val_accuracy: 0.9381\n",
      "Epoch 15/20\n",
      "296/296 [==============================] - 15s 50ms/step - loss: 0.3528 - accuracy: 0.9956 - val_loss: 13.6176 - val_accuracy: 0.9460\n",
      "Epoch 16/20\n",
      "296/296 [==============================] - 15s 50ms/step - loss: 0.5175 - accuracy: 0.9957 - val_loss: 15.6069 - val_accuracy: 0.9404\n",
      "Epoch 17/20\n",
      "296/296 [==============================] - 16s 53ms/step - loss: 0.2836 - accuracy: 0.9968 - val_loss: 14.8161 - val_accuracy: 0.9432\n",
      "Epoch 18/20\n",
      "296/296 [==============================] - 15s 52ms/step - loss: 0.4138 - accuracy: 0.9957 - val_loss: 14.8588 - val_accuracy: 0.9437\n",
      "Epoch 19/20\n",
      "296/296 [==============================] - 15s 50ms/step - loss: 0.3010 - accuracy: 0.9963 - val_loss: 15.9256 - val_accuracy: 0.9450\n",
      "Epoch 20/20\n",
      "296/296 [==============================] - 15s 52ms/step - loss: 0.2343 - accuracy: 0.9971 - val_loss: 15.7776 - val_accuracy: 0.9470\n"
     ]
    }
   ],
   "source": [
    "history = model.fit(\n",
    "train_dataset,\n",
    "epochs=20,\n",
    "validation_data=val_dataset,\n",
    "callbacks=callbacks)"
   ]
  },
  {
   "cell_type": "code",
   "execution_count": 36,
   "metadata": {},
   "outputs": [
    {
     "ename": "NameError",
     "evalue": "name 'caption' is not defined",
     "output_type": "error",
     "traceback": [
      "\u001b[0;31m---------------------------------------------------------------------------\u001b[0m",
      "\u001b[0;31mNameError\u001b[0m                                 Traceback (most recent call last)",
      "\u001b[0;32m/tmp/ipykernel_34236/1994119428.py\u001b[0m in \u001b[0;36m<module>\u001b[0;34m\u001b[0m\n\u001b[1;32m      6\u001b[0m \u001b[0mplt\u001b[0m\u001b[0;34m.\u001b[0m\u001b[0mxlabel\u001b[0m\u001b[0;34m(\u001b[0m\u001b[0;34m'epoch'\u001b[0m\u001b[0;34m)\u001b[0m\u001b[0;34m\u001b[0m\u001b[0;34m\u001b[0m\u001b[0m\n\u001b[1;32m      7\u001b[0m \u001b[0mplt\u001b[0m\u001b[0;34m.\u001b[0m\u001b[0mlegend\u001b[0m\u001b[0;34m(\u001b[0m\u001b[0;34m[\u001b[0m\u001b[0;34m'train'\u001b[0m\u001b[0;34m,\u001b[0m \u001b[0;34m'test'\u001b[0m\u001b[0;34m]\u001b[0m\u001b[0;34m,\u001b[0m \u001b[0mloc\u001b[0m\u001b[0;34m=\u001b[0m\u001b[0;34m'upper left'\u001b[0m\u001b[0;34m)\u001b[0m\u001b[0;34m\u001b[0m\u001b[0;34m\u001b[0m\u001b[0m\n\u001b[0;32m----> 8\u001b[0;31m \u001b[0mplt\u001b[0m\u001b[0;34m.\u001b[0m\u001b[0mtext\u001b[0m\u001b[0;34m(\u001b[0m\u001b[0;34m-\u001b[0m\u001b[0;36m.5\u001b[0m\u001b[0;34m,\u001b[0m\u001b[0;34m-\u001b[0m\u001b[0;36m.5\u001b[0m\u001b[0;34m,\u001b[0m \u001b[0mcaption\u001b[0m\u001b[0;34m)\u001b[0m\u001b[0;34m\u001b[0m\u001b[0;34m\u001b[0m\u001b[0m\n\u001b[0m\u001b[1;32m      9\u001b[0m \u001b[0mplt\u001b[0m\u001b[0;34m.\u001b[0m\u001b[0mshow\u001b[0m\u001b[0;34m(\u001b[0m\u001b[0;34m)\u001b[0m\u001b[0;34m\u001b[0m\u001b[0;34m\u001b[0m\u001b[0m\n",
      "\u001b[0;31mNameError\u001b[0m: name 'caption' is not defined"
     ]
    },
    {
     "data": {
      "image/png": "[encoded data removed]",
      "text/plain": [
       "<Figure size 432x288 with 1 Axes>"
      ]
     },
     "metadata": {
      "needs_background": "light"
     },
     "output_type": "display_data"
    }
   ],
   "source": [
    "# Train/Test Accuracy Plot\n",
    "plt.plot(history.history['accuracy'])\n",
    "plt.plot(history.history['val_accuracy'])\n",
    "plt.title('Custom_0_30')\n",
    "plt.ylabel('accuracy')\n",
    "plt.xlabel('epoch')\n",
    "plt.legend(['train', 'test'], loc='upper left')\n",
    "plt.text(-.5,-.5, caption)\n",
    "plt.show()"
   ]
  },
  {
   "cell_type": "code",
   "execution_count": 27,
   "metadata": {},
   "outputs": [],
   "source": [
    "data_augmentation = keras.Sequential(\n",
    "[\n",
    "layers.RandomFlip(\"horizontal\"),\n",
    "layers.RandomRotation(0.1),\n",
    "layers.RandomZoom(0.2),\n",
    "]\n",
    ")\n",
    "\n",
    "inputs = keras.Input(shape=(213, 160, 3))\n",
    "x = data_augmentation(inputs)\n",
    "x = keras.applications.vgg16.preprocess_input(x)\n",
    "x = conv_base(x)\n",
    "x = layers.Flatten()(x)\n",
    "x = layers.Dense(256)(x)\n",
    "x = layers.Dropout(0.5)(x)\n",
    "outputs = layers.Dense(10, activation=\"softmax\")(x)\n",
    "modelDataAug = keras.Model(inputs, outputs)\n",
    "modelDataAug.compile(loss=\"SparseCategoricalCrossentropy\",\n",
    "optimizer=\"rmsprop\",\n",
    "metrics=[\"accuracy\"])"
   ]
  },
  {
   "cell_type": "code",
   "execution_count": 28,
   "metadata": {},
   "outputs": [],
   "source": [
    "callbacks = [\n",
    "keras.callbacks.ModelCheckpoint(\n",
    "filepath=\"feature_extraction_with_data_augmentation.keras\",\n",
    "save_best_only=True,\n",
    "monitor=\"val_loss\")\n",
    "]"
   ]
  },
  {
   "cell_type": "code",
   "execution_count": 31,
   "metadata": {},
   "outputs": [
    {
     "name": "stdout",
     "output_type": "stream",
     "text": [
      "Epoch 1/20\n",
      "296/296 [==============================] - 17s 56ms/step - loss: 2.6421 - accuracy: 0.9632 - val_loss: 9.5238 - val_accuracy: 0.9429\n",
      "Epoch 2/20\n",
      "296/296 [==============================] - 17s 57ms/step - loss: 3.3776 - accuracy: 0.9628 - val_loss: 9.1248 - val_accuracy: 0.9429\n",
      "Epoch 3/20\n",
      "296/296 [==============================] - 17s 56ms/step - loss: 3.4726 - accuracy: 0.9596 - val_loss: 8.6824 - val_accuracy: 0.9468\n",
      "Epoch 4/20\n",
      "296/296 [==============================] - 17s 56ms/step - loss: 3.1350 - accuracy: 0.9609 - val_loss: 9.1253 - val_accuracy: 0.9473\n",
      "Epoch 5/20\n",
      "296/296 [==============================] - 17s 57ms/step - loss: 3.6487 - accuracy: 0.9578 - val_loss: 9.0249 - val_accuracy: 0.9496\n",
      "Epoch 6/20\n",
      "296/296 [==============================] - 17s 56ms/step - loss: 3.4707 - accuracy: 0.9618 - val_loss: 8.9711 - val_accuracy: 0.9516\n",
      "Epoch 7/20\n",
      "296/296 [==============================] - 17s 57ms/step - loss: 3.0532 - accuracy: 0.9658 - val_loss: 8.6248 - val_accuracy: 0.9541\n",
      "Epoch 8/20\n",
      "296/296 [==============================] - 17s 56ms/step - loss: 3.5015 - accuracy: 0.9618 - val_loss: 9.2234 - val_accuracy: 0.9462\n",
      "Epoch 9/20\n",
      "296/296 [==============================] - 17s 56ms/step - loss: 3.6388 - accuracy: 0.9599 - val_loss: 9.8074 - val_accuracy: 0.9498\n",
      "Epoch 10/20\n",
      "296/296 [==============================] - 17s 56ms/step - loss: 2.8640 - accuracy: 0.9644 - val_loss: 10.4409 - val_accuracy: 0.9450\n",
      "Epoch 11/20\n",
      "296/296 [==============================] - 17s 56ms/step - loss: 3.3554 - accuracy: 0.9617 - val_loss: 9.2620 - val_accuracy: 0.9503\n",
      "Epoch 12/20\n",
      "296/296 [==============================] - 17s 56ms/step - loss: 2.8461 - accuracy: 0.9666 - val_loss: 10.2993 - val_accuracy: 0.9447\n",
      "Epoch 13/20\n",
      "296/296 [==============================] - 17s 56ms/step - loss: 3.2339 - accuracy: 0.9660 - val_loss: 9.5461 - val_accuracy: 0.9447\n",
      "Epoch 14/20\n",
      "296/296 [==============================] - 17s 56ms/step - loss: 3.0628 - accuracy: 0.9672 - val_loss: 10.5529 - val_accuracy: 0.9452\n",
      "Epoch 15/20\n",
      "296/296 [==============================] - 17s 56ms/step - loss: 3.0386 - accuracy: 0.9660 - val_loss: 10.3081 - val_accuracy: 0.9506\n",
      "Epoch 16/20\n",
      "296/296 [==============================] - 17s 57ms/step - loss: 3.3865 - accuracy: 0.9647 - val_loss: 10.9533 - val_accuracy: 0.9455\n",
      "Epoch 17/20\n",
      "296/296 [==============================] - 17s 57ms/step - loss: 3.4536 - accuracy: 0.9667 - val_loss: 10.4376 - val_accuracy: 0.9490\n",
      "Epoch 18/20\n",
      "296/296 [==============================] - 17s 56ms/step - loss: 3.1332 - accuracy: 0.9678 - val_loss: 11.0892 - val_accuracy: 0.9457\n",
      "Epoch 19/20\n",
      "296/296 [==============================] - 16s 56ms/step - loss: 3.2855 - accuracy: 0.9676 - val_loss: 11.2359 - val_accuracy: 0.9445\n",
      "Epoch 20/20\n",
      "296/296 [==============================] - 15s 52ms/step - loss: 3.4677 - accuracy: 0.9661 - val_loss: 10.7847 - val_accuracy: 0.9485\n"
     ]
    }
   ],
   "source": [
    "history = modelDataAug.fit(\n",
    "train_dataset,\n",
    "epochs=20,\n",
    "validation_data=val_dataset,\n",
    "callbacks=callbacks)"
   ]
  },
  {
   "cell_type": "code",
   "execution_count": 32,
   "metadata": {},
   "outputs": [
    {
     "ename": "NameError",
     "evalue": "name 'caption' is not defined",
     "output_type": "error",
     "traceback": [
      "\u001b[0;31m---------------------------------------------------------------------------\u001b[0m",
      "\u001b[0;31mNameError\u001b[0m                                 Traceback (most recent call last)",
      "\u001b[0;32m/tmp/ipykernel_34236/1994119428.py\u001b[0m in \u001b[0;36m<module>\u001b[0;34m\u001b[0m\n\u001b[1;32m      6\u001b[0m \u001b[0mplt\u001b[0m\u001b[0;34m.\u001b[0m\u001b[0mxlabel\u001b[0m\u001b[0;34m(\u001b[0m\u001b[0;34m'epoch'\u001b[0m\u001b[0;34m)\u001b[0m\u001b[0;34m\u001b[0m\u001b[0;34m\u001b[0m\u001b[0m\n\u001b[1;32m      7\u001b[0m \u001b[0mplt\u001b[0m\u001b[0;34m.\u001b[0m\u001b[0mlegend\u001b[0m\u001b[0;34m(\u001b[0m\u001b[0;34m[\u001b[0m\u001b[0;34m'train'\u001b[0m\u001b[0;34m,\u001b[0m \u001b[0;34m'test'\u001b[0m\u001b[0;34m]\u001b[0m\u001b[0;34m,\u001b[0m \u001b[0mloc\u001b[0m\u001b[0;34m=\u001b[0m\u001b[0;34m'upper left'\u001b[0m\u001b[0;34m)\u001b[0m\u001b[0;34m\u001b[0m\u001b[0;34m\u001b[0m\u001b[0m\n\u001b[0;32m----> 8\u001b[0;31m \u001b[0mplt\u001b[0m\u001b[0;34m.\u001b[0m\u001b[0mtext\u001b[0m\u001b[0;34m(\u001b[0m\u001b[0;34m-\u001b[0m\u001b[0;36m.5\u001b[0m\u001b[0;34m,\u001b[0m\u001b[0;34m-\u001b[0m\u001b[0;36m.5\u001b[0m\u001b[0;34m,\u001b[0m \u001b[0mcaption\u001b[0m\u001b[0;34m)\u001b[0m\u001b[0;34m\u001b[0m\u001b[0;34m\u001b[0m\u001b[0m\n\u001b[0m\u001b[1;32m      9\u001b[0m \u001b[0mplt\u001b[0m\u001b[0;34m.\u001b[0m\u001b[0mshow\u001b[0m\u001b[0;34m(\u001b[0m\u001b[0;34m)\u001b[0m\u001b[0;34m\u001b[0m\u001b[0;34m\u001b[0m\u001b[0m\n",
      "\u001b[0;31mNameError\u001b[0m: name 'caption' is not defined"
     ]
    },
    {
     "data": {
      "image/png": "[encoded data removed]",
      "text/plain": [
       "<Figure size 432x288 with 1 Axes>"
      ]
     },
     "metadata": {
      "needs_background": "light"
     },
     "output_type": "display_data"
    }
   ],
   "source": [
    "# Train/Test Accuracy Plot\n",
    "plt.plot(history.history['accuracy'])\n",
    "plt.plot(history.history['val_accuracy'])\n",
    "plt.title('Custom_0_30')\n",
    "plt.ylabel('accuracy')\n",
    "plt.xlabel('epoch')\n",
    "plt.legend(['train', 'test'], loc='upper left')\n",
    "plt.text(-.5,-.5, caption)\n",
    "plt.show()"
   ]
  },
  {
   "cell_type": "code",
   "execution_count": 1,
   "metadata": {},
   "outputs": [],
   "source": [
    "# Multiply Function\n",
    "\n",
    "def multiply(img):\n",
    "    # Get the size of the image\n",
    "    h = img.shape[0]\n",
    "    w = img.shape[1]\n",
    "    d = img.shape[2]\n",
    "\n",
    "    # Check if image is normalized between 0 - 1.\n",
    "    if (max(img[0][0]) > 1):\n",
    "        # Convert to float & normalize\n",
    "        img = img.astype(\"float64\") / 255\n",
    "\n",
    "    # Apply the Filter\n",
    "    for y in range(0,h):\n",
    "        #Search each pixel in the row. x = pixel\n",
    "        for x in range(0,w):\n",
    "            #Search each RGB value.\n",
    "            for z in range(0,d):\n",
    "                # Apply Filter to seperate image. \n",
    "                img[y,x,z] = img[y,x,z] * img[y,x,z]\n",
    "    \n",
    "    # return Multiply image\n",
    "    return img\n",
    "\n",
    "# Screen Function\n",
    "\n",
    "def screen(img):\n",
    "    # Get the size of the image\n",
    "    h = img.shape[0]\n",
    "    w = img.shape[1]\n",
    "    d = img.shape[2]\n",
    "\n",
    "    # Check if image is normalized between 0 - 1.\n",
    "    if (max(img[0][0]) > 1):\n",
    "        # Convert to float & normalize\n",
    "        img = img.astype(\"float64\") / 255\n",
    "\n",
    "    # Apply the Filter\n",
    "    for y in range(0,h):\n",
    "        #Search each pixel in the row. x = pixel\n",
    "        for x in range(0,w):\n",
    "            #Search each RGB value.\n",
    "            for z in range(0,d):\n",
    "                # Apply Filter to seperate image. \n",
    "                img[y,x,z] = 1 - (1 - img[y,x,z]) * (1 - img[y,x,z])\n",
    "    \n",
    "    # return Multiply image\n",
    "    return img\n"
   ]
  }
 ],
 "metadata": {
  "kernelspec": {
   "display_name": "Python 3.10.4 64-bit",
   "language": "python",
   "name": "python3"
  },
  "language_info": {
   "codemirror_mode": {
    "name": "ipython",
    "version": 3
   },
   "file_extension": ".py",
   "mimetype": "text/x-python",
   "name": "python",
   "nbconvert_exporter": "python",
   "pygments_lexer": "ipython3",
   "version": "3.10.4"
  },
  "orig_nbformat": 4,
  "vscode": {
   "interpreter": {
    "hash": "e7370f93d1d0cde622a1f8e1c04877d8463912d04d973331ad4851f04de6915a"
   }
  }
 },
 "nbformat": 4,
 "nbformat_minor": 2
}
