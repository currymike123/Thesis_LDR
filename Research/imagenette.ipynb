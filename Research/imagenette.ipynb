{
 "cells": [
  {
   "cell_type": "code",
   "execution_count": 2,
   "metadata": {},
   "outputs": [
    {
     "ename": "ModuleNotFoundError",
     "evalue": "No module named 'tensorflow'",
     "output_type": "error",
     "traceback": [
      "\u001b[0;31m---------------------------------------------------------------------------\u001b[0m",
      "\u001b[0;31mModuleNotFoundError\u001b[0m                       Traceback (most recent call last)",
      "\u001b[0;32m/tmp/ipykernel_6980/3782071643.py\u001b[0m in \u001b[0;36m<module>\u001b[0;34m\u001b[0m\n\u001b[0;32m----> 1\u001b[0;31m \u001b[0;32mimport\u001b[0m \u001b[0mtensorflow\u001b[0m \u001b[0;32mas\u001b[0m \u001b[0mtf\u001b[0m\u001b[0;34m\u001b[0m\u001b[0;34m\u001b[0m\u001b[0m\n\u001b[0m\u001b[1;32m      2\u001b[0m \u001b[0;32mfrom\u001b[0m \u001b[0mtensorflow\u001b[0m \u001b[0;32mimport\u001b[0m \u001b[0mkeras\u001b[0m\u001b[0;34m\u001b[0m\u001b[0;34m\u001b[0m\u001b[0m\n\u001b[1;32m      3\u001b[0m \u001b[0;32mfrom\u001b[0m \u001b[0mtensorflow\u001b[0m\u001b[0;34m.\u001b[0m\u001b[0mkeras\u001b[0m \u001b[0;32mimport\u001b[0m \u001b[0mlayers\u001b[0m\u001b[0;34m\u001b[0m\u001b[0;34m\u001b[0m\u001b[0m\n\u001b[1;32m      4\u001b[0m \u001b[0;32mfrom\u001b[0m \u001b[0mtensorflow\u001b[0m\u001b[0;34m.\u001b[0m\u001b[0mkeras\u001b[0m\u001b[0;34m.\u001b[0m\u001b[0mutils\u001b[0m \u001b[0;32mimport\u001b[0m \u001b[0mimage_dataset_from_directory\u001b[0m\u001b[0;34m\u001b[0m\u001b[0;34m\u001b[0m\u001b[0m\n\u001b[1;32m      5\u001b[0m \u001b[0;32mimport\u001b[0m \u001b[0mtensorflow_datasets\u001b[0m \u001b[0;32mas\u001b[0m \u001b[0mtfds\u001b[0m\u001b[0;34m\u001b[0m\u001b[0;34m\u001b[0m\u001b[0m\n",
      "\u001b[0;31mModuleNotFoundError\u001b[0m: No module named 'tensorflow'"
     ]
    }
   ],
   "source": [
    "import tensorflow as tf\n",
    "from tensorflow import keras\n",
    "from tensorflow.keras import layers\n",
    "from tensorflow.keras.utils import image_dataset_from_directory\n",
    "import tensorflow_datasets as tfds\n",
    "\n",
    "import numpy as np\n",
    "import os\n",
    "import PIL\n",
    "import PIL.Image\n",
    "import glob\n",
    "\n",
    "import cv2\n",
    "\n",
    "import matplotlib.pyplot as plt\n",
    "from matplotlib import gridspec"
   ]
  },
  {
   "cell_type": "code",
   "execution_count": 2,
   "metadata": {},
   "outputs": [
    {
     "name": "stdout",
     "output_type": "stream",
     "text": [
      "Num GPUs: 1\n"
     ]
    },
    {
     "name": "stderr",
     "output_type": "stream",
     "text": [
      "2022-09-12 16:18:03.769788: I tensorflow/stream_executor/cuda/cuda_gpu_executor.cc:975] successful NUMA node read from SysFS had negative value (-1), but there must be at least one NUMA node, so returning NUMA node zero\n",
      "2022-09-12 16:18:03.799119: I tensorflow/stream_executor/cuda/cuda_gpu_executor.cc:975] successful NUMA node read from SysFS had negative value (-1), but there must be at least one NUMA node, so returning NUMA node zero\n",
      "2022-09-12 16:18:03.799254: I tensorflow/stream_executor/cuda/cuda_gpu_executor.cc:975] successful NUMA node read from SysFS had negative value (-1), but there must be at least one NUMA node, so returning NUMA node zero\n"
     ]
    }
   ],
   "source": [
    "physical_devices = tf.config.list_physical_devices('GPU')\n",
    "print(\"Num GPUs:\", len(physical_devices))"
   ]
  },
  {
   "cell_type": "code",
   "execution_count": 6,
   "metadata": {},
   "outputs": [
    {
     "name": "stdout",
     "output_type": "stream",
     "text": [
      "Found 9469 files belonging to 10 classes.\n",
      "Found 3925 files belonging to 10 classes.\n"
     ]
    }
   ],
   "source": [
    "train_dataset = image_dataset_from_directory(\n",
    "'imagenette/train',\n",
    "image_size=(213, 160),\n",
    "batch_size=32)\n",
    "\n",
    "val_dataset = image_dataset_from_directory(\n",
    "'imagenette/val',\n",
    "image_size=(213,160),\n",
    "batch_size=32)"
   ]
  },
  {
   "cell_type": "code",
   "execution_count": null,
   "metadata": {},
   "outputs": [],
   "source": []
  },
  {
   "cell_type": "code",
   "execution_count": 7,
   "metadata": {},
   "outputs": [
    {
     "name": "stdout",
     "output_type": "stream",
     "text": [
      "Downloading data from https://storage.googleapis.com/tensorflow/keras-applications/vgg16/vgg16_weights_tf_dim_ordering_tf_kernels_notop.h5\n",
      "58889256/58889256 [==============================] - 3s 0us/step\n"
     ]
    }
   ],
   "source": [
    "conv_base = keras.applications.vgg16.VGG16(\n",
    "weights=\"imagenet\",\n",
    "input_shape=(213, 160, 3),\n",
    "include_top=False)\n",
    "conv_base.trainable = False"
   ]
  },
  {
   "cell_type": "code",
   "execution_count": 11,
   "metadata": {},
   "outputs": [],
   "source": [
    "data_augmentation = keras.Sequential(\n",
    "[\n",
    "layers.RandomFlip(\"horizontal\"),\n",
    "layers.RandomRotation(0.1),\n",
    "layers.RandomZoom(0.2),\n",
    "]\n",
    ")"
   ]
  },
  {
   "cell_type": "code",
   "execution_count": 12,
   "metadata": {},
   "outputs": [],
   "source": [
    "inputs = keras.Input(shape=(213, 160, 3))\n",
    "x = data_augmentation(inputs)\n",
    "x = keras.applications.vgg16.preprocess_input(x)\n",
    "x = conv_base(x)\n",
    "x = layers.Flatten()(x)\n",
    "x = layers.Flatten()(x)\n",
    "x = layers.Dense(256)(x)\n",
    "x = layers.Dropout(0.5)(x)\n",
    "outputs = layers.Dense(10, activation=\"softmax\")(x)\n",
    "model = keras.Model(inputs, outputs)\n",
    "model.compile(loss=\"SparseCategoricalCrossentropy\",\n",
    "optimizer=\"rmsprop\",\n",
    "metrics=[\"accuracy\"])"
   ]
  },
  {
   "cell_type": "code",
   "execution_count": 13,
   "metadata": {},
   "outputs": [],
   "source": [
    "callbacks = [\n",
    "keras.callbacks.ModelCheckpoint(\n",
    "filepath=\"feature_extraction_with_data_augmentation.keras\",\n",
    "save_best_only=True,\n",
    "monitor=\"val_loss\")\n",
    "]"
   ]
  },
  {
   "cell_type": "code",
   "execution_count": 14,
   "metadata": {},
   "outputs": [
    {
     "name": "stdout",
     "output_type": "stream",
     "text": [
      "Epoch 1/50\n",
      "296/296 [==============================] - 16s 52ms/step - loss: 21.4250 - accuracy: 0.8327 - val_loss: 10.5146 - val_accuracy: 0.9287\n",
      "Epoch 2/50\n",
      "296/296 [==============================] - 15s 51ms/step - loss: 14.6794 - accuracy: 0.8937 - val_loss: 9.4628 - val_accuracy: 0.9338\n",
      "Epoch 3/50\n",
      "296/296 [==============================] - 15s 50ms/step - loss: 12.2211 - accuracy: 0.9067 - val_loss: 8.6014 - val_accuracy: 0.9419\n",
      "Epoch 4/50\n",
      "296/296 [==============================] - 15s 50ms/step - loss: 9.7589 - accuracy: 0.9183 - val_loss: 8.6847 - val_accuracy: 0.9401\n",
      "Epoch 5/50\n",
      "296/296 [==============================] - 15s 50ms/step - loss: 9.0612 - accuracy: 0.9216 - val_loss: 10.6266 - val_accuracy: 0.9366\n",
      "Epoch 6/50\n",
      "296/296 [==============================] - 15s 50ms/step - loss: 7.4856 - accuracy: 0.9302 - val_loss: 8.2987 - val_accuracy: 0.9409\n",
      "Epoch 7/50\n",
      "296/296 [==============================] - 15s 50ms/step - loss: 6.9224 - accuracy: 0.9318 - val_loss: 8.7881 - val_accuracy: 0.9429\n",
      "Epoch 8/50\n",
      "296/296 [==============================] - 15s 50ms/step - loss: 6.5187 - accuracy: 0.9343 - val_loss: 8.0087 - val_accuracy: 0.9411\n",
      "Epoch 9/50\n",
      "296/296 [==============================] - 15s 51ms/step - loss: 6.1988 - accuracy: 0.9376 - val_loss: 8.4124 - val_accuracy: 0.9396\n",
      "Epoch 10/50\n",
      "296/296 [==============================] - 15s 51ms/step - loss: 6.1343 - accuracy: 0.9363 - val_loss: 7.6000 - val_accuracy: 0.9414\n",
      "Epoch 11/50\n",
      "296/296 [==============================] - 15s 51ms/step - loss: 5.3783 - accuracy: 0.9395 - val_loss: 7.3538 - val_accuracy: 0.9455\n",
      "Epoch 12/50\n",
      "296/296 [==============================] - 15s 51ms/step - loss: 5.1336 - accuracy: 0.9455 - val_loss: 7.0914 - val_accuracy: 0.9475\n",
      "Epoch 13/50\n",
      "296/296 [==============================] - 15s 52ms/step - loss: 4.4838 - accuracy: 0.9473 - val_loss: 6.9906 - val_accuracy: 0.9465\n",
      "Epoch 14/50\n",
      "296/296 [==============================] - 15s 52ms/step - loss: 4.3901 - accuracy: 0.9459 - val_loss: 6.8112 - val_accuracy: 0.9452\n",
      "Epoch 15/50\n",
      "296/296 [==============================] - 15s 51ms/step - loss: 4.1385 - accuracy: 0.9492 - val_loss: 6.9238 - val_accuracy: 0.9452\n",
      "Epoch 16/50\n",
      "296/296 [==============================] - 15s 51ms/step - loss: 3.7150 - accuracy: 0.9534 - val_loss: 7.2334 - val_accuracy: 0.9460\n",
      "Epoch 17/50\n",
      "296/296 [==============================] - 15s 51ms/step - loss: 3.7938 - accuracy: 0.9535 - val_loss: 6.3880 - val_accuracy: 0.9521\n",
      "Epoch 18/50\n",
      "296/296 [==============================] - 15s 51ms/step - loss: 3.8207 - accuracy: 0.9499 - val_loss: 6.6601 - val_accuracy: 0.9485\n",
      "Epoch 19/50\n",
      "296/296 [==============================] - 15s 51ms/step - loss: 3.8828 - accuracy: 0.9525 - val_loss: 7.0180 - val_accuracy: 0.9478\n",
      "Epoch 20/50\n",
      "296/296 [==============================] - 15s 50ms/step - loss: 3.7373 - accuracy: 0.9533 - val_loss: 7.0167 - val_accuracy: 0.9468\n",
      "Epoch 21/50\n",
      "296/296 [==============================] - 15s 50ms/step - loss: 4.1633 - accuracy: 0.9523 - val_loss: 6.5045 - val_accuracy: 0.9524\n",
      "Epoch 22/50\n",
      "296/296 [==============================] - 15s 50ms/step - loss: 3.7114 - accuracy: 0.9545 - val_loss: 6.9533 - val_accuracy: 0.9488\n",
      "Epoch 23/50\n",
      "296/296 [==============================] - 15s 50ms/step - loss: 4.0591 - accuracy: 0.9530 - val_loss: 7.0143 - val_accuracy: 0.9488\n",
      "Epoch 24/50\n",
      "296/296 [==============================] - 15s 50ms/step - loss: 3.4617 - accuracy: 0.9553 - val_loss: 6.9956 - val_accuracy: 0.9462\n",
      "Epoch 25/50\n",
      "296/296 [==============================] - 15s 50ms/step - loss: 3.7553 - accuracy: 0.9542 - val_loss: 7.3307 - val_accuracy: 0.9506\n",
      "Epoch 26/50\n",
      "296/296 [==============================] - 15s 50ms/step - loss: 3.5333 - accuracy: 0.9563 - val_loss: 7.0298 - val_accuracy: 0.9498\n",
      "Epoch 27/50\n",
      "296/296 [==============================] - 15s 51ms/step - loss: 3.5497 - accuracy: 0.9563 - val_loss: 7.9609 - val_accuracy: 0.9450\n",
      "Epoch 28/50\n",
      "296/296 [==============================] - 15s 52ms/step - loss: 3.7734 - accuracy: 0.9536 - val_loss: 8.0232 - val_accuracy: 0.9465\n",
      "Epoch 29/50\n",
      "296/296 [==============================] - 15s 50ms/step - loss: 3.2626 - accuracy: 0.9600 - val_loss: 8.0678 - val_accuracy: 0.9480\n",
      "Epoch 30/50\n",
      "296/296 [==============================] - 15s 50ms/step - loss: 3.2950 - accuracy: 0.9594 - val_loss: 7.9909 - val_accuracy: 0.9468\n",
      "Epoch 31/50\n",
      "296/296 [==============================] - 15s 50ms/step - loss: 3.8361 - accuracy: 0.9555 - val_loss: 7.5053 - val_accuracy: 0.9488\n",
      "Epoch 32/50\n",
      "296/296 [==============================] - 15s 51ms/step - loss: 3.4715 - accuracy: 0.9613 - val_loss: 7.6250 - val_accuracy: 0.9503\n",
      "Epoch 33/50\n",
      "296/296 [==============================] - 15s 50ms/step - loss: 3.1879 - accuracy: 0.9612 - val_loss: 8.5910 - val_accuracy: 0.9488\n",
      "Epoch 34/50\n",
      "296/296 [==============================] - 15s 50ms/step - loss: 3.4260 - accuracy: 0.9602 - val_loss: 8.7952 - val_accuracy: 0.9470\n",
      "Epoch 35/50\n",
      "296/296 [==============================] - 15s 50ms/step - loss: 3.4814 - accuracy: 0.9609 - val_loss: 8.5761 - val_accuracy: 0.9468\n",
      "Epoch 36/50\n",
      "296/296 [==============================] - 15s 50ms/step - loss: 3.6408 - accuracy: 0.9589 - val_loss: 8.3505 - val_accuracy: 0.9506\n",
      "Epoch 37/50\n",
      "296/296 [==============================] - 15s 50ms/step - loss: 3.3034 - accuracy: 0.9625 - val_loss: 8.0275 - val_accuracy: 0.9508\n",
      "Epoch 38/50\n",
      "296/296 [==============================] - 15s 51ms/step - loss: 3.1677 - accuracy: 0.9640 - val_loss: 9.2079 - val_accuracy: 0.9450\n",
      "Epoch 39/50\n",
      "296/296 [==============================] - 15s 50ms/step - loss: 3.2508 - accuracy: 0.9629 - val_loss: 8.2947 - val_accuracy: 0.9516\n",
      "Epoch 40/50\n",
      "296/296 [==============================] - 15s 50ms/step - loss: 3.0198 - accuracy: 0.9650 - val_loss: 10.8301 - val_accuracy: 0.9399\n",
      "Epoch 41/50\n",
      "296/296 [==============================] - 15s 50ms/step - loss: 3.1896 - accuracy: 0.9643 - val_loss: 9.4656 - val_accuracy: 0.9468\n",
      "Epoch 42/50\n",
      "296/296 [==============================] - 15s 50ms/step - loss: 3.4828 - accuracy: 0.9627 - val_loss: 8.7691 - val_accuracy: 0.9478\n",
      "Epoch 43/50\n",
      "296/296 [==============================] - 15s 51ms/step - loss: 2.8915 - accuracy: 0.9657 - val_loss: 9.1988 - val_accuracy: 0.9488\n",
      "Epoch 44/50\n",
      "296/296 [==============================] - 15s 50ms/step - loss: 3.4079 - accuracy: 0.9634 - val_loss: 9.5605 - val_accuracy: 0.9490\n",
      "Epoch 45/50\n",
      "296/296 [==============================] - 15s 51ms/step - loss: 3.4195 - accuracy: 0.9630 - val_loss: 10.2187 - val_accuracy: 0.9470\n",
      "Epoch 46/50\n",
      "296/296 [==============================] - 15s 51ms/step - loss: 3.3891 - accuracy: 0.9655 - val_loss: 10.3047 - val_accuracy: 0.9480\n",
      "Epoch 47/50\n",
      "296/296 [==============================] - 15s 50ms/step - loss: 3.3890 - accuracy: 0.9644 - val_loss: 9.9246 - val_accuracy: 0.9470\n",
      "Epoch 48/50\n",
      "296/296 [==============================] - 15s 51ms/step - loss: 2.7975 - accuracy: 0.9705 - val_loss: 9.8175 - val_accuracy: 0.9503\n",
      "Epoch 49/50\n",
      "296/296 [==============================] - 15s 51ms/step - loss: 3.0999 - accuracy: 0.9697 - val_loss: 10.3310 - val_accuracy: 0.9511\n",
      "Epoch 50/50\n",
      "296/296 [==============================] - 15s 51ms/step - loss: 3.1151 - accuracy: 0.9663 - val_loss: 11.2802 - val_accuracy: 0.9452\n"
     ]
    }
   ],
   "source": [
    "history = model.fit(\n",
    "train_dataset,\n",
    "epochs=50,\n",
    "validation_data=val_dataset,\n",
    "callbacks=callbacks)"
   ]
  },
  {
   "cell_type": "code",
   "execution_count": 1,
   "metadata": {},
   "outputs": [],
   "source": [
    "# Multiply Function\n",
    "\n",
    "def multiply(img):\n",
    "    # Get the size of the image\n",
    "    h = img.shape[0]\n",
    "    w = img.shape[1]\n",
    "    d = img.shape[2]\n",
    "\n",
    "    # Check if image is normalized between 0 - 1.\n",
    "    if (max(img[0][0]) > 1):\n",
    "        # Convert to float & normalize\n",
    "        img = img.astype(\"float64\") / 255\n",
    "\n",
    "    # Apply the Filter\n",
    "    for y in range(0,h):\n",
    "        #Search each pixel in the row. x = pixel\n",
    "        for x in range(0,w):\n",
    "            #Search each RGB value.\n",
    "            for z in range(0,d):\n",
    "                # Apply Filter to seperate image. \n",
    "                img[y,x,z] = img[y,x,z] * img[y,x,z]\n",
    "    \n",
    "    # return Multiply image\n",
    "    return img\n",
    "\n",
    "# Screen Function\n",
    "\n",
    "def screen(img):\n",
    "    # Get the size of the image\n",
    "    h = img.shape[0]\n",
    "    w = img.shape[1]\n",
    "    d = img.shape[2]\n",
    "\n",
    "    # Check if image is normalized between 0 - 1.\n",
    "    if (max(img[0][0]) > 1):\n",
    "        # Convert to float & normalize\n",
    "        img = img.astype(\"float64\") / 255\n",
    "\n",
    "    # Apply the Filter\n",
    "    for y in range(0,h):\n",
    "        #Search each pixel in the row. x = pixel\n",
    "        for x in range(0,w):\n",
    "            #Search each RGB value.\n",
    "            for z in range(0,d):\n",
    "                # Apply Filter to seperate image. \n",
    "                img[y,x,z] = 1 - (1 - img[y,x,z]) * (1 - img[y,x,z])\n",
    "    \n",
    "    # return Multiply image\n",
    "    return img\n"
   ]
  }
 ],
 "metadata": {
  "kernelspec": {
   "display_name": "Python 3.10.4 64-bit",
   "language": "python",
   "name": "python3"
  },
  "language_info": {
   "codemirror_mode": {
    "name": "ipython",
    "version": 3
   },
   "file_extension": ".py",
   "mimetype": "text/x-python",
   "name": "python",
   "nbconvert_exporter": "python",
   "pygments_lexer": "ipython3",
   "version": "3.10.4"
  },
  "orig_nbformat": 4,
  "vscode": {
   "interpreter": {
    "hash": "e7370f93d1d0cde622a1f8e1c04877d8463912d04d973331ad4851f04de6915a"
   }
  }
 },
 "nbformat": 4,
 "nbformat_minor": 2
}
