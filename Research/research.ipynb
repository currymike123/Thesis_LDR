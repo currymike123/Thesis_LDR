{
 "cells": [
  {
   "cell_type": "markdown",
   "metadata": {},
   "source": [
    "### Thesis Research Notebook <br>\n",
    "### LDR Data Augmentation for Convolutional Neural Network Construction \n",
    "\n",
    "Training on Cifar100"
   ]
  },
  {
   "cell_type": "code",
   "execution_count": 1,
   "metadata": {},
   "outputs": [],
   "source": [
    "import tensorflow as tf\n",
    "from tensorflow import keras\n",
    "from tensorflow.keras import layers\n",
    "import tensorflow_datasets as tfds\n",
    "\n",
    "import numpy as np\n",
    "\n",
    "import matplotlib.pyplot as plt\n",
    "from matplotlib import gridspec"
   ]
  },
  {
   "cell_type": "code",
   "execution_count": 2,
   "metadata": {},
   "outputs": [
    {
     "name": "stdout",
     "output_type": "stream",
     "text": [
      "Num GPUs: 1\n"
     ]
    },
    {
     "name": "stderr",
     "output_type": "stream",
     "text": [
      "2022-09-05 19:34:49.787920: I tensorflow/stream_executor/cuda/cuda_gpu_executor.cc:975] successful NUMA node read from SysFS had negative value (-1), but there must be at least one NUMA node, so returning NUMA node zero\n",
      "2022-09-05 19:34:49.816830: I tensorflow/stream_executor/cuda/cuda_gpu_executor.cc:975] successful NUMA node read from SysFS had negative value (-1), but there must be at least one NUMA node, so returning NUMA node zero\n",
      "2022-09-05 19:34:49.816950: I tensorflow/stream_executor/cuda/cuda_gpu_executor.cc:975] successful NUMA node read from SysFS had negative value (-1), but there must be at least one NUMA node, so returning NUMA node zero\n"
     ]
    }
   ],
   "source": [
    "physical_devices = tf.config.list_physical_devices('GPU')\n",
    "print(\"Num GPUs:\", len(physical_devices))"
   ]
  },
  {
   "cell_type": "code",
   "execution_count": 3,
   "metadata": {},
   "outputs": [],
   "source": [
    "(x_train, y_train), (x_test, y_test) = keras.datasets.cifar100.load_data()"
   ]
  },
  {
   "cell_type": "code",
   "execution_count": 4,
   "metadata": {},
   "outputs": [],
   "source": [
    "x_val = x_train[:5000]\n",
    "y_val = y_train[:5000]\n",
    "x_train = x_train[5000:]\n",
    "y_train = y_train[5000:]"
   ]
  },
  {
   "cell_type": "code",
   "execution_count": 5,
   "metadata": {},
   "outputs": [],
   "source": [
    "x_train = x_train.astype(\"float32\") / 255\n",
    "x_test = x_test.astype(\"float32\") / 255\n",
    "x_val = x_val.astype(\"float32\") / 255"
   ]
  },
  {
   "cell_type": "code",
   "execution_count": 6,
   "metadata": {},
   "outputs": [],
   "source": [
    "# Screen Function\n",
    "\n",
    "def screen(img):\n",
    "    # Get the size of the image\n",
    "    h = img.shape[0]\n",
    "    w = img.shape[1]\n",
    "    d = img.shape[2]\n",
    "\n",
    "    # Apply the Filter\n",
    "    for y in range(0,h):\n",
    "        #Search each pixel in the row. x = pixel\n",
    "        for x in range(0,w):\n",
    "            #Search each RGB value.\n",
    "            for z in range(0,d):\n",
    "                # Apply Filter to seperate image. \n",
    "                img[y,x,z] = 1 - (1 - img[y,x,z]) * (1 - img[y,x,z])\n",
    "    \n",
    "    # return Multiply image\n",
    "    return img\n"
   ]
  },
  {
   "cell_type": "code",
   "execution_count": 7,
   "metadata": {},
   "outputs": [],
   "source": [
    "# Multiply Function\n",
    "\n",
    "def multiply(img):\n",
    "    # Get the size of the image\n",
    "    h = img.shape[0]\n",
    "    w = img.shape[1]\n",
    "    d = img.shape[2]\n",
    "\n",
    "    # Apply the Filter\n",
    "    for y in range(0,h):\n",
    "        #Search each pixel in the row. x = pixel\n",
    "        for x in range(0,w):\n",
    "            #Search each RGB value.\n",
    "            for z in range(0,d):\n",
    "                # Apply Filter to seperate image. \n",
    "                img[y,x,z] = img[y,x,z] * img[y,x,z]\n",
    "    \n",
    "    # return Multiply image\n",
    "    return img"
   ]
  },
  {
   "cell_type": "code",
   "execution_count": 8,
   "metadata": {},
   "outputs": [],
   "source": [
    "end = x_train.shape[0]\n",
    "\n",
    "x_dataAug = []\n",
    "y_dataAug = []\n",
    "for image in range(0,end):\n",
    "    x_dataAug.append(multiply(x_train[image,:,:,:]))\n",
    "    y_dataAug.append(y_train[image,:])\n",
    "    x_dataAug.append(screen(x_train[image,:,:,:]))\n",
    "    y_dataAug.append(y_train[image,:])"
   ]
  },
  {
   "cell_type": "code",
   "execution_count": 9,
   "metadata": {},
   "outputs": [
    {
     "name": "stdout",
     "output_type": "stream",
     "text": [
      "(90000, 32, 32, 3)\n",
      "(90000, 1)\n"
     ]
    }
   ],
   "source": [
    "x_dataAug = np.asarray(x_dataAug)\n",
    "y_dataAug = np.asarray(y_dataAug)\n",
    "print(x_dataAug.shape)\n",
    "print(y_dataAug.shape)\n",
    "# print(dataAug[1,:,:,:])"
   ]
  },
  {
   "cell_type": "code",
   "execution_count": 17,
   "metadata": {},
   "outputs": [],
   "source": [
    "x_data = np.concatenate((x_train,x_dataAug), axis=0)"
   ]
  },
  {
   "cell_type": "code",
   "execution_count": 19,
   "metadata": {},
   "outputs": [],
   "source": [
    "y_data = np.concatenate((y_train,y_dataAug), axis=0)"
   ]
  },
  {
   "cell_type": "code",
   "execution_count": null,
   "metadata": {},
   "outputs": [],
   "source": [
    "pretrained_base = tf.keras.applications.vgg19.VGG19(\n",
    "    include_top=False, weights='imagenet', input_tensor=None,\n",
    "    input_shape=[32,32,3], pooling=max, classes=None,\n",
    "    classifier_activation='softmax'\n",
    ")"
   ]
  },
  {
   "cell_type": "code",
   "execution_count": 23,
   "metadata": {},
   "outputs": [],
   "source": [
    "data_augmentation = tf.keras.Sequential([\n",
    "    layers.RandomFlip(\"horizontal\"),\n",
    "    layers.RandomRotation(0.1),\n",
    "    # layers.experimental.preprocessing.RandomContrast(0.3),\n",
    "    # layers.RandomTranslation((-0.2,0.2),(-0.2,0.2)),\n",
    "    # layers.Rescaling(scale=1./255),\n",
    "    layers.RandomZoom((0,0.2)),\n",
    "    \n",
    "\n",
    "])"
   ]
  },
  {
   "cell_type": "code",
   "execution_count": 10,
   "metadata": {},
   "outputs": [],
   "source": [
    "# Model Creation \n",
    "model = tf.keras.Sequential([\n",
    "    # data_augmentation, \n",
    "    # pretrained_base,\n",
    "    # First Convolutional Block\n",
    "    # 32 filter layers, Kernel Size of 3 x 3. Relu activation.  Add zeroes all around so the image doesn't change size, Padding='same'.\n",
    "\n",
    "    layers.Conv2D(filters=32, kernel_size=5, activation=\"relu\", padding='same', input_shape=[32, 32, 3]),\n",
    "\n",
    "    layers.BatchNormalization(),\n",
    "    layers.MaxPool2D(pool_size=(2, 2),),\n",
    "\n",
    "    #Second Convolution Block\n",
    "    layers.Conv2D(filters=64, kernel_size=3, activation=\"relu\", padding='same'),\n",
    "\n",
    "    layers.BatchNormalization(),\n",
    "    layers.Dropout(0.3),\n",
    "\n",
    "    #Third Convolution Block\n",
    "    layers.Conv2D(filters=128, kernel_size=3, activation=\"relu\", padding='same'),\n",
    "\n",
    "    layers.BatchNormalization(),\n",
    "    layers.MaxPool2D(pool_size=(2, 2),),\n",
    "\n",
    "    #Fourth Convolution Block\n",
    "    layers.Conv2D(filters=256, kernel_size=3, activation=\"relu\", padding='same'),\n",
    "\n",
    "    layers.BatchNormalization(),\n",
    "    layers.Dropout(0.3),\n",
    "\n",
    "    #Fifth Convolution Block\n",
    "    layers.Conv2D(filters=512, kernel_size=3, activation=\"relu\", padding='same'),\n",
    "\n",
    "    layers.BatchNormalization(),\n",
    "    layers.MaxPool2D(pool_size=(2, 2),),\n",
    "\n",
    "    \n",
    "    #Fifth Convolution Block\n",
    "    layers.Conv2D(filters=1024, kernel_size=3, activation=\"relu\", padding='same'),\n",
    "\n",
    "    layers.BatchNormalization(),\n",
    "    layers.Dropout(0.3),\n",
    "\n",
    "    #Fifth Convolution Block\n",
    "    layers.Conv2D(filters=2048, kernel_size=3, activation=\"relu\", padding='same'),\n",
    "\n",
    "    layers.BatchNormalization(),\n",
    "     layers.MaxPool2D(pool_size=(2, 2),),\n",
    "\n",
    "    \n",
    "    #Classifer Head\n",
    "    layers.Flatten(),\n",
    "    layers.Dense(units=4096, activation=\"relu\"),\n",
    "    layers.BatchNormalization(),\n",
    "    layers.Dropout(0.4),\n",
    "    layers.Dense(units=2048, activation=\"relu\"),\n",
    "    layers.BatchNormalization(),\n",
    "    layers.Dropout(0.4),\n",
    "    layers.Dense(units=1024, activation='relu'),\n",
    "    layers.BatchNormalization(),\n",
    "    layers.Dropout(0.4),\n",
    "    layers.Dense(units=512, activation='relu'),\n",
    "    layers.BatchNormalization(),\n",
    "    layers.Dropout(0.4),\n",
    "    layers.Dense(units=256, activation='relu'),\n",
    "    layers.BatchNormalization(),\n",
    "    layers.Dropout(0.4),\n",
    "    layers.Dense(units=100, activation=\"softmax\"),\n",
    "])"
   ]
  },
  {
   "cell_type": "code",
   "execution_count": 25,
   "metadata": {},
   "outputs": [],
   "source": [
    "# Model Creation \n",
    "model = tf.keras.Sequential([\n",
    "   \n",
    "    data_augmentation,\n",
    "    layers.BatchNormalization(),\n",
    "    layers.Conv2D(filters=32, kernel_size=3, activation=\"relu\", padding='same', input_shape=[32, 32, 3]),\n",
    "\n",
    "    layers.BatchNormalization(),\n",
    "    \n",
    "\n",
    "    #Second Convolution Block\n",
    "    layers.Conv2D(filters=64, kernel_size=3, activation=\"relu\", padding='same'),\n",
    "\n",
    "    layers.MaxPool2D(pool_size=(2, 2),),\n",
    "    layers.BatchNormalization(),\n",
    "    \n",
    "\n",
    "    #Third Convolution Block\n",
    "    layers.Conv2D(filters=128, kernel_size=3, activation=\"relu\", padding='same'),\n",
    "\n",
    "    layers.BatchNormalization(),\n",
    "    \n",
    "\n",
    "    #Fourth Convolution Block\n",
    "    layers.Conv2D(filters=256, kernel_size=3, activation=\"relu\", padding='same'),\n",
    "\n",
    "    layers.MaxPool2D(pool_size=(2, 2),),\n",
    "    layers.BatchNormalization(),\n",
    "    \n",
    "\n",
    "    #Fifth Convolution Block\n",
    "    layers.Conv2D(filters=512, kernel_size=3, activation=\"relu\", padding='same'),\n",
    "\n",
    "    layers.BatchNormalization(),\n",
    "    \n",
    "\n",
    "    #Sixth Convolution Block\n",
    "    layers.Conv2D(filters=2048, kernel_size=3, activation=\"relu\", padding='same'),\n",
    "\n",
    "    layers.MaxPool2D(pool_size=(2, 2),),\n",
    "    layers.BatchNormalization(),\n",
    "    \n",
    "\n",
    "    \n",
    "    #Classifer Head\n",
    "    layers.Flatten(),\n",
    "    layers.Dropout(.4),\n",
    "    layers.Dense(units=512, activation=\"relu\"),\n",
    "    layers.Dropout(0.3),\n",
    "    layers.Dense(units=100, activation=\"softmax\"),\n",
    "])"
   ]
  },
  {
   "cell_type": "code",
   "execution_count": 26,
   "metadata": {},
   "outputs": [],
   "source": [
    "opt = tf.optimizers.Adam(learning_rate=0.0001)"
   ]
  },
  {
   "cell_type": "code",
   "execution_count": 27,
   "metadata": {},
   "outputs": [
    {
     "name": "stdout",
     "output_type": "stream",
     "text": [
      "Epoch 1/100\n",
      "4219/4219 [==============================] - 79s 19ms/step - loss: 3.6899 - accuracy: 0.1693 - val_loss: 3.1087 - val_accuracy: 0.2578\n",
      "Epoch 2/100\n",
      "4219/4219 [==============================] - 75s 18ms/step - loss: 3.0011 - accuracy: 0.2755 - val_loss: 2.7432 - val_accuracy: 0.3250\n",
      "Epoch 3/100\n",
      "4219/4219 [==============================] - 74s 18ms/step - loss: 2.6085 - accuracy: 0.3482 - val_loss: 2.6204 - val_accuracy: 0.3606\n",
      "Epoch 4/100\n",
      "4219/4219 [==============================] - 77s 18ms/step - loss: 2.3178 - accuracy: 0.4031 - val_loss: 2.4295 - val_accuracy: 0.3912\n",
      "Epoch 5/100\n",
      "4219/4219 [==============================] - 78s 18ms/step - loss: 2.0743 - accuracy: 0.4546 - val_loss: 2.3183 - val_accuracy: 0.4172\n",
      "Epoch 6/100\n",
      "4219/4219 [==============================] - 79s 19ms/step - loss: 1.8492 - accuracy: 0.5017 - val_loss: 2.0785 - val_accuracy: 0.4630\n",
      "Epoch 7/100\n",
      "4219/4219 [==============================] - 76s 18ms/step - loss: 1.6531 - accuracy: 0.5459 - val_loss: 2.1869 - val_accuracy: 0.4644\n",
      "Epoch 8/100\n",
      "4219/4219 [==============================] - 76s 18ms/step - loss: 1.4970 - accuracy: 0.5835 - val_loss: 2.0419 - val_accuracy: 0.4938\n",
      "Epoch 9/100\n",
      "4219/4219 [==============================] - 76s 18ms/step - loss: 1.3520 - accuracy: 0.6182 - val_loss: 1.9888 - val_accuracy: 0.5098\n",
      "Epoch 10/100\n",
      "4219/4219 [==============================] - 80s 19ms/step - loss: 1.2407 - accuracy: 0.6463 - val_loss: 1.9875 - val_accuracy: 0.5132\n",
      "Epoch 11/100\n",
      "4219/4219 [==============================] - 79s 19ms/step - loss: 1.1424 - accuracy: 0.6717 - val_loss: 2.0271 - val_accuracy: 0.5172\n",
      "Epoch 12/100\n",
      "4219/4219 [==============================] - 79s 19ms/step - loss: 1.0553 - accuracy: 0.6948 - val_loss: 2.0400 - val_accuracy: 0.5298\n",
      "Epoch 13/100\n",
      "4219/4219 [==============================] - 77s 18ms/step - loss: 0.9781 - accuracy: 0.7144 - val_loss: 2.0066 - val_accuracy: 0.5420\n",
      "Epoch 14/100\n",
      "4219/4219 [==============================] - 80s 19ms/step - loss: 0.9097 - accuracy: 0.7331 - val_loss: 2.0544 - val_accuracy: 0.5334\n",
      "Epoch 15/100\n",
      "4219/4219 [==============================] - 79s 19ms/step - loss: 0.8506 - accuracy: 0.7475 - val_loss: 2.0130 - val_accuracy: 0.5504\n",
      "Epoch 16/100\n",
      "4219/4219 [==============================] - 76s 18ms/step - loss: 0.7943 - accuracy: 0.7639 - val_loss: 2.0282 - val_accuracy: 0.5452\n",
      "Epoch 17/100\n",
      "4219/4219 [==============================] - 75s 18ms/step - loss: 0.7476 - accuracy: 0.7774 - val_loss: 2.1398 - val_accuracy: 0.5470\n",
      "Epoch 18/100\n",
      "4219/4219 [==============================] - 75s 18ms/step - loss: 0.7094 - accuracy: 0.7875 - val_loss: 2.0035 - val_accuracy: 0.5568\n",
      "Epoch 19/100\n",
      "4219/4219 [==============================] - 80s 19ms/step - loss: 0.6738 - accuracy: 0.7975 - val_loss: 2.0930 - val_accuracy: 0.5506\n",
      "Epoch 20/100\n",
      "4219/4219 [==============================] - 80s 19ms/step - loss: 0.6410 - accuracy: 0.8058 - val_loss: 2.1668 - val_accuracy: 0.5500\n",
      "Epoch 21/100\n",
      "4219/4219 [==============================] - 80s 19ms/step - loss: 0.6061 - accuracy: 0.8172 - val_loss: 2.2109 - val_accuracy: 0.5570\n",
      "Epoch 22/100\n",
      "4219/4219 [==============================] - 77s 18ms/step - loss: 0.5797 - accuracy: 0.8245 - val_loss: 2.3007 - val_accuracy: 0.5624\n",
      "Epoch 23/100\n",
      "4219/4219 [==============================] - 74s 18ms/step - loss: 0.5625 - accuracy: 0.8309 - val_loss: 2.2872 - val_accuracy: 0.5470\n",
      "Epoch 24/100\n",
      "4219/4219 [==============================] - 75s 18ms/step - loss: 0.5348 - accuracy: 0.8385 - val_loss: 2.3314 - val_accuracy: 0.5644\n",
      "Epoch 25/100\n",
      "4219/4219 [==============================] - 75s 18ms/step - loss: 0.5134 - accuracy: 0.8446 - val_loss: 2.2304 - val_accuracy: 0.5546\n",
      "Epoch 26/100\n",
      "4219/4219 [==============================] - 76s 18ms/step - loss: 0.4922 - accuracy: 0.8514 - val_loss: 2.3659 - val_accuracy: 0.5630\n",
      "Epoch 27/100\n",
      "4219/4219 [==============================] - 75s 18ms/step - loss: 0.4775 - accuracy: 0.8545 - val_loss: 2.2721 - val_accuracy: 0.5634\n",
      "Epoch 28/100\n",
      "4219/4219 [==============================] - 73s 17ms/step - loss: 0.4675 - accuracy: 0.8584 - val_loss: 2.3766 - val_accuracy: 0.5714\n",
      "Epoch 29/100\n",
      "4219/4219 [==============================] - 73s 17ms/step - loss: 0.4552 - accuracy: 0.8631 - val_loss: 2.3495 - val_accuracy: 0.5706\n",
      "Epoch 30/100\n",
      "4219/4219 [==============================] - 75s 18ms/step - loss: 0.4369 - accuracy: 0.8673 - val_loss: 2.4717 - val_accuracy: 0.5668\n",
      "Epoch 31/100\n",
      "4219/4219 [==============================] - 74s 18ms/step - loss: 0.4265 - accuracy: 0.8709 - val_loss: 2.4810 - val_accuracy: 0.5606\n",
      "Epoch 32/100\n",
      "4219/4219 [==============================] - 74s 17ms/step - loss: 0.4210 - accuracy: 0.8740 - val_loss: 2.3904 - val_accuracy: 0.5792\n",
      "Epoch 33/100\n",
      "4219/4219 [==============================] - 74s 18ms/step - loss: 0.4155 - accuracy: 0.8754 - val_loss: 2.4887 - val_accuracy: 0.5748\n",
      "Epoch 34/100\n",
      "4219/4219 [==============================] - 74s 17ms/step - loss: 0.3949 - accuracy: 0.8804 - val_loss: 2.5335 - val_accuracy: 0.5672\n",
      "Epoch 35/100\n",
      "4219/4219 [==============================] - 79s 19ms/step - loss: 0.3897 - accuracy: 0.8839 - val_loss: 2.4295 - val_accuracy: 0.5808\n",
      "Epoch 36/100\n",
      "4219/4219 [==============================] - 80s 19ms/step - loss: 0.3781 - accuracy: 0.8867 - val_loss: 2.6587 - val_accuracy: 0.5704\n",
      "Epoch 37/100\n",
      "4219/4219 [==============================] - 77s 18ms/step - loss: 0.3674 - accuracy: 0.8903 - val_loss: 2.6323 - val_accuracy: 0.5660\n",
      "Epoch 38/100\n",
      "4219/4219 [==============================] - 74s 18ms/step - loss: 0.3601 - accuracy: 0.8913 - val_loss: 2.4697 - val_accuracy: 0.5824\n",
      "Epoch 39/100\n",
      "4219/4219 [==============================] - 75s 18ms/step - loss: 0.3511 - accuracy: 0.8947 - val_loss: 2.4916 - val_accuracy: 0.5734\n",
      "Epoch 40/100\n",
      "4219/4219 [==============================] - 76s 18ms/step - loss: 0.3459 - accuracy: 0.8968 - val_loss: 2.5075 - val_accuracy: 0.5802\n",
      "Epoch 41/100\n",
      "4219/4219 [==============================] - 76s 18ms/step - loss: 0.3350 - accuracy: 0.8996 - val_loss: 2.4916 - val_accuracy: 0.5680\n",
      "Epoch 42/100\n",
      "4219/4219 [==============================] - 72s 17ms/step - loss: 0.3306 - accuracy: 0.9011 - val_loss: 2.7333 - val_accuracy: 0.5868\n",
      "Epoch 43/100\n",
      "4219/4219 [==============================] - 76s 18ms/step - loss: 0.3248 - accuracy: 0.9032 - val_loss: 2.7164 - val_accuracy: 0.5832\n",
      "Epoch 44/100\n",
      "4219/4219 [==============================] - 79s 19ms/step - loss: 0.3217 - accuracy: 0.9042 - val_loss: 2.7423 - val_accuracy: 0.5676\n",
      "Epoch 45/100\n",
      "4219/4219 [==============================] - 80s 19ms/step - loss: 0.3136 - accuracy: 0.9065 - val_loss: 2.6470 - val_accuracy: 0.5784\n",
      "Epoch 46/100\n",
      "4219/4219 [==============================] - 79s 19ms/step - loss: 0.3124 - accuracy: 0.9065 - val_loss: 2.6803 - val_accuracy: 0.5770\n",
      "Epoch 47/100\n",
      "4219/4219 [==============================] - 79s 19ms/step - loss: 0.3087 - accuracy: 0.9078 - val_loss: 2.6427 - val_accuracy: 0.5730\n",
      "Epoch 48/100\n",
      "4219/4219 [==============================] - 76s 18ms/step - loss: 0.3008 - accuracy: 0.9107 - val_loss: 2.9180 - val_accuracy: 0.5824\n",
      "Epoch 49/100\n",
      "4219/4219 [==============================] - 76s 18ms/step - loss: 0.2917 - accuracy: 0.9127 - val_loss: 2.7605 - val_accuracy: 0.5734\n",
      "Epoch 50/100\n",
      "4219/4219 [==============================] - 77s 18ms/step - loss: 0.2939 - accuracy: 0.9134 - val_loss: 2.8566 - val_accuracy: 0.5836\n",
      "Epoch 51/100\n",
      "4219/4219 [==============================] - 77s 18ms/step - loss: 0.2839 - accuracy: 0.9161 - val_loss: 2.8957 - val_accuracy: 0.5776\n",
      "Epoch 52/100\n",
      "4219/4219 [==============================] - 76s 18ms/step - loss: 0.2887 - accuracy: 0.9150 - val_loss: 2.8038 - val_accuracy: 0.5816\n",
      "Epoch 53/100\n",
      "4219/4219 [==============================] - 76s 18ms/step - loss: 0.2804 - accuracy: 0.9180 - val_loss: 2.6792 - val_accuracy: 0.5820\n",
      "Epoch 54/100\n",
      "4219/4219 [==============================] - 77s 18ms/step - loss: 0.2707 - accuracy: 0.9198 - val_loss: 2.8172 - val_accuracy: 0.5892\n",
      "Epoch 55/100\n",
      "4219/4219 [==============================] - 77s 18ms/step - loss: 0.2760 - accuracy: 0.9194 - val_loss: 2.9052 - val_accuracy: 0.5868\n",
      "Epoch 56/100\n",
      "4219/4219 [==============================] - 78s 18ms/step - loss: 0.2719 - accuracy: 0.9204 - val_loss: 2.8238 - val_accuracy: 0.5808\n",
      "Epoch 57/100\n",
      "4219/4219 [==============================] - 79s 19ms/step - loss: 0.2658 - accuracy: 0.9224 - val_loss: 2.8337 - val_accuracy: 0.5742\n",
      "Epoch 58/100\n",
      "4219/4219 [==============================] - 80s 19ms/step - loss: 0.2655 - accuracy: 0.9226 - val_loss: 2.6662 - val_accuracy: 0.5878\n",
      "Epoch 59/100\n",
      "4219/4219 [==============================] - 79s 19ms/step - loss: 0.2585 - accuracy: 0.9241 - val_loss: 2.9111 - val_accuracy: 0.5736\n",
      "Epoch 60/100\n",
      "4219/4219 [==============================] - 75s 18ms/step - loss: 0.2573 - accuracy: 0.9251 - val_loss: 3.0193 - val_accuracy: 0.5692\n",
      "Epoch 61/100\n",
      "4219/4219 [==============================] - 76s 18ms/step - loss: 0.2561 - accuracy: 0.9252 - val_loss: 2.8631 - val_accuracy: 0.5930\n",
      "Epoch 62/100\n",
      "4219/4219 [==============================] - 76s 18ms/step - loss: 0.2601 - accuracy: 0.9244 - val_loss: 2.8549 - val_accuracy: 0.5924\n",
      "Epoch 63/100\n",
      "4219/4219 [==============================] - 76s 18ms/step - loss: 0.2480 - accuracy: 0.9272 - val_loss: 2.9268 - val_accuracy: 0.5894\n",
      "Epoch 64/100\n",
      "4219/4219 [==============================] - 75s 18ms/step - loss: 0.2446 - accuracy: 0.9286 - val_loss: 3.1200 - val_accuracy: 0.5886\n",
      "Epoch 65/100\n",
      "4219/4219 [==============================] - 76s 18ms/step - loss: 0.2452 - accuracy: 0.9290 - val_loss: 2.9804 - val_accuracy: 0.5836\n",
      "Epoch 66/100\n",
      "4219/4219 [==============================] - 76s 18ms/step - loss: 0.2392 - accuracy: 0.9305 - val_loss: 2.8596 - val_accuracy: 0.5868\n",
      "Epoch 67/100\n",
      "4219/4219 [==============================] - 74s 18ms/step - loss: 0.2354 - accuracy: 0.9314 - val_loss: 2.9751 - val_accuracy: 0.5850\n",
      "Epoch 68/100\n",
      "4219/4219 [==============================] - 73s 17ms/step - loss: 0.2337 - accuracy: 0.9323 - val_loss: 3.0143 - val_accuracy: 0.5876\n",
      "Epoch 69/100\n",
      "4219/4219 [==============================] - 76s 18ms/step - loss: 0.2311 - accuracy: 0.9333 - val_loss: 3.0354 - val_accuracy: 0.5938\n",
      "Epoch 70/100\n",
      "4219/4219 [==============================] - 73s 17ms/step - loss: 0.2285 - accuracy: 0.9340 - val_loss: 2.8660 - val_accuracy: 0.5974\n",
      "Epoch 71/100\n",
      "4219/4219 [==============================] - 76s 18ms/step - loss: 0.2246 - accuracy: 0.9348 - val_loss: 3.0397 - val_accuracy: 0.5814\n",
      "Epoch 72/100\n",
      "4219/4219 [==============================] - 76s 18ms/step - loss: 0.2215 - accuracy: 0.9363 - val_loss: 3.1248 - val_accuracy: 0.5954\n",
      "Epoch 73/100\n",
      "4219/4219 [==============================] - 76s 18ms/step - loss: 0.2257 - accuracy: 0.9350 - val_loss: 2.8394 - val_accuracy: 0.5866\n",
      "Epoch 74/100\n",
      "4219/4219 [==============================] - 75s 18ms/step - loss: 0.2235 - accuracy: 0.9362 - val_loss: 2.8273 - val_accuracy: 0.5904\n",
      "Epoch 75/100\n",
      "4219/4219 [==============================] - 76s 18ms/step - loss: 0.2199 - accuracy: 0.9373 - val_loss: 3.0856 - val_accuracy: 0.5884\n",
      "Epoch 76/100\n",
      "4219/4219 [==============================] - 76s 18ms/step - loss: 0.2226 - accuracy: 0.9363 - val_loss: 3.1419 - val_accuracy: 0.5854\n",
      "Epoch 77/100\n",
      "4219/4219 [==============================] - 76s 18ms/step - loss: 0.2151 - accuracy: 0.9379 - val_loss: 3.1283 - val_accuracy: 0.5878\n",
      "Epoch 78/100\n",
      "4219/4219 [==============================] - 76s 18ms/step - loss: 0.2159 - accuracy: 0.9383 - val_loss: 2.8459 - val_accuracy: 0.5870\n",
      "Epoch 79/100\n",
      "4219/4219 [==============================] - 75s 18ms/step - loss: 0.2106 - accuracy: 0.9395 - val_loss: 3.1295 - val_accuracy: 0.5820\n",
      "Epoch 80/100\n",
      "4219/4219 [==============================] - 76s 18ms/step - loss: 0.2143 - accuracy: 0.9395 - val_loss: 3.1588 - val_accuracy: 0.5976\n",
      "Epoch 81/100\n",
      "4219/4219 [==============================] - 74s 18ms/step - loss: 0.2096 - accuracy: 0.9411 - val_loss: 3.1955 - val_accuracy: 0.5822\n",
      "Epoch 82/100\n",
      "4219/4219 [==============================] - 75s 18ms/step - loss: 0.2067 - accuracy: 0.9412 - val_loss: 3.1827 - val_accuracy: 0.5918\n",
      "Epoch 83/100\n",
      "4219/4219 [==============================] - 74s 18ms/step - loss: 0.2041 - accuracy: 0.9415 - val_loss: 3.0768 - val_accuracy: 0.5952\n",
      "Epoch 84/100\n",
      "4219/4219 [==============================] - 73s 17ms/step - loss: 0.2034 - accuracy: 0.9421 - val_loss: 3.3130 - val_accuracy: 0.5860\n",
      "Epoch 85/100\n",
      "4219/4219 [==============================] - 74s 18ms/step - loss: 0.2038 - accuracy: 0.9420 - val_loss: 3.2474 - val_accuracy: 0.5848\n",
      "Epoch 86/100\n",
      "4219/4219 [==============================] - 73s 17ms/step - loss: 0.1975 - accuracy: 0.9443 - val_loss: 3.2354 - val_accuracy: 0.5908\n",
      "Epoch 87/100\n",
      "4219/4219 [==============================] - 75s 18ms/step - loss: 0.2014 - accuracy: 0.9438 - val_loss: 3.1950 - val_accuracy: 0.5840\n",
      "Epoch 88/100\n",
      "3918/4219 [==========================>...] - ETA: 5s - loss: 0.1984 - accuracy: 0.9435"
     ]
    }
   ],
   "source": [
    "model.compile(\n",
    "    optimizer=opt,\n",
    "    loss='SparseCategoricalCrossentropy',\n",
    "    metrics=['accuracy']\n",
    ")\n",
    "\n",
    "history = model.fit(\n",
    "    x_data,y_data,\n",
    "    epochs=100,\n",
    "    validation_data=(x_val,y_val),\n",
    "    verbose=1,\n",
    ")"
   ]
  },
  {
   "cell_type": "code",
   "execution_count": 11,
   "metadata": {},
   "outputs": [
    {
     "name": "stdout",
     "output_type": "stream",
     "text": [
      "313/313 [==============================] - 1s 4ms/step - loss: 4.8584 - accuracy: 0.4607\n",
      "test loss, test acc: [4.858375549316406, 0.46070000529289246]\n"
     ]
    }
   ],
   "source": [
    "results = model.evaluate(x_test, y_test)\n",
    "print(\"test loss, test acc:\", results)"
   ]
  },
  {
   "cell_type": "code",
   "execution_count": null,
   "metadata": {},
   "outputs": [],
   "source": [
    "# Model Creation \n",
    "model2 = tf.keras.Sequential([\n",
    "   \n",
    "    data_augmentation,\n",
    "    layers.BatchNormalization(),\n",
    "    layers.Conv2D(filters=32, kernel_size=3, activation=\"relu\", padding='same', input_shape=[32, 32, 3]),\n",
    "\n",
    "    layers.BatchNormalization(),\n",
    "    \n",
    "\n",
    "    #Second Convolution Block\n",
    "    layers.Conv2D(filters=64, kernel_size=3, activation=\"relu\", padding='same'),\n",
    "\n",
    "    layers.MaxPool2D(pool_size=(2, 2),),\n",
    "    layers.BatchNormalization(),\n",
    "    \n",
    "\n",
    "    #Third Convolution Block\n",
    "    layers.Conv2D(filters=128, kernel_size=3, activation=\"relu\", padding='same'),\n",
    "\n",
    "    layers.BatchNormalization(),\n",
    "    \n",
    "\n",
    "    #Fourth Convolution Block\n",
    "    layers.Conv2D(filters=256, kernel_size=3, activation=\"relu\", padding='same'),\n",
    "\n",
    "    layers.MaxPool2D(pool_size=(2, 2),),\n",
    "    layers.BatchNormalization(),\n",
    "    \n",
    "\n",
    "    #Fifth Convolution Block\n",
    "    layers.Conv2D(filters=512, kernel_size=3, activation=\"relu\", padding='same'),\n",
    "\n",
    "    layers.BatchNormalization(),\n",
    "    \n",
    "\n",
    "    #Sixth Convolution Block\n",
    "    layers.Conv2D(filters=2048, kernel_size=3, activation=\"relu\", padding='same'),\n",
    "\n",
    "    layers.MaxPool2D(pool_size=(2, 2),),\n",
    "    layers.BatchNormalization(),\n",
    "    \n",
    "\n",
    "    \n",
    "    #Classifer Head\n",
    "    layers.Flatten(),\n",
    "    layers.Dropout(.4),\n",
    "    layers.Dense(units=512, activation=\"relu\"),\n",
    "    layers.Dropout(0.3),\n",
    "    layers.Dense(units=100, activation=\"softmax\"),\n",
    "])"
   ]
  },
  {
   "cell_type": "code",
   "execution_count": null,
   "metadata": {},
   "outputs": [],
   "source": [
    "model.compile(\n",
    "    optimizer=opt,\n",
    "    loss='SparseCategoricalCrossentropy',\n",
    "    metrics=['accuracy']\n",
    ")\n",
    "\n",
    "history = model.fit(\n",
    "    x_train,y_train,\n",
    "    epochs=100,\n",
    "    validation_data=(x_val,y_val),\n",
    "    verbose=1,\n",
    ")"
   ]
  },
  {
   "cell_type": "code",
   "execution_count": null,
   "metadata": {},
   "outputs": [],
   "source": [
    "results = model.evaluate(x_test, y_test)\n",
    "print(\"test loss, test acc:\", results)"
   ]
  },
  {
   "cell_type": "code",
   "execution_count": 18,
   "metadata": {},
   "outputs": [
    {
     "name": "stderr",
     "output_type": "stream",
     "text": [
      "WARNING:absl:Found untraced functions such as _jit_compiled_convolution_op, _jit_compiled_convolution_op, _jit_compiled_convolution_op, _jit_compiled_convolution_op, _jit_compiled_convolution_op while saving (showing 5 of 6). These functions will not be directly callable after loading.\n"
     ]
    },
    {
     "name": "stdout",
     "output_type": "stream",
     "text": [
      "INFO:tensorflow:Assets written to: Pairing_Samples_CNN_No_Data_Aug/assets\n"
     ]
    },
    {
     "name": "stderr",
     "output_type": "stream",
     "text": [
      "INFO:tensorflow:Assets written to: Pairing_Samples_CNN_No_Data_Aug/assets\n"
     ]
    }
   ],
   "source": [
    "model.save(\"Pairing_Samples_CNN_No_Data_Aug\")"
   ]
  },
  {
   "cell_type": "code",
   "execution_count": 19,
   "metadata": {},
   "outputs": [
    {
     "data": {
      "image/png": "[encoded data removed]",
      "text/plain": [
       "<Figure size 640x480 with 1 Axes>"
      ]
     },
     "metadata": {},
     "output_type": "display_data"
    },
    {
     "data": {
      "image/png": "[encoded data removed]",
      "text/plain": [
       "<Figure size 640x480 with 1 Axes>"
      ]
     },
     "metadata": {},
     "output_type": "display_data"
    }
   ],
   "source": [
    "# Plot the accuracy and loss after 30 Epochs\n",
    "\n",
    "\n",
    "caption = 'Pairing Samples Model' '\\n'  \n",
    "\n",
    "# Train/Test Accuracy Plot\n",
    "plt.plot(history.history['accuracy'])\n",
    "plt.plot(history.history['val_accuracy'])\n",
    "plt.title('Custom_0_30')\n",
    "plt.ylabel('accuracy')\n",
    "plt.xlabel('epoch')\n",
    "plt.legend(['train', 'test'], loc='upper left')\n",
    "plt.text(-.5,-.5, caption)\n",
    "plt.show()\n",
    "\n",
    "# Train/Test Loss Plot\n",
    "plt.plot(history.history['loss'])\n",
    "plt.plot(history.history['val_loss'])\n",
    "plt.title('Custom_0_100')\n",
    "plt.ylabel('accuracy')\n",
    "plt.xlabel('epoch')\n",
    "plt.legend(['train', 'test'], loc='upper left')\n",
    "plt.text(-.5,-3.5, caption)\n",
    "plt.show()"
   ]
  }
 ],
 "metadata": {
  "kernelspec": {
   "display_name": "Python 3.10.4 64-bit",
   "language": "python",
   "name": "python3"
  },
  "language_info": {
   "codemirror_mode": {
    "name": "ipython",
    "version": 3
   },
   "file_extension": ".py",
   "mimetype": "text/x-python",
   "name": "python",
   "nbconvert_exporter": "python",
   "pygments_lexer": "ipython3",
   "version": "3.10.4"
  },
  "orig_nbformat": 4,
  "vscode": {
   "interpreter": {
    "hash": "767d51c1340bd893661ea55ea3124f6de3c7a262a8b4abca0554b478b1e2ff90"
   }
  }
 },
 "nbformat": 4,
 "nbformat_minor": 2
}
