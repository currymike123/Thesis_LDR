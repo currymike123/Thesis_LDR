{
 "cells": [
  {
   "cell_type": "code",
   "execution_count": 1,
   "metadata": {},
   "outputs": [],
   "source": [
    "import tensorflow as tf\n",
    "from tensorflow import keras\n",
    "from tensorflow.keras import layers\n",
    "from tensorflow.keras.utils import image_dataset_from_directory\n",
    "from keras.preprocessing.image import ImageDataGenerator\n",
    "import tensorflow_datasets as tfds\n",
    "\n",
    "import numpy as np\n",
    "import pandas as pd\n",
    "import os\n",
    "import PIL\n",
    "import PIL.Image\n",
    "import glob\n",
    "\n",
    "import cv2\n",
    "\n",
    "import matplotlib.pyplot as plt\n",
    "from matplotlib import gridspec"
   ]
  },
  {
   "cell_type": "code",
   "execution_count": 2,
   "metadata": {},
   "outputs": [
    {
     "name": "stdout",
     "output_type": "stream",
     "text": [
      "Num GPUs: 0\n"
     ]
    },
    {
     "name": "stderr",
     "output_type": "stream",
     "text": [
      "2022-09-22 16:33:11.476924: E tensorflow/stream_executor/cuda/cuda_driver.cc:271] failed call to cuInit: CUDA_ERROR_UNKNOWN: unknown error\n",
      "2022-09-22 16:33:11.476944: I tensorflow/stream_executor/cuda/cuda_diagnostics.cc:169] retrieving CUDA diagnostic information for host: mike-System-Product-Name\n",
      "2022-09-22 16:33:11.476948: I tensorflow/stream_executor/cuda/cuda_diagnostics.cc:176] hostname: mike-System-Product-Name\n",
      "2022-09-22 16:33:11.477033: I tensorflow/stream_executor/cuda/cuda_diagnostics.cc:200] libcuda reported version is: 515.65.1\n",
      "2022-09-22 16:33:11.477043: I tensorflow/stream_executor/cuda/cuda_diagnostics.cc:204] kernel reported version is: 515.65.1\n",
      "2022-09-22 16:33:11.477045: I tensorflow/stream_executor/cuda/cuda_diagnostics.cc:310] kernel version seems to match DSO: 515.65.1\n"
     ]
    }
   ],
   "source": [
    "physical_devices = tf.config.list_physical_devices('GPU')\n",
    "print(\"Num GPUs:\", len(physical_devices))"
   ]
  },
  {
   "cell_type": "code",
   "execution_count": 250,
   "metadata": {},
   "outputs": [
    {
     "name": "stdout",
     "output_type": "stream",
     "text": [
      "Found 100000 files belonging to 200 classes.\n"
     ]
    }
   ],
   "source": [
    "ds_train = image_dataset_from_directory(\n",
    "'tiny_imagenet/train',\n",
    "image_size=(64,64),\n",
    "batch_size=32)"
   ]
  },
  {
   "cell_type": "code",
   "execution_count": 244,
   "metadata": {},
   "outputs": [
    {
     "name": "stdout",
     "output_type": "stream",
     "text": [
      "Found 10000 files belonging to 200 classes.\n"
     ]
    }
   ],
   "source": [
    "ds_val = image_dataset_from_directory(\n",
    "'tiny_imagenet/val',\n",
    "image_size=(64,64),\n",
    "batch_size=32)"
   ]
  },
  {
   "cell_type": "code",
   "execution_count": 189,
   "metadata": {},
   "outputs": [],
   "source": [
    "# conv_base = keras.applications.vgg19.VGG19(\n",
    "# weights=\"imagenet\",\n",
    "# input_shape=(64, 64, 3),\n",
    "# include_top=False)\n",
    "\n",
    "# conv_base.trainable = False\n",
    "# for layer in conv_base.layers:\n",
    "#     if layer.name == 'block5_conv1':\n",
    "#         set_trainable = True\n",
    "#     if set_trainable:\n",
    "#         layer.trainable = True\n",
    "#     else:\n",
    "#         layer.trainable = False"
   ]
  },
  {
   "cell_type": "code",
   "execution_count": 245,
   "metadata": {},
   "outputs": [],
   "source": []
  },
  {
   "cell_type": "code",
   "execution_count": 252,
   "metadata": {},
   "outputs": [],
   "source": [
    "inputs = keras.Input(shape=(64,64,3))\n",
    "x = layers.Rescaling(1./255)(inputs)\n",
    "x = layers.Conv2D(filters=32, kernel_size=5, use_bias=False)(x)\n",
    "\n",
    "for size in [32,64,128,256,512]:\n",
    "    residual = x\n",
    "    \n",
    "    x = layers.BatchNormalization()(x)\n",
    "    x = layers.Activation(\"relu\")(x)\n",
    "    x = layers.SeparableConv2D(size, 3, padding=\"same\", use_bias=False)(x)\n",
    "\n",
    "    x = layers.BatchNormalization()(x)\n",
    "    x = layers.Activation(\"relu\")(x)\n",
    "    x = layers.SeparableConv2D(size, 3, padding=\"same\", use_bias=False)(x)\n",
    "\n",
    "    x = layers.MaxPooling2D(3, strides=2, padding=\"same\")(x)\n",
    "\n",
    "    residual = layers.Conv2D(size, 1, strides=2, padding=\"same\", use_bias=False)(residual)\n",
    "    x = layers.add([x, residual])\n",
    "\n",
    "\n",
    "x = layers.GlobalAveragePooling2D()(x)\n",
    "x = layers.Dropout(0.4)(x)\n",
    "x = layers.Dense(512, activation=\"relu\")(x)\n",
    "x = layers.Dropout(0.3)(x)\n",
    "x = layers.Dense(256, activation=\"relu\")(x)\n",
    "x = layers.Dropout(0.3)(x)\n",
    "outputs = layers.Dense(200, activation=\"softmax\")(x)\n",
    "model = keras.Model(inputs, outputs)"
   ]
  },
  {
   "cell_type": "code",
   "execution_count": 253,
   "metadata": {},
   "outputs": [],
   "source": [
    "opt = tf.optimizers.Adam(learning_rate=0.0001)"
   ]
  },
  {
   "cell_type": "code",
   "execution_count": 254,
   "metadata": {},
   "outputs": [],
   "source": [
    "model.compile(\n",
    "    optimizer=opt,\n",
    "    loss='sparse_categorical_crossentropy',\n",
    "    metrics=['accuracy'],\n",
    ")"
   ]
  },
  {
   "cell_type": "code",
   "execution_count": 255,
   "metadata": {},
   "outputs": [],
   "source": [
    "callbacks = [\n",
    "keras.callbacks.ModelCheckpoint(\n",
    "filepath=\"tiny_imagenet_feature_extraction_without_data_augmentation.keras\",\n",
    "save_best_only=True,\n",
    "monitor=\"val_loss\")\n",
    "]"
   ]
  },
  {
   "cell_type": "code",
   "execution_count": 256,
   "metadata": {},
   "outputs": [
    {
     "name": "stdout",
     "output_type": "stream",
     "text": [
      "Epoch 1/100\n",
      "3125/3125 [==============================] - 106s 34ms/step - loss: 4.9937 - accuracy: 0.0266 - val_loss: 4.5651 - val_accuracy: 0.0614\n",
      "Epoch 2/100\n",
      "3125/3125 [==============================] - 107s 34ms/step - loss: 4.4931 - accuracy: 0.0657 - val_loss: 4.1741 - val_accuracy: 0.1081\n",
      "Epoch 3/100\n",
      "3125/3125 [==============================] - 106s 34ms/step - loss: 4.1956 - accuracy: 0.1007 - val_loss: 3.9071 - val_accuracy: 0.1447\n",
      "Epoch 4/100\n",
      "3125/3125 [==============================] - 104s 33ms/step - loss: 3.9812 - accuracy: 0.1263 - val_loss: 3.9163 - val_accuracy: 0.1456\n",
      "Epoch 5/100\n",
      "3125/3125 [==============================] - 76s 24ms/step - loss: 3.8156 - accuracy: 0.1513 - val_loss: 3.6979 - val_accuracy: 0.1751\n",
      "Epoch 6/100\n",
      "3125/3125 [==============================] - 77s 25ms/step - loss: 3.6783 - accuracy: 0.1727 - val_loss: 3.5247 - val_accuracy: 0.2030\n",
      "Epoch 7/100\n",
      "3125/3125 [==============================] - 90s 29ms/step - loss: 3.5603 - accuracy: 0.1933 - val_loss: 3.5002 - val_accuracy: 0.2103\n",
      "Epoch 8/100\n",
      "3125/3125 [==============================] - 108s 35ms/step - loss: 3.4593 - accuracy: 0.2088 - val_loss: 3.4677 - val_accuracy: 0.2183\n",
      "Epoch 9/100\n",
      "3125/3125 [==============================] - 108s 34ms/step - loss: 3.3672 - accuracy: 0.2232 - val_loss: 3.3224 - val_accuracy: 0.2386\n",
      "Epoch 10/100\n",
      "3125/3125 [==============================] - 92s 29ms/step - loss: 3.2818 - accuracy: 0.2380 - val_loss: 3.3675 - val_accuracy: 0.2343\n",
      "Epoch 11/100\n",
      "3125/3125 [==============================] - 77s 25ms/step - loss: 3.2028 - accuracy: 0.2522 - val_loss: 3.2981 - val_accuracy: 0.2489\n",
      "Epoch 12/100\n",
      "3125/3125 [==============================] - 77s 25ms/step - loss: 3.1374 - accuracy: 0.2627 - val_loss: 3.2070 - val_accuracy: 0.2617\n",
      "Epoch 13/100\n",
      "3125/3125 [==============================] - 77s 25ms/step - loss: 3.0639 - accuracy: 0.2753 - val_loss: 3.3053 - val_accuracy: 0.2510\n",
      "Epoch 14/100\n",
      "3125/3125 [==============================] - 77s 25ms/step - loss: 3.0035 - accuracy: 0.2853 - val_loss: 3.2809 - val_accuracy: 0.2537\n",
      "Epoch 15/100\n",
      "3125/3125 [==============================] - 77s 25ms/step - loss: 2.9419 - accuracy: 0.2973 - val_loss: 3.2541 - val_accuracy: 0.2611\n",
      "Epoch 16/100\n",
      "3125/3125 [==============================] - 78s 25ms/step - loss: 2.8787 - accuracy: 0.3068 - val_loss: 3.2056 - val_accuracy: 0.2723\n",
      "Epoch 17/100\n",
      "3125/3125 [==============================] - 77s 25ms/step - loss: 2.8274 - accuracy: 0.3174 - val_loss: 3.2426 - val_accuracy: 0.2642\n",
      "Epoch 18/100\n",
      "3125/3125 [==============================] - 77s 25ms/step - loss: 2.7720 - accuracy: 0.3268 - val_loss: 3.2511 - val_accuracy: 0.2649\n",
      "Epoch 19/100\n",
      "3125/3125 [==============================] - 77s 25ms/step - loss: 2.7220 - accuracy: 0.3358 - val_loss: 3.2746 - val_accuracy: 0.2642\n",
      "Epoch 20/100\n",
      "3125/3125 [==============================] - 77s 25ms/step - loss: 2.6685 - accuracy: 0.3450 - val_loss: 3.2881 - val_accuracy: 0.2659\n",
      "Epoch 21/100\n",
      "3125/3125 [==============================] - 77s 25ms/step - loss: 2.6211 - accuracy: 0.3529 - val_loss: 3.2682 - val_accuracy: 0.2714\n",
      "Epoch 22/100\n",
      "3125/3125 [==============================] - 76s 24ms/step - loss: 2.5714 - accuracy: 0.3607 - val_loss: 3.3394 - val_accuracy: 0.2611\n",
      "Epoch 23/100\n",
      "3125/3125 [==============================] - 77s 25ms/step - loss: 2.5369 - accuracy: 0.3687 - val_loss: 3.2509 - val_accuracy: 0.2760\n",
      "Epoch 24/100\n",
      "3125/3125 [==============================] - 77s 25ms/step - loss: 2.4876 - accuracy: 0.3770 - val_loss: 3.2820 - val_accuracy: 0.2743\n",
      "Epoch 25/100\n",
      "3125/3125 [==============================] - 77s 25ms/step - loss: 2.4431 - accuracy: 0.3850 - val_loss: 3.3872 - val_accuracy: 0.2645\n",
      "Epoch 26/100\n",
      "3125/3125 [==============================] - 76s 24ms/step - loss: 2.4093 - accuracy: 0.3907 - val_loss: 3.2853 - val_accuracy: 0.2766\n",
      "Epoch 27/100\n",
      "3125/3125 [==============================] - 76s 24ms/step - loss: 2.3672 - accuracy: 0.3986 - val_loss: 3.3559 - val_accuracy: 0.2699\n",
      "Epoch 28/100\n",
      "3125/3125 [==============================] - 77s 25ms/step - loss: 2.3301 - accuracy: 0.4057 - val_loss: 3.4176 - val_accuracy: 0.2670\n",
      "Epoch 29/100\n",
      "3125/3125 [==============================] - 82s 26ms/step - loss: 2.2929 - accuracy: 0.4118 - val_loss: 3.4653 - val_accuracy: 0.2629\n",
      "Epoch 30/100\n",
      "3125/3125 [==============================] - 107s 34ms/step - loss: 2.2644 - accuracy: 0.4177 - val_loss: 3.4030 - val_accuracy: 0.2678\n",
      "Epoch 31/100\n",
      "3125/3125 [==============================] - 107s 34ms/step - loss: 2.2246 - accuracy: 0.4244 - val_loss: 3.4536 - val_accuracy: 0.2708\n",
      "Epoch 32/100\n",
      "3125/3125 [==============================] - 110s 35ms/step - loss: 2.2015 - accuracy: 0.4283 - val_loss: 3.4574 - val_accuracy: 0.2669\n",
      "Epoch 33/100\n",
      "3125/3125 [==============================] - 107s 34ms/step - loss: 2.1629 - accuracy: 0.4378 - val_loss: 3.5487 - val_accuracy: 0.2634\n",
      "Epoch 34/100\n",
      "3125/3125 [==============================] - 107s 34ms/step - loss: 2.1337 - accuracy: 0.4424 - val_loss: 3.5744 - val_accuracy: 0.2620\n",
      "Epoch 35/100\n",
      "3125/3125 [==============================] - 109s 35ms/step - loss: 2.1048 - accuracy: 0.4464 - val_loss: 3.4843 - val_accuracy: 0.2698\n",
      "Epoch 36/100\n",
      "3125/3125 [==============================] - 107s 34ms/step - loss: 2.0803 - accuracy: 0.4516 - val_loss: 3.5378 - val_accuracy: 0.2626\n",
      "Epoch 37/100\n",
      "3125/3125 [==============================] - 107s 34ms/step - loss: 2.0437 - accuracy: 0.4571 - val_loss: 3.5654 - val_accuracy: 0.2667\n",
      "Epoch 38/100\n",
      "3125/3125 [==============================] - 108s 35ms/step - loss: 2.0258 - accuracy: 0.4626 - val_loss: 3.6369 - val_accuracy: 0.2640\n",
      "Epoch 39/100\n",
      "3125/3125 [==============================] - 108s 35ms/step - loss: 1.9992 - accuracy: 0.4683 - val_loss: 3.6437 - val_accuracy: 0.2663\n",
      "Epoch 40/100\n",
      "3125/3125 [==============================] - 110s 35ms/step - loss: 1.9779 - accuracy: 0.4712 - val_loss: 3.6527 - val_accuracy: 0.2646\n",
      "Epoch 41/100\n",
      "3125/3125 [==============================] - 108s 34ms/step - loss: 1.9544 - accuracy: 0.4759 - val_loss: 3.6518 - val_accuracy: 0.2685\n",
      "Epoch 42/100\n",
      "3125/3125 [==============================] - 109s 35ms/step - loss: 1.9239 - accuracy: 0.4827 - val_loss: 3.7187 - val_accuracy: 0.2600\n",
      "Epoch 43/100\n",
      "3125/3125 [==============================] - 108s 34ms/step - loss: 1.9050 - accuracy: 0.4865 - val_loss: 3.7277 - val_accuracy: 0.2598\n",
      "Epoch 44/100\n",
      "3125/3125 [==============================] - 110s 35ms/step - loss: 1.8804 - accuracy: 0.4927 - val_loss: 3.7774 - val_accuracy: 0.2598\n",
      "Epoch 45/100\n",
      "3125/3125 [==============================] - 108s 35ms/step - loss: 1.8589 - accuracy: 0.4951 - val_loss: 3.7399 - val_accuracy: 0.2626\n",
      "Epoch 46/100\n",
      "1615/3125 [==============>...............] - ETA: 50s - loss: 1.8359 - accuracy: 0.5016"
     ]
    },
    {
     "ename": "InternalError",
     "evalue": "Could not synchronize CUDA stream: CUDA_ERROR_LAUNCH_FAILED: unspecified launch failure",
     "output_type": "error",
     "traceback": [
      "\u001b[0;31m---------------------------------------------------------------------------\u001b[0m",
      "\u001b[0;31mInternalError\u001b[0m                             Traceback (most recent call last)",
      "\u001b[0;32m/tmp/ipykernel_34537/1882807108.py\u001b[0m in \u001b[0;36m<module>\u001b[0;34m\u001b[0m\n\u001b[0;32m----> 1\u001b[0;31m history = model.fit(\n\u001b[0m\u001b[1;32m      2\u001b[0m \u001b[0mds_train\u001b[0m\u001b[0;34m,\u001b[0m\u001b[0;34m\u001b[0m\u001b[0;34m\u001b[0m\u001b[0m\n\u001b[1;32m      3\u001b[0m \u001b[0mepochs\u001b[0m\u001b[0;34m=\u001b[0m\u001b[0;36m100\u001b[0m\u001b[0;34m,\u001b[0m\u001b[0;34m\u001b[0m\u001b[0;34m\u001b[0m\u001b[0m\n\u001b[1;32m      4\u001b[0m \u001b[0mbatch_size\u001b[0m \u001b[0;34m=\u001b[0m \u001b[0;36m32\u001b[0m\u001b[0;34m,\u001b[0m\u001b[0;34m\u001b[0m\u001b[0;34m\u001b[0m\u001b[0m\n\u001b[1;32m      5\u001b[0m \u001b[0mvalidation_data\u001b[0m\u001b[0;34m=\u001b[0m\u001b[0mds_val\u001b[0m\u001b[0;34m,\u001b[0m\u001b[0;34m\u001b[0m\u001b[0;34m\u001b[0m\u001b[0m\n",
      "\u001b[0;32m/usr/lib/python3/dist-packages/keras/utils/traceback_utils.py\u001b[0m in \u001b[0;36merror_handler\u001b[0;34m(*args, **kwargs)\u001b[0m\n\u001b[1;32m     65\u001b[0m     \u001b[0;32mexcept\u001b[0m \u001b[0mException\u001b[0m \u001b[0;32mas\u001b[0m \u001b[0me\u001b[0m\u001b[0;34m:\u001b[0m  \u001b[0;31m# pylint: disable=broad-except\u001b[0m\u001b[0;34m\u001b[0m\u001b[0;34m\u001b[0m\u001b[0m\n\u001b[1;32m     66\u001b[0m       \u001b[0mfiltered_tb\u001b[0m \u001b[0;34m=\u001b[0m \u001b[0m_process_traceback_frames\u001b[0m\u001b[0;34m(\u001b[0m\u001b[0me\u001b[0m\u001b[0;34m.\u001b[0m\u001b[0m__traceback__\u001b[0m\u001b[0;34m)\u001b[0m\u001b[0;34m\u001b[0m\u001b[0;34m\u001b[0m\u001b[0m\n\u001b[0;32m---> 67\u001b[0;31m       \u001b[0;32mraise\u001b[0m \u001b[0me\u001b[0m\u001b[0;34m.\u001b[0m\u001b[0mwith_traceback\u001b[0m\u001b[0;34m(\u001b[0m\u001b[0mfiltered_tb\u001b[0m\u001b[0;34m)\u001b[0m \u001b[0;32mfrom\u001b[0m \u001b[0;32mNone\u001b[0m\u001b[0;34m\u001b[0m\u001b[0;34m\u001b[0m\u001b[0m\n\u001b[0m\u001b[1;32m     68\u001b[0m     \u001b[0;32mfinally\u001b[0m\u001b[0;34m:\u001b[0m\u001b[0;34m\u001b[0m\u001b[0;34m\u001b[0m\u001b[0m\n\u001b[1;32m     69\u001b[0m       \u001b[0;32mdel\u001b[0m \u001b[0mfiltered_tb\u001b[0m\u001b[0;34m\u001b[0m\u001b[0;34m\u001b[0m\u001b[0m\n",
      "\u001b[0;32m/usr/lib/python3/dist-packages/tensorflow/python/framework/ops.py\u001b[0m in \u001b[0;36m_numpy\u001b[0;34m(self)\u001b[0m\n\u001b[1;32m   1125\u001b[0m       \u001b[0;32mreturn\u001b[0m \u001b[0mself\u001b[0m\u001b[0;34m.\u001b[0m\u001b[0m_numpy_internal\u001b[0m\u001b[0;34m(\u001b[0m\u001b[0;34m)\u001b[0m\u001b[0;34m\u001b[0m\u001b[0;34m\u001b[0m\u001b[0m\n\u001b[1;32m   1126\u001b[0m     \u001b[0;32mexcept\u001b[0m \u001b[0mcore\u001b[0m\u001b[0;34m.\u001b[0m\u001b[0m_NotOkStatusException\u001b[0m \u001b[0;32mas\u001b[0m \u001b[0me\u001b[0m\u001b[0;34m:\u001b[0m  \u001b[0;31m# pylint: disable=protected-access\u001b[0m\u001b[0;34m\u001b[0m\u001b[0;34m\u001b[0m\u001b[0m\n\u001b[0;32m-> 1127\u001b[0;31m       \u001b[0;32mraise\u001b[0m \u001b[0mcore\u001b[0m\u001b[0;34m.\u001b[0m\u001b[0m_status_to_exception\u001b[0m\u001b[0;34m(\u001b[0m\u001b[0me\u001b[0m\u001b[0;34m)\u001b[0m \u001b[0;32mfrom\u001b[0m \u001b[0;32mNone\u001b[0m  \u001b[0;31m# pylint: disable=protected-access\u001b[0m\u001b[0;34m\u001b[0m\u001b[0;34m\u001b[0m\u001b[0m\n\u001b[0m\u001b[1;32m   1128\u001b[0m \u001b[0;34m\u001b[0m\u001b[0m\n\u001b[1;32m   1129\u001b[0m   \u001b[0;34m@\u001b[0m\u001b[0mproperty\u001b[0m\u001b[0;34m\u001b[0m\u001b[0;34m\u001b[0m\u001b[0m\n",
      "\u001b[0;31mInternalError\u001b[0m: Could not synchronize CUDA stream: CUDA_ERROR_LAUNCH_FAILED: unspecified launch failure"
     ]
    }
   ],
   "source": [
    "history = model.fit(\n",
    "ds_train,\n",
    "epochs=40,\n",
    "batch_size = 32,\n",
    "validation_data=ds_val,\n",
    "callbacks=callbacks)"
   ]
  },
  {
   "cell_type": "code",
   "execution_count": 257,
   "metadata": {},
   "outputs": [
    {
     "ename": "",
     "evalue": "",
     "output_type": "error",
     "traceback": [
      "\u001b[1;31mCanceled future for execute_request message before replies were done"
     ]
    },
    {
     "ename": "",
     "evalue": "",
     "output_type": "error",
     "traceback": [
      "The Kernel crashed while executing code in the the current cell or a previous cell. Please review the code in the cell(s) to identify a possible cause of the failure. Click <a href='https://aka.ms/vscodeJupyterKernelCrash'>here</a> for more info. View Jupyter <a href='command:jupyter.viewOutput'>log</a> for further details."
     ]
    }
   ],
   "source": [
    "data_augmentation = keras.Sequential(\n",
    "[\n",
    "layers.RandomFlip(\"horizontal\"),\n",
    "layers.RandomRotation(0.1),\n",
    "layers.RandomZoom(0.2),\n",
    "]\n",
    ")"
   ]
  },
  {
   "cell_type": "code",
   "execution_count": null,
   "metadata": {},
   "outputs": [],
   "source": [
    "inputs = keras.Input(shape=(64,64,3))\n",
    "x = data_augmentation(inputs)\n",
    "x = layers.Rescaling(1./255)(x)\n",
    "x = layers.Conv2D(filters=32, kernel_size=5, use_bias=False)(x)\n",
    "\n",
    "for size in [32,64,128,256,512]:\n",
    "    residual = x\n",
    "    \n",
    "    x = layers.BatchNormalization()(x)\n",
    "    x = layers.Activation(\"relu\")(x)\n",
    "    x = layers.SeparableConv2D(size, 3, padding=\"same\", use_bias=False)(x)\n",
    "\n",
    "    x = layers.BatchNormalization()(x)\n",
    "    x = layers.Activation(\"relu\")(x)\n",
    "    x = layers.SeparableConv2D(size, 3, padding=\"same\", use_bias=False)(x)\n",
    "\n",
    "    x = layers.MaxPooling2D(3, strides=2, padding=\"same\")(x)\n",
    "\n",
    "    residual = layers.Conv2D(size, 1, strides=2, padding=\"same\", use_bias=False)(residual)\n",
    "    x = layers.add([x, residual])\n",
    "\n",
    "\n",
    "x = layers.GlobalAveragePooling2D()(x)\n",
    "x = layers.Dropout(0.4)(x)\n",
    "x = layers.Dense(512, activation=\"relu\")(x)\n",
    "x = layers.Dropout(0.3)(x)\n",
    "x = layers.Dense(256, activation=\"relu\")(x)\n",
    "x = layers.Dropout(0.3)(x)\n",
    "outputs = layers.Dense(200, activation=\"softmax\")(x)\n",
    "model = keras.Model(inputs, outputs)"
   ]
  },
  {
   "cell_type": "code",
   "execution_count": null,
   "metadata": {},
   "outputs": [],
   "source": [
    "callbacks = [\n",
    "keras.callbacks.ModelCheckpoint(\n",
    "filepath=\"tiny_imagenet_feature_extraction_with_data_augmentation.keras\",\n",
    "save_best_only=True,\n",
    "monitor=\"val_loss\")\n",
    "]"
   ]
  },
  {
   "cell_type": "code",
   "execution_count": null,
   "metadata": {},
   "outputs": [],
   "source": [
    "history = model.fit(\n",
    "ds_train,\n",
    "epochs=40,\n",
    "batch_size = 32,\n",
    "validation_data=ds_val,\n",
    "callbacks=callbacks)"
   ]
  }
 ],
 "metadata": {
  "kernelspec": {
   "display_name": "Python 3.10.4 64-bit",
   "language": "python",
   "name": "python3"
  },
  "language_info": {
   "codemirror_mode": {
    "name": "ipython",
    "version": 3
   },
   "file_extension": ".py",
   "mimetype": "text/x-python",
   "name": "python",
   "nbconvert_exporter": "python",
   "pygments_lexer": "ipython3",
   "version": "3.10.4"
  },
  "orig_nbformat": 4,
  "vscode": {
   "interpreter": {
    "hash": "e7370f93d1d0cde622a1f8e1c04877d8463912d04d973331ad4851f04de6915a"
   }
  }
 },
 "nbformat": 4,
 "nbformat_minor": 2
}
