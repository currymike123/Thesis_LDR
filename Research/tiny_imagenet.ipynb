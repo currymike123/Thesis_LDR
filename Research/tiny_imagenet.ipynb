{
 "cells": [
  {
   "cell_type": "code",
   "execution_count": 1,
   "metadata": {},
   "outputs": [],
   "source": [
    "import tensorflow as tf\n",
    "from tensorflow import keras\n",
    "from tensorflow.keras import layers\n",
    "from tensorflow.keras.utils import image_dataset_from_directory\n",
    "from keras.preprocessing.image import ImageDataGenerator\n",
    "import tensorflow_datasets as tfds\n",
    "\n",
    "import numpy as np\n",
    "import pandas as pd\n",
    "import os\n",
    "import PIL\n",
    "import PIL.Image\n",
    "import glob\n",
    "\n",
    "import cv2\n",
    "\n",
    "import matplotlib.pyplot as plt\n",
    "from matplotlib import gridspec"
   ]
  },
  {
   "cell_type": "code",
   "execution_count": 2,
   "metadata": {},
   "outputs": [
    {
     "name": "stdout",
     "output_type": "stream",
     "text": [
      "Num GPUs: 1\n"
     ]
    },
    {
     "name": "stderr",
     "output_type": "stream",
     "text": [
      "2022-10-03 08:14:52.195453: I tensorflow/stream_executor/cuda/cuda_gpu_executor.cc:975] successful NUMA node read from SysFS had negative value (-1), but there must be at least one NUMA node, so returning NUMA node zero\n",
      "2022-10-03 08:14:52.225215: I tensorflow/stream_executor/cuda/cuda_gpu_executor.cc:975] successful NUMA node read from SysFS had negative value (-1), but there must be at least one NUMA node, so returning NUMA node zero\n",
      "2022-10-03 08:14:52.225363: I tensorflow/stream_executor/cuda/cuda_gpu_executor.cc:975] successful NUMA node read from SysFS had negative value (-1), but there must be at least one NUMA node, so returning NUMA node zero\n"
     ]
    }
   ],
   "source": [
    "physical_devices = tf.config.list_physical_devices('GPU')\n",
    "print(\"Num GPUs:\", len(physical_devices))"
   ]
  },
  {
   "cell_type": "code",
   "execution_count": 3,
   "metadata": {},
   "outputs": [
    {
     "name": "stdout",
     "output_type": "stream",
     "text": [
      "Found 100000 files belonging to 200 classes.\n"
     ]
    },
    {
     "name": "stderr",
     "output_type": "stream",
     "text": [
      "2022-10-03 08:14:58.080356: I tensorflow/stream_executor/cuda/cuda_gpu_executor.cc:975] successful NUMA node read from SysFS had negative value (-1), but there must be at least one NUMA node, so returning NUMA node zero\n",
      "2022-10-03 08:14:58.080522: I tensorflow/stream_executor/cuda/cuda_gpu_executor.cc:975] successful NUMA node read from SysFS had negative value (-1), but there must be at least one NUMA node, so returning NUMA node zero\n",
      "2022-10-03 08:14:58.080626: I tensorflow/stream_executor/cuda/cuda_gpu_executor.cc:975] successful NUMA node read from SysFS had negative value (-1), but there must be at least one NUMA node, so returning NUMA node zero\n",
      "2022-10-03 08:14:58.581303: I tensorflow/stream_executor/cuda/cuda_gpu_executor.cc:975] successful NUMA node read from SysFS had negative value (-1), but there must be at least one NUMA node, so returning NUMA node zero\n",
      "2022-10-03 08:14:58.581441: I tensorflow/stream_executor/cuda/cuda_gpu_executor.cc:975] successful NUMA node read from SysFS had negative value (-1), but there must be at least one NUMA node, so returning NUMA node zero\n",
      "2022-10-03 08:14:58.581548: I tensorflow/stream_executor/cuda/cuda_gpu_executor.cc:975] successful NUMA node read from SysFS had negative value (-1), but there must be at least one NUMA node, so returning NUMA node zero\n",
      "2022-10-03 08:14:58.581624: I tensorflow/core/common_runtime/gpu/gpu_device.cc:1532] Created device /job:localhost/replica:0/task:0/device:GPU:0 with 21667 MB memory:  -> device: 0, name: NVIDIA GeForce RTX 3090, pci bus id: 0000:0a:00.0, compute capability: 8.6\n"
     ]
    }
   ],
   "source": [
    "ds_train = image_dataset_from_directory(\n",
    "'tiny_imagenet/train',\n",
    "image_size=(64,64),\n",
    "batch_size=32)"
   ]
  },
  {
   "cell_type": "code",
   "execution_count": 4,
   "metadata": {},
   "outputs": [
    {
     "name": "stdout",
     "output_type": "stream",
     "text": [
      "Found 10000 files belonging to 200 classes.\n"
     ]
    }
   ],
   "source": [
    "ds_val = image_dataset_from_directory(\n",
    "'tiny_imagenet/val',\n",
    "image_size=(64,64),\n",
    "batch_size=32)"
   ]
  },
  {
   "cell_type": "code",
   "execution_count": 5,
   "metadata": {},
   "outputs": [],
   "source": [
    "data_augmentation = keras.Sequential(\n",
    "[\n",
    "layers.RandomFlip(\"horizontal\"),\n",
    "layers.RandomRotation(0.1),\n",
    "layers.RandomZoom(0.2),\n",
    "]\n",
    ")\n",
    "\n",
    "inputs = keras.Input(shape=(64,64,3))\n",
    "x = data_augmentation(inputs)\n",
    "x = layers.Rescaling(1./255)(x)\n",
    "x = layers.Conv2D(filters=32, kernel_size=5, use_bias=False)(x)\n",
    "\n",
    "for size in [32,64,128,256,512]:\n",
    "    residual = x\n",
    "    \n",
    "    x = layers.BatchNormalization()(x)\n",
    "    x = layers.Activation(\"relu\")(x)\n",
    "    x = layers.SeparableConv2D(size, 3, padding=\"same\", use_bias=False)(x)\n",
    "\n",
    "    x = layers.BatchNormalization()(x)\n",
    "    x = layers.Activation(\"relu\")(x)\n",
    "    x = layers.SeparableConv2D(size, 3, padding=\"same\", use_bias=False)(x)\n",
    "\n",
    "    x = layers.MaxPooling2D(3, strides=2, padding=\"same\")(x)\n",
    "\n",
    "    residual = layers.Conv2D(size, 1, strides=2, padding=\"same\", use_bias=False)(residual)\n",
    "    x = layers.add([x, residual])\n",
    "\n",
    "\n",
    "x = layers.GlobalAveragePooling2D()(x)\n",
    "x = layers.Dropout(0.4)(x)\n",
    "x = layers.Dense(512, activation=\"relu\")(x)\n",
    "x = layers.Dropout(0.3)(x)\n",
    "x = layers.Dense(256, activation=\"relu\")(x)\n",
    "x = layers.Dropout(0.3)(x)\n",
    "outputs = layers.Dense(200, activation=\"softmax\")(x)\n",
    "model = keras.Model(inputs, outputs)\n",
    "\n",
    "opt = tf.optimizers.Adam(learning_rate=0.0001)\n",
    "\n",
    "\n",
    "model.compile(\n",
    "    optimizer=opt,\n",
    "    loss='sparse_categorical_crossentropy',\n",
    "    metrics=['accuracy'],\n",
    ")\n",
    "\n",
    "callbacks = [\n",
    "keras.callbacks.ModelCheckpoint(\n",
    "filepath=\"tiny_imagenet_feature_extraction_with_data_augmentation.keras\",\n",
    "save_best_only=True,\n",
    "monitor=\"val_loss\")\n",
    "]"
   ]
  },
  {
   "cell_type": "code",
   "execution_count": 6,
   "metadata": {},
   "outputs": [
    {
     "name": "stdout",
     "output_type": "stream",
     "text": [
      "Epoch 1/50\n"
     ]
    },
    {
     "name": "stderr",
     "output_type": "stream",
     "text": [
      "2022-10-02 19:18:19.836791: I tensorflow/stream_executor/cuda/cuda_dnn.cc:384] Loaded cuDNN version 8303\n",
      "2022-10-02 19:18:21.054005: I tensorflow/stream_executor/cuda/cuda_blas.cc:1786] TensorFloat-32 will be used for the matrix multiplication. This will only be logged once.\n"
     ]
    },
    {
     "name": "stdout",
     "output_type": "stream",
     "text": [
      "3125/3125 [==============================] - 106s 33ms/step - loss: 5.0774 - accuracy: 0.0206 - val_loss: 4.8296 - val_accuracy: 0.0410\n",
      "Epoch 2/50\n",
      "3125/3125 [==============================] - 101s 32ms/step - loss: 4.6948 - accuracy: 0.0491 - val_loss: 4.6284 - val_accuracy: 0.0588\n",
      "Epoch 3/50\n",
      "3125/3125 [==============================] - 102s 33ms/step - loss: 4.4747 - accuracy: 0.0725 - val_loss: 4.4678 - val_accuracy: 0.0818\n",
      "Epoch 4/50\n",
      "3125/3125 [==============================] - 95s 30ms/step - loss: 4.3020 - accuracy: 0.0949 - val_loss: 4.3369 - val_accuracy: 0.0893\n",
      "Epoch 5/50\n",
      "3125/3125 [==============================] - 95s 30ms/step - loss: 4.1619 - accuracy: 0.1117 - val_loss: 4.2096 - val_accuracy: 0.1050\n",
      "Epoch 6/50\n",
      "3125/3125 [==============================] - 95s 31ms/step - loss: 4.0516 - accuracy: 0.1284 - val_loss: 4.0730 - val_accuracy: 0.1222\n",
      "Epoch 7/50\n",
      "3125/3125 [==============================] - 96s 31ms/step - loss: 3.9530 - accuracy: 0.1417 - val_loss: 3.8738 - val_accuracy: 0.1483\n",
      "Epoch 8/50\n",
      "3125/3125 [==============================] - 94s 30ms/step - loss: 3.8749 - accuracy: 0.1535 - val_loss: 3.9307 - val_accuracy: 0.1437\n",
      "Epoch 9/50\n",
      "3125/3125 [==============================] - 94s 30ms/step - loss: 3.7971 - accuracy: 0.1675 - val_loss: 4.0254 - val_accuracy: 0.1343\n",
      "Epoch 10/50\n",
      "3125/3125 [==============================] - 94s 30ms/step - loss: 3.7322 - accuracy: 0.1770 - val_loss: 3.8112 - val_accuracy: 0.1673\n",
      "Epoch 11/50\n",
      "3125/3125 [==============================] - 96s 31ms/step - loss: 3.6750 - accuracy: 0.1851 - val_loss: 3.7819 - val_accuracy: 0.1664\n",
      "Epoch 12/50\n",
      "3125/3125 [==============================] - 94s 30ms/step - loss: 3.6291 - accuracy: 0.1939 - val_loss: 3.7365 - val_accuracy: 0.1721\n",
      "Epoch 13/50\n",
      "3125/3125 [==============================] - 95s 30ms/step - loss: 3.5760 - accuracy: 0.2024 - val_loss: 3.7264 - val_accuracy: 0.1743\n",
      "Epoch 14/50\n",
      "3125/3125 [==============================] - 95s 30ms/step - loss: 3.5287 - accuracy: 0.2089 - val_loss: 3.6079 - val_accuracy: 0.1933\n",
      "Epoch 15/50\n",
      "3125/3125 [==============================] - 95s 30ms/step - loss: 3.4923 - accuracy: 0.2171 - val_loss: 3.5182 - val_accuracy: 0.2098\n",
      "Epoch 16/50\n",
      "3125/3125 [==============================] - 95s 30ms/step - loss: 3.4460 - accuracy: 0.2245 - val_loss: 3.5514 - val_accuracy: 0.2044\n",
      "Epoch 17/50\n",
      "3125/3125 [==============================] - 94s 30ms/step - loss: 3.4152 - accuracy: 0.2304 - val_loss: 3.6236 - val_accuracy: 0.1963\n",
      "Epoch 18/50\n",
      "3125/3125 [==============================] - 95s 30ms/step - loss: 3.3791 - accuracy: 0.2356 - val_loss: 3.5738 - val_accuracy: 0.2036\n",
      "Epoch 19/50\n",
      "3125/3125 [==============================] - 96s 31ms/step - loss: 3.3458 - accuracy: 0.2413 - val_loss: 3.4418 - val_accuracy: 0.2302\n",
      "Epoch 20/50\n",
      "3125/3125 [==============================] - 101s 32ms/step - loss: 3.3099 - accuracy: 0.2497 - val_loss: 3.4620 - val_accuracy: 0.2232\n",
      "Epoch 21/50\n",
      "3125/3125 [==============================] - 101s 32ms/step - loss: 3.2863 - accuracy: 0.2526 - val_loss: 3.5135 - val_accuracy: 0.2159\n",
      "Epoch 22/50\n",
      "3125/3125 [==============================] - 103s 33ms/step - loss: 3.2495 - accuracy: 0.2586 - val_loss: 3.4831 - val_accuracy: 0.2248\n",
      "Epoch 23/50\n",
      "3125/3125 [==============================] - 102s 33ms/step - loss: 3.2267 - accuracy: 0.2641 - val_loss: 3.5069 - val_accuracy: 0.2208\n",
      "Epoch 24/50\n",
      "3125/3125 [==============================] - 101s 32ms/step - loss: 3.2016 - accuracy: 0.2675 - val_loss: 3.3699 - val_accuracy: 0.2388\n",
      "Epoch 25/50\n",
      "3125/3125 [==============================] - 101s 32ms/step - loss: 3.1808 - accuracy: 0.2712 - val_loss: 3.4249 - val_accuracy: 0.2383\n",
      "Epoch 26/50\n",
      "3125/3125 [==============================] - 102s 33ms/step - loss: 3.1493 - accuracy: 0.2750 - val_loss: 3.3289 - val_accuracy: 0.2441\n",
      "Epoch 27/50\n",
      "3125/3125 [==============================] - 102s 33ms/step - loss: 3.1282 - accuracy: 0.2799 - val_loss: 3.4560 - val_accuracy: 0.2354\n",
      "Epoch 28/50\n",
      "3125/3125 [==============================] - 103s 33ms/step - loss: 3.1082 - accuracy: 0.2825 - val_loss: 3.2437 - val_accuracy: 0.2655\n",
      "Epoch 29/50\n",
      "3125/3125 [==============================] - 102s 33ms/step - loss: 3.0815 - accuracy: 0.2866 - val_loss: 3.1729 - val_accuracy: 0.2765\n",
      "Epoch 30/50\n",
      "3125/3125 [==============================] - 102s 33ms/step - loss: 3.0603 - accuracy: 0.2924 - val_loss: 3.2190 - val_accuracy: 0.2686\n",
      "Epoch 31/50\n",
      "3125/3125 [==============================] - 101s 32ms/step - loss: 3.0402 - accuracy: 0.2966 - val_loss: 3.2049 - val_accuracy: 0.2753\n",
      "Epoch 32/50\n",
      "3125/3125 [==============================] - 100s 32ms/step - loss: 3.0239 - accuracy: 0.3005 - val_loss: 3.2650 - val_accuracy: 0.2628\n",
      "Epoch 33/50\n",
      "3125/3125 [==============================] - 103s 33ms/step - loss: 3.0033 - accuracy: 0.3035 - val_loss: 3.2666 - val_accuracy: 0.2676\n",
      "Epoch 34/50\n",
      "3125/3125 [==============================] - 99s 32ms/step - loss: 2.9841 - accuracy: 0.3059 - val_loss: 3.2867 - val_accuracy: 0.2642\n",
      "Epoch 35/50\n",
      "3125/3125 [==============================] - 101s 32ms/step - loss: 2.9626 - accuracy: 0.3112 - val_loss: 3.1713 - val_accuracy: 0.2792\n",
      "Epoch 36/50\n",
      "3125/3125 [==============================] - 101s 32ms/step - loss: 2.9468 - accuracy: 0.3128 - val_loss: 3.1111 - val_accuracy: 0.2961\n",
      "Epoch 37/50\n",
      "3125/3125 [==============================] - 100s 32ms/step - loss: 2.9295 - accuracy: 0.3166 - val_loss: 3.0930 - val_accuracy: 0.2911\n",
      "Epoch 38/50\n",
      "3125/3125 [==============================] - 98s 31ms/step - loss: 2.9200 - accuracy: 0.3166 - val_loss: 3.1336 - val_accuracy: 0.2828\n",
      "Epoch 39/50\n",
      "3125/3125 [==============================] - 97s 31ms/step - loss: 2.8949 - accuracy: 0.3217 - val_loss: 3.0876 - val_accuracy: 0.2938\n",
      "Epoch 40/50\n",
      "3125/3125 [==============================] - 99s 32ms/step - loss: 2.8843 - accuracy: 0.3252 - val_loss: 3.2468 - val_accuracy: 0.2679\n",
      "Epoch 41/50\n",
      "3125/3125 [==============================] - 99s 32ms/step - loss: 2.8700 - accuracy: 0.3270 - val_loss: 3.0311 - val_accuracy: 0.3036\n",
      "Epoch 42/50\n",
      "3125/3125 [==============================] - 98s 31ms/step - loss: 2.8571 - accuracy: 0.3294 - val_loss: 3.1658 - val_accuracy: 0.2823\n",
      "Epoch 43/50\n",
      "3125/3125 [==============================] - 97s 31ms/step - loss: 2.8338 - accuracy: 0.3329 - val_loss: 2.9659 - val_accuracy: 0.3173\n",
      "Epoch 44/50\n",
      "3125/3125 [==============================] - 99s 32ms/step - loss: 2.8234 - accuracy: 0.3367 - val_loss: 2.9812 - val_accuracy: 0.3139\n",
      "Epoch 45/50\n",
      "3125/3125 [==============================] - 98s 32ms/step - loss: 2.8136 - accuracy: 0.3388 - val_loss: 3.2276 - val_accuracy: 0.2793\n",
      "Epoch 46/50\n",
      "3125/3125 [==============================] - 99s 32ms/step - loss: 2.8002 - accuracy: 0.3395 - val_loss: 3.0541 - val_accuracy: 0.3005\n",
      "Epoch 47/50\n",
      "3125/3125 [==============================] - 100s 32ms/step - loss: 2.7812 - accuracy: 0.3417 - val_loss: 2.9998 - val_accuracy: 0.3140\n",
      "Epoch 48/50\n",
      "3125/3125 [==============================] - 99s 32ms/step - loss: 2.7731 - accuracy: 0.3456 - val_loss: 3.0492 - val_accuracy: 0.3066\n",
      "Epoch 49/50\n",
      "3125/3125 [==============================] - 99s 32ms/step - loss: 2.7532 - accuracy: 0.3490 - val_loss: 3.1410 - val_accuracy: 0.2902\n",
      "Epoch 50/50\n",
      "3125/3125 [==============================] - 98s 31ms/step - loss: 2.7489 - accuracy: 0.3505 - val_loss: 2.9877 - val_accuracy: 0.3154\n"
     ]
    }
   ],
   "source": [
    "history = model.fit(\n",
    "ds_train,\n",
    "epochs=50,\n",
    "validation_data=ds_val,\n",
    "callbacks=callbacks)"
   ]
  },
  {
   "cell_type": "code",
   "execution_count": 5,
   "metadata": {},
   "outputs": [],
   "source": [
    "ds_train = ds_train.unbatch()"
   ]
  },
  {
   "cell_type": "code",
   "execution_count": 6,
   "metadata": {},
   "outputs": [],
   "source": [
    "x_train = np.uint8(np.asarray(list(ds_train.map(lambda x, y: x))))"
   ]
  },
  {
   "cell_type": "code",
   "execution_count": 7,
   "metadata": {},
   "outputs": [],
   "source": [
    "y_train = np.asarray(list(ds_train.map(lambda x, y: y)))"
   ]
  },
  {
   "cell_type": "code",
   "execution_count": 8,
   "metadata": {},
   "outputs": [],
   "source": [
    "from hdr_blend import*\n",
    "\n",
    "end = len(x_train)\n",
    "\n",
    "x_dataAug = []\n",
    "y_dataAug = []\n",
    "for image in range(0,end):\n",
    "    x_dataAug.append(hdr(x_train[image]))\n",
    "    y_dataAug.append(y_train[image])\n",
    "\n",
    "\n",
    "x_dataAug = np.asarray(x_dataAug, dtype=int)\n",
    "y_dataAug = np.asarray(y_dataAug)"
   ]
  },
  {
   "cell_type": "code",
   "execution_count": 11,
   "metadata": {},
   "outputs": [
    {
     "data": {
      "text/plain": [
       "<matplotlib.image.AxesImage at 0x7f091e750310>"
      ]
     },
     "execution_count": 11,
     "metadata": {},
     "output_type": "execute_result"
    },
    {
     "data": {
      "image/png": "[encoded data removed]",
      "text/plain": [
       "<Figure size 432x288 with 1 Axes>"
      ]
     },
     "metadata": {
      "needs_background": "light"
     },
     "output_type": "display_data"
    }
   ],
   "source": [
    "plt.imshow(x_train[0])"
   ]
  },
  {
   "cell_type": "code",
   "execution_count": 12,
   "metadata": {},
   "outputs": [
    {
     "data": {
      "text/plain": [
       "<matplotlib.image.AxesImage at 0x7f08e066eb30>"
      ]
     },
     "execution_count": 12,
     "metadata": {},
     "output_type": "execute_result"
    },
    {
     "data": {
      "image/png": "[encoded data removed]",
      "text/plain": [
       "<Figure size 432x288 with 1 Axes>"
      ]
     },
     "metadata": {
      "needs_background": "light"
     },
     "output_type": "display_data"
    }
   ],
   "source": [
    "plt.imshow(x_dataAug[0])"
   ]
  },
  {
   "cell_type": "code",
   "execution_count": 19,
   "metadata": {},
   "outputs": [
    {
     "name": "stdout",
     "output_type": "stream",
     "text": [
      "138\n"
     ]
    }
   ],
   "source": [
    "print(y_dataAug[1])"
   ]
  },
  {
   "cell_type": "code",
   "execution_count": null,
   "metadata": {},
   "outputs": [
    {
     "ename": "",
     "evalue": "",
     "output_type": "error",
     "traceback": [
      "\u001b[1;31mCanceled future for execute_request message before replies were done"
     ]
    },
    {
     "ename": "",
     "evalue": "",
     "output_type": "error",
     "traceback": [
      "The Kernel crashed while executing code in the the current cell or a previous cell. Please review the code in the cell(s) to identify a possible cause of the failure. Click <a href='https://aka.ms/vscodeJupyterKernelCrash'>here</a> for more info. View Jupyter <a href='command:jupyter.viewOutput'>log</a> for further details."
     ]
    }
   ],
   "source": [
    "dsAug_train = tf.data.Dataset.from_tensor_slices((x_train,y_train))"
   ]
  },
  {
   "cell_type": "code",
   "execution_count": 12,
   "metadata": {},
   "outputs": [
    {
     "data": {
      "text/plain": [
       "(TensorSpec(shape=(None, 64, 64, 3), dtype=tf.uint8, name=None),\n",
       " TensorSpec(shape=(None,), dtype=tf.int32, name=None))"
      ]
     },
     "execution_count": 12,
     "metadata": {},
     "output_type": "execute_result"
    }
   ],
   "source": [
    "dsAug_train.element_spec"
   ]
  },
  {
   "cell_type": "code",
   "execution_count": 20,
   "metadata": {},
   "outputs": [
    {
     "data": {
      "text/plain": [
       "3125"
      ]
     },
     "execution_count": 20,
     "metadata": {},
     "output_type": "execute_result"
    }
   ],
   "source": [
    "len(dsAug_train)"
   ]
  },
  {
   "cell_type": "code",
   "execution_count": 10,
   "metadata": {},
   "outputs": [],
   "source": [
    "data_augmentation = keras.Sequential(\n",
    "[\n",
    "layers.RandomFlip(\"horizontal\"),\n",
    "layers.RandomRotation(0.1),\n",
    "layers.RandomZoom(0.2),\n",
    "]\n",
    ")\n",
    "\n",
    "inputs = keras.Input(shape=(64,64,3))\n",
    "x = data_augmentation(inputs)\n",
    "x = layers.Rescaling(1./255)(x)\n",
    "x = layers.Conv2D(filters=32, kernel_size=5, use_bias=False)(x)\n",
    "\n",
    "for size in [32,64,128,256,512]:\n",
    "    residual = x\n",
    "    \n",
    "    x = layers.BatchNormalization()(x)\n",
    "    x = layers.Activation(\"relu\")(x)\n",
    "    x = layers.SeparableConv2D(size, 3, padding=\"same\", use_bias=False)(x)\n",
    "\n",
    "    x = layers.BatchNormalization()(x)\n",
    "    x = layers.Activation(\"relu\")(x)\n",
    "    x = layers.SeparableConv2D(size, 3, padding=\"same\", use_bias=False)(x)\n",
    "\n",
    "    x = layers.MaxPooling2D(3, strides=2, padding=\"same\")(x)\n",
    "\n",
    "    residual = layers.Conv2D(size, 1, strides=2, padding=\"same\", use_bias=False)(residual)\n",
    "    x = layers.add([x, residual])\n",
    "\n",
    "\n",
    "x = layers.GlobalAveragePooling2D()(x)\n",
    "x = layers.Dropout(0.4)(x)\n",
    "x = layers.Dense(512, activation=\"relu\")(x)\n",
    "x = layers.Dropout(0.3)(x)\n",
    "x = layers.Dense(256, activation=\"relu\")(x)\n",
    "x = layers.Dropout(0.3)(x)\n",
    "outputs = layers.Dense(200, activation=\"softmax\")(x)\n",
    "model = keras.Model(inputs, outputs)\n",
    "\n",
    "opt = tf.optimizers.Adam(learning_rate=0.0001)\n",
    "\n",
    "\n",
    "model.compile(\n",
    "    optimizer=opt,\n",
    "    loss='sparse_categorical_crossentropy',\n",
    "    metrics=['accuracy'],\n",
    ")\n",
    "\n",
    "callbacks = [\n",
    "keras.callbacks.ModelCheckpoint(\n",
    "filepath=\"tiny_imagenet_feature_extraction_with_data_augmentation_HDR  .keras\",\n",
    "save_best_only=True,\n",
    "monitor=\"val_loss\")\n",
    "]"
   ]
  },
  {
   "cell_type": "code",
   "execution_count": 11,
   "metadata": {},
   "outputs": [
    {
     "name": "stdout",
     "output_type": "stream",
     "text": [
      "Epoch 1/100\n"
     ]
    },
    {
     "name": "stderr",
     "output_type": "stream",
     "text": [
      "2022-10-03 09:18:24.975747: I tensorflow/stream_executor/cuda/cuda_dnn.cc:384] Loaded cuDNN version 8303\n",
      "2022-10-03 09:18:26.192740: I tensorflow/stream_executor/cuda/cuda_blas.cc:1786] TensorFloat-32 will be used for the matrix multiplication. This will only be logged once.\n"
     ]
    },
    {
     "name": "stdout",
     "output_type": "stream",
     "text": [
      "3125/3125 [==============================] - 106s 33ms/step - loss: 5.3013 - accuracy: 0.0048 - val_loss: 5.2984 - val_accuracy: 0.0047\n",
      "Epoch 2/100\n",
      "1071/3125 [=========>....................] - ETA: 1:03 - loss: 5.2997 - accuracy: 0.0052"
     ]
    },
    {
     "ename": "InternalError",
     "evalue": "Could not synchronize CUDA stream: CUDA_ERROR_LAUNCH_FAILED: unspecified launch failure",
     "output_type": "error",
     "traceback": [
      "\u001b[0;31m---------------------------------------------------------------------------\u001b[0m",
      "\u001b[0;31mInternalError\u001b[0m                             Traceback (most recent call last)",
      "\u001b[0;32m/tmp/ipykernel_4401/685529585.py\u001b[0m in \u001b[0;36m<module>\u001b[0;34m\u001b[0m\n\u001b[0;32m----> 1\u001b[0;31m history_Aug = model.fit(\n\u001b[0m\u001b[1;32m      2\u001b[0m \u001b[0mdsAug_train\u001b[0m\u001b[0;34m,\u001b[0m\u001b[0;34m\u001b[0m\u001b[0;34m\u001b[0m\u001b[0m\n\u001b[1;32m      3\u001b[0m \u001b[0mepochs\u001b[0m\u001b[0;34m=\u001b[0m\u001b[0;36m100\u001b[0m\u001b[0;34m,\u001b[0m\u001b[0;34m\u001b[0m\u001b[0;34m\u001b[0m\u001b[0m\n\u001b[1;32m      4\u001b[0m \u001b[0mvalidation_data\u001b[0m\u001b[0;34m=\u001b[0m\u001b[0mds_val\u001b[0m\u001b[0;34m,\u001b[0m\u001b[0;34m\u001b[0m\u001b[0;34m\u001b[0m\u001b[0m\n\u001b[1;32m      5\u001b[0m callbacks=callbacks)\n",
      "\u001b[0;32m/usr/lib/python3/dist-packages/keras/utils/traceback_utils.py\u001b[0m in \u001b[0;36merror_handler\u001b[0;34m(*args, **kwargs)\u001b[0m\n\u001b[1;32m     65\u001b[0m     \u001b[0;32mexcept\u001b[0m \u001b[0mException\u001b[0m \u001b[0;32mas\u001b[0m \u001b[0me\u001b[0m\u001b[0;34m:\u001b[0m  \u001b[0;31m# pylint: disable=broad-except\u001b[0m\u001b[0;34m\u001b[0m\u001b[0;34m\u001b[0m\u001b[0m\n\u001b[1;32m     66\u001b[0m       \u001b[0mfiltered_tb\u001b[0m \u001b[0;34m=\u001b[0m \u001b[0m_process_traceback_frames\u001b[0m\u001b[0;34m(\u001b[0m\u001b[0me\u001b[0m\u001b[0;34m.\u001b[0m\u001b[0m__traceback__\u001b[0m\u001b[0;34m)\u001b[0m\u001b[0;34m\u001b[0m\u001b[0;34m\u001b[0m\u001b[0m\n\u001b[0;32m---> 67\u001b[0;31m       \u001b[0;32mraise\u001b[0m \u001b[0me\u001b[0m\u001b[0;34m.\u001b[0m\u001b[0mwith_traceback\u001b[0m\u001b[0;34m(\u001b[0m\u001b[0mfiltered_tb\u001b[0m\u001b[0;34m)\u001b[0m \u001b[0;32mfrom\u001b[0m \u001b[0;32mNone\u001b[0m\u001b[0;34m\u001b[0m\u001b[0;34m\u001b[0m\u001b[0m\n\u001b[0m\u001b[1;32m     68\u001b[0m     \u001b[0;32mfinally\u001b[0m\u001b[0;34m:\u001b[0m\u001b[0;34m\u001b[0m\u001b[0;34m\u001b[0m\u001b[0m\n\u001b[1;32m     69\u001b[0m       \u001b[0;32mdel\u001b[0m \u001b[0mfiltered_tb\u001b[0m\u001b[0;34m\u001b[0m\u001b[0;34m\u001b[0m\u001b[0m\n",
      "\u001b[0;32m/usr/lib/python3/dist-packages/tensorflow/python/framework/ops.py\u001b[0m in \u001b[0;36m_numpy\u001b[0;34m(self)\u001b[0m\n\u001b[1;32m   1125\u001b[0m       \u001b[0;32mreturn\u001b[0m \u001b[0mself\u001b[0m\u001b[0;34m.\u001b[0m\u001b[0m_numpy_internal\u001b[0m\u001b[0;34m(\u001b[0m\u001b[0;34m)\u001b[0m\u001b[0;34m\u001b[0m\u001b[0;34m\u001b[0m\u001b[0m\n\u001b[1;32m   1126\u001b[0m     \u001b[0;32mexcept\u001b[0m \u001b[0mcore\u001b[0m\u001b[0;34m.\u001b[0m\u001b[0m_NotOkStatusException\u001b[0m \u001b[0;32mas\u001b[0m \u001b[0me\u001b[0m\u001b[0;34m:\u001b[0m  \u001b[0;31m# pylint: disable=protected-access\u001b[0m\u001b[0;34m\u001b[0m\u001b[0;34m\u001b[0m\u001b[0m\n\u001b[0;32m-> 1127\u001b[0;31m       \u001b[0;32mraise\u001b[0m \u001b[0mcore\u001b[0m\u001b[0;34m.\u001b[0m\u001b[0m_status_to_exception\u001b[0m\u001b[0;34m(\u001b[0m\u001b[0me\u001b[0m\u001b[0;34m)\u001b[0m \u001b[0;32mfrom\u001b[0m \u001b[0;32mNone\u001b[0m  \u001b[0;31m# pylint: disable=protected-access\u001b[0m\u001b[0;34m\u001b[0m\u001b[0;34m\u001b[0m\u001b[0m\n\u001b[0m\u001b[1;32m   1128\u001b[0m \u001b[0;34m\u001b[0m\u001b[0m\n\u001b[1;32m   1129\u001b[0m   \u001b[0;34m@\u001b[0m\u001b[0mproperty\u001b[0m\u001b[0;34m\u001b[0m\u001b[0;34m\u001b[0m\u001b[0m\n",
      "\u001b[0;31mInternalError\u001b[0m: Could not synchronize CUDA stream: CUDA_ERROR_LAUNCH_FAILED: unspecified launch failure"
     ]
    }
   ],
   "source": [
    "history_Aug = model.fit(\n",
    "dsAug_train,\n",
    "epochs=100,\n",
    "validation_data=ds_val,\n",
    "callbacks=callbacks)"
   ]
  }
 ],
 "metadata": {
  "kernelspec": {
   "display_name": "Python 3.10.4 64-bit",
   "language": "python",
   "name": "python3"
  },
  "language_info": {
   "codemirror_mode": {
    "name": "ipython",
    "version": 3
   },
   "file_extension": ".py",
   "mimetype": "text/x-python",
   "name": "python",
   "nbconvert_exporter": "python",
   "pygments_lexer": "ipython3",
   "version": "3.10.4"
  },
  "orig_nbformat": 4,
  "vscode": {
   "interpreter": {
    "hash": "767d51c1340bd893661ea55ea3124f6de3c7a262a8b4abca0554b478b1e2ff90"
   }
  }
 },
 "nbformat": 4,
 "nbformat_minor": 2
}
