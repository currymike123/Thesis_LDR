{
 "cells": [
  {
   "cell_type": "code",
   "execution_count": 2,
   "metadata": {},
   "outputs": [],
   "source": [
    "import tensorflow as tf\n",
    "from tensorflow import keras\n",
    "from tensorflow.keras import layers\n",
    "from tensorflow.keras.utils import image_dataset_from_directory\n",
    "from keras.preprocessing.image import ImageDataGenerator\n",
    "import tensorflow_datasets as tfds\n",
    "\n",
    "import numpy as np\n",
    "import pandas as pd\n",
    "import os\n",
    "import PIL\n",
    "import PIL.Image\n",
    "import glob\n",
    "\n",
    "import cv2\n",
    "\n",
    "import matplotlib.pyplot as plt\n",
    "from matplotlib import gridspec"
   ]
  },
  {
   "cell_type": "code",
   "execution_count": 3,
   "metadata": {},
   "outputs": [
    {
     "name": "stdout",
     "output_type": "stream",
     "text": [
      "Num GPUs: 1\n"
     ]
    },
    {
     "name": "stderr",
     "output_type": "stream",
     "text": [
      "2022-09-23 17:49:29.565739: I tensorflow/stream_executor/cuda/cuda_gpu_executor.cc:975] successful NUMA node read from SysFS had negative value (-1), but there must be at least one NUMA node, so returning NUMA node zero\n",
      "2022-09-23 17:49:29.595047: I tensorflow/stream_executor/cuda/cuda_gpu_executor.cc:975] successful NUMA node read from SysFS had negative value (-1), but there must be at least one NUMA node, so returning NUMA node zero\n",
      "2022-09-23 17:49:29.595174: I tensorflow/stream_executor/cuda/cuda_gpu_executor.cc:975] successful NUMA node read from SysFS had negative value (-1), but there must be at least one NUMA node, so returning NUMA node zero\n"
     ]
    }
   ],
   "source": [
    "physical_devices = tf.config.list_physical_devices('GPU')\n",
    "print(\"Num GPUs:\", len(physical_devices))"
   ]
  },
  {
   "cell_type": "code",
   "execution_count": 4,
   "metadata": {},
   "outputs": [
    {
     "name": "stdout",
     "output_type": "stream",
     "text": [
      "Found 100000 files belonging to 200 classes.\n"
     ]
    },
    {
     "name": "stderr",
     "output_type": "stream",
     "text": [
      "2022-09-23 17:49:34.402338: I tensorflow/stream_executor/cuda/cuda_gpu_executor.cc:975] successful NUMA node read from SysFS had negative value (-1), but there must be at least one NUMA node, so returning NUMA node zero\n",
      "2022-09-23 17:49:34.402489: I tensorflow/stream_executor/cuda/cuda_gpu_executor.cc:975] successful NUMA node read from SysFS had negative value (-1), but there must be at least one NUMA node, so returning NUMA node zero\n",
      "2022-09-23 17:49:34.402591: I tensorflow/stream_executor/cuda/cuda_gpu_executor.cc:975] successful NUMA node read from SysFS had negative value (-1), but there must be at least one NUMA node, so returning NUMA node zero\n",
      "2022-09-23 17:49:34.917665: I tensorflow/stream_executor/cuda/cuda_gpu_executor.cc:975] successful NUMA node read from SysFS had negative value (-1), but there must be at least one NUMA node, so returning NUMA node zero\n",
      "2022-09-23 17:49:34.917800: I tensorflow/stream_executor/cuda/cuda_gpu_executor.cc:975] successful NUMA node read from SysFS had negative value (-1), but there must be at least one NUMA node, so returning NUMA node zero\n",
      "2022-09-23 17:49:34.917905: I tensorflow/stream_executor/cuda/cuda_gpu_executor.cc:975] successful NUMA node read from SysFS had negative value (-1), but there must be at least one NUMA node, so returning NUMA node zero\n",
      "2022-09-23 17:49:34.917979: I tensorflow/core/common_runtime/gpu/gpu_device.cc:1532] Created device /job:localhost/replica:0/task:0/device:GPU:0 with 21015 MB memory:  -> device: 0, name: NVIDIA GeForce RTX 3090, pci bus id: 0000:0a:00.0, compute capability: 8.6\n"
     ]
    }
   ],
   "source": [
    "ds_train = image_dataset_from_directory(\n",
    "'tiny_imagenet/train',\n",
    "image_size=(64,64),\n",
    "batch_size=32)"
   ]
  },
  {
   "cell_type": "code",
   "execution_count": 5,
   "metadata": {},
   "outputs": [
    {
     "name": "stdout",
     "output_type": "stream",
     "text": [
      "Found 10000 files belonging to 200 classes.\n"
     ]
    }
   ],
   "source": [
    "ds_val = image_dataset_from_directory(\n",
    "'tiny_imagenet/val',\n",
    "image_size=(64,64),\n",
    "batch_size=32)"
   ]
  },
  {
   "cell_type": "code",
   "execution_count": 5,
   "metadata": {},
   "outputs": [],
   "source": [
    "inputs = keras.Input(shape=(64,64,3))\n",
    "x = layers.Rescaling(1./255)(inputs)\n",
    "x = layers.Conv2D(filters=32, kernel_size=5, use_bias=False)(x)\n",
    "\n",
    "for size in [32,64,128,256,512]:\n",
    "    residual = x\n",
    "    \n",
    "    x = layers.BatchNormalization()(x)\n",
    "    x = layers.Activation(\"relu\")(x)\n",
    "    x = layers.SeparableConv2D(size, 3, padding=\"same\", use_bias=False)(x)\n",
    "\n",
    "    x = layers.BatchNormalization()(x)\n",
    "    x = layers.Activation(\"relu\")(x)\n",
    "    x = layers.SeparableConv2D(size, 3, padding=\"same\", use_bias=False)(x)\n",
    "\n",
    "    x = layers.MaxPooling2D(3, strides=2, padding=\"same\")(x)\n",
    "\n",
    "    residual = layers.Conv2D(size, 1, strides=2, padding=\"same\", use_bias=False)(residual)\n",
    "    x = layers.add([x, residual])\n",
    "\n",
    "\n",
    "x = layers.GlobalAveragePooling2D()(x)\n",
    "x = layers.Dropout(0.4)(x)\n",
    "x = layers.Dense(512, activation=\"relu\")(x)\n",
    "x = layers.Dropout(0.3)(x)\n",
    "x = layers.Dense(256, activation=\"relu\")(x)\n",
    "x = layers.Dropout(0.3)(x)\n",
    "outputs = layers.Dense(200, activation=\"softmax\")(x)\n",
    "model = keras.Model(inputs, outputs)"
   ]
  },
  {
   "cell_type": "code",
   "execution_count": 9,
   "metadata": {},
   "outputs": [],
   "source": [
    "opt = tf.optimizers.Adam(learning_rate=0.0001)"
   ]
  },
  {
   "cell_type": "code",
   "execution_count": 7,
   "metadata": {},
   "outputs": [],
   "source": [
    "model.compile(\n",
    "    optimizer=opt,\n",
    "    loss='sparse_categorical_crossentropy',\n",
    "    metrics=['accuracy'],\n",
    ")"
   ]
  },
  {
   "cell_type": "code",
   "execution_count": 8,
   "metadata": {},
   "outputs": [],
   "source": [
    "callbacks = [\n",
    "keras.callbacks.ModelCheckpoint(\n",
    "filepath=\"tiny_imagenet_feature_extraction_without_data_augmentation.keras\",\n",
    "save_best_only=True,\n",
    "monitor=\"val_loss\")\n",
    "]"
   ]
  },
  {
   "cell_type": "code",
   "execution_count": 9,
   "metadata": {},
   "outputs": [
    {
     "name": "stdout",
     "output_type": "stream",
     "text": [
      "Epoch 1/40\n"
     ]
    },
    {
     "name": "stderr",
     "output_type": "stream",
     "text": [
      "2022-09-22 16:45:51.919332: I tensorflow/stream_executor/cuda/cuda_dnn.cc:384] Loaded cuDNN version 8303\n",
      "2022-09-22 16:45:53.149437: I tensorflow/stream_executor/cuda/cuda_blas.cc:1786] TensorFloat-32 will be used for the matrix multiplication. This will only be logged once.\n"
     ]
    },
    {
     "name": "stdout",
     "output_type": "stream",
     "text": [
      "3125/3125 [==============================] - 84s 26ms/step - loss: 5.0058 - accuracy: 0.0261 - val_loss: 4.7524 - val_accuracy: 0.0425\n",
      "Epoch 2/40\n",
      "3125/3125 [==============================] - 81s 26ms/step - loss: 4.5022 - accuracy: 0.0636 - val_loss: 4.2078 - val_accuracy: 0.1038\n",
      "Epoch 3/40\n",
      "3125/3125 [==============================] - 81s 26ms/step - loss: 4.2015 - accuracy: 0.0960 - val_loss: 4.1600 - val_accuracy: 0.1108\n",
      "Epoch 4/40\n",
      "3125/3125 [==============================] - 80s 26ms/step - loss: 3.9872 - accuracy: 0.1239 - val_loss: 3.7770 - val_accuracy: 0.1630\n",
      "Epoch 5/40\n",
      "3125/3125 [==============================] - 80s 26ms/step - loss: 3.8171 - accuracy: 0.1502 - val_loss: 3.7121 - val_accuracy: 0.1756\n",
      "Epoch 6/40\n",
      "3125/3125 [==============================] - 81s 26ms/step - loss: 3.6807 - accuracy: 0.1713 - val_loss: 3.7301 - val_accuracy: 0.1781\n",
      "Epoch 7/40\n",
      "3125/3125 [==============================] - 82s 26ms/step - loss: 3.5663 - accuracy: 0.1919 - val_loss: 3.4614 - val_accuracy: 0.2113\n",
      "Epoch 8/40\n",
      "3125/3125 [==============================] - 81s 26ms/step - loss: 3.4553 - accuracy: 0.2075 - val_loss: 3.3664 - val_accuracy: 0.2284\n",
      "Epoch 9/40\n",
      "3125/3125 [==============================] - 77s 25ms/step - loss: 3.3704 - accuracy: 0.2215 - val_loss: 3.4120 - val_accuracy: 0.2283\n",
      "Epoch 10/40\n",
      "3125/3125 [==============================] - 75s 24ms/step - loss: 3.2896 - accuracy: 0.2377 - val_loss: 3.3368 - val_accuracy: 0.2395\n",
      "Epoch 11/40\n",
      "3125/3125 [==============================] - 75s 24ms/step - loss: 3.2127 - accuracy: 0.2504 - val_loss: 3.2994 - val_accuracy: 0.2429\n",
      "Epoch 12/40\n",
      "3125/3125 [==============================] - 75s 24ms/step - loss: 3.1411 - accuracy: 0.2621 - val_loss: 3.2074 - val_accuracy: 0.2627\n",
      "Epoch 13/40\n",
      "3125/3125 [==============================] - 75s 24ms/step - loss: 3.0736 - accuracy: 0.2725 - val_loss: 3.2042 - val_accuracy: 0.2595\n",
      "Epoch 14/40\n",
      "3125/3125 [==============================] - 75s 24ms/step - loss: 3.0086 - accuracy: 0.2853 - val_loss: 3.2756 - val_accuracy: 0.2533\n",
      "Epoch 15/40\n",
      "3125/3125 [==============================] - 75s 24ms/step - loss: 2.9488 - accuracy: 0.2945 - val_loss: 3.2482 - val_accuracy: 0.2583\n",
      "Epoch 16/40\n",
      "3125/3125 [==============================] - 74s 24ms/step - loss: 2.8934 - accuracy: 0.3038 - val_loss: 3.2083 - val_accuracy: 0.2695\n",
      "Epoch 17/40\n",
      "3125/3125 [==============================] - 78s 25ms/step - loss: 2.8280 - accuracy: 0.3174 - val_loss: 3.2457 - val_accuracy: 0.2668\n",
      "Epoch 18/40\n",
      "3125/3125 [==============================] - 81s 26ms/step - loss: 2.7793 - accuracy: 0.3252 - val_loss: 3.2154 - val_accuracy: 0.2700\n",
      "Epoch 19/40\n",
      "3125/3125 [==============================] - 82s 26ms/step - loss: 2.7300 - accuracy: 0.3338 - val_loss: 3.2431 - val_accuracy: 0.2665\n",
      "Epoch 20/40\n",
      "3125/3125 [==============================] - 82s 26ms/step - loss: 2.6773 - accuracy: 0.3425 - val_loss: 3.2376 - val_accuracy: 0.2766\n",
      "Epoch 21/40\n",
      "3125/3125 [==============================] - 78s 25ms/step - loss: 2.6333 - accuracy: 0.3512 - val_loss: 3.2421 - val_accuracy: 0.2733\n",
      "Epoch 22/40\n",
      "3125/3125 [==============================] - 74s 24ms/step - loss: 2.5865 - accuracy: 0.3594 - val_loss: 3.2652 - val_accuracy: 0.2668\n",
      "Epoch 23/40\n",
      "3125/3125 [==============================] - 75s 24ms/step - loss: 2.5371 - accuracy: 0.3676 - val_loss: 3.2821 - val_accuracy: 0.2676\n",
      "Epoch 24/40\n",
      "3125/3125 [==============================] - 75s 24ms/step - loss: 2.4975 - accuracy: 0.3765 - val_loss: 3.2727 - val_accuracy: 0.2754\n",
      "Epoch 25/40\n",
      "3125/3125 [==============================] - 75s 24ms/step - loss: 2.4574 - accuracy: 0.3816 - val_loss: 3.3887 - val_accuracy: 0.2584\n",
      "Epoch 26/40\n",
      "3125/3125 [==============================] - 76s 24ms/step - loss: 2.4137 - accuracy: 0.3883 - val_loss: 3.2776 - val_accuracy: 0.2764\n",
      "Epoch 27/40\n",
      "3125/3125 [==============================] - 75s 24ms/step - loss: 2.3761 - accuracy: 0.3962 - val_loss: 3.3400 - val_accuracy: 0.2762\n",
      "Epoch 28/40\n",
      "3125/3125 [==============================] - 75s 24ms/step - loss: 2.3383 - accuracy: 0.4041 - val_loss: 3.3499 - val_accuracy: 0.2725\n",
      "Epoch 29/40\n",
      "3125/3125 [==============================] - 75s 24ms/step - loss: 2.3040 - accuracy: 0.4095 - val_loss: 3.4126 - val_accuracy: 0.2685\n",
      "Epoch 30/40\n",
      "3125/3125 [==============================] - 75s 24ms/step - loss: 2.2672 - accuracy: 0.4170 - val_loss: 3.5468 - val_accuracy: 0.2512\n",
      "Epoch 31/40\n",
      "3125/3125 [==============================] - 74s 24ms/step - loss: 2.2368 - accuracy: 0.4234 - val_loss: 3.4475 - val_accuracy: 0.2608\n",
      "Epoch 32/40\n",
      "3125/3125 [==============================] - 75s 24ms/step - loss: 2.2063 - accuracy: 0.4296 - val_loss: 3.4621 - val_accuracy: 0.2643\n",
      "Epoch 33/40\n",
      "3125/3125 [==============================] - 73s 23ms/step - loss: 2.1718 - accuracy: 0.4362 - val_loss: 3.5948 - val_accuracy: 0.2518\n",
      "Epoch 34/40\n",
      "3125/3125 [==============================] - 75s 24ms/step - loss: 2.1449 - accuracy: 0.4413 - val_loss: 3.4915 - val_accuracy: 0.2686\n",
      "Epoch 35/40\n",
      "3125/3125 [==============================] - 75s 24ms/step - loss: 2.1212 - accuracy: 0.4466 - val_loss: 3.5637 - val_accuracy: 0.2576\n",
      "Epoch 36/40\n",
      "3125/3125 [==============================] - 75s 24ms/step - loss: 2.0876 - accuracy: 0.4494 - val_loss: 3.5158 - val_accuracy: 0.2666\n",
      "Epoch 37/40\n",
      "3125/3125 [==============================] - 76s 24ms/step - loss: 2.0600 - accuracy: 0.4578 - val_loss: 3.5486 - val_accuracy: 0.2671\n",
      "Epoch 38/40\n",
      "3125/3125 [==============================] - 81s 26ms/step - loss: 2.0325 - accuracy: 0.4623 - val_loss: 3.6140 - val_accuracy: 0.2642\n",
      "Epoch 39/40\n",
      "3125/3125 [==============================] - 82s 26ms/step - loss: 2.0145 - accuracy: 0.4647 - val_loss: 3.6340 - val_accuracy: 0.2585\n",
      "Epoch 40/40\n",
      "3125/3125 [==============================] - 81s 26ms/step - loss: 1.9836 - accuracy: 0.4722 - val_loss: 3.6401 - val_accuracy: 0.2612\n"
     ]
    }
   ],
   "source": [
    "history = model.fit(\n",
    "ds_train,\n",
    "epochs=40,\n",
    "batch_size = 32,\n",
    "validation_data=ds_val,\n",
    "callbacks=callbacks)"
   ]
  },
  {
   "cell_type": "code",
   "execution_count": 14,
   "metadata": {},
   "outputs": [],
   "source": [
    "data_augmentation = keras.Sequential(\n",
    "[\n",
    "layers.RandomFlip(\"horizontal\"),\n",
    "layers.RandomRotation(0.1),\n",
    "layers.RandomZoom(0.2),\n",
    "]\n",
    ")"
   ]
  },
  {
   "cell_type": "code",
   "execution_count": 15,
   "metadata": {},
   "outputs": [],
   "source": [
    "inputs = keras.Input(shape=(64,64,3))\n",
    "x = data_augmentation(inputs)\n",
    "x = layers.Rescaling(1./255)(x)\n",
    "x = layers.Conv2D(filters=32, kernel_size=5, use_bias=False)(x)\n",
    "\n",
    "for size in [32,64,128,256,512]:\n",
    "    residual = x\n",
    "    \n",
    "    x = layers.BatchNormalization()(x)\n",
    "    x = layers.Activation(\"relu\")(x)\n",
    "    x = layers.SeparableConv2D(size, 3, padding=\"same\", use_bias=False)(x)\n",
    "\n",
    "    x = layers.BatchNormalization()(x)\n",
    "    x = layers.Activation(\"relu\")(x)\n",
    "    x = layers.SeparableConv2D(size, 3, padding=\"same\", use_bias=False)(x)\n",
    "\n",
    "    x = layers.MaxPooling2D(3, strides=2, padding=\"same\")(x)\n",
    "\n",
    "    residual = layers.Conv2D(size, 1, strides=2, padding=\"same\", use_bias=False)(residual)\n",
    "    x = layers.add([x, residual])\n",
    "\n",
    "\n",
    "x = layers.GlobalAveragePooling2D()(x)\n",
    "x = layers.Dropout(0.4)(x)\n",
    "x = layers.Dense(512, activation=\"relu\")(x)\n",
    "x = layers.Dropout(0.3)(x)\n",
    "x = layers.Dense(256, activation=\"relu\")(x)\n",
    "x = layers.Dropout(0.3)(x)\n",
    "outputs = layers.Dense(200, activation=\"softmax\")(x)\n",
    "model = keras.Model(inputs, outputs)"
   ]
  },
  {
   "cell_type": "code",
   "execution_count": 16,
   "metadata": {},
   "outputs": [],
   "source": [
    "model.compile(\n",
    "    optimizer=opt,\n",
    "    loss='sparse_categorical_crossentropy',\n",
    "    metrics=['accuracy'],\n",
    ")"
   ]
  },
  {
   "cell_type": "code",
   "execution_count": 17,
   "metadata": {},
   "outputs": [],
   "source": [
    "callbacks = [\n",
    "keras.callbacks.ModelCheckpoint(\n",
    "filepath=\"tiny_imagenet_feature_extraction_with_data_augmentation.keras\",\n",
    "save_best_only=True,\n",
    "monitor=\"val_loss\")\n",
    "]"
   ]
  },
  {
   "cell_type": "code",
   "execution_count": 18,
   "metadata": {},
   "outputs": [
    {
     "name": "stdout",
     "output_type": "stream",
     "text": [
      "Epoch 1/40\n",
      "3125/3125 [==============================] - 103s 33ms/step - loss: 4.9569 - accuracy: 0.0296 - val_loss: 4.6860 - val_accuracy: 0.0517\n",
      "Epoch 2/40\n",
      "3125/3125 [==============================] - 102s 33ms/step - loss: 4.6017 - accuracy: 0.0596 - val_loss: 4.5876 - val_accuracy: 0.0652\n",
      "Epoch 3/40\n",
      "3125/3125 [==============================] - 102s 33ms/step - loss: 4.4018 - accuracy: 0.0816 - val_loss: 4.4666 - val_accuracy: 0.0808\n",
      "Epoch 4/40\n",
      "3125/3125 [==============================] - 103s 33ms/step - loss: 4.2397 - accuracy: 0.1018 - val_loss: 4.2962 - val_accuracy: 0.1023\n",
      "Epoch 5/40\n",
      "3125/3125 [==============================] - 103s 33ms/step - loss: 4.1074 - accuracy: 0.1210 - val_loss: 4.2338 - val_accuracy: 0.1086\n",
      "Epoch 6/40\n",
      "3125/3125 [==============================] - 100s 32ms/step - loss: 3.9953 - accuracy: 0.1359 - val_loss: 4.0009 - val_accuracy: 0.1347\n",
      "Epoch 7/40\n",
      "3125/3125 [==============================] - 98s 31ms/step - loss: 3.9024 - accuracy: 0.1505 - val_loss: 3.9029 - val_accuracy: 0.1454\n",
      "Epoch 8/40\n",
      "3125/3125 [==============================] - 96s 31ms/step - loss: 3.8250 - accuracy: 0.1622 - val_loss: 4.0400 - val_accuracy: 0.1353\n",
      "Epoch 9/40\n",
      "3125/3125 [==============================] - 96s 31ms/step - loss: 3.7555 - accuracy: 0.1731 - val_loss: 3.7846 - val_accuracy: 0.1690\n",
      "Epoch 10/40\n",
      "3125/3125 [==============================] - 96s 31ms/step - loss: 3.6990 - accuracy: 0.1821 - val_loss: 3.9256 - val_accuracy: 0.1482\n",
      "Epoch 11/40\n",
      "3125/3125 [==============================] - 96s 31ms/step - loss: 3.6389 - accuracy: 0.1913 - val_loss: 3.8272 - val_accuracy: 0.1678\n",
      "Epoch 12/40\n",
      "3125/3125 [==============================] - 97s 31ms/step - loss: 3.5895 - accuracy: 0.2007 - val_loss: 3.6999 - val_accuracy: 0.1799\n",
      "Epoch 13/40\n",
      "3125/3125 [==============================] - 96s 31ms/step - loss: 3.5442 - accuracy: 0.2068 - val_loss: 3.7122 - val_accuracy: 0.1824\n",
      "Epoch 14/40\n",
      "3125/3125 [==============================] - 96s 31ms/step - loss: 3.5036 - accuracy: 0.2147 - val_loss: 3.7316 - val_accuracy: 0.1835\n",
      "Epoch 15/40\n",
      "3125/3125 [==============================] - 104s 33ms/step - loss: 3.4568 - accuracy: 0.2225 - val_loss: 3.6480 - val_accuracy: 0.1940\n",
      "Epoch 16/40\n",
      "3125/3125 [==============================] - 97s 31ms/step - loss: 3.4206 - accuracy: 0.2303 - val_loss: 3.5620 - val_accuracy: 0.2054\n",
      "Epoch 17/40\n",
      "3125/3125 [==============================] - 96s 31ms/step - loss: 3.3889 - accuracy: 0.2340 - val_loss: 3.6788 - val_accuracy: 0.1926\n",
      "Epoch 18/40\n",
      "3125/3125 [==============================] - 96s 31ms/step - loss: 3.3556 - accuracy: 0.2412 - val_loss: 3.6966 - val_accuracy: 0.1915\n",
      "Epoch 19/40\n",
      "3125/3125 [==============================] - 99s 32ms/step - loss: 3.3179 - accuracy: 0.2466 - val_loss: 3.3943 - val_accuracy: 0.2319\n",
      "Epoch 20/40\n",
      "3125/3125 [==============================] - 103s 33ms/step - loss: 3.2904 - accuracy: 0.2514 - val_loss: 3.3831 - val_accuracy: 0.2354\n",
      "Epoch 21/40\n",
      "3125/3125 [==============================] - 103s 33ms/step - loss: 3.2598 - accuracy: 0.2573 - val_loss: 3.5620 - val_accuracy: 0.2126\n",
      "Epoch 22/40\n",
      "3125/3125 [==============================] - 103s 33ms/step - loss: 3.2335 - accuracy: 0.2618 - val_loss: 3.4257 - val_accuracy: 0.2305\n",
      "Epoch 23/40\n",
      "3125/3125 [==============================] - 103s 33ms/step - loss: 3.2033 - accuracy: 0.2661 - val_loss: 3.5727 - val_accuracy: 0.2157\n",
      "Epoch 24/40\n",
      "3125/3125 [==============================] - 103s 33ms/step - loss: 3.1757 - accuracy: 0.2713 - val_loss: 3.6322 - val_accuracy: 0.2075\n",
      "Epoch 25/40\n",
      "3125/3125 [==============================] - 102s 33ms/step - loss: 3.1568 - accuracy: 0.2748 - val_loss: 3.4141 - val_accuracy: 0.2352\n",
      "Epoch 26/40\n",
      "3125/3125 [==============================] - 103s 33ms/step - loss: 3.1376 - accuracy: 0.2792 - val_loss: 3.4812 - val_accuracy: 0.2274\n",
      "Epoch 27/40\n",
      "3125/3125 [==============================] - 104s 33ms/step - loss: 3.1147 - accuracy: 0.2818 - val_loss: 3.5140 - val_accuracy: 0.2270\n",
      "Epoch 28/40\n",
      "3125/3125 [==============================] - 101s 32ms/step - loss: 3.0907 - accuracy: 0.2870 - val_loss: 3.4202 - val_accuracy: 0.2380\n",
      "Epoch 29/40\n",
      "3125/3125 [==============================] - 97s 31ms/step - loss: 3.0677 - accuracy: 0.2905 - val_loss: 3.5260 - val_accuracy: 0.2287\n",
      "Epoch 30/40\n",
      "3125/3125 [==============================] - 97s 31ms/step - loss: 3.0491 - accuracy: 0.2933 - val_loss: 3.3047 - val_accuracy: 0.2563\n",
      "Epoch 31/40\n",
      "3125/3125 [==============================] - 96s 31ms/step - loss: 3.0286 - accuracy: 0.2984 - val_loss: 3.3063 - val_accuracy: 0.2566\n",
      "Epoch 32/40\n",
      "3125/3125 [==============================] - 95s 31ms/step - loss: 3.0077 - accuracy: 0.3016 - val_loss: 3.3576 - val_accuracy: 0.2471\n",
      "Epoch 33/40\n",
      "3125/3125 [==============================] - 97s 31ms/step - loss: 2.9955 - accuracy: 0.3043 - val_loss: 3.2647 - val_accuracy: 0.2657\n",
      "Epoch 34/40\n",
      "3125/3125 [==============================] - 96s 31ms/step - loss: 2.9781 - accuracy: 0.3065 - val_loss: 3.3189 - val_accuracy: 0.2651\n",
      "Epoch 35/40\n",
      "3125/3125 [==============================] - 96s 31ms/step - loss: 2.9611 - accuracy: 0.3120 - val_loss: 3.3144 - val_accuracy: 0.2623\n",
      "Epoch 36/40\n",
      "3125/3125 [==============================] - 96s 31ms/step - loss: 2.9369 - accuracy: 0.3151 - val_loss: 3.2654 - val_accuracy: 0.2670\n",
      "Epoch 37/40\n",
      "3125/3125 [==============================] - 97s 31ms/step - loss: 2.9291 - accuracy: 0.3171 - val_loss: 3.3708 - val_accuracy: 0.2567\n",
      "Epoch 38/40\n",
      "3125/3125 [==============================] - 97s 31ms/step - loss: 2.9057 - accuracy: 0.3207 - val_loss: 3.3317 - val_accuracy: 0.2621\n",
      "Epoch 39/40\n",
      "3125/3125 [==============================] - 97s 31ms/step - loss: 2.8992 - accuracy: 0.3212 - val_loss: 3.2886 - val_accuracy: 0.2655\n",
      "Epoch 40/40\n",
      "3125/3125 [==============================] - 97s 31ms/step - loss: 2.8772 - accuracy: 0.3259 - val_loss: 3.4112 - val_accuracy: 0.2540\n"
     ]
    }
   ],
   "source": [
    "history = model.fit(\n",
    "ds_train,\n",
    "epochs=40,\n",
    "batch_size = 32,\n",
    "validation_data=ds_val,\n",
    "callbacks=callbacks)"
   ]
  },
  {
   "cell_type": "code",
   "execution_count": 6,
   "metadata": {},
   "outputs": [
    {
     "name": "stdout",
     "output_type": "stream",
     "text": [
      "WARNING:tensorflow:Error in loading the saved optimizer state. As a result, your model is starting with a freshly initialized optimizer.\n"
     ]
    }
   ],
   "source": [
    "model = keras.models.load_model(\"tiny_imagenet_feature_extraction_with_data_augmentation.keras\")"
   ]
  },
  {
   "cell_type": "code",
   "execution_count": 7,
   "metadata": {},
   "outputs": [],
   "source": [
    "callbacks = [\n",
    "keras.callbacks.ModelCheckpoint(\n",
    "filepath=\"tiny_imagenet_feature_extraction_with_data_augmentation_2.keras\",\n",
    "save_best_only=True,\n",
    "monitor=\"val_loss\")\n",
    "]"
   ]
  },
  {
   "cell_type": "code",
   "execution_count": 8,
   "metadata": {},
   "outputs": [],
   "source": [
    "model.compile(\n",
    "    optimizer=opt,\n",
    "    loss='sparse_categorical_crossentropy',\n",
    "    metrics=['accuracy'],\n",
    ")"
   ]
  },
  {
   "cell_type": "code",
   "execution_count": 9,
   "metadata": {},
   "outputs": [
    {
     "name": "stdout",
     "output_type": "stream",
     "text": [
      "Epoch 1/40\n"
     ]
    },
    {
     "name": "stderr",
     "output_type": "stream",
     "text": [
      "2022-09-22 19:37:36.985978: I tensorflow/stream_executor/cuda/cuda_dnn.cc:384] Loaded cuDNN version 8303\n",
      "2022-09-22 19:37:38.193005: I tensorflow/stream_executor/cuda/cuda_blas.cc:1786] TensorFloat-32 will be used for the matrix multiplication. This will only be logged once.\n"
     ]
    },
    {
     "name": "stdout",
     "output_type": "stream",
     "text": [
      "3125/3125 [==============================] - 108s 33ms/step - loss: 2.9824 - accuracy: 0.3068 - val_loss: 3.2612 - val_accuracy: 0.2629\n",
      "Epoch 2/40\n",
      "3125/3125 [==============================] - 104s 33ms/step - loss: 2.9593 - accuracy: 0.3100 - val_loss: 3.3097 - val_accuracy: 0.2616\n",
      "Epoch 3/40\n",
      "3125/3125 [==============================] - 104s 33ms/step - loss: 2.9450 - accuracy: 0.3126 - val_loss: 3.3361 - val_accuracy: 0.2529\n",
      "Epoch 4/40\n",
      "3125/3125 [==============================] - 104s 33ms/step - loss: 2.9266 - accuracy: 0.3188 - val_loss: 3.2883 - val_accuracy: 0.2607\n",
      "Epoch 5/40\n",
      "3125/3125 [==============================] - 97s 31ms/step - loss: 2.9075 - accuracy: 0.3217 - val_loss: 3.3697 - val_accuracy: 0.2523\n",
      "Epoch 6/40\n",
      "3125/3125 [==============================] - 97s 31ms/step - loss: 2.9035 - accuracy: 0.3208 - val_loss: 3.2176 - val_accuracy: 0.2704\n",
      "Epoch 7/40\n",
      "3125/3125 [==============================] - 97s 31ms/step - loss: 2.8812 - accuracy: 0.3264 - val_loss: 3.1960 - val_accuracy: 0.2794\n",
      "Epoch 8/40\n",
      "3125/3125 [==============================] - 98s 31ms/step - loss: 2.8647 - accuracy: 0.3290 - val_loss: 3.2591 - val_accuracy: 0.2697\n",
      "Epoch 9/40\n",
      "3125/3125 [==============================] - 97s 31ms/step - loss: 2.8486 - accuracy: 0.3304 - val_loss: 3.2326 - val_accuracy: 0.2749\n",
      "Epoch 10/40\n",
      "3125/3125 [==============================] - 98s 31ms/step - loss: 2.8380 - accuracy: 0.3321 - val_loss: 3.1141 - val_accuracy: 0.2930\n",
      "Epoch 11/40\n",
      "3125/3125 [==============================] - 98s 32ms/step - loss: 2.8285 - accuracy: 0.3344 - val_loss: 3.1743 - val_accuracy: 0.2844\n",
      "Epoch 12/40\n",
      "3125/3125 [==============================] - 97s 31ms/step - loss: 2.8119 - accuracy: 0.3377 - val_loss: 3.2297 - val_accuracy: 0.2767\n",
      "Epoch 13/40\n",
      "3125/3125 [==============================] - 97s 31ms/step - loss: 2.7964 - accuracy: 0.3416 - val_loss: 3.1393 - val_accuracy: 0.2852\n",
      "Epoch 14/40\n",
      "3125/3125 [==============================] - 98s 31ms/step - loss: 2.7885 - accuracy: 0.3421 - val_loss: 3.1663 - val_accuracy: 0.2848\n",
      "Epoch 15/40\n",
      "3125/3125 [==============================] - 98s 31ms/step - loss: 2.7762 - accuracy: 0.3446 - val_loss: 3.0920 - val_accuracy: 0.2959\n",
      "Epoch 16/40\n",
      "3125/3125 [==============================] - 98s 31ms/step - loss: 2.7624 - accuracy: 0.3478 - val_loss: 3.2230 - val_accuracy: 0.2795\n",
      "Epoch 17/40\n",
      "3125/3125 [==============================] - 98s 31ms/step - loss: 2.7554 - accuracy: 0.3473 - val_loss: 3.2876 - val_accuracy: 0.2740\n",
      "Epoch 18/40\n",
      "3125/3125 [==============================] - 97s 31ms/step - loss: 2.7413 - accuracy: 0.3489 - val_loss: 3.1391 - val_accuracy: 0.2922\n",
      "Epoch 19/40\n",
      "3125/3125 [==============================] - 98s 31ms/step - loss: 2.7231 - accuracy: 0.3554 - val_loss: 3.2597 - val_accuracy: 0.2746\n",
      "Epoch 20/40\n",
      "3125/3125 [==============================] - 103s 33ms/step - loss: 2.7106 - accuracy: 0.3573 - val_loss: 3.0446 - val_accuracy: 0.3075\n",
      "Epoch 21/40\n",
      "3125/3125 [==============================] - 104s 33ms/step - loss: 2.7027 - accuracy: 0.3602 - val_loss: 3.2131 - val_accuracy: 0.2900\n",
      "Epoch 22/40\n",
      "3125/3125 [==============================] - 104s 33ms/step - loss: 2.6898 - accuracy: 0.3601 - val_loss: 3.0990 - val_accuracy: 0.2989\n",
      "Epoch 23/40\n",
      "3125/3125 [==============================] - 104s 33ms/step - loss: 2.6776 - accuracy: 0.3632 - val_loss: 3.1719 - val_accuracy: 0.2940\n",
      "Epoch 24/40\n",
      "3125/3125 [==============================] - 105s 33ms/step - loss: 2.6764 - accuracy: 0.3633 - val_loss: 3.0264 - val_accuracy: 0.3099\n",
      "Epoch 25/40\n",
      "3125/3125 [==============================] - 104s 33ms/step - loss: 2.6635 - accuracy: 0.3665 - val_loss: 3.0886 - val_accuracy: 0.3015\n",
      "Epoch 26/40\n",
      "3125/3125 [==============================] - 106s 34ms/step - loss: 2.6545 - accuracy: 0.3667 - val_loss: 3.0570 - val_accuracy: 0.3135\n",
      "Epoch 27/40\n",
      "3125/3125 [==============================] - 106s 34ms/step - loss: 2.6440 - accuracy: 0.3686 - val_loss: 3.0382 - val_accuracy: 0.3090\n",
      "Epoch 28/40\n",
      "3125/3125 [==============================] - 105s 34ms/step - loss: 2.6301 - accuracy: 0.3725 - val_loss: 2.9828 - val_accuracy: 0.3198\n",
      "Epoch 29/40\n",
      "3125/3125 [==============================] - 104s 33ms/step - loss: 2.6231 - accuracy: 0.3760 - val_loss: 3.1131 - val_accuracy: 0.3009\n",
      "Epoch 30/40\n",
      "3125/3125 [==============================] - 104s 33ms/step - loss: 2.6148 - accuracy: 0.3743 - val_loss: 2.9687 - val_accuracy: 0.3214\n",
      "Epoch 31/40\n",
      "3125/3125 [==============================] - 100s 32ms/step - loss: 2.6023 - accuracy: 0.3782 - val_loss: 3.0726 - val_accuracy: 0.3072\n",
      "Epoch 32/40\n",
      "3125/3125 [==============================] - 98s 31ms/step - loss: 2.5995 - accuracy: 0.3777 - val_loss: 3.0117 - val_accuracy: 0.3175\n",
      "Epoch 33/40\n",
      "3125/3125 [==============================] - 99s 32ms/step - loss: 2.5959 - accuracy: 0.3786 - val_loss: 3.0151 - val_accuracy: 0.3175\n",
      "Epoch 34/40\n",
      "3125/3125 [==============================] - 97s 31ms/step - loss: 2.5810 - accuracy: 0.3817 - val_loss: 3.0977 - val_accuracy: 0.3058\n",
      "Epoch 35/40\n",
      "3125/3125 [==============================] - 99s 32ms/step - loss: 2.5695 - accuracy: 0.3841 - val_loss: 3.0170 - val_accuracy: 0.3134\n",
      "Epoch 36/40\n",
      "3125/3125 [==============================] - 96s 31ms/step - loss: 2.5592 - accuracy: 0.3868 - val_loss: 3.0215 - val_accuracy: 0.3176\n",
      "Epoch 37/40\n",
      "3125/3125 [==============================] - 99s 32ms/step - loss: 2.5566 - accuracy: 0.3862 - val_loss: 2.9522 - val_accuracy: 0.3290\n",
      "Epoch 38/40\n",
      "3125/3125 [==============================] - 96s 31ms/step - loss: 2.5468 - accuracy: 0.3878 - val_loss: 2.9899 - val_accuracy: 0.3234\n",
      "Epoch 39/40\n",
      "3125/3125 [==============================] - 97s 31ms/step - loss: 2.5394 - accuracy: 0.3910 - val_loss: 2.9474 - val_accuracy: 0.3282\n",
      "Epoch 40/40\n",
      "3125/3125 [==============================] - 97s 31ms/step - loss: 2.5299 - accuracy: 0.3909 - val_loss: 3.0554 - val_accuracy: 0.3120\n"
     ]
    }
   ],
   "source": [
    "history = model.fit(\n",
    "ds_train,\n",
    "epochs=40,\n",
    "batch_size = 32,\n",
    "validation_data=ds_val,\n",
    "callbacks=callbacks)"
   ]
  },
  {
   "cell_type": "code",
   "execution_count": 6,
   "metadata": {},
   "outputs": [],
   "source": [
    "model = keras.models.load_model(\"tiny_imagenet_feature_extraction_with_data_augmentation_2.keras\")"
   ]
  },
  {
   "cell_type": "code",
   "execution_count": 7,
   "metadata": {},
   "outputs": [],
   "source": [
    "callbacks = [\n",
    "keras.callbacks.ModelCheckpoint(\n",
    "filepath=\"tiny_imagenet_feature_extraction_with_data_augmentation_3.keras\",\n",
    "save_best_only=True,\n",
    "monitor=\"val_loss\")\n",
    "]"
   ]
  },
  {
   "cell_type": "code",
   "execution_count": 8,
   "metadata": {},
   "outputs": [],
   "source": [
    "model.compile(\n",
    "    optimizer=opt,\n",
    "    loss='sparse_categorical_crossentropy',\n",
    "    metrics=['accuracy'],\n",
    ")"
   ]
  },
  {
   "cell_type": "code",
   "execution_count": 9,
   "metadata": {},
   "outputs": [
    {
     "name": "stdout",
     "output_type": "stream",
     "text": [
      "Epoch 1/40\n"
     ]
    },
    {
     "name": "stderr",
     "output_type": "stream",
     "text": [
      "2022-09-23 08:32:53.484739: I tensorflow/stream_executor/cuda/cuda_dnn.cc:384] Loaded cuDNN version 8303\n",
      "2022-09-23 08:32:54.676369: I tensorflow/stream_executor/cuda/cuda_blas.cc:1786] TensorFloat-32 will be used for the matrix multiplication. This will only be logged once.\n"
     ]
    },
    {
     "name": "stdout",
     "output_type": "stream",
     "text": [
      "3125/3125 [==============================] - 109s 34ms/step - loss: 2.5397 - accuracy: 0.3904 - val_loss: 3.0177 - val_accuracy: 0.3186\n",
      "Epoch 2/40\n",
      "3125/3125 [==============================] - 104s 33ms/step - loss: 2.5329 - accuracy: 0.3922 - val_loss: 2.9921 - val_accuracy: 0.3226\n",
      "Epoch 3/40\n",
      "3125/3125 [==============================] - 103s 33ms/step - loss: 2.5147 - accuracy: 0.3964 - val_loss: 2.9239 - val_accuracy: 0.3344\n",
      "Epoch 4/40\n",
      "3125/3125 [==============================] - 97s 31ms/step - loss: 2.5127 - accuracy: 0.3959 - val_loss: 2.9733 - val_accuracy: 0.3244\n",
      "Epoch 5/40\n",
      "3125/3125 [==============================] - 97s 31ms/step - loss: 2.5033 - accuracy: 0.3972 - val_loss: 2.9906 - val_accuracy: 0.3273\n",
      "Epoch 6/40\n",
      "3125/3125 [==============================] - 96s 31ms/step - loss: 2.4983 - accuracy: 0.3984 - val_loss: 2.9339 - val_accuracy: 0.3290\n",
      "Epoch 7/40\n",
      "3125/3125 [==============================] - 97s 31ms/step - loss: 2.4880 - accuracy: 0.4015 - val_loss: 2.9809 - val_accuracy: 0.3282\n",
      "Epoch 8/40\n",
      "3125/3125 [==============================] - 96s 31ms/step - loss: 2.4864 - accuracy: 0.4005 - val_loss: 2.9671 - val_accuracy: 0.3308\n",
      "Epoch 9/40\n",
      "3125/3125 [==============================] - 97s 31ms/step - loss: 2.4705 - accuracy: 0.4042 - val_loss: 2.9847 - val_accuracy: 0.3275\n",
      "Epoch 10/40\n",
      "3125/3125 [==============================] - 96s 31ms/step - loss: 2.4646 - accuracy: 0.4058 - val_loss: 2.9721 - val_accuracy: 0.3318\n",
      "Epoch 11/40\n",
      "3125/3125 [==============================] - 97s 31ms/step - loss: 2.4614 - accuracy: 0.4039 - val_loss: 2.9073 - val_accuracy: 0.3372\n",
      "Epoch 12/40\n",
      "3125/3125 [==============================] - 98s 31ms/step - loss: 2.4440 - accuracy: 0.4099 - val_loss: 2.9374 - val_accuracy: 0.3352\n",
      "Epoch 13/40\n",
      "3125/3125 [==============================] - 97s 31ms/step - loss: 2.4470 - accuracy: 0.4084 - val_loss: 2.9371 - val_accuracy: 0.3370\n",
      "Epoch 14/40\n",
      "3125/3125 [==============================] - 98s 31ms/step - loss: 2.4397 - accuracy: 0.4093 - val_loss: 2.9503 - val_accuracy: 0.3373\n",
      "Epoch 15/40\n",
      "3125/3125 [==============================] - 98s 31ms/step - loss: 2.4407 - accuracy: 0.4104 - val_loss: 2.8735 - val_accuracy: 0.3422\n",
      "Epoch 16/40\n",
      "3125/3125 [==============================] - 96s 31ms/step - loss: 2.4325 - accuracy: 0.4107 - val_loss: 2.8409 - val_accuracy: 0.3488\n",
      "Epoch 17/40\n",
      "3125/3125 [==============================] - 96s 31ms/step - loss: 2.4153 - accuracy: 0.4130 - val_loss: 2.8957 - val_accuracy: 0.3435\n",
      "Epoch 18/40\n",
      "3125/3125 [==============================] - 97s 31ms/step - loss: 2.4126 - accuracy: 0.4141 - val_loss: 2.8991 - val_accuracy: 0.3438\n",
      "Epoch 19/40\n",
      "3125/3125 [==============================] - 103s 33ms/step - loss: 2.4112 - accuracy: 0.4156 - val_loss: 2.9348 - val_accuracy: 0.3341\n",
      "Epoch 20/40\n",
      "3125/3125 [==============================] - 105s 34ms/step - loss: 2.4017 - accuracy: 0.4166 - val_loss: 2.8965 - val_accuracy: 0.3424\n",
      "Epoch 21/40\n",
      "3125/3125 [==============================] - 106s 34ms/step - loss: 2.3993 - accuracy: 0.4161 - val_loss: 3.0109 - val_accuracy: 0.3256\n",
      "Epoch 22/40\n",
      "3125/3125 [==============================] - 105s 34ms/step - loss: 2.3900 - accuracy: 0.4189 - val_loss: 2.9087 - val_accuracy: 0.3429\n",
      "Epoch 23/40\n",
      "3125/3125 [==============================] - 105s 34ms/step - loss: 2.3839 - accuracy: 0.4193 - val_loss: 2.8589 - val_accuracy: 0.3513\n",
      "Epoch 24/40\n",
      "3125/3125 [==============================] - 104s 33ms/step - loss: 2.3837 - accuracy: 0.4207 - val_loss: 3.0165 - val_accuracy: 0.3330\n",
      "Epoch 25/40\n",
      "3125/3125 [==============================] - 101s 32ms/step - loss: 2.3743 - accuracy: 0.4208 - val_loss: 3.0292 - val_accuracy: 0.3319\n",
      "Epoch 26/40\n",
      "3125/3125 [==============================] - 98s 31ms/step - loss: 2.3664 - accuracy: 0.4216 - val_loss: 2.9946 - val_accuracy: 0.3251\n",
      "Epoch 27/40\n",
      "3125/3125 [==============================] - 102s 33ms/step - loss: 2.3572 - accuracy: 0.4255 - val_loss: 2.9364 - val_accuracy: 0.3439\n",
      "Epoch 28/40\n",
      "3125/3125 [==============================] - 104s 33ms/step - loss: 2.3529 - accuracy: 0.4270 - val_loss: 2.8862 - val_accuracy: 0.3450\n",
      "Epoch 29/40\n",
      "3125/3125 [==============================] - 104s 33ms/step - loss: 2.3483 - accuracy: 0.4267 - val_loss: 2.9161 - val_accuracy: 0.3468\n",
      "Epoch 30/40\n",
      "3125/3125 [==============================] - 100s 32ms/step - loss: 2.3424 - accuracy: 0.4293 - val_loss: 2.8975 - val_accuracy: 0.3482\n",
      "Epoch 31/40\n",
      "3125/3125 [==============================] - 102s 33ms/step - loss: 2.3385 - accuracy: 0.4278 - val_loss: 2.8234 - val_accuracy: 0.3550\n",
      "Epoch 32/40\n",
      "3125/3125 [==============================] - 104s 33ms/step - loss: 2.3340 - accuracy: 0.4300 - val_loss: 2.8089 - val_accuracy: 0.3677\n",
      "Epoch 33/40\n",
      "3125/3125 [==============================] - 104s 33ms/step - loss: 2.3247 - accuracy: 0.4324 - val_loss: 2.8251 - val_accuracy: 0.3577\n",
      "Epoch 34/40\n",
      "3125/3125 [==============================] - 106s 34ms/step - loss: 2.3240 - accuracy: 0.4315 - val_loss: 2.8783 - val_accuracy: 0.3514\n",
      "Epoch 35/40\n",
      "3125/3125 [==============================] - 104s 33ms/step - loss: 2.3184 - accuracy: 0.4334 - val_loss: 2.9299 - val_accuracy: 0.3431\n",
      "Epoch 36/40\n",
      "3125/3125 [==============================] - 102s 32ms/step - loss: 2.3092 - accuracy: 0.4343 - val_loss: 2.8239 - val_accuracy: 0.3563\n",
      "Epoch 37/40\n",
      "3125/3125 [==============================] - 97s 31ms/step - loss: 2.3097 - accuracy: 0.4342 - val_loss: 2.8894 - val_accuracy: 0.3483\n",
      "Epoch 38/40\n",
      "3125/3125 [==============================] - 104s 33ms/step - loss: 2.3060 - accuracy: 0.4363 - val_loss: 2.7841 - val_accuracy: 0.3616\n",
      "Epoch 39/40\n",
      "3125/3125 [==============================] - 103s 33ms/step - loss: 2.2951 - accuracy: 0.4375 - val_loss: 2.7662 - val_accuracy: 0.3712\n",
      "Epoch 40/40\n",
      "3125/3125 [==============================] - 106s 34ms/step - loss: 2.2930 - accuracy: 0.4383 - val_loss: 2.7131 - val_accuracy: 0.3768\n"
     ]
    }
   ],
   "source": [
    "history = model.fit(\n",
    "ds_train,\n",
    "epochs=40,\n",
    "batch_size = 32,\n",
    "validation_data=ds_val,\n",
    "callbacks=callbacks)"
   ]
  },
  {
   "cell_type": "code",
   "execution_count": 7,
   "metadata": {},
   "outputs": [],
   "source": [
    "model = keras.models.load_model(\"tiny_imagenet_feature_extraction_with_data_augmentation_3.keras\")"
   ]
  },
  {
   "cell_type": "code",
   "execution_count": 8,
   "metadata": {},
   "outputs": [],
   "source": [
    "callbacks = [\n",
    "keras.callbacks.ModelCheckpoint(\n",
    "filepath=\"tiny_imagenet_feature_extraction_with_data_augmentation_4.keras\",\n",
    "save_best_only=True,\n",
    "monitor=\"val_loss\")\n",
    "]"
   ]
  },
  {
   "cell_type": "code",
   "execution_count": 9,
   "metadata": {},
   "outputs": [],
   "source": [
    "model.compile(\n",
    "    optimizer=opt,\n",
    "    loss='sparse_categorical_crossentropy',\n",
    "    metrics=['accuracy'],\n",
    ")"
   ]
  },
  {
   "cell_type": "code",
   "execution_count": 10,
   "metadata": {},
   "outputs": [
    {
     "name": "stdout",
     "output_type": "stream",
     "text": [
      "Epoch 1/40\n"
     ]
    },
    {
     "name": "stderr",
     "output_type": "stream",
     "text": [
      "2022-09-23 09:56:24.188832: I tensorflow/stream_executor/cuda/cuda_dnn.cc:384] Loaded cuDNN version 8303\n",
      "2022-09-23 09:56:25.297220: I tensorflow/stream_executor/cuda/cuda_blas.cc:1786] TensorFloat-32 will be used for the matrix multiplication. This will only be logged once.\n"
     ]
    },
    {
     "name": "stdout",
     "output_type": "stream",
     "text": [
      "3125/3125 [==============================] - 140s 44ms/step - loss: 2.2922 - accuracy: 0.4401 - val_loss: 2.7462 - val_accuracy: 0.3751\n",
      "Epoch 2/40\n",
      "3125/3125 [==============================] - 133s 42ms/step - loss: 2.2879 - accuracy: 0.4390 - val_loss: 2.8665 - val_accuracy: 0.3572\n",
      "Epoch 3/40\n",
      "3125/3125 [==============================] - 134s 43ms/step - loss: 2.2862 - accuracy: 0.4417 - val_loss: 2.7249 - val_accuracy: 0.3735\n",
      "Epoch 4/40\n",
      "3125/3125 [==============================] - 134s 43ms/step - loss: 2.2812 - accuracy: 0.4412 - val_loss: 2.6694 - val_accuracy: 0.3838\n",
      "Epoch 5/40\n",
      "3125/3125 [==============================] - 143s 46ms/step - loss: 2.2795 - accuracy: 0.4410 - val_loss: 2.8783 - val_accuracy: 0.3520\n",
      "Epoch 6/40\n",
      "3125/3125 [==============================] - 107s 34ms/step - loss: 2.2611 - accuracy: 0.4445 - val_loss: 2.8425 - val_accuracy: 0.3581\n",
      "Epoch 7/40\n",
      "3125/3125 [==============================] - 100s 32ms/step - loss: 2.2565 - accuracy: 0.4468 - val_loss: 2.7201 - val_accuracy: 0.3792\n",
      "Epoch 8/40\n",
      "3125/3125 [==============================] - 101s 32ms/step - loss: 2.2619 - accuracy: 0.4454 - val_loss: 2.7705 - val_accuracy: 0.3721\n",
      "Epoch 9/40\n",
      "3125/3125 [==============================] - 96s 31ms/step - loss: 2.2586 - accuracy: 0.4450 - val_loss: 2.7174 - val_accuracy: 0.3787\n",
      "Epoch 10/40\n",
      "3125/3125 [==============================] - 99s 32ms/step - loss: 2.2426 - accuracy: 0.4479 - val_loss: 2.8636 - val_accuracy: 0.3571\n",
      "Epoch 11/40\n",
      "3125/3125 [==============================] - 100s 32ms/step - loss: 2.2400 - accuracy: 0.4492 - val_loss: 2.7011 - val_accuracy: 0.3824\n",
      "Epoch 12/40\n",
      "3125/3125 [==============================] - 102s 33ms/step - loss: 2.2386 - accuracy: 0.4496 - val_loss: 2.7147 - val_accuracy: 0.3818\n",
      "Epoch 13/40\n",
      "3125/3125 [==============================] - 133s 42ms/step - loss: 2.2368 - accuracy: 0.4505 - val_loss: 2.7670 - val_accuracy: 0.3716\n",
      "Epoch 14/40\n",
      "3125/3125 [==============================] - 97s 31ms/step - loss: 2.2309 - accuracy: 0.4502 - val_loss: 2.7324 - val_accuracy: 0.3726\n",
      "Epoch 15/40\n",
      "3125/3125 [==============================] - 130s 42ms/step - loss: 2.2259 - accuracy: 0.4502 - val_loss: 2.7077 - val_accuracy: 0.3812\n",
      "Epoch 16/40\n",
      "3125/3125 [==============================] - 136s 44ms/step - loss: 2.2181 - accuracy: 0.4526 - val_loss: 2.7692 - val_accuracy: 0.3761\n",
      "Epoch 17/40\n",
      "3125/3125 [==============================] - 133s 42ms/step - loss: 2.2161 - accuracy: 0.4523 - val_loss: 2.8760 - val_accuracy: 0.3594\n",
      "Epoch 18/40\n",
      "3125/3125 [==============================] - 133s 43ms/step - loss: 2.2129 - accuracy: 0.4523 - val_loss: 2.7802 - val_accuracy: 0.3714\n",
      "Epoch 19/40\n",
      "3125/3125 [==============================] - 105s 34ms/step - loss: 2.2136 - accuracy: 0.4554 - val_loss: 2.7367 - val_accuracy: 0.3777\n",
      "Epoch 20/40\n",
      "3125/3125 [==============================] - 94s 30ms/step - loss: 2.2104 - accuracy: 0.4552 - val_loss: 2.6970 - val_accuracy: 0.3834\n",
      "Epoch 21/40\n",
      "3125/3125 [==============================] - 94s 30ms/step - loss: 2.2071 - accuracy: 0.4561 - val_loss: 2.8360 - val_accuracy: 0.3640\n",
      "Epoch 22/40\n",
      "3125/3125 [==============================] - 94s 30ms/step - loss: 2.1974 - accuracy: 0.4572 - val_loss: 2.7624 - val_accuracy: 0.3685\n",
      "Epoch 23/40\n",
      "3125/3125 [==============================] - 95s 30ms/step - loss: 2.1878 - accuracy: 0.4604 - val_loss: 2.7145 - val_accuracy: 0.3820\n",
      "Epoch 24/40\n",
      "3125/3125 [==============================] - 94s 30ms/step - loss: 2.1925 - accuracy: 0.4585 - val_loss: 2.6991 - val_accuracy: 0.3869\n",
      "Epoch 25/40\n",
      "3125/3125 [==============================] - 94s 30ms/step - loss: 2.1823 - accuracy: 0.4606 - val_loss: 2.7177 - val_accuracy: 0.3806\n",
      "Epoch 26/40\n",
      "3125/3125 [==============================] - 93s 30ms/step - loss: 2.1836 - accuracy: 0.4581 - val_loss: 2.7224 - val_accuracy: 0.3869\n",
      "Epoch 27/40\n",
      "3125/3125 [==============================] - 95s 30ms/step - loss: 2.1766 - accuracy: 0.4619 - val_loss: 2.6849 - val_accuracy: 0.3864\n",
      "Epoch 28/40\n",
      "3125/3125 [==============================] - 95s 30ms/step - loss: 2.1794 - accuracy: 0.4612 - val_loss: 2.7047 - val_accuracy: 0.3826\n",
      "Epoch 29/40\n",
      "3125/3125 [==============================] - 95s 30ms/step - loss: 2.1653 - accuracy: 0.4656 - val_loss: 2.7948 - val_accuracy: 0.3738\n",
      "Epoch 30/40\n",
      "3125/3125 [==============================] - 94s 30ms/step - loss: 2.1687 - accuracy: 0.4645 - val_loss: 2.6804 - val_accuracy: 0.3854\n",
      "Epoch 31/40\n",
      "3125/3125 [==============================] - 102s 33ms/step - loss: 2.1648 - accuracy: 0.4658 - val_loss: 2.8084 - val_accuracy: 0.3709\n",
      "Epoch 32/40\n",
      "3125/3125 [==============================] - 100s 32ms/step - loss: 2.1639 - accuracy: 0.4642 - val_loss: 2.5951 - val_accuracy: 0.4028\n",
      "Epoch 33/40\n",
      "3125/3125 [==============================] - 96s 31ms/step - loss: 2.1528 - accuracy: 0.4664 - val_loss: 2.6859 - val_accuracy: 0.3924\n",
      "Epoch 34/40\n",
      "3125/3125 [==============================] - 99s 32ms/step - loss: 2.1576 - accuracy: 0.4651 - val_loss: 2.6747 - val_accuracy: 0.3891\n",
      "Epoch 35/40\n",
      "3125/3125 [==============================] - 100s 32ms/step - loss: 2.1540 - accuracy: 0.4664 - val_loss: 2.6984 - val_accuracy: 0.3866\n",
      "Epoch 36/40\n",
      "3125/3125 [==============================] - 101s 32ms/step - loss: 2.1426 - accuracy: 0.4685 - val_loss: 2.7093 - val_accuracy: 0.3862\n",
      "Epoch 37/40\n",
      "3125/3125 [==============================] - 101s 32ms/step - loss: 2.1424 - accuracy: 0.4683 - val_loss: 2.7189 - val_accuracy: 0.3842\n",
      "Epoch 38/40\n",
      "3125/3125 [==============================] - 101s 32ms/step - loss: 2.1352 - accuracy: 0.4711 - val_loss: 2.6934 - val_accuracy: 0.3888\n",
      "Epoch 39/40\n",
      "3125/3125 [==============================] - 104s 33ms/step - loss: 2.1323 - accuracy: 0.4708 - val_loss: 2.7789 - val_accuracy: 0.3756\n",
      "Epoch 40/40\n",
      "3125/3125 [==============================] - 100s 32ms/step - loss: 2.1307 - accuracy: 0.4702 - val_loss: 2.8346 - val_accuracy: 0.3691\n"
     ]
    }
   ],
   "source": [
    "history = model.fit(\n",
    "ds_train,\n",
    "epochs=40,\n",
    "batch_size=32,\n",
    "validation_data=ds_val,\n",
    "callbacks=callbacks)"
   ]
  },
  {
   "cell_type": "code",
   "execution_count": 6,
   "metadata": {},
   "outputs": [],
   "source": [
    "model = keras.models.load_model(\"tiny_imagenet_feature_extraction_with_data_augmentation_4.keras\")"
   ]
  },
  {
   "cell_type": "code",
   "execution_count": 7,
   "metadata": {},
   "outputs": [],
   "source": [
    "callbacks = [\n",
    "keras.callbacks.ModelCheckpoint(\n",
    "filepath=\"tiny_imagenet_feature_extraction_with_data_augmentation_5.keras\",\n",
    "save_best_only=True,\n",
    "monitor=\"val_loss\")\n",
    "]"
   ]
  },
  {
   "cell_type": "code",
   "execution_count": 10,
   "metadata": {},
   "outputs": [],
   "source": [
    "model.compile(\n",
    "    optimizer=opt,\n",
    "    loss='sparse_categorical_crossentropy',\n",
    "    metrics=['accuracy'],\n",
    ")"
   ]
  },
  {
   "cell_type": "code",
   "execution_count": 11,
   "metadata": {},
   "outputs": [
    {
     "name": "stdout",
     "output_type": "stream",
     "text": [
      "Epoch 1/100\n"
     ]
    },
    {
     "name": "stderr",
     "output_type": "stream",
     "text": [
      "2022-09-23 17:50:07.141578: I tensorflow/stream_executor/cuda/cuda_dnn.cc:384] Loaded cuDNN version 8303\n",
      "2022-09-23 17:50:08.350708: I tensorflow/stream_executor/cuda/cuda_blas.cc:1786] TensorFloat-32 will be used for the matrix multiplication. This will only be logged once.\n"
     ]
    },
    {
     "name": "stdout",
     "output_type": "stream",
     "text": [
      "3125/3125 [==============================] - 109s 34ms/step - loss: 2.1621 - accuracy: 0.4640 - val_loss: 2.7852 - val_accuracy: 0.3723\n",
      "Epoch 2/100\n",
      "3125/3125 [==============================] - 105s 34ms/step - loss: 2.1553 - accuracy: 0.4651 - val_loss: 2.7105 - val_accuracy: 0.3832\n",
      "Epoch 3/100\n",
      "3125/3125 [==============================] - 104s 33ms/step - loss: 2.1482 - accuracy: 0.4678 - val_loss: 2.7676 - val_accuracy: 0.3762\n",
      "Epoch 4/100\n",
      "3125/3125 [==============================] - 102s 33ms/step - loss: 2.1458 - accuracy: 0.4670 - val_loss: 2.7887 - val_accuracy: 0.3763\n",
      "Epoch 5/100\n",
      "3125/3125 [==============================] - 101s 32ms/step - loss: 2.1471 - accuracy: 0.4665 - val_loss: 2.7755 - val_accuracy: 0.3743\n",
      "Epoch 6/100\n",
      "3125/3125 [==============================] - 104s 33ms/step - loss: 2.1433 - accuracy: 0.4688 - val_loss: 2.7665 - val_accuracy: 0.3768\n",
      "Epoch 7/100\n",
      "3125/3125 [==============================] - 103s 33ms/step - loss: 2.1398 - accuracy: 0.4704 - val_loss: 2.8087 - val_accuracy: 0.3729\n",
      "Epoch 8/100\n",
      "3125/3125 [==============================] - 102s 33ms/step - loss: 2.1432 - accuracy: 0.4693 - val_loss: 2.6524 - val_accuracy: 0.3981\n",
      "Epoch 9/100\n",
      "3125/3125 [==============================] - 101s 32ms/step - loss: 2.1339 - accuracy: 0.4699 - val_loss: 2.7505 - val_accuracy: 0.3798\n",
      "Epoch 10/100\n",
      "3125/3125 [==============================] - 100s 32ms/step - loss: 2.1336 - accuracy: 0.4712 - val_loss: 2.7584 - val_accuracy: 0.3828\n",
      "Epoch 11/100\n",
      "3125/3125 [==============================] - 99s 32ms/step - loss: 2.1231 - accuracy: 0.4732 - val_loss: 2.7353 - val_accuracy: 0.3861\n",
      "Epoch 12/100\n",
      "3125/3125 [==============================] - 100s 32ms/step - loss: 2.1246 - accuracy: 0.4726 - val_loss: 2.8389 - val_accuracy: 0.3683\n",
      "Epoch 13/100\n",
      "3125/3125 [==============================] - 100s 32ms/step - loss: 2.1260 - accuracy: 0.4737 - val_loss: 2.6827 - val_accuracy: 0.3890\n",
      "Epoch 14/100\n",
      "3125/3125 [==============================] - 101s 32ms/step - loss: 2.1077 - accuracy: 0.4743 - val_loss: 2.7803 - val_accuracy: 0.3802\n",
      "Epoch 15/100\n",
      "3125/3125 [==============================] - 100s 32ms/step - loss: 2.1120 - accuracy: 0.4736 - val_loss: 2.7019 - val_accuracy: 0.3940\n",
      "Epoch 16/100\n",
      "3125/3125 [==============================] - 100s 32ms/step - loss: 2.1128 - accuracy: 0.4741 - val_loss: 2.8219 - val_accuracy: 0.3741\n",
      "Epoch 17/100\n",
      "3125/3125 [==============================] - 100s 32ms/step - loss: 2.1127 - accuracy: 0.4739 - val_loss: 2.7348 - val_accuracy: 0.3839\n",
      "Epoch 18/100\n",
      "3125/3125 [==============================] - 101s 32ms/step - loss: 2.0978 - accuracy: 0.4768 - val_loss: 2.7521 - val_accuracy: 0.3839\n",
      "Epoch 19/100\n",
      "3125/3125 [==============================] - 99s 32ms/step - loss: 2.0926 - accuracy: 0.4799 - val_loss: 2.7579 - val_accuracy: 0.3811\n",
      "Epoch 20/100\n",
      "3125/3125 [==============================] - 100s 32ms/step - loss: 2.0960 - accuracy: 0.4790 - val_loss: 2.7805 - val_accuracy: 0.3835\n",
      "Epoch 21/100\n",
      "3125/3125 [==============================] - 99s 32ms/step - loss: 2.0901 - accuracy: 0.4798 - val_loss: 2.7668 - val_accuracy: 0.3793\n",
      "Epoch 22/100\n",
      "3125/3125 [==============================] - 100s 32ms/step - loss: 2.1001 - accuracy: 0.4756 - val_loss: 2.7265 - val_accuracy: 0.3905\n",
      "Epoch 23/100\n",
      "3125/3125 [==============================] - 103s 33ms/step - loss: 2.0852 - accuracy: 0.4807 - val_loss: 2.6260 - val_accuracy: 0.4006\n",
      "Epoch 24/100\n",
      "3125/3125 [==============================] - 102s 33ms/step - loss: 2.0879 - accuracy: 0.4793 - val_loss: 2.7175 - val_accuracy: 0.3910\n",
      "Epoch 25/100\n",
      "3125/3125 [==============================] - 103s 33ms/step - loss: 2.0820 - accuracy: 0.4824 - val_loss: 2.7029 - val_accuracy: 0.3877\n",
      "Epoch 26/100\n",
      "3125/3125 [==============================] - 102s 33ms/step - loss: 2.0776 - accuracy: 0.4818 - val_loss: 2.7517 - val_accuracy: 0.3860\n",
      "Epoch 27/100\n",
      "3125/3125 [==============================] - 103s 33ms/step - loss: 2.0792 - accuracy: 0.4828 - val_loss: 2.7015 - val_accuracy: 0.3910\n",
      "Epoch 28/100\n",
      "3125/3125 [==============================] - 102s 33ms/step - loss: 2.0711 - accuracy: 0.4829 - val_loss: 2.8467 - val_accuracy: 0.3718\n",
      "Epoch 29/100\n",
      "3125/3125 [==============================] - 103s 33ms/step - loss: 2.0673 - accuracy: 0.4837 - val_loss: 2.7286 - val_accuracy: 0.3847\n",
      "Epoch 30/100\n",
      "3125/3125 [==============================] - 103s 33ms/step - loss: 2.0666 - accuracy: 0.4839 - val_loss: 2.7132 - val_accuracy: 0.3876\n",
      "Epoch 31/100\n",
      "3125/3125 [==============================] - 102s 33ms/step - loss: 2.0674 - accuracy: 0.4842 - val_loss: 2.7322 - val_accuracy: 0.3869\n",
      "Epoch 32/100\n",
      "3125/3125 [==============================] - 103s 33ms/step - loss: 2.0619 - accuracy: 0.4857 - val_loss: 2.7836 - val_accuracy: 0.3803\n",
      "Epoch 33/100\n",
      "3125/3125 [==============================] - 104s 33ms/step - loss: 2.0599 - accuracy: 0.4840 - val_loss: 2.7359 - val_accuracy: 0.3881\n",
      "Epoch 34/100\n",
      "3125/3125 [==============================] - 105s 34ms/step - loss: 2.0515 - accuracy: 0.4887 - val_loss: 2.7556 - val_accuracy: 0.3843\n",
      "Epoch 35/100\n",
      "3125/3125 [==============================] - 103s 33ms/step - loss: 2.0512 - accuracy: 0.4873 - val_loss: 2.7462 - val_accuracy: 0.3833\n",
      "Epoch 36/100\n",
      "1913/3125 [=================>............] - ETA: 39s - loss: 2.0475 - accuracy: 0.4877"
     ]
    },
    {
     "ename": "KeyboardInterrupt",
     "evalue": "",
     "output_type": "error",
     "traceback": [
      "\u001b[0;31m---------------------------------------------------------------------------\u001b[0m",
      "\u001b[0;31mKeyboardInterrupt\u001b[0m                         Traceback (most recent call last)",
      "\u001b[0;32m/tmp/ipykernel_4198/839183135.py\u001b[0m in \u001b[0;36m<module>\u001b[0;34m\u001b[0m\n\u001b[0;32m----> 1\u001b[0;31m history = model.fit(\n\u001b[0m\u001b[1;32m      2\u001b[0m \u001b[0mds_train\u001b[0m\u001b[0;34m,\u001b[0m\u001b[0;34m\u001b[0m\u001b[0;34m\u001b[0m\u001b[0m\n\u001b[1;32m      3\u001b[0m \u001b[0mepochs\u001b[0m\u001b[0;34m=\u001b[0m\u001b[0;36m100\u001b[0m\u001b[0;34m,\u001b[0m\u001b[0;34m\u001b[0m\u001b[0;34m\u001b[0m\u001b[0m\n\u001b[1;32m      4\u001b[0m \u001b[0mbatch_size\u001b[0m\u001b[0;34m=\u001b[0m\u001b[0;36m32\u001b[0m\u001b[0;34m,\u001b[0m\u001b[0;34m\u001b[0m\u001b[0;34m\u001b[0m\u001b[0m\n\u001b[1;32m      5\u001b[0m \u001b[0mvalidation_data\u001b[0m\u001b[0;34m=\u001b[0m\u001b[0mds_val\u001b[0m\u001b[0;34m,\u001b[0m\u001b[0;34m\u001b[0m\u001b[0;34m\u001b[0m\u001b[0m\n",
      "\u001b[0;32m/usr/lib/python3/dist-packages/keras/utils/traceback_utils.py\u001b[0m in \u001b[0;36merror_handler\u001b[0;34m(*args, **kwargs)\u001b[0m\n\u001b[1;32m     62\u001b[0m     \u001b[0mfiltered_tb\u001b[0m \u001b[0;34m=\u001b[0m \u001b[0;32mNone\u001b[0m\u001b[0;34m\u001b[0m\u001b[0;34m\u001b[0m\u001b[0m\n\u001b[1;32m     63\u001b[0m     \u001b[0;32mtry\u001b[0m\u001b[0;34m:\u001b[0m\u001b[0;34m\u001b[0m\u001b[0;34m\u001b[0m\u001b[0m\n\u001b[0;32m---> 64\u001b[0;31m       \u001b[0;32mreturn\u001b[0m \u001b[0mfn\u001b[0m\u001b[0;34m(\u001b[0m\u001b[0;34m*\u001b[0m\u001b[0margs\u001b[0m\u001b[0;34m,\u001b[0m \u001b[0;34m**\u001b[0m\u001b[0mkwargs\u001b[0m\u001b[0;34m)\u001b[0m\u001b[0;34m\u001b[0m\u001b[0;34m\u001b[0m\u001b[0m\n\u001b[0m\u001b[1;32m     65\u001b[0m     \u001b[0;32mexcept\u001b[0m \u001b[0mException\u001b[0m \u001b[0;32mas\u001b[0m \u001b[0me\u001b[0m\u001b[0;34m:\u001b[0m  \u001b[0;31m# pylint: disable=broad-except\u001b[0m\u001b[0;34m\u001b[0m\u001b[0;34m\u001b[0m\u001b[0m\n\u001b[1;32m     66\u001b[0m       \u001b[0mfiltered_tb\u001b[0m \u001b[0;34m=\u001b[0m \u001b[0m_process_traceback_frames\u001b[0m\u001b[0;34m(\u001b[0m\u001b[0me\u001b[0m\u001b[0;34m.\u001b[0m\u001b[0m__traceback__\u001b[0m\u001b[0;34m)\u001b[0m\u001b[0;34m\u001b[0m\u001b[0;34m\u001b[0m\u001b[0m\n",
      "\u001b[0;32m/usr/lib/python3/dist-packages/keras/engine/training.py\u001b[0m in \u001b[0;36mfit\u001b[0;34m(self, x, y, batch_size, epochs, verbose, callbacks, validation_split, validation_data, shuffle, class_weight, sample_weight, initial_epoch, steps_per_epoch, validation_steps, validation_batch_size, validation_freq, max_queue_size, workers, use_multiprocessing)\u001b[0m\n\u001b[1;32m   1412\u001b[0m               \u001b[0mlogs\u001b[0m \u001b[0;34m=\u001b[0m \u001b[0mtmp_logs\u001b[0m  \u001b[0;31m# No error, now safe to assign to logs.\u001b[0m\u001b[0;34m\u001b[0m\u001b[0;34m\u001b[0m\u001b[0m\n\u001b[1;32m   1413\u001b[0m               \u001b[0mend_step\u001b[0m \u001b[0;34m=\u001b[0m \u001b[0mstep\u001b[0m \u001b[0;34m+\u001b[0m \u001b[0mdata_handler\u001b[0m\u001b[0;34m.\u001b[0m\u001b[0mstep_increment\u001b[0m\u001b[0;34m\u001b[0m\u001b[0;34m\u001b[0m\u001b[0m\n\u001b[0;32m-> 1414\u001b[0;31m               \u001b[0mcallbacks\u001b[0m\u001b[0;34m.\u001b[0m\u001b[0mon_train_batch_end\u001b[0m\u001b[0;34m(\u001b[0m\u001b[0mend_step\u001b[0m\u001b[0;34m,\u001b[0m \u001b[0mlogs\u001b[0m\u001b[0;34m)\u001b[0m\u001b[0;34m\u001b[0m\u001b[0;34m\u001b[0m\u001b[0m\n\u001b[0m\u001b[1;32m   1415\u001b[0m               \u001b[0;32mif\u001b[0m \u001b[0mself\u001b[0m\u001b[0;34m.\u001b[0m\u001b[0mstop_training\u001b[0m\u001b[0;34m:\u001b[0m\u001b[0;34m\u001b[0m\u001b[0;34m\u001b[0m\u001b[0m\n\u001b[1;32m   1416\u001b[0m                 \u001b[0;32mbreak\u001b[0m\u001b[0;34m\u001b[0m\u001b[0;34m\u001b[0m\u001b[0m\n",
      "\u001b[0;32m/usr/lib/python3/dist-packages/keras/callbacks.py\u001b[0m in \u001b[0;36mon_train_batch_end\u001b[0;34m(self, batch, logs)\u001b[0m\n\u001b[1;32m    436\u001b[0m     \"\"\"\n\u001b[1;32m    437\u001b[0m     \u001b[0;32mif\u001b[0m \u001b[0mself\u001b[0m\u001b[0;34m.\u001b[0m\u001b[0m_should_call_train_batch_hooks\u001b[0m\u001b[0;34m:\u001b[0m\u001b[0;34m\u001b[0m\u001b[0;34m\u001b[0m\u001b[0m\n\u001b[0;32m--> 438\u001b[0;31m       \u001b[0mself\u001b[0m\u001b[0;34m.\u001b[0m\u001b[0m_call_batch_hook\u001b[0m\u001b[0;34m(\u001b[0m\u001b[0mModeKeys\u001b[0m\u001b[0;34m.\u001b[0m\u001b[0mTRAIN\u001b[0m\u001b[0;34m,\u001b[0m \u001b[0;34m'end'\u001b[0m\u001b[0;34m,\u001b[0m \u001b[0mbatch\u001b[0m\u001b[0;34m,\u001b[0m \u001b[0mlogs\u001b[0m\u001b[0;34m=\u001b[0m\u001b[0mlogs\u001b[0m\u001b[0;34m)\u001b[0m\u001b[0;34m\u001b[0m\u001b[0;34m\u001b[0m\u001b[0m\n\u001b[0m\u001b[1;32m    439\u001b[0m \u001b[0;34m\u001b[0m\u001b[0m\n\u001b[1;32m    440\u001b[0m   \u001b[0;32mdef\u001b[0m \u001b[0mon_test_batch_begin\u001b[0m\u001b[0;34m(\u001b[0m\u001b[0mself\u001b[0m\u001b[0;34m,\u001b[0m \u001b[0mbatch\u001b[0m\u001b[0;34m,\u001b[0m \u001b[0mlogs\u001b[0m\u001b[0;34m=\u001b[0m\u001b[0;32mNone\u001b[0m\u001b[0;34m)\u001b[0m\u001b[0;34m:\u001b[0m\u001b[0;34m\u001b[0m\u001b[0;34m\u001b[0m\u001b[0m\n",
      "\u001b[0;32m/usr/lib/python3/dist-packages/keras/callbacks.py\u001b[0m in \u001b[0;36m_call_batch_hook\u001b[0;34m(self, mode, hook, batch, logs)\u001b[0m\n\u001b[1;32m    295\u001b[0m       \u001b[0mself\u001b[0m\u001b[0;34m.\u001b[0m\u001b[0m_call_batch_begin_hook\u001b[0m\u001b[0;34m(\u001b[0m\u001b[0mmode\u001b[0m\u001b[0;34m,\u001b[0m \u001b[0mbatch\u001b[0m\u001b[0;34m,\u001b[0m \u001b[0mlogs\u001b[0m\u001b[0;34m)\u001b[0m\u001b[0;34m\u001b[0m\u001b[0;34m\u001b[0m\u001b[0m\n\u001b[1;32m    296\u001b[0m     \u001b[0;32melif\u001b[0m \u001b[0mhook\u001b[0m \u001b[0;34m==\u001b[0m \u001b[0;34m'end'\u001b[0m\u001b[0;34m:\u001b[0m\u001b[0;34m\u001b[0m\u001b[0;34m\u001b[0m\u001b[0m\n\u001b[0;32m--> 297\u001b[0;31m       \u001b[0mself\u001b[0m\u001b[0;34m.\u001b[0m\u001b[0m_call_batch_end_hook\u001b[0m\u001b[0;34m(\u001b[0m\u001b[0mmode\u001b[0m\u001b[0;34m,\u001b[0m \u001b[0mbatch\u001b[0m\u001b[0;34m,\u001b[0m \u001b[0mlogs\u001b[0m\u001b[0;34m)\u001b[0m\u001b[0;34m\u001b[0m\u001b[0;34m\u001b[0m\u001b[0m\n\u001b[0m\u001b[1;32m    298\u001b[0m     \u001b[0;32melse\u001b[0m\u001b[0;34m:\u001b[0m\u001b[0;34m\u001b[0m\u001b[0;34m\u001b[0m\u001b[0m\n\u001b[1;32m    299\u001b[0m       raise ValueError(\n",
      "\u001b[0;32m/usr/lib/python3/dist-packages/keras/callbacks.py\u001b[0m in \u001b[0;36m_call_batch_end_hook\u001b[0;34m(self, mode, batch, logs)\u001b[0m\n\u001b[1;32m    316\u001b[0m       \u001b[0mself\u001b[0m\u001b[0;34m.\u001b[0m\u001b[0m_batch_times\u001b[0m\u001b[0;34m.\u001b[0m\u001b[0mappend\u001b[0m\u001b[0;34m(\u001b[0m\u001b[0mbatch_time\u001b[0m\u001b[0;34m)\u001b[0m\u001b[0;34m\u001b[0m\u001b[0;34m\u001b[0m\u001b[0m\n\u001b[1;32m    317\u001b[0m \u001b[0;34m\u001b[0m\u001b[0m\n\u001b[0;32m--> 318\u001b[0;31m     \u001b[0mself\u001b[0m\u001b[0;34m.\u001b[0m\u001b[0m_call_batch_hook_helper\u001b[0m\u001b[0;34m(\u001b[0m\u001b[0mhook_name\u001b[0m\u001b[0;34m,\u001b[0m \u001b[0mbatch\u001b[0m\u001b[0;34m,\u001b[0m \u001b[0mlogs\u001b[0m\u001b[0;34m)\u001b[0m\u001b[0;34m\u001b[0m\u001b[0;34m\u001b[0m\u001b[0m\n\u001b[0m\u001b[1;32m    319\u001b[0m \u001b[0;34m\u001b[0m\u001b[0m\n\u001b[1;32m    320\u001b[0m     \u001b[0;32mif\u001b[0m \u001b[0mlen\u001b[0m\u001b[0;34m(\u001b[0m\u001b[0mself\u001b[0m\u001b[0;34m.\u001b[0m\u001b[0m_batch_times\u001b[0m\u001b[0;34m)\u001b[0m \u001b[0;34m>=\u001b[0m \u001b[0mself\u001b[0m\u001b[0;34m.\u001b[0m\u001b[0m_num_batches_for_timing_check\u001b[0m\u001b[0;34m:\u001b[0m\u001b[0;34m\u001b[0m\u001b[0;34m\u001b[0m\u001b[0m\n",
      "\u001b[0;32m/usr/lib/python3/dist-packages/keras/callbacks.py\u001b[0m in \u001b[0;36m_call_batch_hook_helper\u001b[0;34m(self, hook_name, batch, logs)\u001b[0m\n\u001b[1;32m    354\u001b[0m     \u001b[0;32mfor\u001b[0m \u001b[0mcallback\u001b[0m \u001b[0;32min\u001b[0m \u001b[0mself\u001b[0m\u001b[0;34m.\u001b[0m\u001b[0mcallbacks\u001b[0m\u001b[0;34m:\u001b[0m\u001b[0;34m\u001b[0m\u001b[0;34m\u001b[0m\u001b[0m\n\u001b[1;32m    355\u001b[0m       \u001b[0mhook\u001b[0m \u001b[0;34m=\u001b[0m \u001b[0mgetattr\u001b[0m\u001b[0;34m(\u001b[0m\u001b[0mcallback\u001b[0m\u001b[0;34m,\u001b[0m \u001b[0mhook_name\u001b[0m\u001b[0;34m)\u001b[0m\u001b[0;34m\u001b[0m\u001b[0;34m\u001b[0m\u001b[0m\n\u001b[0;32m--> 356\u001b[0;31m       \u001b[0mhook\u001b[0m\u001b[0;34m(\u001b[0m\u001b[0mbatch\u001b[0m\u001b[0;34m,\u001b[0m \u001b[0mlogs\u001b[0m\u001b[0;34m)\u001b[0m\u001b[0;34m\u001b[0m\u001b[0;34m\u001b[0m\u001b[0m\n\u001b[0m\u001b[1;32m    357\u001b[0m \u001b[0;34m\u001b[0m\u001b[0m\n\u001b[1;32m    358\u001b[0m     \u001b[0;32mif\u001b[0m \u001b[0mself\u001b[0m\u001b[0;34m.\u001b[0m\u001b[0m_check_timing\u001b[0m\u001b[0;34m:\u001b[0m\u001b[0;34m\u001b[0m\u001b[0;34m\u001b[0m\u001b[0m\n",
      "\u001b[0;32m/usr/lib/python3/dist-packages/keras/callbacks.py\u001b[0m in \u001b[0;36mon_train_batch_end\u001b[0;34m(self, batch, logs)\u001b[0m\n\u001b[1;32m   1032\u001b[0m \u001b[0;34m\u001b[0m\u001b[0m\n\u001b[1;32m   1033\u001b[0m   \u001b[0;32mdef\u001b[0m \u001b[0mon_train_batch_end\u001b[0m\u001b[0;34m(\u001b[0m\u001b[0mself\u001b[0m\u001b[0;34m,\u001b[0m \u001b[0mbatch\u001b[0m\u001b[0;34m,\u001b[0m \u001b[0mlogs\u001b[0m\u001b[0;34m=\u001b[0m\u001b[0;32mNone\u001b[0m\u001b[0;34m)\u001b[0m\u001b[0;34m:\u001b[0m\u001b[0;34m\u001b[0m\u001b[0;34m\u001b[0m\u001b[0m\n\u001b[0;32m-> 1034\u001b[0;31m     \u001b[0mself\u001b[0m\u001b[0;34m.\u001b[0m\u001b[0m_batch_update_progbar\u001b[0m\u001b[0;34m(\u001b[0m\u001b[0mbatch\u001b[0m\u001b[0;34m,\u001b[0m \u001b[0mlogs\u001b[0m\u001b[0;34m)\u001b[0m\u001b[0;34m\u001b[0m\u001b[0;34m\u001b[0m\u001b[0m\n\u001b[0m\u001b[1;32m   1035\u001b[0m \u001b[0;34m\u001b[0m\u001b[0m\n\u001b[1;32m   1036\u001b[0m   \u001b[0;32mdef\u001b[0m \u001b[0mon_test_batch_end\u001b[0m\u001b[0;34m(\u001b[0m\u001b[0mself\u001b[0m\u001b[0;34m,\u001b[0m \u001b[0mbatch\u001b[0m\u001b[0;34m,\u001b[0m \u001b[0mlogs\u001b[0m\u001b[0;34m=\u001b[0m\u001b[0;32mNone\u001b[0m\u001b[0;34m)\u001b[0m\u001b[0;34m:\u001b[0m\u001b[0;34m\u001b[0m\u001b[0;34m\u001b[0m\u001b[0m\n",
      "\u001b[0;32m/usr/lib/python3/dist-packages/keras/callbacks.py\u001b[0m in \u001b[0;36m_batch_update_progbar\u001b[0;34m(self, batch, logs)\u001b[0m\n\u001b[1;32m   1104\u001b[0m     \u001b[0;32mif\u001b[0m \u001b[0mself\u001b[0m\u001b[0;34m.\u001b[0m\u001b[0mverbose\u001b[0m \u001b[0;34m==\u001b[0m \u001b[0;36m1\u001b[0m\u001b[0;34m:\u001b[0m\u001b[0;34m\u001b[0m\u001b[0;34m\u001b[0m\u001b[0m\n\u001b[1;32m   1105\u001b[0m       \u001b[0;31m# Only block async when verbose = 1.\u001b[0m\u001b[0;34m\u001b[0m\u001b[0;34m\u001b[0m\u001b[0m\n\u001b[0;32m-> 1106\u001b[0;31m       \u001b[0mlogs\u001b[0m \u001b[0;34m=\u001b[0m \u001b[0mtf_utils\u001b[0m\u001b[0;34m.\u001b[0m\u001b[0msync_to_numpy_or_python_type\u001b[0m\u001b[0;34m(\u001b[0m\u001b[0mlogs\u001b[0m\u001b[0;34m)\u001b[0m\u001b[0;34m\u001b[0m\u001b[0;34m\u001b[0m\u001b[0m\n\u001b[0m\u001b[1;32m   1107\u001b[0m       \u001b[0mself\u001b[0m\u001b[0;34m.\u001b[0m\u001b[0mprogbar\u001b[0m\u001b[0;34m.\u001b[0m\u001b[0mupdate\u001b[0m\u001b[0;34m(\u001b[0m\u001b[0mself\u001b[0m\u001b[0;34m.\u001b[0m\u001b[0mseen\u001b[0m\u001b[0;34m,\u001b[0m \u001b[0mlist\u001b[0m\u001b[0;34m(\u001b[0m\u001b[0mlogs\u001b[0m\u001b[0;34m.\u001b[0m\u001b[0mitems\u001b[0m\u001b[0;34m(\u001b[0m\u001b[0;34m)\u001b[0m\u001b[0;34m)\u001b[0m\u001b[0;34m,\u001b[0m \u001b[0mfinalize\u001b[0m\u001b[0;34m=\u001b[0m\u001b[0;32mFalse\u001b[0m\u001b[0;34m)\u001b[0m\u001b[0;34m\u001b[0m\u001b[0;34m\u001b[0m\u001b[0m\n\u001b[1;32m   1108\u001b[0m \u001b[0;34m\u001b[0m\u001b[0m\n",
      "\u001b[0;32m/usr/lib/python3/dist-packages/keras/utils/tf_utils.py\u001b[0m in \u001b[0;36msync_to_numpy_or_python_type\u001b[0;34m(tensors)\u001b[0m\n\u001b[1;32m    605\u001b[0m     \u001b[0;32mreturn\u001b[0m \u001b[0mt\u001b[0m\u001b[0;34m.\u001b[0m\u001b[0mitem\u001b[0m\u001b[0;34m(\u001b[0m\u001b[0;34m)\u001b[0m \u001b[0;32mif\u001b[0m \u001b[0mnp\u001b[0m\u001b[0;34m.\u001b[0m\u001b[0mndim\u001b[0m\u001b[0;34m(\u001b[0m\u001b[0mt\u001b[0m\u001b[0;34m)\u001b[0m \u001b[0;34m==\u001b[0m \u001b[0;36m0\u001b[0m \u001b[0;32melse\u001b[0m \u001b[0mt\u001b[0m\u001b[0;34m\u001b[0m\u001b[0;34m\u001b[0m\u001b[0m\n\u001b[1;32m    606\u001b[0m \u001b[0;34m\u001b[0m\u001b[0m\n\u001b[0;32m--> 607\u001b[0;31m   \u001b[0;32mreturn\u001b[0m \u001b[0mtf\u001b[0m\u001b[0;34m.\u001b[0m\u001b[0mnest\u001b[0m\u001b[0;34m.\u001b[0m\u001b[0mmap_structure\u001b[0m\u001b[0;34m(\u001b[0m\u001b[0m_to_single_numpy_or_python_type\u001b[0m\u001b[0;34m,\u001b[0m \u001b[0mtensors\u001b[0m\u001b[0;34m)\u001b[0m\u001b[0;34m\u001b[0m\u001b[0;34m\u001b[0m\u001b[0m\n\u001b[0m\u001b[1;32m    608\u001b[0m \u001b[0;34m\u001b[0m\u001b[0m\n\u001b[1;32m    609\u001b[0m \u001b[0;34m\u001b[0m\u001b[0m\n",
      "\u001b[0;32m/usr/lib/python3/dist-packages/tensorflow/python/util/nest.py\u001b[0m in \u001b[0;36mmap_structure\u001b[0;34m(func, *structure, **kwargs)\u001b[0m\n\u001b[1;32m    914\u001b[0m \u001b[0;34m\u001b[0m\u001b[0m\n\u001b[1;32m    915\u001b[0m   return pack_sequence_as(\n\u001b[0;32m--> 916\u001b[0;31m       \u001b[0mstructure\u001b[0m\u001b[0;34m[\u001b[0m\u001b[0;36m0\u001b[0m\u001b[0;34m]\u001b[0m\u001b[0;34m,\u001b[0m \u001b[0;34m[\u001b[0m\u001b[0mfunc\u001b[0m\u001b[0;34m(\u001b[0m\u001b[0;34m*\u001b[0m\u001b[0mx\u001b[0m\u001b[0;34m)\u001b[0m \u001b[0;32mfor\u001b[0m \u001b[0mx\u001b[0m \u001b[0;32min\u001b[0m \u001b[0mentries\u001b[0m\u001b[0;34m]\u001b[0m\u001b[0;34m,\u001b[0m\u001b[0;34m\u001b[0m\u001b[0;34m\u001b[0m\u001b[0m\n\u001b[0m\u001b[1;32m    917\u001b[0m       expand_composites=expand_composites)\n\u001b[1;32m    918\u001b[0m \u001b[0;34m\u001b[0m\u001b[0m\n",
      "\u001b[0;32m/usr/lib/python3/dist-packages/tensorflow/python/util/nest.py\u001b[0m in \u001b[0;36m<listcomp>\u001b[0;34m(.0)\u001b[0m\n\u001b[1;32m    914\u001b[0m \u001b[0;34m\u001b[0m\u001b[0m\n\u001b[1;32m    915\u001b[0m   return pack_sequence_as(\n\u001b[0;32m--> 916\u001b[0;31m       \u001b[0mstructure\u001b[0m\u001b[0;34m[\u001b[0m\u001b[0;36m0\u001b[0m\u001b[0;34m]\u001b[0m\u001b[0;34m,\u001b[0m \u001b[0;34m[\u001b[0m\u001b[0mfunc\u001b[0m\u001b[0;34m(\u001b[0m\u001b[0;34m*\u001b[0m\u001b[0mx\u001b[0m\u001b[0;34m)\u001b[0m \u001b[0;32mfor\u001b[0m \u001b[0mx\u001b[0m \u001b[0;32min\u001b[0m \u001b[0mentries\u001b[0m\u001b[0;34m]\u001b[0m\u001b[0;34m,\u001b[0m\u001b[0;34m\u001b[0m\u001b[0;34m\u001b[0m\u001b[0m\n\u001b[0m\u001b[1;32m    917\u001b[0m       expand_composites=expand_composites)\n\u001b[1;32m    918\u001b[0m \u001b[0;34m\u001b[0m\u001b[0m\n",
      "\u001b[0;32m/usr/lib/python3/dist-packages/keras/utils/tf_utils.py\u001b[0m in \u001b[0;36m_to_single_numpy_or_python_type\u001b[0;34m(t)\u001b[0m\n\u001b[1;32m    599\u001b[0m     \u001b[0;31m# Don't turn ragged or sparse tensors to NumPy.\u001b[0m\u001b[0;34m\u001b[0m\u001b[0;34m\u001b[0m\u001b[0m\n\u001b[1;32m    600\u001b[0m     \u001b[0;32mif\u001b[0m \u001b[0misinstance\u001b[0m\u001b[0;34m(\u001b[0m\u001b[0mt\u001b[0m\u001b[0;34m,\u001b[0m \u001b[0mtf\u001b[0m\u001b[0;34m.\u001b[0m\u001b[0mTensor\u001b[0m\u001b[0;34m)\u001b[0m\u001b[0;34m:\u001b[0m\u001b[0;34m\u001b[0m\u001b[0;34m\u001b[0m\u001b[0m\n\u001b[0;32m--> 601\u001b[0;31m       \u001b[0mt\u001b[0m \u001b[0;34m=\u001b[0m \u001b[0mt\u001b[0m\u001b[0;34m.\u001b[0m\u001b[0mnumpy\u001b[0m\u001b[0;34m(\u001b[0m\u001b[0;34m)\u001b[0m\u001b[0;34m\u001b[0m\u001b[0;34m\u001b[0m\u001b[0m\n\u001b[0m\u001b[1;32m    602\u001b[0m     \u001b[0;31m# Strings, ragged and sparse tensors don't have .item(). Return them as-is.\u001b[0m\u001b[0;34m\u001b[0m\u001b[0;34m\u001b[0m\u001b[0m\n\u001b[1;32m    603\u001b[0m     \u001b[0;32mif\u001b[0m \u001b[0;32mnot\u001b[0m \u001b[0misinstance\u001b[0m\u001b[0;34m(\u001b[0m\u001b[0mt\u001b[0m\u001b[0;34m,\u001b[0m \u001b[0;34m(\u001b[0m\u001b[0mnp\u001b[0m\u001b[0;34m.\u001b[0m\u001b[0mndarray\u001b[0m\u001b[0;34m,\u001b[0m \u001b[0mnp\u001b[0m\u001b[0;34m.\u001b[0m\u001b[0mgeneric\u001b[0m\u001b[0;34m)\u001b[0m\u001b[0;34m)\u001b[0m\u001b[0;34m:\u001b[0m\u001b[0;34m\u001b[0m\u001b[0;34m\u001b[0m\u001b[0m\n",
      "\u001b[0;32m/usr/lib/python3/dist-packages/tensorflow/python/framework/ops.py\u001b[0m in \u001b[0;36mnumpy\u001b[0;34m(self)\u001b[0m\n\u001b[1;32m   1157\u001b[0m     \"\"\"\n\u001b[1;32m   1158\u001b[0m     \u001b[0;31m# TODO(slebedev): Consider avoiding a copy for non-CPU or remote tensors.\u001b[0m\u001b[0;34m\u001b[0m\u001b[0;34m\u001b[0m\u001b[0m\n\u001b[0;32m-> 1159\u001b[0;31m     \u001b[0mmaybe_arr\u001b[0m \u001b[0;34m=\u001b[0m \u001b[0mself\u001b[0m\u001b[0;34m.\u001b[0m\u001b[0m_numpy\u001b[0m\u001b[0;34m(\u001b[0m\u001b[0;34m)\u001b[0m  \u001b[0;31m# pylint: disable=protected-access\u001b[0m\u001b[0;34m\u001b[0m\u001b[0;34m\u001b[0m\u001b[0m\n\u001b[0m\u001b[1;32m   1160\u001b[0m     \u001b[0;32mreturn\u001b[0m \u001b[0mmaybe_arr\u001b[0m\u001b[0;34m.\u001b[0m\u001b[0mcopy\u001b[0m\u001b[0;34m(\u001b[0m\u001b[0;34m)\u001b[0m \u001b[0;32mif\u001b[0m \u001b[0misinstance\u001b[0m\u001b[0;34m(\u001b[0m\u001b[0mmaybe_arr\u001b[0m\u001b[0;34m,\u001b[0m \u001b[0mnp\u001b[0m\u001b[0;34m.\u001b[0m\u001b[0mndarray\u001b[0m\u001b[0;34m)\u001b[0m \u001b[0;32melse\u001b[0m \u001b[0mmaybe_arr\u001b[0m\u001b[0;34m\u001b[0m\u001b[0;34m\u001b[0m\u001b[0m\n\u001b[1;32m   1161\u001b[0m \u001b[0;34m\u001b[0m\u001b[0m\n",
      "\u001b[0;32m/usr/lib/python3/dist-packages/tensorflow/python/framework/ops.py\u001b[0m in \u001b[0;36m_numpy\u001b[0;34m(self)\u001b[0m\n\u001b[1;32m   1123\u001b[0m   \u001b[0;32mdef\u001b[0m \u001b[0m_numpy\u001b[0m\u001b[0;34m(\u001b[0m\u001b[0mself\u001b[0m\u001b[0;34m)\u001b[0m\u001b[0;34m:\u001b[0m\u001b[0;34m\u001b[0m\u001b[0;34m\u001b[0m\u001b[0m\n\u001b[1;32m   1124\u001b[0m     \u001b[0;32mtry\u001b[0m\u001b[0;34m:\u001b[0m\u001b[0;34m\u001b[0m\u001b[0;34m\u001b[0m\u001b[0m\n\u001b[0;32m-> 1125\u001b[0;31m       \u001b[0;32mreturn\u001b[0m \u001b[0mself\u001b[0m\u001b[0;34m.\u001b[0m\u001b[0m_numpy_internal\u001b[0m\u001b[0;34m(\u001b[0m\u001b[0;34m)\u001b[0m\u001b[0;34m\u001b[0m\u001b[0;34m\u001b[0m\u001b[0m\n\u001b[0m\u001b[1;32m   1126\u001b[0m     \u001b[0;32mexcept\u001b[0m \u001b[0mcore\u001b[0m\u001b[0;34m.\u001b[0m\u001b[0m_NotOkStatusException\u001b[0m \u001b[0;32mas\u001b[0m \u001b[0me\u001b[0m\u001b[0;34m:\u001b[0m  \u001b[0;31m# pylint: disable=protected-access\u001b[0m\u001b[0;34m\u001b[0m\u001b[0;34m\u001b[0m\u001b[0m\n\u001b[1;32m   1127\u001b[0m       \u001b[0;32mraise\u001b[0m \u001b[0mcore\u001b[0m\u001b[0;34m.\u001b[0m\u001b[0m_status_to_exception\u001b[0m\u001b[0;34m(\u001b[0m\u001b[0me\u001b[0m\u001b[0;34m)\u001b[0m \u001b[0;32mfrom\u001b[0m \u001b[0;32mNone\u001b[0m  \u001b[0;31m# pylint: disable=protected-access\u001b[0m\u001b[0;34m\u001b[0m\u001b[0;34m\u001b[0m\u001b[0m\n",
      "\u001b[0;31mKeyboardInterrupt\u001b[0m: "
     ]
    }
   ],
   "source": [
    "history = model.fit(\n",
    "ds_train,\n",
    "epochs=100,\n",
    "batch_size=32,\n",
    "validation_data=ds_val,\n",
    "callbacks=callbacks)"
   ]
  }
 ],
 "metadata": {
  "kernelspec": {
   "display_name": "Python 3.10.4 64-bit",
   "language": "python",
   "name": "python3"
  },
  "language_info": {
   "codemirror_mode": {
    "name": "ipython",
    "version": 3
   },
   "file_extension": ".py",
   "mimetype": "text/x-python",
   "name": "python",
   "nbconvert_exporter": "python",
   "pygments_lexer": "ipython3",
   "version": "3.10.4"
  },
  "orig_nbformat": 4,
  "vscode": {
   "interpreter": {
    "hash": "767d51c1340bd893661ea55ea3124f6de3c7a262a8b4abca0554b478b1e2ff90"
   }
  }
 },
 "nbformat": 4,
 "nbformat_minor": 2
}
