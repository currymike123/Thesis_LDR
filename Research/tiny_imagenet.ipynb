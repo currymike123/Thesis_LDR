{
 "cells": [
  {
   "cell_type": "code",
   "execution_count": 1,
   "metadata": {},
   "outputs": [],
   "source": [
    "import tensorflow as tf\n",
    "from tensorflow import keras\n",
    "from tensorflow.keras import layers\n",
    "from tensorflow.keras.utils import image_dataset_from_directory\n",
    "from keras.preprocessing.image import ImageDataGenerator\n",
    "import tensorflow_datasets as tfds\n",
    "\n",
    "import numpy as np\n",
    "import pandas as pd\n",
    "import os\n",
    "import PIL\n",
    "import PIL.Image\n",
    "import glob\n",
    "\n",
    "import cv2\n",
    "\n",
    "import matplotlib.pyplot as plt\n",
    "from matplotlib import gridspec"
   ]
  },
  {
   "cell_type": "code",
   "execution_count": 2,
   "metadata": {},
   "outputs": [
    {
     "name": "stdout",
     "output_type": "stream",
     "text": [
      "Num GPUs: 1\n"
     ]
    },
    {
     "name": "stderr",
     "output_type": "stream",
     "text": [
      "2022-09-22 16:45:25.885333: I tensorflow/stream_executor/cuda/cuda_gpu_executor.cc:975] successful NUMA node read from SysFS had negative value (-1), but there must be at least one NUMA node, so returning NUMA node zero\n",
      "2022-09-22 16:45:25.914851: I tensorflow/stream_executor/cuda/cuda_gpu_executor.cc:975] successful NUMA node read from SysFS had negative value (-1), but there must be at least one NUMA node, so returning NUMA node zero\n",
      "2022-09-22 16:45:25.914987: I tensorflow/stream_executor/cuda/cuda_gpu_executor.cc:975] successful NUMA node read from SysFS had negative value (-1), but there must be at least one NUMA node, so returning NUMA node zero\n"
     ]
    }
   ],
   "source": [
    "physical_devices = tf.config.list_physical_devices('GPU')\n",
    "print(\"Num GPUs:\", len(physical_devices))"
   ]
  },
  {
   "cell_type": "code",
   "execution_count": 3,
   "metadata": {},
   "outputs": [
    {
     "name": "stdout",
     "output_type": "stream",
     "text": [
      "Found 100000 files belonging to 200 classes.\n"
     ]
    },
    {
     "name": "stderr",
     "output_type": "stream",
     "text": [
      "2022-09-22 16:45:31.940395: I tensorflow/stream_executor/cuda/cuda_gpu_executor.cc:975] successful NUMA node read from SysFS had negative value (-1), but there must be at least one NUMA node, so returning NUMA node zero\n",
      "2022-09-22 16:45:31.940548: I tensorflow/stream_executor/cuda/cuda_gpu_executor.cc:975] successful NUMA node read from SysFS had negative value (-1), but there must be at least one NUMA node, so returning NUMA node zero\n",
      "2022-09-22 16:45:31.940655: I tensorflow/stream_executor/cuda/cuda_gpu_executor.cc:975] successful NUMA node read from SysFS had negative value (-1), but there must be at least one NUMA node, so returning NUMA node zero\n",
      "2022-09-22 16:45:32.461095: I tensorflow/stream_executor/cuda/cuda_gpu_executor.cc:975] successful NUMA node read from SysFS had negative value (-1), but there must be at least one NUMA node, so returning NUMA node zero\n",
      "2022-09-22 16:45:32.461235: I tensorflow/stream_executor/cuda/cuda_gpu_executor.cc:975] successful NUMA node read from SysFS had negative value (-1), but there must be at least one NUMA node, so returning NUMA node zero\n",
      "2022-09-22 16:45:32.461347: I tensorflow/stream_executor/cuda/cuda_gpu_executor.cc:975] successful NUMA node read from SysFS had negative value (-1), but there must be at least one NUMA node, so returning NUMA node zero\n",
      "2022-09-22 16:45:32.461423: I tensorflow/core/common_runtime/gpu/gpu_device.cc:1532] Created device /job:localhost/replica:0/task:0/device:GPU:0 with 21488 MB memory:  -> device: 0, name: NVIDIA GeForce RTX 3090, pci bus id: 0000:0a:00.0, compute capability: 8.6\n"
     ]
    }
   ],
   "source": [
    "ds_train = image_dataset_from_directory(\n",
    "'tiny_imagenet/train',\n",
    "image_size=(64,64),\n",
    "batch_size=32)"
   ]
  },
  {
   "cell_type": "code",
   "execution_count": 4,
   "metadata": {},
   "outputs": [
    {
     "name": "stdout",
     "output_type": "stream",
     "text": [
      "Found 10000 files belonging to 200 classes.\n"
     ]
    }
   ],
   "source": [
    "ds_val = image_dataset_from_directory(\n",
    "'tiny_imagenet/val',\n",
    "image_size=(64,64),\n",
    "batch_size=32)"
   ]
  },
  {
   "cell_type": "code",
   "execution_count": 189,
   "metadata": {},
   "outputs": [],
   "source": [
    "# conv_base = keras.applications.vgg19.VGG19(\n",
    "# weights=\"imagenet\",\n",
    "# input_shape=(64, 64, 3),\n",
    "# include_top=False)\n",
    "\n",
    "# conv_base.trainable = False\n",
    "# for layer in conv_base.layers:\n",
    "#     if layer.name == 'block5_conv1':\n",
    "#         set_trainable = True\n",
    "#     if set_trainable:\n",
    "#         layer.trainable = True\n",
    "#     else:\n",
    "#         layer.trainable = False"
   ]
  },
  {
   "cell_type": "code",
   "execution_count": 245,
   "metadata": {},
   "outputs": [],
   "source": []
  },
  {
   "cell_type": "code",
   "execution_count": 5,
   "metadata": {},
   "outputs": [],
   "source": [
    "inputs = keras.Input(shape=(64,64,3))\n",
    "x = layers.Rescaling(1./255)(inputs)\n",
    "x = layers.Conv2D(filters=32, kernel_size=5, use_bias=False)(x)\n",
    "\n",
    "for size in [32,64,128,256,512]:\n",
    "    residual = x\n",
    "    \n",
    "    x = layers.BatchNormalization()(x)\n",
    "    x = layers.Activation(\"relu\")(x)\n",
    "    x = layers.SeparableConv2D(size, 3, padding=\"same\", use_bias=False)(x)\n",
    "\n",
    "    x = layers.BatchNormalization()(x)\n",
    "    x = layers.Activation(\"relu\")(x)\n",
    "    x = layers.SeparableConv2D(size, 3, padding=\"same\", use_bias=False)(x)\n",
    "\n",
    "    x = layers.MaxPooling2D(3, strides=2, padding=\"same\")(x)\n",
    "\n",
    "    residual = layers.Conv2D(size, 1, strides=2, padding=\"same\", use_bias=False)(residual)\n",
    "    x = layers.add([x, residual])\n",
    "\n",
    "\n",
    "x = layers.GlobalAveragePooling2D()(x)\n",
    "x = layers.Dropout(0.4)(x)\n",
    "x = layers.Dense(512, activation=\"relu\")(x)\n",
    "x = layers.Dropout(0.3)(x)\n",
    "x = layers.Dense(256, activation=\"relu\")(x)\n",
    "x = layers.Dropout(0.3)(x)\n",
    "outputs = layers.Dense(200, activation=\"softmax\")(x)\n",
    "model = keras.Model(inputs, outputs)"
   ]
  },
  {
   "cell_type": "code",
   "execution_count": 6,
   "metadata": {},
   "outputs": [],
   "source": [
    "opt = tf.optimizers.Adam(learning_rate=0.0001)"
   ]
  },
  {
   "cell_type": "code",
   "execution_count": 7,
   "metadata": {},
   "outputs": [],
   "source": [
    "model.compile(\n",
    "    optimizer=opt,\n",
    "    loss='sparse_categorical_crossentropy',\n",
    "    metrics=['accuracy'],\n",
    ")"
   ]
  },
  {
   "cell_type": "code",
   "execution_count": 8,
   "metadata": {},
   "outputs": [],
   "source": [
    "callbacks = [\n",
    "keras.callbacks.ModelCheckpoint(\n",
    "filepath=\"tiny_imagenet_feature_extraction_without_data_augmentation.keras\",\n",
    "save_best_only=True,\n",
    "monitor=\"val_loss\")\n",
    "]"
   ]
  },
  {
   "cell_type": "code",
   "execution_count": 9,
   "metadata": {},
   "outputs": [
    {
     "name": "stdout",
     "output_type": "stream",
     "text": [
      "Epoch 1/40\n"
     ]
    },
    {
     "name": "stderr",
     "output_type": "stream",
     "text": [
      "2022-09-22 16:45:51.919332: I tensorflow/stream_executor/cuda/cuda_dnn.cc:384] Loaded cuDNN version 8303\n",
      "2022-09-22 16:45:53.149437: I tensorflow/stream_executor/cuda/cuda_blas.cc:1786] TensorFloat-32 will be used for the matrix multiplication. This will only be logged once.\n"
     ]
    },
    {
     "name": "stdout",
     "output_type": "stream",
     "text": [
      "3125/3125 [==============================] - 84s 26ms/step - loss: 5.0058 - accuracy: 0.0261 - val_loss: 4.7524 - val_accuracy: 0.0425\n",
      "Epoch 2/40\n",
      "3125/3125 [==============================] - 81s 26ms/step - loss: 4.5022 - accuracy: 0.0636 - val_loss: 4.2078 - val_accuracy: 0.1038\n",
      "Epoch 3/40\n",
      "3125/3125 [==============================] - 81s 26ms/step - loss: 4.2015 - accuracy: 0.0960 - val_loss: 4.1600 - val_accuracy: 0.1108\n",
      "Epoch 4/40\n",
      "3125/3125 [==============================] - 80s 26ms/step - loss: 3.9872 - accuracy: 0.1239 - val_loss: 3.7770 - val_accuracy: 0.1630\n",
      "Epoch 5/40\n",
      "3125/3125 [==============================] - 80s 26ms/step - loss: 3.8171 - accuracy: 0.1502 - val_loss: 3.7121 - val_accuracy: 0.1756\n",
      "Epoch 6/40\n",
      "3125/3125 [==============================] - 81s 26ms/step - loss: 3.6807 - accuracy: 0.1713 - val_loss: 3.7301 - val_accuracy: 0.1781\n",
      "Epoch 7/40\n",
      "3125/3125 [==============================] - 82s 26ms/step - loss: 3.5663 - accuracy: 0.1919 - val_loss: 3.4614 - val_accuracy: 0.2113\n",
      "Epoch 8/40\n",
      "3125/3125 [==============================] - 81s 26ms/step - loss: 3.4553 - accuracy: 0.2075 - val_loss: 3.3664 - val_accuracy: 0.2284\n",
      "Epoch 9/40\n",
      "3125/3125 [==============================] - 77s 25ms/step - loss: 3.3704 - accuracy: 0.2215 - val_loss: 3.4120 - val_accuracy: 0.2283\n",
      "Epoch 10/40\n",
      "3125/3125 [==============================] - 75s 24ms/step - loss: 3.2896 - accuracy: 0.2377 - val_loss: 3.3368 - val_accuracy: 0.2395\n",
      "Epoch 11/40\n",
      "3125/3125 [==============================] - 75s 24ms/step - loss: 3.2127 - accuracy: 0.2504 - val_loss: 3.2994 - val_accuracy: 0.2429\n",
      "Epoch 12/40\n",
      "3125/3125 [==============================] - 75s 24ms/step - loss: 3.1411 - accuracy: 0.2621 - val_loss: 3.2074 - val_accuracy: 0.2627\n",
      "Epoch 13/40\n",
      "3125/3125 [==============================] - 75s 24ms/step - loss: 3.0736 - accuracy: 0.2725 - val_loss: 3.2042 - val_accuracy: 0.2595\n",
      "Epoch 14/40\n",
      "3125/3125 [==============================] - 75s 24ms/step - loss: 3.0086 - accuracy: 0.2853 - val_loss: 3.2756 - val_accuracy: 0.2533\n",
      "Epoch 15/40\n",
      "3125/3125 [==============================] - 75s 24ms/step - loss: 2.9488 - accuracy: 0.2945 - val_loss: 3.2482 - val_accuracy: 0.2583\n",
      "Epoch 16/40\n",
      "3125/3125 [==============================] - 74s 24ms/step - loss: 2.8934 - accuracy: 0.3038 - val_loss: 3.2083 - val_accuracy: 0.2695\n",
      "Epoch 17/40\n",
      "3125/3125 [==============================] - 78s 25ms/step - loss: 2.8280 - accuracy: 0.3174 - val_loss: 3.2457 - val_accuracy: 0.2668\n",
      "Epoch 18/40\n",
      "3125/3125 [==============================] - 81s 26ms/step - loss: 2.7793 - accuracy: 0.3252 - val_loss: 3.2154 - val_accuracy: 0.2700\n",
      "Epoch 19/40\n",
      "3125/3125 [==============================] - 82s 26ms/step - loss: 2.7300 - accuracy: 0.3338 - val_loss: 3.2431 - val_accuracy: 0.2665\n",
      "Epoch 20/40\n",
      "3125/3125 [==============================] - 82s 26ms/step - loss: 2.6773 - accuracy: 0.3425 - val_loss: 3.2376 - val_accuracy: 0.2766\n",
      "Epoch 21/40\n",
      "3125/3125 [==============================] - 78s 25ms/step - loss: 2.6333 - accuracy: 0.3512 - val_loss: 3.2421 - val_accuracy: 0.2733\n",
      "Epoch 22/40\n",
      "3125/3125 [==============================] - 74s 24ms/step - loss: 2.5865 - accuracy: 0.3594 - val_loss: 3.2652 - val_accuracy: 0.2668\n",
      "Epoch 23/40\n",
      "3125/3125 [==============================] - 75s 24ms/step - loss: 2.5371 - accuracy: 0.3676 - val_loss: 3.2821 - val_accuracy: 0.2676\n",
      "Epoch 24/40\n",
      "3125/3125 [==============================] - 75s 24ms/step - loss: 2.4975 - accuracy: 0.3765 - val_loss: 3.2727 - val_accuracy: 0.2754\n",
      "Epoch 25/40\n",
      "3125/3125 [==============================] - 75s 24ms/step - loss: 2.4574 - accuracy: 0.3816 - val_loss: 3.3887 - val_accuracy: 0.2584\n",
      "Epoch 26/40\n",
      "3125/3125 [==============================] - 76s 24ms/step - loss: 2.4137 - accuracy: 0.3883 - val_loss: 3.2776 - val_accuracy: 0.2764\n",
      "Epoch 27/40\n",
      "3125/3125 [==============================] - 75s 24ms/step - loss: 2.3761 - accuracy: 0.3962 - val_loss: 3.3400 - val_accuracy: 0.2762\n",
      "Epoch 28/40\n",
      "3125/3125 [==============================] - 75s 24ms/step - loss: 2.3383 - accuracy: 0.4041 - val_loss: 3.3499 - val_accuracy: 0.2725\n",
      "Epoch 29/40\n",
      "3125/3125 [==============================] - 75s 24ms/step - loss: 2.3040 - accuracy: 0.4095 - val_loss: 3.4126 - val_accuracy: 0.2685\n",
      "Epoch 30/40\n",
      "3125/3125 [==============================] - 75s 24ms/step - loss: 2.2672 - accuracy: 0.4170 - val_loss: 3.5468 - val_accuracy: 0.2512\n",
      "Epoch 31/40\n",
      "3125/3125 [==============================] - 74s 24ms/step - loss: 2.2368 - accuracy: 0.4234 - val_loss: 3.4475 - val_accuracy: 0.2608\n",
      "Epoch 32/40\n",
      "3125/3125 [==============================] - 75s 24ms/step - loss: 2.2063 - accuracy: 0.4296 - val_loss: 3.4621 - val_accuracy: 0.2643\n",
      "Epoch 33/40\n",
      "3125/3125 [==============================] - 73s 23ms/step - loss: 2.1718 - accuracy: 0.4362 - val_loss: 3.5948 - val_accuracy: 0.2518\n",
      "Epoch 34/40\n",
      "3125/3125 [==============================] - 75s 24ms/step - loss: 2.1449 - accuracy: 0.4413 - val_loss: 3.4915 - val_accuracy: 0.2686\n",
      "Epoch 35/40\n",
      "3125/3125 [==============================] - 75s 24ms/step - loss: 2.1212 - accuracy: 0.4466 - val_loss: 3.5637 - val_accuracy: 0.2576\n",
      "Epoch 36/40\n",
      "3125/3125 [==============================] - 75s 24ms/step - loss: 2.0876 - accuracy: 0.4494 - val_loss: 3.5158 - val_accuracy: 0.2666\n",
      "Epoch 37/40\n",
      "3125/3125 [==============================] - 76s 24ms/step - loss: 2.0600 - accuracy: 0.4578 - val_loss: 3.5486 - val_accuracy: 0.2671\n",
      "Epoch 38/40\n",
      "3125/3125 [==============================] - 81s 26ms/step - loss: 2.0325 - accuracy: 0.4623 - val_loss: 3.6140 - val_accuracy: 0.2642\n",
      "Epoch 39/40\n",
      "3125/3125 [==============================] - 82s 26ms/step - loss: 2.0145 - accuracy: 0.4647 - val_loss: 3.6340 - val_accuracy: 0.2585\n",
      "Epoch 40/40\n",
      "3125/3125 [==============================] - 81s 26ms/step - loss: 1.9836 - accuracy: 0.4722 - val_loss: 3.6401 - val_accuracy: 0.2612\n"
     ]
    }
   ],
   "source": [
    "history = model.fit(\n",
    "ds_train,\n",
    "epochs=40,\n",
    "batch_size = 32,\n",
    "validation_data=ds_val,\n",
    "callbacks=callbacks)"
   ]
  },
  {
   "cell_type": "code",
   "execution_count": 14,
   "metadata": {},
   "outputs": [],
   "source": [
    "data_augmentation = keras.Sequential(\n",
    "[\n",
    "layers.RandomFlip(\"horizontal\"),\n",
    "layers.RandomRotation(0.1),\n",
    "layers.RandomZoom(0.2),\n",
    "]\n",
    ")"
   ]
  },
  {
   "cell_type": "code",
   "execution_count": 15,
   "metadata": {},
   "outputs": [],
   "source": [
    "inputs = keras.Input(shape=(64,64,3))\n",
    "x = data_augmentation(inputs)\n",
    "x = layers.Rescaling(1./255)(x)\n",
    "x = layers.Conv2D(filters=32, kernel_size=5, use_bias=False)(x)\n",
    "\n",
    "for size in [32,64,128,256,512]:\n",
    "    residual = x\n",
    "    \n",
    "    x = layers.BatchNormalization()(x)\n",
    "    x = layers.Activation(\"relu\")(x)\n",
    "    x = layers.SeparableConv2D(size, 3, padding=\"same\", use_bias=False)(x)\n",
    "\n",
    "    x = layers.BatchNormalization()(x)\n",
    "    x = layers.Activation(\"relu\")(x)\n",
    "    x = layers.SeparableConv2D(size, 3, padding=\"same\", use_bias=False)(x)\n",
    "\n",
    "    x = layers.MaxPooling2D(3, strides=2, padding=\"same\")(x)\n",
    "\n",
    "    residual = layers.Conv2D(size, 1, strides=2, padding=\"same\", use_bias=False)(residual)\n",
    "    x = layers.add([x, residual])\n",
    "\n",
    "\n",
    "x = layers.GlobalAveragePooling2D()(x)\n",
    "x = layers.Dropout(0.4)(x)\n",
    "x = layers.Dense(512, activation=\"relu\")(x)\n",
    "x = layers.Dropout(0.3)(x)\n",
    "x = layers.Dense(256, activation=\"relu\")(x)\n",
    "x = layers.Dropout(0.3)(x)\n",
    "outputs = layers.Dense(200, activation=\"softmax\")(x)\n",
    "model = keras.Model(inputs, outputs)"
   ]
  },
  {
   "cell_type": "code",
   "execution_count": 16,
   "metadata": {},
   "outputs": [],
   "source": [
    "model.compile(\n",
    "    optimizer=opt,\n",
    "    loss='sparse_categorical_crossentropy',\n",
    "    metrics=['accuracy'],\n",
    ")"
   ]
  },
  {
   "cell_type": "code",
   "execution_count": 17,
   "metadata": {},
   "outputs": [],
   "source": [
    "callbacks = [\n",
    "keras.callbacks.ModelCheckpoint(\n",
    "filepath=\"tiny_imagenet_feature_extraction_with_data_augmentation.keras\",\n",
    "save_best_only=True,\n",
    "monitor=\"val_loss\")\n",
    "]"
   ]
  },
  {
   "cell_type": "code",
   "execution_count": 18,
   "metadata": {},
   "outputs": [
    {
     "name": "stdout",
     "output_type": "stream",
     "text": [
      "Epoch 1/40\n",
      "3125/3125 [==============================] - 103s 33ms/step - loss: 4.9569 - accuracy: 0.0296 - val_loss: 4.6860 - val_accuracy: 0.0517\n",
      "Epoch 2/40\n",
      "3125/3125 [==============================] - 102s 33ms/step - loss: 4.6017 - accuracy: 0.0596 - val_loss: 4.5876 - val_accuracy: 0.0652\n",
      "Epoch 3/40\n",
      "3125/3125 [==============================] - 102s 33ms/step - loss: 4.4018 - accuracy: 0.0816 - val_loss: 4.4666 - val_accuracy: 0.0808\n",
      "Epoch 4/40\n",
      "3125/3125 [==============================] - 103s 33ms/step - loss: 4.2397 - accuracy: 0.1018 - val_loss: 4.2962 - val_accuracy: 0.1023\n",
      "Epoch 5/40\n",
      "3125/3125 [==============================] - 103s 33ms/step - loss: 4.1074 - accuracy: 0.1210 - val_loss: 4.2338 - val_accuracy: 0.1086\n",
      "Epoch 6/40\n",
      "3125/3125 [==============================] - 100s 32ms/step - loss: 3.9953 - accuracy: 0.1359 - val_loss: 4.0009 - val_accuracy: 0.1347\n",
      "Epoch 7/40\n",
      "3125/3125 [==============================] - 98s 31ms/step - loss: 3.9024 - accuracy: 0.1505 - val_loss: 3.9029 - val_accuracy: 0.1454\n",
      "Epoch 8/40\n",
      "3125/3125 [==============================] - 96s 31ms/step - loss: 3.8250 - accuracy: 0.1622 - val_loss: 4.0400 - val_accuracy: 0.1353\n",
      "Epoch 9/40\n",
      "3125/3125 [==============================] - 96s 31ms/step - loss: 3.7555 - accuracy: 0.1731 - val_loss: 3.7846 - val_accuracy: 0.1690\n",
      "Epoch 10/40\n",
      "3125/3125 [==============================] - 96s 31ms/step - loss: 3.6990 - accuracy: 0.1821 - val_loss: 3.9256 - val_accuracy: 0.1482\n",
      "Epoch 11/40\n",
      "3125/3125 [==============================] - 96s 31ms/step - loss: 3.6389 - accuracy: 0.1913 - val_loss: 3.8272 - val_accuracy: 0.1678\n",
      "Epoch 12/40\n",
      "3125/3125 [==============================] - 97s 31ms/step - loss: 3.5895 - accuracy: 0.2007 - val_loss: 3.6999 - val_accuracy: 0.1799\n",
      "Epoch 13/40\n",
      "3125/3125 [==============================] - 96s 31ms/step - loss: 3.5442 - accuracy: 0.2068 - val_loss: 3.7122 - val_accuracy: 0.1824\n",
      "Epoch 14/40\n",
      "3125/3125 [==============================] - 96s 31ms/step - loss: 3.5036 - accuracy: 0.2147 - val_loss: 3.7316 - val_accuracy: 0.1835\n",
      "Epoch 15/40\n",
      "3125/3125 [==============================] - 104s 33ms/step - loss: 3.4568 - accuracy: 0.2225 - val_loss: 3.6480 - val_accuracy: 0.1940\n",
      "Epoch 16/40\n",
      "3125/3125 [==============================] - 97s 31ms/step - loss: 3.4206 - accuracy: 0.2303 - val_loss: 3.5620 - val_accuracy: 0.2054\n",
      "Epoch 17/40\n",
      "3125/3125 [==============================] - 96s 31ms/step - loss: 3.3889 - accuracy: 0.2340 - val_loss: 3.6788 - val_accuracy: 0.1926\n",
      "Epoch 18/40\n",
      "3125/3125 [==============================] - 96s 31ms/step - loss: 3.3556 - accuracy: 0.2412 - val_loss: 3.6966 - val_accuracy: 0.1915\n",
      "Epoch 19/40\n",
      "3125/3125 [==============================] - 99s 32ms/step - loss: 3.3179 - accuracy: 0.2466 - val_loss: 3.3943 - val_accuracy: 0.2319\n",
      "Epoch 20/40\n",
      "3125/3125 [==============================] - 103s 33ms/step - loss: 3.2904 - accuracy: 0.2514 - val_loss: 3.3831 - val_accuracy: 0.2354\n",
      "Epoch 21/40\n",
      "3125/3125 [==============================] - 103s 33ms/step - loss: 3.2598 - accuracy: 0.2573 - val_loss: 3.5620 - val_accuracy: 0.2126\n",
      "Epoch 22/40\n",
      "3125/3125 [==============================] - 103s 33ms/step - loss: 3.2335 - accuracy: 0.2618 - val_loss: 3.4257 - val_accuracy: 0.2305\n",
      "Epoch 23/40\n",
      "3125/3125 [==============================] - 103s 33ms/step - loss: 3.2033 - accuracy: 0.2661 - val_loss: 3.5727 - val_accuracy: 0.2157\n",
      "Epoch 24/40\n",
      "3125/3125 [==============================] - 103s 33ms/step - loss: 3.1757 - accuracy: 0.2713 - val_loss: 3.6322 - val_accuracy: 0.2075\n",
      "Epoch 25/40\n",
      "3125/3125 [==============================] - 102s 33ms/step - loss: 3.1568 - accuracy: 0.2748 - val_loss: 3.4141 - val_accuracy: 0.2352\n",
      "Epoch 26/40\n",
      "3125/3125 [==============================] - 103s 33ms/step - loss: 3.1376 - accuracy: 0.2792 - val_loss: 3.4812 - val_accuracy: 0.2274\n",
      "Epoch 27/40\n",
      "3125/3125 [==============================] - 104s 33ms/step - loss: 3.1147 - accuracy: 0.2818 - val_loss: 3.5140 - val_accuracy: 0.2270\n",
      "Epoch 28/40\n",
      "3125/3125 [==============================] - 101s 32ms/step - loss: 3.0907 - accuracy: 0.2870 - val_loss: 3.4202 - val_accuracy: 0.2380\n",
      "Epoch 29/40\n",
      "3125/3125 [==============================] - 97s 31ms/step - loss: 3.0677 - accuracy: 0.2905 - val_loss: 3.5260 - val_accuracy: 0.2287\n",
      "Epoch 30/40\n",
      "3125/3125 [==============================] - 97s 31ms/step - loss: 3.0491 - accuracy: 0.2933 - val_loss: 3.3047 - val_accuracy: 0.2563\n",
      "Epoch 31/40\n",
      "3125/3125 [==============================] - 96s 31ms/step - loss: 3.0286 - accuracy: 0.2984 - val_loss: 3.3063 - val_accuracy: 0.2566\n",
      "Epoch 32/40\n",
      "3125/3125 [==============================] - 95s 31ms/step - loss: 3.0077 - accuracy: 0.3016 - val_loss: 3.3576 - val_accuracy: 0.2471\n",
      "Epoch 33/40\n",
      "3125/3125 [==============================] - 97s 31ms/step - loss: 2.9955 - accuracy: 0.3043 - val_loss: 3.2647 - val_accuracy: 0.2657\n",
      "Epoch 34/40\n",
      "3125/3125 [==============================] - 96s 31ms/step - loss: 2.9781 - accuracy: 0.3065 - val_loss: 3.3189 - val_accuracy: 0.2651\n",
      "Epoch 35/40\n",
      "3125/3125 [==============================] - 96s 31ms/step - loss: 2.9611 - accuracy: 0.3120 - val_loss: 3.3144 - val_accuracy: 0.2623\n",
      "Epoch 36/40\n",
      "3125/3125 [==============================] - 96s 31ms/step - loss: 2.9369 - accuracy: 0.3151 - val_loss: 3.2654 - val_accuracy: 0.2670\n",
      "Epoch 37/40\n",
      "3125/3125 [==============================] - 97s 31ms/step - loss: 2.9291 - accuracy: 0.3171 - val_loss: 3.3708 - val_accuracy: 0.2567\n",
      "Epoch 38/40\n",
      "3125/3125 [==============================] - 97s 31ms/step - loss: 2.9057 - accuracy: 0.3207 - val_loss: 3.3317 - val_accuracy: 0.2621\n",
      "Epoch 39/40\n",
      "3125/3125 [==============================] - 97s 31ms/step - loss: 2.8992 - accuracy: 0.3212 - val_loss: 3.2886 - val_accuracy: 0.2655\n",
      "Epoch 40/40\n",
      "3125/3125 [==============================] - 97s 31ms/step - loss: 2.8772 - accuracy: 0.3259 - val_loss: 3.4112 - val_accuracy: 0.2540\n"
     ]
    }
   ],
   "source": [
    "history = model.fit(\n",
    "ds_train,\n",
    "epochs=40,\n",
    "batch_size = 32,\n",
    "validation_data=ds_val,\n",
    "callbacks=callbacks)"
   ]
  },
  {
   "cell_type": "code",
   "execution_count": 19,
   "metadata": {},
   "outputs": [
    {
     "ename": "",
     "evalue": "",
     "output_type": "error",
     "traceback": [
      "\u001b[1;31mCanceled future for execute_request message before replies were done"
     ]
    },
    {
     "ename": "",
     "evalue": "",
     "output_type": "error",
     "traceback": [
      "The Kernel crashed while executing code in the the current cell or a previous cell. Please review the code in the cell(s) to identify a possible cause of the failure. Click <a href='https://aka.ms/vscodeJupyterKernelCrash'>here</a> for more info. View Jupyter <a href='command:jupyter.viewOutput'>log</a> for further details."
     ]
    }
   ],
   "source": [
    "model = keras.models.load_model(\"tiny_imagenet_feature_extraction_with_data_augmentation.keras\")"
   ]
  }
 ],
 "metadata": {
  "kernelspec": {
   "display_name": "Python 3.10.4 64-bit",
   "language": "python",
   "name": "python3"
  },
  "language_info": {
   "codemirror_mode": {
    "name": "ipython",
    "version": 3
   },
   "file_extension": ".py",
   "mimetype": "text/x-python",
   "name": "python",
   "nbconvert_exporter": "python",
   "pygments_lexer": "ipython3",
   "version": "3.10.4"
  },
  "orig_nbformat": 4,
  "vscode": {
   "interpreter": {
    "hash": "e7370f93d1d0cde622a1f8e1c04877d8463912d04d973331ad4851f04de6915a"
   }
  }
 },
 "nbformat": 4,
 "nbformat_minor": 2
}
