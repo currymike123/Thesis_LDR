{
 "cells": [
  {
   "cell_type": "code",
   "execution_count": 1,
   "metadata": {},
   "outputs": [],
   "source": [
    "import tensorflow as tf\n",
    "from tensorflow import keras\n",
    "from tensorflow.keras import layers\n",
    "from tensorflow.keras.utils import image_dataset_from_directory\n",
    "from keras.preprocessing.image import ImageDataGenerator\n",
    "import tensorflow_datasets as tfds\n",
    "\n",
    "import numpy as np\n",
    "import pandas as pd\n",
    "import os\n",
    "import PIL\n",
    "import PIL.Image\n",
    "import glob\n",
    "\n",
    "import cv2\n",
    "\n",
    "import matplotlib.pyplot as plt\n",
    "from matplotlib import gridspec"
   ]
  },
  {
   "cell_type": "code",
   "execution_count": 2,
   "metadata": {},
   "outputs": [
    {
     "name": "stdout",
     "output_type": "stream",
     "text": [
      "Num GPUs: 1\n"
     ]
    },
    {
     "name": "stderr",
     "output_type": "stream",
     "text": [
      "2022-09-22 19:35:44.769150: I tensorflow/stream_executor/cuda/cuda_gpu_executor.cc:975] successful NUMA node read from SysFS had negative value (-1), but there must be at least one NUMA node, so returning NUMA node zero\n",
      "2022-09-22 19:35:44.800506: I tensorflow/stream_executor/cuda/cuda_gpu_executor.cc:975] successful NUMA node read from SysFS had negative value (-1), but there must be at least one NUMA node, so returning NUMA node zero\n",
      "2022-09-22 19:35:44.800645: I tensorflow/stream_executor/cuda/cuda_gpu_executor.cc:975] successful NUMA node read from SysFS had negative value (-1), but there must be at least one NUMA node, so returning NUMA node zero\n"
     ]
    }
   ],
   "source": [
    "physical_devices = tf.config.list_physical_devices('GPU')\n",
    "print(\"Num GPUs:\", len(physical_devices))"
   ]
  },
  {
   "cell_type": "code",
   "execution_count": 3,
   "metadata": {},
   "outputs": [
    {
     "name": "stdout",
     "output_type": "stream",
     "text": [
      "Found 100000 files belonging to 200 classes.\n"
     ]
    },
    {
     "name": "stderr",
     "output_type": "stream",
     "text": [
      "2022-09-22 19:35:51.052622: I tensorflow/stream_executor/cuda/cuda_gpu_executor.cc:975] successful NUMA node read from SysFS had negative value (-1), but there must be at least one NUMA node, so returning NUMA node zero\n",
      "2022-09-22 19:35:51.052783: I tensorflow/stream_executor/cuda/cuda_gpu_executor.cc:975] successful NUMA node read from SysFS had negative value (-1), but there must be at least one NUMA node, so returning NUMA node zero\n",
      "2022-09-22 19:35:51.052885: I tensorflow/stream_executor/cuda/cuda_gpu_executor.cc:975] successful NUMA node read from SysFS had negative value (-1), but there must be at least one NUMA node, so returning NUMA node zero\n",
      "2022-09-22 19:35:51.566598: I tensorflow/stream_executor/cuda/cuda_gpu_executor.cc:975] successful NUMA node read from SysFS had negative value (-1), but there must be at least one NUMA node, so returning NUMA node zero\n",
      "2022-09-22 19:35:51.566738: I tensorflow/stream_executor/cuda/cuda_gpu_executor.cc:975] successful NUMA node read from SysFS had negative value (-1), but there must be at least one NUMA node, so returning NUMA node zero\n",
      "2022-09-22 19:35:51.566847: I tensorflow/stream_executor/cuda/cuda_gpu_executor.cc:975] successful NUMA node read from SysFS had negative value (-1), but there must be at least one NUMA node, so returning NUMA node zero\n",
      "2022-09-22 19:35:51.566923: I tensorflow/core/common_runtime/gpu/gpu_device.cc:1532] Created device /job:localhost/replica:0/task:0/device:GPU:0 with 21471 MB memory:  -> device: 0, name: NVIDIA GeForce RTX 3090, pci bus id: 0000:0a:00.0, compute capability: 8.6\n"
     ]
    }
   ],
   "source": [
    "ds_train = image_dataset_from_directory(\n",
    "'tiny_imagenet/train',\n",
    "image_size=(64,64),\n",
    "batch_size=32)"
   ]
  },
  {
   "cell_type": "code",
   "execution_count": 4,
   "metadata": {},
   "outputs": [
    {
     "name": "stdout",
     "output_type": "stream",
     "text": [
      "Found 10000 files belonging to 200 classes.\n"
     ]
    }
   ],
   "source": [
    "ds_val = image_dataset_from_directory(\n",
    "'tiny_imagenet/val',\n",
    "image_size=(64,64),\n",
    "batch_size=32)"
   ]
  },
  {
   "cell_type": "code",
   "execution_count": 189,
   "metadata": {},
   "outputs": [],
   "source": [
    "# conv_base = keras.applications.vgg19.VGG19(\n",
    "# weights=\"imagenet\",\n",
    "# input_shape=(64, 64, 3),\n",
    "# include_top=False)\n",
    "\n",
    "# conv_base.trainable = False\n",
    "# for layer in conv_base.layers:\n",
    "#     if layer.name == 'block5_conv1':\n",
    "#         set_trainable = True\n",
    "#     if set_trainable:\n",
    "#         layer.trainable = True\n",
    "#     else:\n",
    "#         layer.trainable = False"
   ]
  },
  {
   "cell_type": "code",
   "execution_count": 245,
   "metadata": {},
   "outputs": [],
   "source": []
  },
  {
   "cell_type": "code",
   "execution_count": 5,
   "metadata": {},
   "outputs": [],
   "source": [
    "inputs = keras.Input(shape=(64,64,3))\n",
    "x = layers.Rescaling(1./255)(inputs)\n",
    "x = layers.Conv2D(filters=32, kernel_size=5, use_bias=False)(x)\n",
    "\n",
    "for size in [32,64,128,256,512]:\n",
    "    residual = x\n",
    "    \n",
    "    x = layers.BatchNormalization()(x)\n",
    "    x = layers.Activation(\"relu\")(x)\n",
    "    x = layers.SeparableConv2D(size, 3, padding=\"same\", use_bias=False)(x)\n",
    "\n",
    "    x = layers.BatchNormalization()(x)\n",
    "    x = layers.Activation(\"relu\")(x)\n",
    "    x = layers.SeparableConv2D(size, 3, padding=\"same\", use_bias=False)(x)\n",
    "\n",
    "    x = layers.MaxPooling2D(3, strides=2, padding=\"same\")(x)\n",
    "\n",
    "    residual = layers.Conv2D(size, 1, strides=2, padding=\"same\", use_bias=False)(residual)\n",
    "    x = layers.add([x, residual])\n",
    "\n",
    "\n",
    "x = layers.GlobalAveragePooling2D()(x)\n",
    "x = layers.Dropout(0.4)(x)\n",
    "x = layers.Dense(512, activation=\"relu\")(x)\n",
    "x = layers.Dropout(0.3)(x)\n",
    "x = layers.Dense(256, activation=\"relu\")(x)\n",
    "x = layers.Dropout(0.3)(x)\n",
    "outputs = layers.Dense(200, activation=\"softmax\")(x)\n",
    "model = keras.Model(inputs, outputs)"
   ]
  },
  {
   "cell_type": "code",
   "execution_count": 5,
   "metadata": {},
   "outputs": [],
   "source": [
    "opt = tf.optimizers.Adam(learning_rate=0.0001)"
   ]
  },
  {
   "cell_type": "code",
   "execution_count": 7,
   "metadata": {},
   "outputs": [],
   "source": [
    "model.compile(\n",
    "    optimizer=opt,\n",
    "    loss='sparse_categorical_crossentropy',\n",
    "    metrics=['accuracy'],\n",
    ")"
   ]
  },
  {
   "cell_type": "code",
   "execution_count": 8,
   "metadata": {},
   "outputs": [],
   "source": [
    "callbacks = [\n",
    "keras.callbacks.ModelCheckpoint(\n",
    "filepath=\"tiny_imagenet_feature_extraction_without_data_augmentation.keras\",\n",
    "save_best_only=True,\n",
    "monitor=\"val_loss\")\n",
    "]"
   ]
  },
  {
   "cell_type": "code",
   "execution_count": 9,
   "metadata": {},
   "outputs": [
    {
     "name": "stdout",
     "output_type": "stream",
     "text": [
      "Epoch 1/40\n"
     ]
    },
    {
     "name": "stderr",
     "output_type": "stream",
     "text": [
      "2022-09-22 16:45:51.919332: I tensorflow/stream_executor/cuda/cuda_dnn.cc:384] Loaded cuDNN version 8303\n",
      "2022-09-22 16:45:53.149437: I tensorflow/stream_executor/cuda/cuda_blas.cc:1786] TensorFloat-32 will be used for the matrix multiplication. This will only be logged once.\n"
     ]
    },
    {
     "name": "stdout",
     "output_type": "stream",
     "text": [
      "3125/3125 [==============================] - 84s 26ms/step - loss: 5.0058 - accuracy: 0.0261 - val_loss: 4.7524 - val_accuracy: 0.0425\n",
      "Epoch 2/40\n",
      "3125/3125 [==============================] - 81s 26ms/step - loss: 4.5022 - accuracy: 0.0636 - val_loss: 4.2078 - val_accuracy: 0.1038\n",
      "Epoch 3/40\n",
      "3125/3125 [==============================] - 81s 26ms/step - loss: 4.2015 - accuracy: 0.0960 - val_loss: 4.1600 - val_accuracy: 0.1108\n",
      "Epoch 4/40\n",
      "3125/3125 [==============================] - 80s 26ms/step - loss: 3.9872 - accuracy: 0.1239 - val_loss: 3.7770 - val_accuracy: 0.1630\n",
      "Epoch 5/40\n",
      "3125/3125 [==============================] - 80s 26ms/step - loss: 3.8171 - accuracy: 0.1502 - val_loss: 3.7121 - val_accuracy: 0.1756\n",
      "Epoch 6/40\n",
      "3125/3125 [==============================] - 81s 26ms/step - loss: 3.6807 - accuracy: 0.1713 - val_loss: 3.7301 - val_accuracy: 0.1781\n",
      "Epoch 7/40\n",
      "3125/3125 [==============================] - 82s 26ms/step - loss: 3.5663 - accuracy: 0.1919 - val_loss: 3.4614 - val_accuracy: 0.2113\n",
      "Epoch 8/40\n",
      "3125/3125 [==============================] - 81s 26ms/step - loss: 3.4553 - accuracy: 0.2075 - val_loss: 3.3664 - val_accuracy: 0.2284\n",
      "Epoch 9/40\n",
      "3125/3125 [==============================] - 77s 25ms/step - loss: 3.3704 - accuracy: 0.2215 - val_loss: 3.4120 - val_accuracy: 0.2283\n",
      "Epoch 10/40\n",
      "3125/3125 [==============================] - 75s 24ms/step - loss: 3.2896 - accuracy: 0.2377 - val_loss: 3.3368 - val_accuracy: 0.2395\n",
      "Epoch 11/40\n",
      "3125/3125 [==============================] - 75s 24ms/step - loss: 3.2127 - accuracy: 0.2504 - val_loss: 3.2994 - val_accuracy: 0.2429\n",
      "Epoch 12/40\n",
      "3125/3125 [==============================] - 75s 24ms/step - loss: 3.1411 - accuracy: 0.2621 - val_loss: 3.2074 - val_accuracy: 0.2627\n",
      "Epoch 13/40\n",
      "3125/3125 [==============================] - 75s 24ms/step - loss: 3.0736 - accuracy: 0.2725 - val_loss: 3.2042 - val_accuracy: 0.2595\n",
      "Epoch 14/40\n",
      "3125/3125 [==============================] - 75s 24ms/step - loss: 3.0086 - accuracy: 0.2853 - val_loss: 3.2756 - val_accuracy: 0.2533\n",
      "Epoch 15/40\n",
      "3125/3125 [==============================] - 75s 24ms/step - loss: 2.9488 - accuracy: 0.2945 - val_loss: 3.2482 - val_accuracy: 0.2583\n",
      "Epoch 16/40\n",
      "3125/3125 [==============================] - 74s 24ms/step - loss: 2.8934 - accuracy: 0.3038 - val_loss: 3.2083 - val_accuracy: 0.2695\n",
      "Epoch 17/40\n",
      "3125/3125 [==============================] - 78s 25ms/step - loss: 2.8280 - accuracy: 0.3174 - val_loss: 3.2457 - val_accuracy: 0.2668\n",
      "Epoch 18/40\n",
      "3125/3125 [==============================] - 81s 26ms/step - loss: 2.7793 - accuracy: 0.3252 - val_loss: 3.2154 - val_accuracy: 0.2700\n",
      "Epoch 19/40\n",
      "3125/3125 [==============================] - 82s 26ms/step - loss: 2.7300 - accuracy: 0.3338 - val_loss: 3.2431 - val_accuracy: 0.2665\n",
      "Epoch 20/40\n",
      "3125/3125 [==============================] - 82s 26ms/step - loss: 2.6773 - accuracy: 0.3425 - val_loss: 3.2376 - val_accuracy: 0.2766\n",
      "Epoch 21/40\n",
      "3125/3125 [==============================] - 78s 25ms/step - loss: 2.6333 - accuracy: 0.3512 - val_loss: 3.2421 - val_accuracy: 0.2733\n",
      "Epoch 22/40\n",
      "3125/3125 [==============================] - 74s 24ms/step - loss: 2.5865 - accuracy: 0.3594 - val_loss: 3.2652 - val_accuracy: 0.2668\n",
      "Epoch 23/40\n",
      "3125/3125 [==============================] - 75s 24ms/step - loss: 2.5371 - accuracy: 0.3676 - val_loss: 3.2821 - val_accuracy: 0.2676\n",
      "Epoch 24/40\n",
      "3125/3125 [==============================] - 75s 24ms/step - loss: 2.4975 - accuracy: 0.3765 - val_loss: 3.2727 - val_accuracy: 0.2754\n",
      "Epoch 25/40\n",
      "3125/3125 [==============================] - 75s 24ms/step - loss: 2.4574 - accuracy: 0.3816 - val_loss: 3.3887 - val_accuracy: 0.2584\n",
      "Epoch 26/40\n",
      "3125/3125 [==============================] - 76s 24ms/step - loss: 2.4137 - accuracy: 0.3883 - val_loss: 3.2776 - val_accuracy: 0.2764\n",
      "Epoch 27/40\n",
      "3125/3125 [==============================] - 75s 24ms/step - loss: 2.3761 - accuracy: 0.3962 - val_loss: 3.3400 - val_accuracy: 0.2762\n",
      "Epoch 28/40\n",
      "3125/3125 [==============================] - 75s 24ms/step - loss: 2.3383 - accuracy: 0.4041 - val_loss: 3.3499 - val_accuracy: 0.2725\n",
      "Epoch 29/40\n",
      "3125/3125 [==============================] - 75s 24ms/step - loss: 2.3040 - accuracy: 0.4095 - val_loss: 3.4126 - val_accuracy: 0.2685\n",
      "Epoch 30/40\n",
      "3125/3125 [==============================] - 75s 24ms/step - loss: 2.2672 - accuracy: 0.4170 - val_loss: 3.5468 - val_accuracy: 0.2512\n",
      "Epoch 31/40\n",
      "3125/3125 [==============================] - 74s 24ms/step - loss: 2.2368 - accuracy: 0.4234 - val_loss: 3.4475 - val_accuracy: 0.2608\n",
      "Epoch 32/40\n",
      "3125/3125 [==============================] - 75s 24ms/step - loss: 2.2063 - accuracy: 0.4296 - val_loss: 3.4621 - val_accuracy: 0.2643\n",
      "Epoch 33/40\n",
      "3125/3125 [==============================] - 73s 23ms/step - loss: 2.1718 - accuracy: 0.4362 - val_loss: 3.5948 - val_accuracy: 0.2518\n",
      "Epoch 34/40\n",
      "3125/3125 [==============================] - 75s 24ms/step - loss: 2.1449 - accuracy: 0.4413 - val_loss: 3.4915 - val_accuracy: 0.2686\n",
      "Epoch 35/40\n",
      "3125/3125 [==============================] - 75s 24ms/step - loss: 2.1212 - accuracy: 0.4466 - val_loss: 3.5637 - val_accuracy: 0.2576\n",
      "Epoch 36/40\n",
      "3125/3125 [==============================] - 75s 24ms/step - loss: 2.0876 - accuracy: 0.4494 - val_loss: 3.5158 - val_accuracy: 0.2666\n",
      "Epoch 37/40\n",
      "3125/3125 [==============================] - 76s 24ms/step - loss: 2.0600 - accuracy: 0.4578 - val_loss: 3.5486 - val_accuracy: 0.2671\n",
      "Epoch 38/40\n",
      "3125/3125 [==============================] - 81s 26ms/step - loss: 2.0325 - accuracy: 0.4623 - val_loss: 3.6140 - val_accuracy: 0.2642\n",
      "Epoch 39/40\n",
      "3125/3125 [==============================] - 82s 26ms/step - loss: 2.0145 - accuracy: 0.4647 - val_loss: 3.6340 - val_accuracy: 0.2585\n",
      "Epoch 40/40\n",
      "3125/3125 [==============================] - 81s 26ms/step - loss: 1.9836 - accuracy: 0.4722 - val_loss: 3.6401 - val_accuracy: 0.2612\n"
     ]
    }
   ],
   "source": [
    "history = model.fit(\n",
    "ds_train,\n",
    "epochs=40,\n",
    "batch_size = 32,\n",
    "validation_data=ds_val,\n",
    "callbacks=callbacks)"
   ]
  },
  {
   "cell_type": "code",
   "execution_count": 14,
   "metadata": {},
   "outputs": [],
   "source": [
    "data_augmentation = keras.Sequential(\n",
    "[\n",
    "layers.RandomFlip(\"horizontal\"),\n",
    "layers.RandomRotation(0.1),\n",
    "layers.RandomZoom(0.2),\n",
    "]\n",
    ")"
   ]
  },
  {
   "cell_type": "code",
   "execution_count": 15,
   "metadata": {},
   "outputs": [],
   "source": [
    "inputs = keras.Input(shape=(64,64,3))\n",
    "x = data_augmentation(inputs)\n",
    "x = layers.Rescaling(1./255)(x)\n",
    "x = layers.Conv2D(filters=32, kernel_size=5, use_bias=False)(x)\n",
    "\n",
    "for size in [32,64,128,256,512]:\n",
    "    residual = x\n",
    "    \n",
    "    x = layers.BatchNormalization()(x)\n",
    "    x = layers.Activation(\"relu\")(x)\n",
    "    x = layers.SeparableConv2D(size, 3, padding=\"same\", use_bias=False)(x)\n",
    "\n",
    "    x = layers.BatchNormalization()(x)\n",
    "    x = layers.Activation(\"relu\")(x)\n",
    "    x = layers.SeparableConv2D(size, 3, padding=\"same\", use_bias=False)(x)\n",
    "\n",
    "    x = layers.MaxPooling2D(3, strides=2, padding=\"same\")(x)\n",
    "\n",
    "    residual = layers.Conv2D(size, 1, strides=2, padding=\"same\", use_bias=False)(residual)\n",
    "    x = layers.add([x, residual])\n",
    "\n",
    "\n",
    "x = layers.GlobalAveragePooling2D()(x)\n",
    "x = layers.Dropout(0.4)(x)\n",
    "x = layers.Dense(512, activation=\"relu\")(x)\n",
    "x = layers.Dropout(0.3)(x)\n",
    "x = layers.Dense(256, activation=\"relu\")(x)\n",
    "x = layers.Dropout(0.3)(x)\n",
    "outputs = layers.Dense(200, activation=\"softmax\")(x)\n",
    "model = keras.Model(inputs, outputs)"
   ]
  },
  {
   "cell_type": "code",
   "execution_count": 16,
   "metadata": {},
   "outputs": [],
   "source": [
    "model.compile(\n",
    "    optimizer=opt,\n",
    "    loss='sparse_categorical_crossentropy',\n",
    "    metrics=['accuracy'],\n",
    ")"
   ]
  },
  {
   "cell_type": "code",
   "execution_count": 17,
   "metadata": {},
   "outputs": [],
   "source": [
    "callbacks = [\n",
    "keras.callbacks.ModelCheckpoint(\n",
    "filepath=\"tiny_imagenet_feature_extraction_with_data_augmentation.keras\",\n",
    "save_best_only=True,\n",
    "monitor=\"val_loss\")\n",
    "]"
   ]
  },
  {
   "cell_type": "code",
   "execution_count": 18,
   "metadata": {},
   "outputs": [
    {
     "name": "stdout",
     "output_type": "stream",
     "text": [
      "Epoch 1/40\n",
      "3125/3125 [==============================] - 103s 33ms/step - loss: 4.9569 - accuracy: 0.0296 - val_loss: 4.6860 - val_accuracy: 0.0517\n",
      "Epoch 2/40\n",
      "3125/3125 [==============================] - 102s 33ms/step - loss: 4.6017 - accuracy: 0.0596 - val_loss: 4.5876 - val_accuracy: 0.0652\n",
      "Epoch 3/40\n",
      "3125/3125 [==============================] - 102s 33ms/step - loss: 4.4018 - accuracy: 0.0816 - val_loss: 4.4666 - val_accuracy: 0.0808\n",
      "Epoch 4/40\n",
      "3125/3125 [==============================] - 103s 33ms/step - loss: 4.2397 - accuracy: 0.1018 - val_loss: 4.2962 - val_accuracy: 0.1023\n",
      "Epoch 5/40\n",
      "3125/3125 [==============================] - 103s 33ms/step - loss: 4.1074 - accuracy: 0.1210 - val_loss: 4.2338 - val_accuracy: 0.1086\n",
      "Epoch 6/40\n",
      "3125/3125 [==============================] - 100s 32ms/step - loss: 3.9953 - accuracy: 0.1359 - val_loss: 4.0009 - val_accuracy: 0.1347\n",
      "Epoch 7/40\n",
      "3125/3125 [==============================] - 98s 31ms/step - loss: 3.9024 - accuracy: 0.1505 - val_loss: 3.9029 - val_accuracy: 0.1454\n",
      "Epoch 8/40\n",
      "3125/3125 [==============================] - 96s 31ms/step - loss: 3.8250 - accuracy: 0.1622 - val_loss: 4.0400 - val_accuracy: 0.1353\n",
      "Epoch 9/40\n",
      "3125/3125 [==============================] - 96s 31ms/step - loss: 3.7555 - accuracy: 0.1731 - val_loss: 3.7846 - val_accuracy: 0.1690\n",
      "Epoch 10/40\n",
      "3125/3125 [==============================] - 96s 31ms/step - loss: 3.6990 - accuracy: 0.1821 - val_loss: 3.9256 - val_accuracy: 0.1482\n",
      "Epoch 11/40\n",
      "3125/3125 [==============================] - 96s 31ms/step - loss: 3.6389 - accuracy: 0.1913 - val_loss: 3.8272 - val_accuracy: 0.1678\n",
      "Epoch 12/40\n",
      "3125/3125 [==============================] - 97s 31ms/step - loss: 3.5895 - accuracy: 0.2007 - val_loss: 3.6999 - val_accuracy: 0.1799\n",
      "Epoch 13/40\n",
      "3125/3125 [==============================] - 96s 31ms/step - loss: 3.5442 - accuracy: 0.2068 - val_loss: 3.7122 - val_accuracy: 0.1824\n",
      "Epoch 14/40\n",
      "3125/3125 [==============================] - 96s 31ms/step - loss: 3.5036 - accuracy: 0.2147 - val_loss: 3.7316 - val_accuracy: 0.1835\n",
      "Epoch 15/40\n",
      "3125/3125 [==============================] - 104s 33ms/step - loss: 3.4568 - accuracy: 0.2225 - val_loss: 3.6480 - val_accuracy: 0.1940\n",
      "Epoch 16/40\n",
      "3125/3125 [==============================] - 97s 31ms/step - loss: 3.4206 - accuracy: 0.2303 - val_loss: 3.5620 - val_accuracy: 0.2054\n",
      "Epoch 17/40\n",
      "3125/3125 [==============================] - 96s 31ms/step - loss: 3.3889 - accuracy: 0.2340 - val_loss: 3.6788 - val_accuracy: 0.1926\n",
      "Epoch 18/40\n",
      "3125/3125 [==============================] - 96s 31ms/step - loss: 3.3556 - accuracy: 0.2412 - val_loss: 3.6966 - val_accuracy: 0.1915\n",
      "Epoch 19/40\n",
      "3125/3125 [==============================] - 99s 32ms/step - loss: 3.3179 - accuracy: 0.2466 - val_loss: 3.3943 - val_accuracy: 0.2319\n",
      "Epoch 20/40\n",
      "3125/3125 [==============================] - 103s 33ms/step - loss: 3.2904 - accuracy: 0.2514 - val_loss: 3.3831 - val_accuracy: 0.2354\n",
      "Epoch 21/40\n",
      "3125/3125 [==============================] - 103s 33ms/step - loss: 3.2598 - accuracy: 0.2573 - val_loss: 3.5620 - val_accuracy: 0.2126\n",
      "Epoch 22/40\n",
      "3125/3125 [==============================] - 103s 33ms/step - loss: 3.2335 - accuracy: 0.2618 - val_loss: 3.4257 - val_accuracy: 0.2305\n",
      "Epoch 23/40\n",
      "3125/3125 [==============================] - 103s 33ms/step - loss: 3.2033 - accuracy: 0.2661 - val_loss: 3.5727 - val_accuracy: 0.2157\n",
      "Epoch 24/40\n",
      "3125/3125 [==============================] - 103s 33ms/step - loss: 3.1757 - accuracy: 0.2713 - val_loss: 3.6322 - val_accuracy: 0.2075\n",
      "Epoch 25/40\n",
      "3125/3125 [==============================] - 102s 33ms/step - loss: 3.1568 - accuracy: 0.2748 - val_loss: 3.4141 - val_accuracy: 0.2352\n",
      "Epoch 26/40\n",
      "3125/3125 [==============================] - 103s 33ms/step - loss: 3.1376 - accuracy: 0.2792 - val_loss: 3.4812 - val_accuracy: 0.2274\n",
      "Epoch 27/40\n",
      "3125/3125 [==============================] - 104s 33ms/step - loss: 3.1147 - accuracy: 0.2818 - val_loss: 3.5140 - val_accuracy: 0.2270\n",
      "Epoch 28/40\n",
      "3125/3125 [==============================] - 101s 32ms/step - loss: 3.0907 - accuracy: 0.2870 - val_loss: 3.4202 - val_accuracy: 0.2380\n",
      "Epoch 29/40\n",
      "3125/3125 [==============================] - 97s 31ms/step - loss: 3.0677 - accuracy: 0.2905 - val_loss: 3.5260 - val_accuracy: 0.2287\n",
      "Epoch 30/40\n",
      "3125/3125 [==============================] - 97s 31ms/step - loss: 3.0491 - accuracy: 0.2933 - val_loss: 3.3047 - val_accuracy: 0.2563\n",
      "Epoch 31/40\n",
      "3125/3125 [==============================] - 96s 31ms/step - loss: 3.0286 - accuracy: 0.2984 - val_loss: 3.3063 - val_accuracy: 0.2566\n",
      "Epoch 32/40\n",
      "3125/3125 [==============================] - 95s 31ms/step - loss: 3.0077 - accuracy: 0.3016 - val_loss: 3.3576 - val_accuracy: 0.2471\n",
      "Epoch 33/40\n",
      "3125/3125 [==============================] - 97s 31ms/step - loss: 2.9955 - accuracy: 0.3043 - val_loss: 3.2647 - val_accuracy: 0.2657\n",
      "Epoch 34/40\n",
      "3125/3125 [==============================] - 96s 31ms/step - loss: 2.9781 - accuracy: 0.3065 - val_loss: 3.3189 - val_accuracy: 0.2651\n",
      "Epoch 35/40\n",
      "3125/3125 [==============================] - 96s 31ms/step - loss: 2.9611 - accuracy: 0.3120 - val_loss: 3.3144 - val_accuracy: 0.2623\n",
      "Epoch 36/40\n",
      "3125/3125 [==============================] - 96s 31ms/step - loss: 2.9369 - accuracy: 0.3151 - val_loss: 3.2654 - val_accuracy: 0.2670\n",
      "Epoch 37/40\n",
      "3125/3125 [==============================] - 97s 31ms/step - loss: 2.9291 - accuracy: 0.3171 - val_loss: 3.3708 - val_accuracy: 0.2567\n",
      "Epoch 38/40\n",
      "3125/3125 [==============================] - 97s 31ms/step - loss: 2.9057 - accuracy: 0.3207 - val_loss: 3.3317 - val_accuracy: 0.2621\n",
      "Epoch 39/40\n",
      "3125/3125 [==============================] - 97s 31ms/step - loss: 2.8992 - accuracy: 0.3212 - val_loss: 3.2886 - val_accuracy: 0.2655\n",
      "Epoch 40/40\n",
      "3125/3125 [==============================] - 97s 31ms/step - loss: 2.8772 - accuracy: 0.3259 - val_loss: 3.4112 - val_accuracy: 0.2540\n"
     ]
    }
   ],
   "source": [
    "history = model.fit(\n",
    "ds_train,\n",
    "epochs=40,\n",
    "batch_size = 32,\n",
    "validation_data=ds_val,\n",
    "callbacks=callbacks)"
   ]
  },
  {
   "cell_type": "code",
   "execution_count": 6,
   "metadata": {},
   "outputs": [
    {
     "name": "stdout",
     "output_type": "stream",
     "text": [
      "WARNING:tensorflow:Error in loading the saved optimizer state. As a result, your model is starting with a freshly initialized optimizer.\n"
     ]
    }
   ],
   "source": [
    "model = keras.models.load_model(\"tiny_imagenet_feature_extraction_with_data_augmentation.keras\")"
   ]
  },
  {
   "cell_type": "code",
   "execution_count": 7,
   "metadata": {},
   "outputs": [],
   "source": [
    "callbacks = [\n",
    "keras.callbacks.ModelCheckpoint(\n",
    "filepath=\"tiny_imagenet_feature_extraction_with_data_augmentation_2.keras\",\n",
    "save_best_only=True,\n",
    "monitor=\"val_loss\")\n",
    "]"
   ]
  },
  {
   "cell_type": "code",
   "execution_count": 8,
   "metadata": {},
   "outputs": [],
   "source": [
    "model.compile(\n",
    "    optimizer=opt,\n",
    "    loss='sparse_categorical_crossentropy',\n",
    "    metrics=['accuracy'],\n",
    ")"
   ]
  },
  {
   "cell_type": "code",
   "execution_count": 9,
   "metadata": {},
   "outputs": [
    {
     "name": "stdout",
     "output_type": "stream",
     "text": [
      "Epoch 1/40\n"
     ]
    },
    {
     "name": "stderr",
     "output_type": "stream",
     "text": [
      "2022-09-22 19:37:36.985978: I tensorflow/stream_executor/cuda/cuda_dnn.cc:384] Loaded cuDNN version 8303\n",
      "2022-09-22 19:37:38.193005: I tensorflow/stream_executor/cuda/cuda_blas.cc:1786] TensorFloat-32 will be used for the matrix multiplication. This will only be logged once.\n"
     ]
    },
    {
     "name": "stdout",
     "output_type": "stream",
     "text": [
      "3125/3125 [==============================] - 108s 33ms/step - loss: 2.9824 - accuracy: 0.3068 - val_loss: 3.2612 - val_accuracy: 0.2629\n",
      "Epoch 2/40\n",
      "3125/3125 [==============================] - 104s 33ms/step - loss: 2.9593 - accuracy: 0.3100 - val_loss: 3.3097 - val_accuracy: 0.2616\n",
      "Epoch 3/40\n",
      "3125/3125 [==============================] - 104s 33ms/step - loss: 2.9450 - accuracy: 0.3126 - val_loss: 3.3361 - val_accuracy: 0.2529\n",
      "Epoch 4/40\n",
      "3125/3125 [==============================] - 104s 33ms/step - loss: 2.9266 - accuracy: 0.3188 - val_loss: 3.2883 - val_accuracy: 0.2607\n",
      "Epoch 5/40\n",
      "3125/3125 [==============================] - 97s 31ms/step - loss: 2.9075 - accuracy: 0.3217 - val_loss: 3.3697 - val_accuracy: 0.2523\n",
      "Epoch 6/40\n",
      "3125/3125 [==============================] - 97s 31ms/step - loss: 2.9035 - accuracy: 0.3208 - val_loss: 3.2176 - val_accuracy: 0.2704\n",
      "Epoch 7/40\n",
      "3125/3125 [==============================] - 97s 31ms/step - loss: 2.8812 - accuracy: 0.3264 - val_loss: 3.1960 - val_accuracy: 0.2794\n",
      "Epoch 8/40\n",
      "3125/3125 [==============================] - 98s 31ms/step - loss: 2.8647 - accuracy: 0.3290 - val_loss: 3.2591 - val_accuracy: 0.2697\n",
      "Epoch 9/40\n",
      "3125/3125 [==============================] - 97s 31ms/step - loss: 2.8486 - accuracy: 0.3304 - val_loss: 3.2326 - val_accuracy: 0.2749\n",
      "Epoch 10/40\n",
      "3125/3125 [==============================] - 98s 31ms/step - loss: 2.8380 - accuracy: 0.3321 - val_loss: 3.1141 - val_accuracy: 0.2930\n",
      "Epoch 11/40\n",
      "3125/3125 [==============================] - 98s 32ms/step - loss: 2.8285 - accuracy: 0.3344 - val_loss: 3.1743 - val_accuracy: 0.2844\n",
      "Epoch 12/40\n",
      "3125/3125 [==============================] - 97s 31ms/step - loss: 2.8119 - accuracy: 0.3377 - val_loss: 3.2297 - val_accuracy: 0.2767\n",
      "Epoch 13/40\n",
      "3125/3125 [==============================] - 97s 31ms/step - loss: 2.7964 - accuracy: 0.3416 - val_loss: 3.1393 - val_accuracy: 0.2852\n",
      "Epoch 14/40\n",
      "3125/3125 [==============================] - 98s 31ms/step - loss: 2.7885 - accuracy: 0.3421 - val_loss: 3.1663 - val_accuracy: 0.2848\n",
      "Epoch 15/40\n",
      "3125/3125 [==============================] - 98s 31ms/step - loss: 2.7762 - accuracy: 0.3446 - val_loss: 3.0920 - val_accuracy: 0.2959\n",
      "Epoch 16/40\n",
      "3125/3125 [==============================] - 98s 31ms/step - loss: 2.7624 - accuracy: 0.3478 - val_loss: 3.2230 - val_accuracy: 0.2795\n",
      "Epoch 17/40\n",
      "3125/3125 [==============================] - 98s 31ms/step - loss: 2.7554 - accuracy: 0.3473 - val_loss: 3.2876 - val_accuracy: 0.2740\n",
      "Epoch 18/40\n",
      "3125/3125 [==============================] - 97s 31ms/step - loss: 2.7413 - accuracy: 0.3489 - val_loss: 3.1391 - val_accuracy: 0.2922\n",
      "Epoch 19/40\n",
      "3125/3125 [==============================] - 98s 31ms/step - loss: 2.7231 - accuracy: 0.3554 - val_loss: 3.2597 - val_accuracy: 0.2746\n",
      "Epoch 20/40\n",
      "3125/3125 [==============================] - 103s 33ms/step - loss: 2.7106 - accuracy: 0.3573 - val_loss: 3.0446 - val_accuracy: 0.3075\n",
      "Epoch 21/40\n",
      "3125/3125 [==============================] - 104s 33ms/step - loss: 2.7027 - accuracy: 0.3602 - val_loss: 3.2131 - val_accuracy: 0.2900\n",
      "Epoch 22/40\n",
      "3125/3125 [==============================] - 104s 33ms/step - loss: 2.6898 - accuracy: 0.3601 - val_loss: 3.0990 - val_accuracy: 0.2989\n",
      "Epoch 23/40\n",
      "3125/3125 [==============================] - 104s 33ms/step - loss: 2.6776 - accuracy: 0.3632 - val_loss: 3.1719 - val_accuracy: 0.2940\n",
      "Epoch 24/40\n",
      "3125/3125 [==============================] - 105s 33ms/step - loss: 2.6764 - accuracy: 0.3633 - val_loss: 3.0264 - val_accuracy: 0.3099\n",
      "Epoch 25/40\n",
      "3125/3125 [==============================] - 104s 33ms/step - loss: 2.6635 - accuracy: 0.3665 - val_loss: 3.0886 - val_accuracy: 0.3015\n",
      "Epoch 26/40\n",
      "3125/3125 [==============================] - 106s 34ms/step - loss: 2.6545 - accuracy: 0.3667 - val_loss: 3.0570 - val_accuracy: 0.3135\n",
      "Epoch 27/40\n",
      "3125/3125 [==============================] - 106s 34ms/step - loss: 2.6440 - accuracy: 0.3686 - val_loss: 3.0382 - val_accuracy: 0.3090\n",
      "Epoch 28/40\n",
      "3125/3125 [==============================] - 105s 34ms/step - loss: 2.6301 - accuracy: 0.3725 - val_loss: 2.9828 - val_accuracy: 0.3198\n",
      "Epoch 29/40\n",
      "3125/3125 [==============================] - 104s 33ms/step - loss: 2.6231 - accuracy: 0.3760 - val_loss: 3.1131 - val_accuracy: 0.3009\n",
      "Epoch 30/40\n",
      "3125/3125 [==============================] - 104s 33ms/step - loss: 2.6148 - accuracy: 0.3743 - val_loss: 2.9687 - val_accuracy: 0.3214\n",
      "Epoch 31/40\n",
      "3125/3125 [==============================] - 100s 32ms/step - loss: 2.6023 - accuracy: 0.3782 - val_loss: 3.0726 - val_accuracy: 0.3072\n",
      "Epoch 32/40\n",
      "3125/3125 [==============================] - 98s 31ms/step - loss: 2.5995 - accuracy: 0.3777 - val_loss: 3.0117 - val_accuracy: 0.3175\n",
      "Epoch 33/40\n",
      "3125/3125 [==============================] - 99s 32ms/step - loss: 2.5959 - accuracy: 0.3786 - val_loss: 3.0151 - val_accuracy: 0.3175\n",
      "Epoch 34/40\n",
      "3125/3125 [==============================] - 97s 31ms/step - loss: 2.5810 - accuracy: 0.3817 - val_loss: 3.0977 - val_accuracy: 0.3058\n",
      "Epoch 35/40\n",
      "3125/3125 [==============================] - 99s 32ms/step - loss: 2.5695 - accuracy: 0.3841 - val_loss: 3.0170 - val_accuracy: 0.3134\n",
      "Epoch 36/40\n",
      "3125/3125 [==============================] - 96s 31ms/step - loss: 2.5592 - accuracy: 0.3868 - val_loss: 3.0215 - val_accuracy: 0.3176\n",
      "Epoch 37/40\n",
      "3125/3125 [==============================] - 99s 32ms/step - loss: 2.5566 - accuracy: 0.3862 - val_loss: 2.9522 - val_accuracy: 0.3290\n",
      "Epoch 38/40\n",
      "3125/3125 [==============================] - 96s 31ms/step - loss: 2.5468 - accuracy: 0.3878 - val_loss: 2.9899 - val_accuracy: 0.3234\n",
      "Epoch 39/40\n",
      "3125/3125 [==============================] - 97s 31ms/step - loss: 2.5394 - accuracy: 0.3910 - val_loss: 2.9474 - val_accuracy: 0.3282\n",
      "Epoch 40/40\n",
      "3125/3125 [==============================] - 97s 31ms/step - loss: 2.5299 - accuracy: 0.3909 - val_loss: 3.0554 - val_accuracy: 0.3120\n"
     ]
    }
   ],
   "source": [
    "history = model.fit(\n",
    "ds_train,\n",
    "epochs=40,\n",
    "batch_size = 32,\n",
    "validation_data=ds_val,\n",
    "callbacks=callbacks)"
   ]
  },
  {
   "cell_type": "code",
   "execution_count": 11,
   "metadata": {},
   "outputs": [],
   "source": [
    "model = keras.models.load_model(\"tiny_imagenet_feature_extraction_with_data_augmentation_2.keras\")"
   ]
  },
  {
   "cell_type": "code",
   "execution_count": 12,
   "metadata": {},
   "outputs": [],
   "source": [
    "callbacks = [\n",
    "keras.callbacks.ModelCheckpoint(\n",
    "filepath=\"tiny_imagenet_feature_extraction_with_data_augmentation_3.keras\",\n",
    "save_best_only=True,\n",
    "monitor=\"val_loss\")\n",
    "]"
   ]
  },
  {
   "cell_type": "code",
   "execution_count": 13,
   "metadata": {},
   "outputs": [],
   "source": [
    "model.compile(\n",
    "    optimizer=opt,\n",
    "    loss='sparse_categorical_crossentropy',\n",
    "    metrics=['accuracy'],\n",
    ")"
   ]
  },
  {
   "cell_type": "code",
   "execution_count": 14,
   "metadata": {},
   "outputs": [
    {
     "name": "stdout",
     "output_type": "stream",
     "text": [
      "Epoch 1/40\n",
      "3125/3125 [==============================] - ETA: 0s - loss: 2.6182 - accuracy: 0.3747"
     ]
    },
    {
     "ename": "ValueError",
     "evalue": "Unable to create dataset (name already exists)",
     "output_type": "error",
     "traceback": [
      "\u001b[0;31m---------------------------------------------------------------------------\u001b[0m",
      "\u001b[0;31mValueError\u001b[0m                                Traceback (most recent call last)",
      "\u001b[0;32m/tmp/ipykernel_4300/3371823219.py\u001b[0m in \u001b[0;36m<module>\u001b[0;34m\u001b[0m\n\u001b[0;32m----> 1\u001b[0;31m history = model.fit(\n\u001b[0m\u001b[1;32m      2\u001b[0m \u001b[0mds_train\u001b[0m\u001b[0;34m,\u001b[0m\u001b[0;34m\u001b[0m\u001b[0;34m\u001b[0m\u001b[0m\n\u001b[1;32m      3\u001b[0m \u001b[0mepochs\u001b[0m\u001b[0;34m=\u001b[0m\u001b[0;36m40\u001b[0m\u001b[0;34m,\u001b[0m\u001b[0;34m\u001b[0m\u001b[0;34m\u001b[0m\u001b[0m\n\u001b[1;32m      4\u001b[0m \u001b[0mbatch_size\u001b[0m \u001b[0;34m=\u001b[0m \u001b[0;36m32\u001b[0m\u001b[0;34m,\u001b[0m\u001b[0;34m\u001b[0m\u001b[0;34m\u001b[0m\u001b[0m\n\u001b[1;32m      5\u001b[0m \u001b[0mvalidation_data\u001b[0m\u001b[0;34m=\u001b[0m\u001b[0mds_val\u001b[0m\u001b[0;34m,\u001b[0m\u001b[0;34m\u001b[0m\u001b[0;34m\u001b[0m\u001b[0m\n",
      "\u001b[0;32m/usr/lib/python3/dist-packages/keras/utils/traceback_utils.py\u001b[0m in \u001b[0;36merror_handler\u001b[0;34m(*args, **kwargs)\u001b[0m\n\u001b[1;32m     65\u001b[0m     \u001b[0;32mexcept\u001b[0m \u001b[0mException\u001b[0m \u001b[0;32mas\u001b[0m \u001b[0me\u001b[0m\u001b[0;34m:\u001b[0m  \u001b[0;31m# pylint: disable=broad-except\u001b[0m\u001b[0;34m\u001b[0m\u001b[0;34m\u001b[0m\u001b[0m\n\u001b[1;32m     66\u001b[0m       \u001b[0mfiltered_tb\u001b[0m \u001b[0;34m=\u001b[0m \u001b[0m_process_traceback_frames\u001b[0m\u001b[0;34m(\u001b[0m\u001b[0me\u001b[0m\u001b[0;34m.\u001b[0m\u001b[0m__traceback__\u001b[0m\u001b[0;34m)\u001b[0m\u001b[0;34m\u001b[0m\u001b[0;34m\u001b[0m\u001b[0m\n\u001b[0;32m---> 67\u001b[0;31m       \u001b[0;32mraise\u001b[0m \u001b[0me\u001b[0m\u001b[0;34m.\u001b[0m\u001b[0mwith_traceback\u001b[0m\u001b[0;34m(\u001b[0m\u001b[0mfiltered_tb\u001b[0m\u001b[0;34m)\u001b[0m \u001b[0;32mfrom\u001b[0m \u001b[0;32mNone\u001b[0m\u001b[0;34m\u001b[0m\u001b[0;34m\u001b[0m\u001b[0m\n\u001b[0m\u001b[1;32m     68\u001b[0m     \u001b[0;32mfinally\u001b[0m\u001b[0;34m:\u001b[0m\u001b[0;34m\u001b[0m\u001b[0;34m\u001b[0m\u001b[0m\n\u001b[1;32m     69\u001b[0m       \u001b[0;32mdel\u001b[0m \u001b[0mfiltered_tb\u001b[0m\u001b[0;34m\u001b[0m\u001b[0;34m\u001b[0m\u001b[0m\n",
      "\u001b[0;32m/usr/lib/python3/dist-packages/h5py/_debian_h5py_serial/_hl/group.py\u001b[0m in \u001b[0;36mcreate_dataset\u001b[0;34m(self, name, shape, dtype, data, **kwds)\u001b[0m\n\u001b[1;32m    147\u001b[0m                     \u001b[0mgroup\u001b[0m \u001b[0;34m=\u001b[0m \u001b[0mself\u001b[0m\u001b[0;34m.\u001b[0m\u001b[0mrequire_group\u001b[0m\u001b[0;34m(\u001b[0m\u001b[0mparent_path\u001b[0m\u001b[0;34m)\u001b[0m\u001b[0;34m\u001b[0m\u001b[0;34m\u001b[0m\u001b[0m\n\u001b[1;32m    148\u001b[0m \u001b[0;34m\u001b[0m\u001b[0m\n\u001b[0;32m--> 149\u001b[0;31m             \u001b[0mdsid\u001b[0m \u001b[0;34m=\u001b[0m \u001b[0mdataset\u001b[0m\u001b[0;34m.\u001b[0m\u001b[0mmake_new_dset\u001b[0m\u001b[0;34m(\u001b[0m\u001b[0mgroup\u001b[0m\u001b[0;34m,\u001b[0m \u001b[0mshape\u001b[0m\u001b[0;34m,\u001b[0m \u001b[0mdtype\u001b[0m\u001b[0;34m,\u001b[0m \u001b[0mdata\u001b[0m\u001b[0;34m,\u001b[0m \u001b[0mname\u001b[0m\u001b[0;34m,\u001b[0m \u001b[0;34m**\u001b[0m\u001b[0mkwds\u001b[0m\u001b[0;34m)\u001b[0m\u001b[0;34m\u001b[0m\u001b[0;34m\u001b[0m\u001b[0m\n\u001b[0m\u001b[1;32m    150\u001b[0m             \u001b[0mdset\u001b[0m \u001b[0;34m=\u001b[0m \u001b[0mdataset\u001b[0m\u001b[0;34m.\u001b[0m\u001b[0mDataset\u001b[0m\u001b[0;34m(\u001b[0m\u001b[0mdsid\u001b[0m\u001b[0;34m)\u001b[0m\u001b[0;34m\u001b[0m\u001b[0;34m\u001b[0m\u001b[0m\n\u001b[1;32m    151\u001b[0m             \u001b[0;32mreturn\u001b[0m \u001b[0mdset\u001b[0m\u001b[0;34m\u001b[0m\u001b[0;34m\u001b[0m\u001b[0m\n",
      "\u001b[0;32m/usr/lib/python3/dist-packages/h5py/_debian_h5py_serial/_hl/dataset.py\u001b[0m in \u001b[0;36mmake_new_dset\u001b[0;34m(parent, shape, dtype, data, name, chunks, compression, shuffle, fletcher32, maxshape, compression_opts, fillvalue, scaleoffset, track_times, external, track_order, dcpl, allow_unknown_filter)\u001b[0m\n\u001b[1;32m    140\u001b[0m \u001b[0;34m\u001b[0m\u001b[0m\n\u001b[1;32m    141\u001b[0m \u001b[0;34m\u001b[0m\u001b[0m\n\u001b[0;32m--> 142\u001b[0;31m     \u001b[0mdset_id\u001b[0m \u001b[0;34m=\u001b[0m \u001b[0mh5d\u001b[0m\u001b[0;34m.\u001b[0m\u001b[0mcreate\u001b[0m\u001b[0;34m(\u001b[0m\u001b[0mparent\u001b[0m\u001b[0;34m.\u001b[0m\u001b[0mid\u001b[0m\u001b[0;34m,\u001b[0m \u001b[0mname\u001b[0m\u001b[0;34m,\u001b[0m \u001b[0mtid\u001b[0m\u001b[0;34m,\u001b[0m \u001b[0msid\u001b[0m\u001b[0;34m,\u001b[0m \u001b[0mdcpl\u001b[0m\u001b[0;34m=\u001b[0m\u001b[0mdcpl\u001b[0m\u001b[0;34m)\u001b[0m\u001b[0;34m\u001b[0m\u001b[0;34m\u001b[0m\u001b[0m\n\u001b[0m\u001b[1;32m    143\u001b[0m \u001b[0;34m\u001b[0m\u001b[0m\n\u001b[1;32m    144\u001b[0m     \u001b[0;32mif\u001b[0m \u001b[0;34m(\u001b[0m\u001b[0mdata\u001b[0m \u001b[0;32mis\u001b[0m \u001b[0;32mnot\u001b[0m \u001b[0;32mNone\u001b[0m\u001b[0;34m)\u001b[0m \u001b[0;32mand\u001b[0m \u001b[0;34m(\u001b[0m\u001b[0;32mnot\u001b[0m \u001b[0misinstance\u001b[0m\u001b[0;34m(\u001b[0m\u001b[0mdata\u001b[0m\u001b[0;34m,\u001b[0m \u001b[0mEmpty\u001b[0m\u001b[0;34m)\u001b[0m\u001b[0;34m)\u001b[0m\u001b[0;34m:\u001b[0m\u001b[0;34m\u001b[0m\u001b[0;34m\u001b[0m\u001b[0m\n",
      "\u001b[0;32mh5py/_debian_h5py_serial/_objects.pyx\u001b[0m in \u001b[0;36mh5py._debian_h5py_serial._objects.with_phil.wrapper\u001b[0;34m()\u001b[0m\n",
      "\u001b[0;32mh5py/_debian_h5py_serial/_objects.pyx\u001b[0m in \u001b[0;36mh5py._debian_h5py_serial._objects.with_phil.wrapper\u001b[0;34m()\u001b[0m\n",
      "\u001b[0;32mh5py/_debian_h5py_serial/h5d.pyx\u001b[0m in \u001b[0;36mh5py._debian_h5py_serial.h5d.create\u001b[0;34m()\u001b[0m\n",
      "\u001b[0;31mValueError\u001b[0m: Unable to create dataset (name already exists)"
     ]
    }
   ],
   "source": [
    "history = model.fit(\n",
    "ds_train,\n",
    "epochs=40,\n",
    "batch_size = 32,\n",
    "validation_data=ds_val,\n",
    "callbacks=callbacks)"
   ]
  }
 ],
 "metadata": {
  "kernelspec": {
   "display_name": "Python 3.10.4 64-bit",
   "language": "python",
   "name": "python3"
  },
  "language_info": {
   "codemirror_mode": {
    "name": "ipython",
    "version": 3
   },
   "file_extension": ".py",
   "mimetype": "text/x-python",
   "name": "python",
   "nbconvert_exporter": "python",
   "pygments_lexer": "ipython3",
   "version": "3.10.4"
  },
  "orig_nbformat": 4,
  "vscode": {
   "interpreter": {
    "hash": "767d51c1340bd893661ea55ea3124f6de3c7a262a8b4abca0554b478b1e2ff90"
   }
  }
 },
 "nbformat": 4,
 "nbformat_minor": 2
}
