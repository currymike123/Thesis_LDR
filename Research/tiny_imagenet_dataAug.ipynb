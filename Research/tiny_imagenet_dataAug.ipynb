{
 "cells": [
  {
   "cell_type": "code",
   "execution_count": 17,
   "metadata": {},
   "outputs": [],
   "source": [
    "import tensorflow as tf\n",
    "from tensorflow import keras\n",
    "import keras_cv\n",
    "from tensorflow.keras import layers\n",
    "from tensorflow.keras.utils import image_dataset_from_directory\n",
    "import tensorflow_datasets as tfds\n",
    "from keras_cv import utils\n",
    "from keras_cv.layers import BaseImageAugmentationLayer\n",
    "from tensorflow.keras import applications\n",
    "from tensorflow.keras import losses\n",
    "from tensorflow.keras import optimizers\n",
    "import matplotlib.pyplot as plt\n",
    "import numpy as np"
   ]
  },
  {
   "cell_type": "code",
   "execution_count": 18,
   "metadata": {},
   "outputs": [
    {
     "name": "stdout",
     "output_type": "stream",
     "text": [
      "Num GPUs: 1\n"
     ]
    }
   ],
   "source": [
    "physical_devices = tf.config.list_physical_devices('GPU')\n",
    "print(\"Num GPUs:\", len(physical_devices))"
   ]
  },
  {
   "cell_type": "code",
   "execution_count": 19,
   "metadata": {},
   "outputs": [
    {
     "name": "stdout",
     "output_type": "stream",
     "text": [
      "Found 100000 files belonging to 200 classes.\n"
     ]
    }
   ],
   "source": [
    "ds_train = image_dataset_from_directory(\n",
    "'tiny_imagenet/train',\n",
    "image_size=(64,64),\n",
    "batch_size=32)"
   ]
  },
  {
   "cell_type": "code",
   "execution_count": 20,
   "metadata": {},
   "outputs": [
    {
     "name": "stdout",
     "output_type": "stream",
     "text": [
      "Found 10000 files belonging to 200 classes.\n"
     ]
    }
   ],
   "source": [
    "ds_val = image_dataset_from_directory(\n",
    "'tiny_imagenet/val',\n",
    "image_size=(64,64),\n",
    "batch_size=32)"
   ]
  },
  {
   "cell_type": "code",
   "execution_count": 21,
   "metadata": {},
   "outputs": [],
   "source": [
    "class RandomBlend(keras_cv.layers.BaseImageAugmentationLayer):\n",
    "    \"\"\"RandomBlueTint randomly applies a blue tint to images.\n",
    "\n",
    "    Args:\n",
    "      value_range: value_range: a tuple or a list of two elements. The first value\n",
    "        represents the lower bound for values in passed images, the second represents\n",
    "        the upper bound. Images passed to the layer should have values within\n",
    "        `value_range`.\n",
    "      factor: A tuple of two floats, a single float or a\n",
    "        `keras_cv.FactorSampler`. `factor` controls the extent to which the\n",
    "        image is blue shifted. `factor=0.0` makes this layer perform a no-op\n",
    "        operation, while a value of 1.0 uses the degenerated result entirely.\n",
    "        Values between 0 and 1 result in linear interpolation between the original\n",
    "        image and a fully blue image.\n",
    "        Values should be between `0.0` and `1.0`.  If a tuple is used, a `factor` is\n",
    "        sampled between the two values for every image augmented.  If a single float\n",
    "        is used, a value between `0.0` and the passed float is sampled.  In order to\n",
    "        ensure the value is always the same, please pass a tuple with two identical\n",
    "        floats: `(0.5, 0.5)`.\n",
    "    \"\"\"\n",
    "\n",
    "    def __init__(self, value_range, factor, **kwargs):\n",
    "        super().__init__(**kwargs)\n",
    "        self.value_range = value_range\n",
    "        self.factor = utils.parse_factor(factor)\n",
    "        self.auto_vectorize = False\n",
    "\n",
    "    def get_random_transformation(self, **kwargs):\n",
    "        # kwargs holds {\"images\": image, \"labels\": label, etc...}\n",
    "        return self.factor() \n",
    "\n",
    "    def augment_image(self, image, transformation=None, **kwargs):\n",
    "        image = utils.transform_value_range(image, self.value_range, (0, 1))\n",
    "        print(\"Here is the transformation:\",transformation)\n",
    "        multOrScreen = (np.random.randint(2))\n",
    "        print(multOrScreen)\n",
    "        \n",
    "        if(multOrScreen==0):\n",
    "            augImg = image * image\n",
    "            augImg = augImg * image\n",
    "            augImg = augImg * image\n",
    "        else:\n",
    "            augImg = 1 - (1 - image) * (1 - image)\n",
    "            augImg = 1 - (1 - augImg) * (1 - image)\n",
    "            augImg = 1 - (1 - augImg) * (1 - image)\n",
    "            \n",
    "        image = (augImg * transformation) + (image * (1-transformation))\n",
    "        image = tf.clip_by_value(image, 0.0, 1.0)\n",
    "        # result = utils.transform_value_range(result, self.value_range, (0, 255))\n",
    "        return image\n",
    "\n",
    "    def augment_label(self, label, transformation=None, **kwargs):\n",
    "        return label\n",
    "\n",
    "    def augment_bounding_boxes(self, bounding_boxes, transformation=None, **kwargs):\n",
    "        # you can also perform no-op augmentations on label types to support them in\n",
    "        # your pipeline.\n",
    "        return bounding_boxes"
   ]
  },
  {
   "cell_type": "code",
   "execution_count": 22,
   "metadata": {},
   "outputs": [],
   "source": [
    "augmenter = keras_cv.layers.Augmenter(\n",
    "  layers=[\n",
    "      # keras.layers.Rescaling(scale=1./255),\n",
    "      keras_cv.layers.RandomFlip(),\n",
    "      # keras.layers.RandomTranslation(height_factor=0.2,width_factor=0.2),\n",
    "      # RandomBlend(value_range=(0, 1), factor=(0.01, 1.0)),\n",
    "      # keras_cv.layers.RandAugment(value_range=(0, 255)),\n",
    "      # keras_cv.layers.CutMix(),\n",
    "      # keras_cv.layers.MixUp()\n",
    "    ]\n",
    ")\n",
    "\n",
    "normalization_layer = tf.keras.layers.Rescaling(1./255)\n",
    "\n",
    "def augment_data(images, labels):\n",
    "  inputs = {\"images\": images, \"labels\": labels}\n",
    "  outputs = augmenter(inputs)\n",
    "  return outputs['images'], outputs['labels']\n",
    "\n",
    "\n",
    "def label_one_hot(images, labels):\n",
    "  labels = tf.one_hot(labels, 200)\n",
    "  outputs = {\"images\": images, \"labels\": labels}\n",
    "  return outputs['images'], outputs['labels']"
   ]
  },
  {
   "cell_type": "code",
   "execution_count": 23,
   "metadata": {},
   "outputs": [],
   "source": [
    "ds_train = ds_train.map(lambda x, y: (normalization_layer(x), y))"
   ]
  },
  {
   "cell_type": "code",
   "execution_count": 24,
   "metadata": {},
   "outputs": [],
   "source": [
    "ds_val = ds_val.map(lambda x, y: (normalization_layer(x), y))"
   ]
  },
  {
   "cell_type": "code",
   "execution_count": 25,
   "metadata": {},
   "outputs": [],
   "source": [
    "ds_train = ds_train.map(label_one_hot, num_parallel_calls=tf.data.AUTOTUNE)\n",
    "ds_val = ds_val.map(label_one_hot, num_parallel_calls=tf.data.AUTOTUNE)"
   ]
  },
  {
   "cell_type": "code",
   "execution_count": 26,
   "metadata": {},
   "outputs": [],
   "source": [
    "ds_train = ds_train.map(augment_data, num_parallel_calls=tf.data.AUTOTUNE)"
   ]
  },
  {
   "cell_type": "code",
   "execution_count": 27,
   "metadata": {},
   "outputs": [],
   "source": [
    "# inputs = keras.Input(shape=(64,64,3))\n",
    "# x = layers.Conv2D(filters=32, kernel_size=5, use_bias=False)(inputs)\n",
    "\n",
    "# for size in [32,64,128,256,512]:\n",
    "#     residual = x\n",
    "    \n",
    "#     x = layers.BatchNormalization()(x)\n",
    "#     x = layers.Activation(\"relu\")(x)\n",
    "#     x = layers.SeparableConv2D(size, 3, padding=\"same\", use_bias=False)(x)\n",
    "\n",
    "#     x = layers.BatchNormalization()(x)\n",
    "#     x = layers.Activation(\"relu\")(x)\n",
    "#     x = layers.SeparableConv2D(size, 3, padding=\"same\", use_bias=False)(x)\n",
    "\n",
    "#     x = layers.MaxPooling2D(3, strides=2, padding=\"same\")(x)\n",
    "\n",
    "#     residual = layers.Conv2D(size, 1, strides=2, padding=\"same\", use_bias=False)(residual)\n",
    "#     x = layers.add([x, residual])\n",
    "\n",
    "\n",
    "# x = layers.Flatten()(x)\n",
    "# x = layers.Dropout(0.3)(x)\n",
    "# x = layers.Dense(512, activation=\"relu\")(x)\n",
    "# x = layers.Dropout(0.3)(x)\n",
    "# x = layers.Dense(256, activation=\"relu\")(x)\n",
    "# x = layers.Dropout(0.3)(x)\n",
    "# x = layers.Dense(128, activation=\"relu\")(x)\n",
    "# x = layers.Dropout(0.3)(x)\n",
    "# outputs = layers.Dense(200, activation=\"softmax\")(x)\n",
    "# model = keras.Model(inputs, outputs)\n",
    "# model.summary()"
   ]
  },
  {
   "cell_type": "code",
   "execution_count": 28,
   "metadata": {},
   "outputs": [],
   "source": [
    "# opt = tf.optimizers.Adam(learning_rate=0.0001)\n",
    "\n",
    "# model.compile(\n",
    "#   loss='categorical_crossentropy',\n",
    "#   optimizer=opt,\n",
    "#   metrics=['accuracy']\n",
    "# )"
   ]
  },
  {
   "cell_type": "code",
   "execution_count": 29,
   "metadata": {},
   "outputs": [],
   "source": [
    "# history = model.fit(ds_train, batch_size=32,validation_data=ds_val, epochs=30)"
   ]
  },
  {
   "cell_type": "code",
   "execution_count": 30,
   "metadata": {},
   "outputs": [],
   "source": [
    "# history2 = model.fit(ds_train, batch_size=32,validation_data=ds_val, epochs=30)"
   ]
  },
  {
   "cell_type": "code",
   "execution_count": 31,
   "metadata": {},
   "outputs": [],
   "source": [
    "# opt = tf.optimizers.SGD(momentum=0.9),\n",
    "\n",
    "model = keras_cv.models.DenseNet121(\n",
    "    include_rescaling=False, include_top=True, classes=200)\n",
    "    \n",
    "model.compile(\n",
    "    loss=losses.CategoricalCrossentropy(),\n",
    "    optimizer=optimizers.SGD(momentum=0.9),\n",
    "    metrics=[\"accuracy\", \"top_k_categorical_accuracy\"],\n",
    ")"
   ]
  },
  {
   "cell_type": "code",
   "execution_count": 32,
   "metadata": {},
   "outputs": [
    {
     "name": "stdout",
     "output_type": "stream",
     "text": [
      "Epoch 1/50\n",
      "3125/3125 [==============================] - 95s 29ms/step - loss: 4.3973 - accuracy: 0.0977 - top_k_categorical_accuracy: 0.2599 - val_loss: 4.3221 - val_accuracy: 0.1126 - val_top_k_categorical_accuracy: 0.3032\n",
      "Epoch 2/50\n",
      "3125/3125 [==============================] - 90s 29ms/step - loss: 3.4585 - accuracy: 0.2227 - top_k_categorical_accuracy: 0.4752 - val_loss: 3.4996 - val_accuracy: 0.2230 - val_top_k_categorical_accuracy: 0.4743\n",
      "Epoch 3/50\n",
      "3125/3125 [==============================] - 87s 28ms/step - loss: 2.9859 - accuracy: 0.3052 - top_k_categorical_accuracy: 0.5802 - val_loss: 3.2518 - val_accuracy: 0.2685 - val_top_k_categorical_accuracy: 0.5274\n",
      "Epoch 4/50\n",
      "3125/3125 [==============================] - 93s 30ms/step - loss: 2.6393 - accuracy: 0.3716 - top_k_categorical_accuracy: 0.6501 - val_loss: 3.3435 - val_accuracy: 0.2689 - val_top_k_categorical_accuracy: 0.5199\n",
      "Epoch 5/50\n",
      "3125/3125 [==============================] - 96s 31ms/step - loss: 2.3443 - accuracy: 0.4282 - top_k_categorical_accuracy: 0.7081 - val_loss: 3.2712 - val_accuracy: 0.2840 - val_top_k_categorical_accuracy: 0.5414\n",
      "Epoch 6/50\n",
      "3125/3125 [==============================] - 96s 31ms/step - loss: 2.0754 - accuracy: 0.4840 - top_k_categorical_accuracy: 0.7559 - val_loss: 3.1272 - val_accuracy: 0.3166 - val_top_k_categorical_accuracy: 0.5805\n",
      "Epoch 7/50\n",
      "3125/3125 [==============================] - 94s 30ms/step - loss: 1.8248 - accuracy: 0.5348 - top_k_categorical_accuracy: 0.8014 - val_loss: 3.2416 - val_accuracy: 0.3121 - val_top_k_categorical_accuracy: 0.5730\n",
      "Epoch 8/50\n",
      "3125/3125 [==============================] - 95s 30ms/step - loss: 1.5957 - accuracy: 0.5830 - top_k_categorical_accuracy: 0.8411 - val_loss: 3.3941 - val_accuracy: 0.3095 - val_top_k_categorical_accuracy: 0.5698\n",
      "Epoch 9/50\n",
      "3125/3125 [==============================] - 95s 31ms/step - loss: 1.3744 - accuracy: 0.6323 - top_k_categorical_accuracy: 0.8765 - val_loss: 3.4483 - val_accuracy: 0.3127 - val_top_k_categorical_accuracy: 0.5750\n",
      "Epoch 10/50\n",
      "3125/3125 [==============================] - 96s 31ms/step - loss: 1.1743 - accuracy: 0.6780 - top_k_categorical_accuracy: 0.9063 - val_loss: 3.6342 - val_accuracy: 0.3175 - val_top_k_categorical_accuracy: 0.5744\n",
      "Epoch 11/50\n",
      "3125/3125 [==============================] - 97s 31ms/step - loss: 1.0033 - accuracy: 0.7166 - top_k_categorical_accuracy: 0.9318 - val_loss: 4.0048 - val_accuracy: 0.3033 - val_top_k_categorical_accuracy: 0.5513\n",
      "Epoch 12/50\n",
      "3125/3125 [==============================] - 90s 29ms/step - loss: 0.8394 - accuracy: 0.7558 - top_k_categorical_accuracy: 0.9509 - val_loss: 4.0313 - val_accuracy: 0.3033 - val_top_k_categorical_accuracy: 0.5566\n",
      "Epoch 13/50\n",
      "3125/3125 [==============================] - 92s 29ms/step - loss: 0.7109 - accuracy: 0.7882 - top_k_categorical_accuracy: 0.9664 - val_loss: 3.9993 - val_accuracy: 0.3224 - val_top_k_categorical_accuracy: 0.5810\n",
      "Epoch 14/50\n",
      "3125/3125 [==============================] - 100s 32ms/step - loss: 0.5908 - accuracy: 0.8222 - top_k_categorical_accuracy: 0.9764 - val_loss: 4.1645 - val_accuracy: 0.3334 - val_top_k_categorical_accuracy: 0.5898\n",
      "Epoch 15/50\n",
      "3125/3125 [==============================] - 91s 29ms/step - loss: 0.4918 - accuracy: 0.8499 - top_k_categorical_accuracy: 0.9846 - val_loss: 4.5079 - val_accuracy: 0.3149 - val_top_k_categorical_accuracy: 0.5620\n",
      "Epoch 16/50\n",
      "3125/3125 [==============================] - 95s 30ms/step - loss: 0.4227 - accuracy: 0.8694 - top_k_categorical_accuracy: 0.9882 - val_loss: 4.3409 - val_accuracy: 0.3363 - val_top_k_categorical_accuracy: 0.5840\n",
      "Epoch 17/50\n",
      "3125/3125 [==============================] - 96s 31ms/step - loss: 0.3671 - accuracy: 0.8870 - top_k_categorical_accuracy: 0.9909 - val_loss: 4.5336 - val_accuracy: 0.3362 - val_top_k_categorical_accuracy: 0.5855\n",
      "Epoch 18/50\n",
      "3125/3125 [==============================] - 97s 31ms/step - loss: 0.2969 - accuracy: 0.9079 - top_k_categorical_accuracy: 0.9938 - val_loss: 4.4500 - val_accuracy: 0.3496 - val_top_k_categorical_accuracy: 0.5934\n",
      "Epoch 19/50\n",
      "3125/3125 [==============================] - 93s 30ms/step - loss: 0.2612 - accuracy: 0.9184 - top_k_categorical_accuracy: 0.9955 - val_loss: 4.4114 - val_accuracy: 0.3461 - val_top_k_categorical_accuracy: 0.5977\n",
      "Epoch 20/50\n",
      "3125/3125 [==============================] - 98s 31ms/step - loss: 0.2298 - accuracy: 0.9290 - top_k_categorical_accuracy: 0.9965 - val_loss: 4.3884 - val_accuracy: 0.3606 - val_top_k_categorical_accuracy: 0.6172\n",
      "Epoch 21/50\n",
      "3125/3125 [==============================] - 93s 30ms/step - loss: 0.1914 - accuracy: 0.9402 - top_k_categorical_accuracy: 0.9974 - val_loss: 4.5312 - val_accuracy: 0.3501 - val_top_k_categorical_accuracy: 0.6057\n",
      "Epoch 22/50\n",
      "3125/3125 [==============================] - 96s 31ms/step - loss: 0.1677 - accuracy: 0.9486 - top_k_categorical_accuracy: 0.9978 - val_loss: 4.7616 - val_accuracy: 0.3521 - val_top_k_categorical_accuracy: 0.5962\n",
      "Epoch 23/50\n",
      "3125/3125 [==============================] - 90s 29ms/step - loss: 0.1461 - accuracy: 0.9543 - top_k_categorical_accuracy: 0.9986 - val_loss: 4.5520 - val_accuracy: 0.3652 - val_top_k_categorical_accuracy: 0.6188\n",
      "Epoch 24/50\n",
      "3125/3125 [==============================] - 94s 30ms/step - loss: 0.1361 - accuracy: 0.9578 - top_k_categorical_accuracy: 0.9985 - val_loss: 4.5781 - val_accuracy: 0.3581 - val_top_k_categorical_accuracy: 0.6164\n",
      "Epoch 25/50\n",
      "3125/3125 [==============================] - 101s 32ms/step - loss: 0.1103 - accuracy: 0.9667 - top_k_categorical_accuracy: 0.9990 - val_loss: 4.5272 - val_accuracy: 0.3674 - val_top_k_categorical_accuracy: 0.6253\n",
      "Epoch 26/50\n",
      "3125/3125 [==============================] - 100s 32ms/step - loss: 0.0980 - accuracy: 0.9700 - top_k_categorical_accuracy: 0.9993 - val_loss: 4.6937 - val_accuracy: 0.3707 - val_top_k_categorical_accuracy: 0.6176\n",
      "Epoch 27/50\n",
      "3125/3125 [==============================] - 102s 33ms/step - loss: 0.0962 - accuracy: 0.9705 - top_k_categorical_accuracy: 0.9992 - val_loss: 4.8202 - val_accuracy: 0.3677 - val_top_k_categorical_accuracy: 0.6091\n",
      "Epoch 28/50\n",
      "3125/3125 [==============================] - 103s 33ms/step - loss: 0.0806 - accuracy: 0.9753 - top_k_categorical_accuracy: 0.9995 - val_loss: 4.7377 - val_accuracy: 0.3739 - val_top_k_categorical_accuracy: 0.6245\n",
      "Epoch 29/50\n",
      "3125/3125 [==============================] - 104s 33ms/step - loss: 0.0694 - accuracy: 0.9795 - top_k_categorical_accuracy: 0.9997 - val_loss: 4.7356 - val_accuracy: 0.3769 - val_top_k_categorical_accuracy: 0.6256\n",
      "Epoch 30/50\n",
      "3125/3125 [==============================] - 103s 33ms/step - loss: 0.0642 - accuracy: 0.9807 - top_k_categorical_accuracy: 0.9997 - val_loss: 4.7957 - val_accuracy: 0.3749 - val_top_k_categorical_accuracy: 0.6242\n",
      "Epoch 31/50\n",
      "3125/3125 [==============================] - 101s 32ms/step - loss: 0.0605 - accuracy: 0.9819 - top_k_categorical_accuracy: 0.9997 - val_loss: 4.8610 - val_accuracy: 0.3765 - val_top_k_categorical_accuracy: 0.6282\n",
      "Epoch 32/50\n",
      "3125/3125 [==============================] - 98s 31ms/step - loss: 0.0564 - accuracy: 0.9834 - top_k_categorical_accuracy: 0.9997 - val_loss: 4.8731 - val_accuracy: 0.3678 - val_top_k_categorical_accuracy: 0.6232\n",
      "Epoch 33/50\n",
      "3125/3125 [==============================] - 97s 31ms/step - loss: 0.0503 - accuracy: 0.9851 - top_k_categorical_accuracy: 0.9998 - val_loss: 4.8349 - val_accuracy: 0.3796 - val_top_k_categorical_accuracy: 0.6259\n",
      "Epoch 34/50\n",
      "3125/3125 [==============================] - 100s 32ms/step - loss: 0.0443 - accuracy: 0.9874 - top_k_categorical_accuracy: 0.9998 - val_loss: 4.8115 - val_accuracy: 0.3806 - val_top_k_categorical_accuracy: 0.6310\n",
      "Epoch 35/50\n",
      "3125/3125 [==============================] - 94s 30ms/step - loss: 0.0400 - accuracy: 0.9887 - top_k_categorical_accuracy: 0.9999 - val_loss: 4.9066 - val_accuracy: 0.3811 - val_top_k_categorical_accuracy: 0.6272\n",
      "Epoch 36/50\n",
      "3125/3125 [==============================] - 99s 32ms/step - loss: 0.0360 - accuracy: 0.9899 - top_k_categorical_accuracy: 0.9998 - val_loss: 4.9272 - val_accuracy: 0.3849 - val_top_k_categorical_accuracy: 0.6383\n",
      "Epoch 37/50\n",
      "3125/3125 [==============================] - 98s 31ms/step - loss: 0.0309 - accuracy: 0.9913 - top_k_categorical_accuracy: 0.9999 - val_loss: 4.9308 - val_accuracy: 0.3805 - val_top_k_categorical_accuracy: 0.6375\n",
      "Epoch 38/50\n",
      "3125/3125 [==============================] - 98s 31ms/step - loss: 0.0283 - accuracy: 0.9922 - top_k_categorical_accuracy: 0.9999 - val_loss: 4.9765 - val_accuracy: 0.3871 - val_top_k_categorical_accuracy: 0.6350\n",
      "Epoch 39/50\n",
      "3125/3125 [==============================] - 92s 29ms/step - loss: 0.0270 - accuracy: 0.9926 - top_k_categorical_accuracy: 0.9999 - val_loss: 4.9620 - val_accuracy: 0.3819 - val_top_k_categorical_accuracy: 0.6328\n",
      "Epoch 40/50\n",
      "3125/3125 [==============================] - 94s 30ms/step - loss: 0.0261 - accuracy: 0.9929 - top_k_categorical_accuracy: 0.9999 - val_loss: 5.0634 - val_accuracy: 0.3834 - val_top_k_categorical_accuracy: 0.6350\n",
      "Epoch 41/50\n",
      "3125/3125 [==============================] - 94s 30ms/step - loss: 0.0221 - accuracy: 0.9942 - top_k_categorical_accuracy: 1.0000 - val_loss: 5.0036 - val_accuracy: 0.3832 - val_top_k_categorical_accuracy: 0.6337\n",
      "Epoch 42/50\n",
      "3125/3125 [==============================] - 98s 31ms/step - loss: 0.0209 - accuracy: 0.9944 - top_k_categorical_accuracy: 0.9999 - val_loss: 5.0147 - val_accuracy: 0.3868 - val_top_k_categorical_accuracy: 0.6378\n",
      "Epoch 43/50\n",
      "3125/3125 [==============================] - 97s 31ms/step - loss: 0.0196 - accuracy: 0.9949 - top_k_categorical_accuracy: 0.9999 - val_loss: 5.0422 - val_accuracy: 0.3887 - val_top_k_categorical_accuracy: 0.6341\n",
      "Epoch 44/50\n",
      "3125/3125 [==============================] - 97s 31ms/step - loss: 0.0167 - accuracy: 0.9957 - top_k_categorical_accuracy: 1.0000 - val_loss: 5.0261 - val_accuracy: 0.3912 - val_top_k_categorical_accuracy: 0.6349\n",
      "Epoch 45/50\n",
      "3125/3125 [==============================] - 98s 31ms/step - loss: 0.0155 - accuracy: 0.9962 - top_k_categorical_accuracy: 1.0000 - val_loss: 5.0485 - val_accuracy: 0.3952 - val_top_k_categorical_accuracy: 0.6437\n",
      "Epoch 46/50\n",
      "3125/3125 [==============================] - 95s 31ms/step - loss: 0.0140 - accuracy: 0.9966 - top_k_categorical_accuracy: 1.0000 - val_loss: 4.9923 - val_accuracy: 0.3900 - val_top_k_categorical_accuracy: 0.6431\n",
      "Epoch 47/50\n",
      "3125/3125 [==============================] - 98s 31ms/step - loss: 0.0133 - accuracy: 0.9969 - top_k_categorical_accuracy: 1.0000 - val_loss: 5.0831 - val_accuracy: 0.3932 - val_top_k_categorical_accuracy: 0.6315\n",
      "Epoch 48/50\n",
      "3125/3125 [==============================] - 97s 31ms/step - loss: 0.0121 - accuracy: 0.9973 - top_k_categorical_accuracy: 1.0000 - val_loss: 5.0022 - val_accuracy: 0.3909 - val_top_k_categorical_accuracy: 0.6386\n",
      "Epoch 49/50\n",
      "3125/3125 [==============================] - 96s 31ms/step - loss: 0.0109 - accuracy: 0.9977 - top_k_categorical_accuracy: 1.0000 - val_loss: 5.0256 - val_accuracy: 0.3888 - val_top_k_categorical_accuracy: 0.6415\n",
      "Epoch 50/50\n",
      "3125/3125 [==============================] - 98s 31ms/step - loss: 0.0090 - accuracy: 0.9981 - top_k_categorical_accuracy: 1.0000 - val_loss: 5.0971 - val_accuracy: 0.3959 - val_top_k_categorical_accuracy: 0.6384\n"
     ]
    }
   ],
   "source": [
    "\n",
    "history = model.fit(\n",
    "    ds_train,\n",
    "    epochs=50,\n",
    "    batch_size=32,\n",
    "    validation_data=ds_val,\n",
    ")"
   ]
  },
  {
   "cell_type": "code",
   "execution_count": 36,
   "metadata": {},
   "outputs": [],
   "source": [
    "np.save('tinyimagenet_densenet121_both_graph.npy',history.history)"
   ]
  },
  {
   "cell_type": "code",
   "execution_count": 34,
   "metadata": {},
   "outputs": [],
   "source": [
    "# model.save('tiny_imagenet_flip_blend_densenet_epoch_100_150')"
   ]
  },
  {
   "cell_type": "code",
   "execution_count": 37,
   "metadata": {},
   "outputs": [
    {
     "data": {
      "image/png": "[encoded data removed]",
      "text/plain": [
       "<Figure size 432x288 with 1 Axes>"
      ]
     },
     "metadata": {
      "needs_background": "light"
     },
     "output_type": "display_data"
    }
   ],
   "source": [
    "# Train/Test Accuracy Plot\n",
    "plt.plot(history.history['accuracy'])\n",
    "plt.plot(history.history['val_accuracy'])\n",
    "plt.title('Tiny Imagenet - Densenet121 - No Aug - Val: 38.45%')\n",
    "plt.ylabel('accuracy')\n",
    "plt.xlabel('epoch')\n",
    "plt.legend(['train', 'test'], loc='upper left')\n",
    "# plt.savefig('tiny_imagenet_no_aug.pdf')\n",
    "plt.show()"
   ]
  }
 ],
 "metadata": {
  "kernelspec": {
   "display_name": "Python 3.10.6 64-bit",
   "language": "python",
   "name": "python3"
  },
  "language_info": {
   "codemirror_mode": {
    "name": "ipython",
    "version": 3
   },
   "file_extension": ".py",
   "mimetype": "text/x-python",
   "name": "python",
   "nbconvert_exporter": "python",
   "pygments_lexer": "ipython3",
   "version": "3.10.6"
  },
  "orig_nbformat": 4,
  "vscode": {
   "interpreter": {
    "hash": "e7370f93d1d0cde622a1f8e1c04877d8463912d04d973331ad4851f04de6915a"
   }
  }
 },
 "nbformat": 4,
 "nbformat_minor": 2
}
