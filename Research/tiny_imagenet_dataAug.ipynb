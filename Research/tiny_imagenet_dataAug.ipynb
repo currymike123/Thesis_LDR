{
 "cells": [
  {
   "cell_type": "code",
   "execution_count": 1,
   "metadata": {},
   "outputs": [],
   "source": [
    "import tensorflow as tf\n",
    "from tensorflow import keras\n",
    "import keras_cv\n",
    "from tensorflow.keras import layers\n",
    "from tensorflow.keras.utils import image_dataset_from_directory\n",
    "import tensorflow_datasets as tfds\n",
    "from keras_cv import utils\n",
    "from keras_cv.layers import BaseImageAugmentationLayer\n",
    "from tensorflow.keras import applications\n",
    "from tensorflow.keras import losses\n",
    "from tensorflow.keras import optimizers\n",
    "import matplotlib.pyplot as plt\n",
    "import numpy as np"
   ]
  },
  {
   "cell_type": "code",
   "execution_count": 2,
   "metadata": {},
   "outputs": [
    {
     "name": "stdout",
     "output_type": "stream",
     "text": [
      "Num GPUs: 1\n"
     ]
    },
    {
     "name": "stderr",
     "output_type": "stream",
     "text": [
      "2022-10-18 22:12:06.179416: I tensorflow/stream_executor/cuda/cuda_gpu_executor.cc:975] successful NUMA node read from SysFS had negative value (-1), but there must be at least one NUMA node, so returning NUMA node zero\n",
      "2022-10-18 22:12:06.210246: I tensorflow/stream_executor/cuda/cuda_gpu_executor.cc:975] successful NUMA node read from SysFS had negative value (-1), but there must be at least one NUMA node, so returning NUMA node zero\n",
      "2022-10-18 22:12:06.210371: I tensorflow/stream_executor/cuda/cuda_gpu_executor.cc:975] successful NUMA node read from SysFS had negative value (-1), but there must be at least one NUMA node, so returning NUMA node zero\n"
     ]
    }
   ],
   "source": [
    "physical_devices = tf.config.list_physical_devices('GPU')\n",
    "print(\"Num GPUs:\", len(physical_devices))"
   ]
  },
  {
   "cell_type": "code",
   "execution_count": 3,
   "metadata": {},
   "outputs": [
    {
     "name": "stdout",
     "output_type": "stream",
     "text": [
      "Found 100000 files belonging to 200 classes.\n"
     ]
    },
    {
     "name": "stderr",
     "output_type": "stream",
     "text": [
      "2022-10-18 22:12:10.978907: I tensorflow/stream_executor/cuda/cuda_gpu_executor.cc:975] successful NUMA node read from SysFS had negative value (-1), but there must be at least one NUMA node, so returning NUMA node zero\n",
      "2022-10-18 22:12:10.979072: I tensorflow/stream_executor/cuda/cuda_gpu_executor.cc:975] successful NUMA node read from SysFS had negative value (-1), but there must be at least one NUMA node, so returning NUMA node zero\n",
      "2022-10-18 22:12:10.979160: I tensorflow/stream_executor/cuda/cuda_gpu_executor.cc:975] successful NUMA node read from SysFS had negative value (-1), but there must be at least one NUMA node, so returning NUMA node zero\n",
      "2022-10-18 22:12:11.482512: I tensorflow/stream_executor/cuda/cuda_gpu_executor.cc:975] successful NUMA node read from SysFS had negative value (-1), but there must be at least one NUMA node, so returning NUMA node zero\n",
      "2022-10-18 22:12:11.482632: I tensorflow/stream_executor/cuda/cuda_gpu_executor.cc:975] successful NUMA node read from SysFS had negative value (-1), but there must be at least one NUMA node, so returning NUMA node zero\n",
      "2022-10-18 22:12:11.482724: I tensorflow/stream_executor/cuda/cuda_gpu_executor.cc:975] successful NUMA node read from SysFS had negative value (-1), but there must be at least one NUMA node, so returning NUMA node zero\n",
      "2022-10-18 22:12:11.482799: I tensorflow/core/common_runtime/gpu/gpu_device.cc:1532] Created device /job:localhost/replica:0/task:0/device:GPU:0 with 21954 MB memory:  -> device: 0, name: NVIDIA GeForce RTX 3090, pci bus id: 0000:0a:00.0, compute capability: 8.6\n"
     ]
    }
   ],
   "source": [
    "ds_train = image_dataset_from_directory(\n",
    "'tiny_imagenet/train',\n",
    "image_size=(64,64),\n",
    "batch_size=32)"
   ]
  },
  {
   "cell_type": "code",
   "execution_count": 4,
   "metadata": {},
   "outputs": [
    {
     "name": "stdout",
     "output_type": "stream",
     "text": [
      "Found 10000 files belonging to 200 classes.\n"
     ]
    }
   ],
   "source": [
    "ds_val = image_dataset_from_directory(\n",
    "'tiny_imagenet/val',\n",
    "image_size=(64,64),\n",
    "batch_size=32)"
   ]
  },
  {
   "cell_type": "code",
   "execution_count": 5,
   "metadata": {},
   "outputs": [],
   "source": [
    "class RandomBlend(keras_cv.layers.BaseImageAugmentationLayer):\n",
    "    \"\"\"RandomBlueTint randomly applies a blue tint to images.\n",
    "\n",
    "    Args:\n",
    "      value_range: value_range: a tuple or a list of two elements. The first value\n",
    "        represents the lower bound for values in passed images, the second represents\n",
    "        the upper bound. Images passed to the layer should have values within\n",
    "        `value_range`.\n",
    "      factor: A tuple of two floats, a single float or a\n",
    "        `keras_cv.FactorSampler`. `factor` controls the extent to which the\n",
    "        image is blue shifted. `factor=0.0` makes this layer perform a no-op\n",
    "        operation, while a value of 1.0 uses the degenerated result entirely.\n",
    "        Values between 0 and 1 result in linear interpolation between the original\n",
    "        image and a fully blue image.\n",
    "        Values should be between `0.0` and `1.0`.  If a tuple is used, a `factor` is\n",
    "        sampled between the two values for every image augmented.  If a single float\n",
    "        is used, a value between `0.0` and the passed float is sampled.  In order to\n",
    "        ensure the value is always the same, please pass a tuple with two identical\n",
    "        floats: `(0.5, 0.5)`.\n",
    "    \"\"\"\n",
    "\n",
    "    def __init__(self, value_range, factor, **kwargs):\n",
    "        super().__init__(**kwargs)\n",
    "        self.value_range = value_range\n",
    "        self.factor = utils.parse_factor(factor)\n",
    "        self.auto_vectorize = False\n",
    "\n",
    "    def get_random_transformation(self, **kwargs):\n",
    "        # kwargs holds {\"images\": image, \"labels\": label, etc...}\n",
    "        return self.factor() \n",
    "\n",
    "    def augment_image(self, image, transformation=None, **kwargs):\n",
    "        image = utils.transform_value_range(image, self.value_range, (0, 1))\n",
    "        print(\"Here is the transformation:\",transformation)\n",
    "        multOrScreen = (np.random.randint(2))\n",
    "        print(multOrScreen)\n",
    "        \n",
    "        if(multOrScreen==0):\n",
    "            augImg = image * image\n",
    "            augImg = augImg * image\n",
    "            \n",
    "        else:\n",
    "            augImg = 1 - (1 - image) * (1 - image)\n",
    "            augImg = 1 - (1 - augImg) * (1 - image)\n",
    "            \n",
    "\n",
    "        image = (augImg * transformation) + (image * (1-transformation))\n",
    "        image = tf.clip_by_value(image, 0.0, 1.0)\n",
    "        # result = utils.transform_value_range(result, self.value_range, (0, 255))\n",
    "        \n",
    "        return image\n",
    "\n",
    "    def augment_label(self, label, transformation=None, **kwargs):\n",
    "        return label\n",
    "\n",
    "    def augment_bounding_boxes(self, bounding_boxes, transformation=None, **kwargs):\n",
    "        # you can also perform no-op augmentations on label types to support them in\n",
    "        # your pipeline.\n",
    "        return bounding_boxes"
   ]
  },
  {
   "cell_type": "code",
   "execution_count": 6,
   "metadata": {},
   "outputs": [],
   "source": [
    "augmenter = keras_cv.layers.Augmenter(\n",
    "  layers=[\n",
    "      # keras.layers.Rescaling(scale=1./255),\n",
    "      keras_cv.layers.RandomFlip(),\n",
    "      # keras.layers.RandomTranslation(height_factor=0.2,width_factor=0.2),\n",
    "      RandomBlend(value_range=(0, 1), factor=(0.01, 1.0)),\n",
    "      # keras_cv.layers.RandAugment(value_range=(0, 255)),\n",
    "      # keras_cv.layers.CutMix(),\n",
    "      # keras_cv.layers.MixUp()\n",
    "    ]\n",
    ")\n",
    "\n",
    "normalization_layer = tf.keras.layers.Rescaling(1./255)\n",
    "\n",
    "def augment_data(images, labels):\n",
    "  inputs = {\"images\": images, \"labels\": labels}\n",
    "  outputs = augmenter(inputs)\n",
    "  return outputs['images'], outputs['labels']\n",
    "\n",
    "\n",
    "def label_one_hot(images, labels):\n",
    "  labels = tf.one_hot(labels, 200)\n",
    "  outputs = {\"images\": images, \"labels\": labels}\n",
    "  return outputs['images'], outputs['labels']"
   ]
  },
  {
   "cell_type": "code",
   "execution_count": 7,
   "metadata": {},
   "outputs": [],
   "source": [
    "ds_train = ds_train.map(lambda x, y: (normalization_layer(x), y))"
   ]
  },
  {
   "cell_type": "code",
   "execution_count": 8,
   "metadata": {},
   "outputs": [],
   "source": [
    "ds_val = ds_val.map(lambda x, y: (normalization_layer(x), y))"
   ]
  },
  {
   "cell_type": "code",
   "execution_count": 9,
   "metadata": {},
   "outputs": [],
   "source": [
    "ds_train = ds_train.map(label_one_hot, num_parallel_calls=tf.data.AUTOTUNE)\n",
    "ds_val = ds_val.map(label_one_hot, num_parallel_calls=tf.data.AUTOTUNE)"
   ]
  },
  {
   "cell_type": "code",
   "execution_count": 10,
   "metadata": {},
   "outputs": [
    {
     "name": "stdout",
     "output_type": "stream",
     "text": [
      "WARNING:tensorflow:Using a while_loop for converting RngReadAndSkip\n",
      "WARNING:tensorflow:Using a while_loop for converting Bitcast\n",
      "WARNING:tensorflow:Using a while_loop for converting Bitcast\n",
      "WARNING:tensorflow:Using a while_loop for converting StatelessRandomUniformV2\n",
      "WARNING:tensorflow:Using a while_loop for converting RngReadAndSkip\n",
      "WARNING:tensorflow:Using a while_loop for converting Bitcast\n",
      "WARNING:tensorflow:Using a while_loop for converting Bitcast\n",
      "WARNING:tensorflow:Using a while_loop for converting StatelessRandomUniformV2\n",
      "Here is the transformation: Tensor(\"augmenter/random_blend/map/while/random_uniform:0\", shape=(), dtype=float32)\n",
      "0\n"
     ]
    }
   ],
   "source": [
    "ds_train = ds_train.map(augment_data, num_parallel_calls=tf.data.AUTOTUNE)"
   ]
  },
  {
   "cell_type": "code",
   "execution_count": null,
   "metadata": {},
   "outputs": [],
   "source": [
    "inputs = keras.Input(shape=(64,64,3))\n",
    "x = layers.Conv2D(filters=32, kernel_size=5, use_bias=False)(inputs)\n",
    "\n",
    "for size in [32,64,128,256,512]:\n",
    "    residual = x\n",
    "    \n",
    "    x = layers.BatchNormalization()(x)\n",
    "    x = layers.Activation(\"relu\")(x)\n",
    "    x = layers.SeparableConv2D(size, 3, padding=\"same\", use_bias=False)(x)\n",
    "\n",
    "    x = layers.BatchNormalization()(x)\n",
    "    x = layers.Activation(\"relu\")(x)\n",
    "    x = layers.SeparableConv2D(size, 3, padding=\"same\", use_bias=False)(x)\n",
    "\n",
    "    x = layers.MaxPooling2D(3, strides=2, padding=\"same\")(x)\n",
    "\n",
    "    residual = layers.Conv2D(size, 1, strides=2, padding=\"same\", use_bias=False)(residual)\n",
    "    x = layers.add([x, residual])\n",
    "\n",
    "\n",
    "x = layers.Flatten()(x)\n",
    "x = layers.Dropout(0.3)(x)\n",
    "x = layers.Dense(512, activation=\"relu\")(x)\n",
    "x = layers.Dropout(0.3)(x)\n",
    "x = layers.Dense(256, activation=\"relu\")(x)\n",
    "x = layers.Dropout(0.3)(x)\n",
    "x = layers.Dense(128, activation=\"relu\")(x)\n",
    "x = layers.Dropout(0.3)(x)\n",
    "outputs = layers.Dense(200, activation=\"softmax\")(x)\n",
    "model = keras.Model(inputs, outputs)\n",
    "model.summary()"
   ]
  },
  {
   "cell_type": "code",
   "execution_count": 12,
   "metadata": {},
   "outputs": [],
   "source": [
    "opt = tf.optimizers.Adam(learning_rate=0.0001)\n",
    "\n",
    "model.compile(\n",
    "  loss='categorical_crossentropy',\n",
    "  optimizer=opt,\n",
    "  metrics=['accuracy', 'TopKCategoricalAccuracy']\n",
    ")"
   ]
  },
  {
   "cell_type": "code",
   "execution_count": null,
   "metadata": {},
   "outputs": [],
   "source": [
    "history = model.fit(ds_train, batch_size=32,validation_data=ds_val, epochs=30)"
   ]
  },
  {
   "cell_type": "code",
   "execution_count": null,
   "metadata": {},
   "outputs": [],
   "source": [
    "history2 = model.fit(ds_train, batch_size=32,validation_data=ds_val, epochs=30)"
   ]
  },
  {
   "cell_type": "code",
   "execution_count": 11,
   "metadata": {},
   "outputs": [],
   "source": [
    "opt = tf.optimizers.SGD(momentum=0.9),\n",
    "\n",
    "model = keras_cv.models.DenseNet121(\n",
    "    include_rescaling=False, include_top=True, classes=200)\n",
    "    \n",
    "model.compile(\n",
    "    loss=losses.CategoricalCrossentropy(),\n",
    "    optimizer=optimizers.SGD(momentum=0.9),\n",
    "    metrics=[\"accuracy\", \"top_k_categorical_accuracy\"],\n",
    ")"
   ]
  },
  {
   "cell_type": "code",
   "execution_count": 16,
   "metadata": {},
   "outputs": [
    {
     "name": "stdout",
     "output_type": "stream",
     "text": [
      "Epoch 1/50\n",
      "3125/3125 [==============================] - 108s 34ms/step - loss: 0.4006 - accuracy: 0.8765 - top_k_categorical_accuracy: 0.9872 - val_loss: 3.7308 - val_accuracy: 0.4138 - val_top_k_categorical_accuracy: 0.6709\n",
      "Epoch 2/50\n",
      "3125/3125 [==============================] - 107s 34ms/step - loss: 0.3884 - accuracy: 0.8795 - top_k_categorical_accuracy: 0.9878 - val_loss: 3.7227 - val_accuracy: 0.4178 - val_top_k_categorical_accuracy: 0.6716\n",
      "Epoch 3/50\n",
      "3125/3125 [==============================] - 108s 35ms/step - loss: 0.3733 - accuracy: 0.8849 - top_k_categorical_accuracy: 0.9889 - val_loss: 3.8530 - val_accuracy: 0.4097 - val_top_k_categorical_accuracy: 0.6657\n",
      "Epoch 4/50\n",
      "3125/3125 [==============================] - 110s 35ms/step - loss: 0.3582 - accuracy: 0.8874 - top_k_categorical_accuracy: 0.9898 - val_loss: 3.8062 - val_accuracy: 0.4092 - val_top_k_categorical_accuracy: 0.6677\n",
      "Epoch 5/50\n",
      "3125/3125 [==============================] - 106s 34ms/step - loss: 0.3468 - accuracy: 0.8917 - top_k_categorical_accuracy: 0.9907 - val_loss: 3.7989 - val_accuracy: 0.4318 - val_top_k_categorical_accuracy: 0.6774\n",
      "Epoch 6/50\n",
      "3125/3125 [==============================] - 103s 33ms/step - loss: 0.3385 - accuracy: 0.8938 - top_k_categorical_accuracy: 0.9912 - val_loss: 3.8753 - val_accuracy: 0.4169 - val_top_k_categorical_accuracy: 0.6739\n",
      "Epoch 7/50\n",
      "3125/3125 [==============================] - 106s 34ms/step - loss: 0.3207 - accuracy: 0.8996 - top_k_categorical_accuracy: 0.9916 - val_loss: 3.8500 - val_accuracy: 0.4197 - val_top_k_categorical_accuracy: 0.6743\n",
      "Epoch 8/50\n",
      "3125/3125 [==============================] - 99s 32ms/step - loss: 0.3120 - accuracy: 0.9010 - top_k_categorical_accuracy: 0.9925 - val_loss: 3.8325 - val_accuracy: 0.4192 - val_top_k_categorical_accuracy: 0.6767\n",
      "Epoch 9/50\n",
      "3125/3125 [==============================] - 105s 34ms/step - loss: 0.2942 - accuracy: 0.9071 - top_k_categorical_accuracy: 0.9930 - val_loss: 3.9794 - val_accuracy: 0.4147 - val_top_k_categorical_accuracy: 0.6670\n",
      "Epoch 10/50\n",
      "3125/3125 [==============================] - 107s 34ms/step - loss: 0.2913 - accuracy: 0.9078 - top_k_categorical_accuracy: 0.9932 - val_loss: 3.8476 - val_accuracy: 0.4301 - val_top_k_categorical_accuracy: 0.6856\n",
      "Epoch 11/50\n",
      "3125/3125 [==============================] - 102s 33ms/step - loss: 0.2831 - accuracy: 0.9116 - top_k_categorical_accuracy: 0.9931 - val_loss: 3.9957 - val_accuracy: 0.4179 - val_top_k_categorical_accuracy: 0.6770\n",
      "Epoch 12/50\n",
      "3125/3125 [==============================] - 100s 32ms/step - loss: 0.2668 - accuracy: 0.9151 - top_k_categorical_accuracy: 0.9943 - val_loss: 3.8669 - val_accuracy: 0.4274 - val_top_k_categorical_accuracy: 0.6813\n",
      "Epoch 13/50\n",
      "3125/3125 [==============================] - 111s 35ms/step - loss: 0.2662 - accuracy: 0.9160 - top_k_categorical_accuracy: 0.9941 - val_loss: 4.0058 - val_accuracy: 0.4248 - val_top_k_categorical_accuracy: 0.6781\n",
      "Epoch 14/50\n",
      "3125/3125 [==============================] - 107s 34ms/step - loss: 0.2568 - accuracy: 0.9190 - top_k_categorical_accuracy: 0.9946 - val_loss: 4.0296 - val_accuracy: 0.4257 - val_top_k_categorical_accuracy: 0.6728\n",
      "Epoch 15/50\n",
      "3125/3125 [==============================] - 110s 35ms/step - loss: 0.2479 - accuracy: 0.9209 - top_k_categorical_accuracy: 0.9949 - val_loss: 3.9552 - val_accuracy: 0.4399 - val_top_k_categorical_accuracy: 0.6860\n",
      "Epoch 16/50\n",
      "3125/3125 [==============================] - 108s 35ms/step - loss: 0.2373 - accuracy: 0.9255 - top_k_categorical_accuracy: 0.9953 - val_loss: 4.1480 - val_accuracy: 0.4159 - val_top_k_categorical_accuracy: 0.6642\n",
      "Epoch 17/50\n",
      "3125/3125 [==============================] - 110s 35ms/step - loss: 0.2308 - accuracy: 0.9276 - top_k_categorical_accuracy: 0.9956 - val_loss: 4.0890 - val_accuracy: 0.4186 - val_top_k_categorical_accuracy: 0.6752\n",
      "Epoch 18/50\n",
      "3125/3125 [==============================] - 111s 35ms/step - loss: 0.2247 - accuracy: 0.9283 - top_k_categorical_accuracy: 0.9958 - val_loss: 4.1249 - val_accuracy: 0.4281 - val_top_k_categorical_accuracy: 0.6796\n",
      "Epoch 19/50\n",
      "3125/3125 [==============================] - 109s 35ms/step - loss: 0.2133 - accuracy: 0.9323 - top_k_categorical_accuracy: 0.9963 - val_loss: 3.9924 - val_accuracy: 0.4294 - val_top_k_categorical_accuracy: 0.6868\n",
      "Epoch 20/50\n",
      "3125/3125 [==============================] - 109s 35ms/step - loss: 0.2102 - accuracy: 0.9334 - top_k_categorical_accuracy: 0.9965 - val_loss: 4.1930 - val_accuracy: 0.4242 - val_top_k_categorical_accuracy: 0.6706\n",
      "Epoch 21/50\n",
      "3125/3125 [==============================] - 108s 34ms/step - loss: 0.2074 - accuracy: 0.9342 - top_k_categorical_accuracy: 0.9962 - val_loss: 4.0216 - val_accuracy: 0.4340 - val_top_k_categorical_accuracy: 0.6860\n",
      "Epoch 22/50\n",
      "3125/3125 [==============================] - 110s 35ms/step - loss: 0.2004 - accuracy: 0.9362 - top_k_categorical_accuracy: 0.9965 - val_loss: 4.0721 - val_accuracy: 0.4345 - val_top_k_categorical_accuracy: 0.6858\n",
      "Epoch 23/50\n",
      "3125/3125 [==============================] - 100s 32ms/step - loss: 0.1919 - accuracy: 0.9390 - top_k_categorical_accuracy: 0.9967 - val_loss: 4.1439 - val_accuracy: 0.4302 - val_top_k_categorical_accuracy: 0.6809\n",
      "Epoch 24/50\n",
      "3125/3125 [==============================] - 98s 31ms/step - loss: 0.1898 - accuracy: 0.9396 - top_k_categorical_accuracy: 0.9969 - val_loss: 4.1279 - val_accuracy: 0.4365 - val_top_k_categorical_accuracy: 0.6818\n",
      "Epoch 25/50\n",
      "3125/3125 [==============================] - 111s 35ms/step - loss: 0.1865 - accuracy: 0.9404 - top_k_categorical_accuracy: 0.9971 - val_loss: 4.1940 - val_accuracy: 0.4287 - val_top_k_categorical_accuracy: 0.6827\n",
      "Epoch 26/50\n",
      "3125/3125 [==============================] - 113s 36ms/step - loss: 0.1803 - accuracy: 0.9429 - top_k_categorical_accuracy: 0.9972 - val_loss: 4.1531 - val_accuracy: 0.4352 - val_top_k_categorical_accuracy: 0.6840\n",
      "Epoch 27/50\n",
      "3125/3125 [==============================] - 104s 33ms/step - loss: 0.1761 - accuracy: 0.9435 - top_k_categorical_accuracy: 0.9975 - val_loss: 4.1898 - val_accuracy: 0.4380 - val_top_k_categorical_accuracy: 0.6838\n",
      "Epoch 28/50\n",
      "3125/3125 [==============================] - 108s 34ms/step - loss: 0.1763 - accuracy: 0.9440 - top_k_categorical_accuracy: 0.9972 - val_loss: 4.1159 - val_accuracy: 0.4365 - val_top_k_categorical_accuracy: 0.6863\n",
      "Epoch 29/50\n",
      "3125/3125 [==============================] - 109s 35ms/step - loss: 0.1655 - accuracy: 0.9473 - top_k_categorical_accuracy: 0.9977 - val_loss: 4.1805 - val_accuracy: 0.4322 - val_top_k_categorical_accuracy: 0.6860\n",
      "Epoch 30/50\n",
      "3125/3125 [==============================] - 112s 36ms/step - loss: 0.1589 - accuracy: 0.9488 - top_k_categorical_accuracy: 0.9978 - val_loss: 4.1500 - val_accuracy: 0.4344 - val_top_k_categorical_accuracy: 0.6899\n",
      "Epoch 31/50\n",
      "3125/3125 [==============================] - 115s 37ms/step - loss: 0.1604 - accuracy: 0.9486 - top_k_categorical_accuracy: 0.9976 - val_loss: 4.2354 - val_accuracy: 0.4380 - val_top_k_categorical_accuracy: 0.6832\n",
      "Epoch 32/50\n",
      "3125/3125 [==============================] - 106s 34ms/step - loss: 0.1516 - accuracy: 0.9515 - top_k_categorical_accuracy: 0.9980 - val_loss: 4.2318 - val_accuracy: 0.4338 - val_top_k_categorical_accuracy: 0.6828\n",
      "Epoch 33/50\n",
      "3125/3125 [==============================] - 100s 32ms/step - loss: 0.1451 - accuracy: 0.9541 - top_k_categorical_accuracy: 0.9981 - val_loss: 4.3602 - val_accuracy: 0.4275 - val_top_k_categorical_accuracy: 0.6793\n",
      "Epoch 34/50\n",
      "3125/3125 [==============================] - 106s 34ms/step - loss: 0.1482 - accuracy: 0.9523 - top_k_categorical_accuracy: 0.9980 - val_loss: 4.2456 - val_accuracy: 0.4359 - val_top_k_categorical_accuracy: 0.6894\n",
      "Epoch 35/50\n",
      "3125/3125 [==============================] - 111s 36ms/step - loss: 0.1474 - accuracy: 0.9527 - top_k_categorical_accuracy: 0.9980 - val_loss: 4.3427 - val_accuracy: 0.4293 - val_top_k_categorical_accuracy: 0.6776\n",
      "Epoch 36/50\n",
      "3125/3125 [==============================] - 101s 32ms/step - loss: 0.1398 - accuracy: 0.9552 - top_k_categorical_accuracy: 0.9982 - val_loss: 4.2912 - val_accuracy: 0.4369 - val_top_k_categorical_accuracy: 0.6822\n",
      "Epoch 37/50\n",
      "3125/3125 [==============================] - 102s 33ms/step - loss: 0.1381 - accuracy: 0.9559 - top_k_categorical_accuracy: 0.9981 - val_loss: 4.3303 - val_accuracy: 0.4431 - val_top_k_categorical_accuracy: 0.6880\n",
      "Epoch 38/50\n",
      "3125/3125 [==============================] - 110s 35ms/step - loss: 0.1331 - accuracy: 0.9580 - top_k_categorical_accuracy: 0.9984 - val_loss: 4.2820 - val_accuracy: 0.4394 - val_top_k_categorical_accuracy: 0.6910\n",
      "Epoch 39/50\n",
      "3125/3125 [==============================] - 109s 35ms/step - loss: 0.1303 - accuracy: 0.9586 - top_k_categorical_accuracy: 0.9985 - val_loss: 4.2480 - val_accuracy: 0.4407 - val_top_k_categorical_accuracy: 0.6912\n",
      "Epoch 40/50\n",
      "3125/3125 [==============================] - 109s 35ms/step - loss: 0.1213 - accuracy: 0.9614 - top_k_categorical_accuracy: 0.9985 - val_loss: 4.3311 - val_accuracy: 0.4349 - val_top_k_categorical_accuracy: 0.6913\n",
      "Epoch 41/50\n",
      "3125/3125 [==============================] - 114s 36ms/step - loss: 0.1234 - accuracy: 0.9603 - top_k_categorical_accuracy: 0.9988 - val_loss: 4.3133 - val_accuracy: 0.4446 - val_top_k_categorical_accuracy: 0.6909\n",
      "Epoch 42/50\n",
      "3125/3125 [==============================] - 110s 35ms/step - loss: 0.1219 - accuracy: 0.9612 - top_k_categorical_accuracy: 0.9986 - val_loss: 4.3752 - val_accuracy: 0.4357 - val_top_k_categorical_accuracy: 0.6882\n",
      "Epoch 43/50\n",
      "3125/3125 [==============================] - 109s 35ms/step - loss: 0.1263 - accuracy: 0.9592 - top_k_categorical_accuracy: 0.9986 - val_loss: 4.4460 - val_accuracy: 0.4378 - val_top_k_categorical_accuracy: 0.6859\n",
      "Epoch 44/50\n",
      "3125/3125 [==============================] - 107s 34ms/step - loss: 0.1172 - accuracy: 0.9621 - top_k_categorical_accuracy: 0.9987 - val_loss: 4.3370 - val_accuracy: 0.4414 - val_top_k_categorical_accuracy: 0.6933\n",
      "Epoch 45/50\n",
      "3125/3125 [==============================] - 104s 33ms/step - loss: 0.1128 - accuracy: 0.9639 - top_k_categorical_accuracy: 0.9987 - val_loss: 4.4059 - val_accuracy: 0.4416 - val_top_k_categorical_accuracy: 0.6883\n",
      "Epoch 46/50\n",
      "3125/3125 [==============================] - 114s 37ms/step - loss: 0.1147 - accuracy: 0.9630 - top_k_categorical_accuracy: 0.9987 - val_loss: 4.3854 - val_accuracy: 0.4459 - val_top_k_categorical_accuracy: 0.6882\n",
      "Epoch 47/50\n",
      "3125/3125 [==============================] - 113s 36ms/step - loss: 0.1117 - accuracy: 0.9639 - top_k_categorical_accuracy: 0.9990 - val_loss: 4.3914 - val_accuracy: 0.4425 - val_top_k_categorical_accuracy: 0.6873\n",
      "Epoch 48/50\n",
      "3125/3125 [==============================] - 110s 35ms/step - loss: 0.1126 - accuracy: 0.9639 - top_k_categorical_accuracy: 0.9987 - val_loss: 4.4493 - val_accuracy: 0.4349 - val_top_k_categorical_accuracy: 0.6874\n",
      "Epoch 49/50\n",
      "3125/3125 [==============================] - 112s 36ms/step - loss: 0.1068 - accuracy: 0.9654 - top_k_categorical_accuracy: 0.9989 - val_loss: 4.3989 - val_accuracy: 0.4451 - val_top_k_categorical_accuracy: 0.6945\n",
      "Epoch 50/50\n",
      "3125/3125 [==============================] - 109s 35ms/step - loss: 0.1051 - accuracy: 0.9663 - top_k_categorical_accuracy: 0.9989 - val_loss: 4.4552 - val_accuracy: 0.4430 - val_top_k_categorical_accuracy: 0.6926\n"
     ]
    }
   ],
   "source": [
    "\n",
    "history = model.fit(\n",
    "    ds_train,\n",
    "    epochs=50,\n",
    "    batch_size=32,\n",
    "    validation_data=ds_val,\n",
    ")"
   ]
  },
  {
   "cell_type": "code",
   "execution_count": 17,
   "metadata": {},
   "outputs": [],
   "source": [
    "np.save('tinyimagenet_densenet121_flip_blend_epoch_50_100.npy',history.history)"
   ]
  },
  {
   "cell_type": "code",
   "execution_count": 18,
   "metadata": {},
   "outputs": [
    {
     "name": "stderr",
     "output_type": "stream",
     "text": [
      "WARNING:absl:Found untraced functions such as _jit_compiled_convolution_op, _jit_compiled_convolution_op, _jit_compiled_convolution_op, _jit_compiled_convolution_op, _jit_compiled_convolution_op while saving (showing 5 of 120). These functions will not be directly callable after loading.\n"
     ]
    },
    {
     "name": "stdout",
     "output_type": "stream",
     "text": [
      "INFO:tensorflow:Assets written to: tiny_imagenet_flip_blend_densenet_epoch_50_100/assets\n"
     ]
    },
    {
     "name": "stderr",
     "output_type": "stream",
     "text": [
      "INFO:tensorflow:Assets written to: tiny_imagenet_flip_blend_densenet_epoch_50_100/assets\n"
     ]
    }
   ],
   "source": [
    "model.save('tiny_imagenet_flip_blend_densenet_epoch_50_100')"
   ]
  },
  {
   "cell_type": "code",
   "execution_count": 15,
   "metadata": {},
   "outputs": [
    {
     "data": {
      "image/png": "[encoded data removed]",
      "text/plain": [
       "<Figure size 432x288 with 1 Axes>"
      ]
     },
     "metadata": {
      "needs_background": "light"
     },
     "output_type": "display_data"
    }
   ],
   "source": [
    "# Train/Test Accuracy Plot\n",
    "plt.plot(history.history['accuracy'])\n",
    "plt.plot(history.history['val_accuracy'])\n",
    "plt.title('Tiny Imagenet - Densenet121 - Flip/Blend - Val: 42.35%')\n",
    "plt.ylabel('accuracy')\n",
    "plt.xlabel('epoch')\n",
    "plt.legend(['train', 'test'], loc='upper left')\n",
    "plt.savefig('tiny_imagenet_flip_blend_densenet.pdf')\n",
    "plt.show()"
   ]
  }
 ],
 "metadata": {
  "kernelspec": {
   "display_name": "Python 3.10.6 64-bit",
   "language": "python",
   "name": "python3"
  },
  "language_info": {
   "codemirror_mode": {
    "name": "ipython",
    "version": 3
   },
   "file_extension": ".py",
   "mimetype": "text/x-python",
   "name": "python",
   "nbconvert_exporter": "python",
   "pygments_lexer": "ipython3",
   "version": "3.10.6"
  },
  "orig_nbformat": 4,
  "vscode": {
   "interpreter": {
    "hash": "e7370f93d1d0cde622a1f8e1c04877d8463912d04d973331ad4851f04de6915a"
   }
  }
 },
 "nbformat": 4,
 "nbformat_minor": 2
}
