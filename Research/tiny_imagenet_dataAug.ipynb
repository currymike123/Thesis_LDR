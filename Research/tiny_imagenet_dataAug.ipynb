{
 "cells": [
  {
   "cell_type": "code",
   "execution_count": 1,
   "metadata": {},
   "outputs": [],
   "source": [
    "import tensorflow as tf\n",
    "from tensorflow import keras\n",
    "import keras_cv\n",
    "from tensorflow.keras import layers\n",
    "from tensorflow.keras.utils import image_dataset_from_directory\n",
    "import tensorflow_datasets as tfds\n",
    "from keras_cv import utils\n",
    "from keras_cv.layers import BaseImageAugmentationLayer\n",
    "from tensorflow.keras import applications\n",
    "from tensorflow.keras import losses\n",
    "from tensorflow.keras import optimizers\n",
    "import matplotlib.pyplot as plt\n",
    "import numpy as np"
   ]
  },
  {
   "cell_type": "code",
   "execution_count": 2,
   "metadata": {},
   "outputs": [
    {
     "name": "stdout",
     "output_type": "stream",
     "text": [
      "Num GPUs: 0\n"
     ]
    },
    {
     "name": "stderr",
     "output_type": "stream",
     "text": [
      "2022-10-18 07:33:40.667225: E tensorflow/stream_executor/cuda/cuda_driver.cc:271] failed call to cuInit: CUDA_ERROR_UNKNOWN: unknown error\n",
      "2022-10-18 07:33:40.667245: I tensorflow/stream_executor/cuda/cuda_diagnostics.cc:169] retrieving CUDA diagnostic information for host: mike-System-Product-Name\n",
      "2022-10-18 07:33:40.667248: I tensorflow/stream_executor/cuda/cuda_diagnostics.cc:176] hostname: mike-System-Product-Name\n",
      "2022-10-18 07:33:40.667309: I tensorflow/stream_executor/cuda/cuda_diagnostics.cc:200] libcuda reported version is: 515.76.0\n",
      "2022-10-18 07:33:40.667318: I tensorflow/stream_executor/cuda/cuda_diagnostics.cc:204] kernel reported version is: 515.76.0\n",
      "2022-10-18 07:33:40.667321: I tensorflow/stream_executor/cuda/cuda_diagnostics.cc:310] kernel version seems to match DSO: 515.76.0\n"
     ]
    }
   ],
   "source": [
    "physical_devices = tf.config.list_physical_devices('GPU')\n",
    "print(\"Num GPUs:\", len(physical_devices))"
   ]
  },
  {
   "cell_type": "code",
   "execution_count": 3,
   "metadata": {},
   "outputs": [
    {
     "name": "stdout",
     "output_type": "stream",
     "text": [
      "Found 100000 files belonging to 200 classes.\n"
     ]
    },
    {
     "name": "stderr",
     "output_type": "stream",
     "text": [
      "2022-10-17 23:10:12.937803: I tensorflow/stream_executor/cuda/cuda_gpu_executor.cc:975] successful NUMA node read from SysFS had negative value (-1), but there must be at least one NUMA node, so returning NUMA node zero\n",
      "2022-10-17 23:10:12.938053: I tensorflow/stream_executor/cuda/cuda_gpu_executor.cc:975] successful NUMA node read from SysFS had negative value (-1), but there must be at least one NUMA node, so returning NUMA node zero\n",
      "2022-10-17 23:10:12.938175: I tensorflow/stream_executor/cuda/cuda_gpu_executor.cc:975] successful NUMA node read from SysFS had negative value (-1), but there must be at least one NUMA node, so returning NUMA node zero\n",
      "2022-10-17 23:10:13.440961: I tensorflow/stream_executor/cuda/cuda_gpu_executor.cc:975] successful NUMA node read from SysFS had negative value (-1), but there must be at least one NUMA node, so returning NUMA node zero\n",
      "2022-10-17 23:10:13.441084: I tensorflow/stream_executor/cuda/cuda_gpu_executor.cc:975] successful NUMA node read from SysFS had negative value (-1), but there must be at least one NUMA node, so returning NUMA node zero\n",
      "2022-10-17 23:10:13.441177: I tensorflow/stream_executor/cuda/cuda_gpu_executor.cc:975] successful NUMA node read from SysFS had negative value (-1), but there must be at least one NUMA node, so returning NUMA node zero\n",
      "2022-10-17 23:10:13.441254: I tensorflow/core/common_runtime/gpu/gpu_device.cc:1532] Created device /job:localhost/replica:0/task:0/device:GPU:0 with 21972 MB memory:  -> device: 0, name: NVIDIA GeForce RTX 3090, pci bus id: 0000:0a:00.0, compute capability: 8.6\n"
     ]
    }
   ],
   "source": [
    "ds_train = image_dataset_from_directory(\n",
    "'tiny_imagenet/train',\n",
    "image_size=(64,64),\n",
    "batch_size=32)"
   ]
  },
  {
   "cell_type": "code",
   "execution_count": 4,
   "metadata": {},
   "outputs": [
    {
     "name": "stdout",
     "output_type": "stream",
     "text": [
      "Found 10000 files belonging to 200 classes.\n"
     ]
    }
   ],
   "source": [
    "ds_val = image_dataset_from_directory(\n",
    "'tiny_imagenet/val',\n",
    "image_size=(64,64),\n",
    "batch_size=32)"
   ]
  },
  {
   "cell_type": "code",
   "execution_count": 5,
   "metadata": {},
   "outputs": [],
   "source": [
    "class RandomBlend(keras_cv.layers.BaseImageAugmentationLayer):\n",
    "    \"\"\"RandomBlueTint randomly applies a blue tint to images.\n",
    "\n",
    "    Args:\n",
    "      value_range: value_range: a tuple or a list of two elements. The first value\n",
    "        represents the lower bound for values in passed images, the second represents\n",
    "        the upper bound. Images passed to the layer should have values within\n",
    "        `value_range`.\n",
    "      factor: A tuple of two floats, a single float or a\n",
    "        `keras_cv.FactorSampler`. `factor` controls the extent to which the\n",
    "        image is blue shifted. `factor=0.0` makes this layer perform a no-op\n",
    "        operation, while a value of 1.0 uses the degenerated result entirely.\n",
    "        Values between 0 and 1 result in linear interpolation between the original\n",
    "        image and a fully blue image.\n",
    "        Values should be between `0.0` and `1.0`.  If a tuple is used, a `factor` is\n",
    "        sampled between the two values for every image augmented.  If a single float\n",
    "        is used, a value between `0.0` and the passed float is sampled.  In order to\n",
    "        ensure the value is always the same, please pass a tuple with two identical\n",
    "        floats: `(0.5, 0.5)`.\n",
    "    \"\"\"\n",
    "\n",
    "    def __init__(self, value_range, factor, **kwargs):\n",
    "        super().__init__(**kwargs)\n",
    "        self.value_range = value_range\n",
    "        self.factor = utils.parse_factor(factor)\n",
    "        self.auto_vectorize = False\n",
    "\n",
    "    def get_random_transformation(self, **kwargs):\n",
    "        # kwargs holds {\"images\": image, \"labels\": label, etc...}\n",
    "        return self.factor() \n",
    "\n",
    "    def augment_image(self, image, transformation=None, **kwargs):\n",
    "        image = utils.transform_value_range(image, self.value_range, (0, 1))\n",
    "        print(\"Here is the transformation:\",transformation)\n",
    "        multOrScreen = (np.random.randint(2))\n",
    "        print(multOrScreen)\n",
    "        \n",
    "        if(multOrScreen==0):\n",
    "            augImg = image * image\n",
    "            augImg = augImg * image\n",
    "            \n",
    "        else:\n",
    "            augImg = 1 - (1 - image) * (1 - image)\n",
    "            augImg = 1 - (1 - augImg) * (1 - image)\n",
    "            \n",
    "\n",
    "        image = (augImg * transformation) + (image * (1-transformation))\n",
    "        image = tf.clip_by_value(image, 0.0, 1.0)\n",
    "        # result = utils.transform_value_range(result, self.value_range, (0, 255))\n",
    "        \n",
    "        return image\n",
    "\n",
    "    def augment_label(self, label, transformation=None, **kwargs):\n",
    "        return label\n",
    "\n",
    "    def augment_bounding_boxes(self, bounding_boxes, transformation=None, **kwargs):\n",
    "        # you can also perform no-op augmentations on label types to support them in\n",
    "        # your pipeline.\n",
    "        return bounding_boxes"
   ]
  },
  {
   "cell_type": "code",
   "execution_count": 6,
   "metadata": {},
   "outputs": [],
   "source": [
    "augmenter = keras_cv.layers.Augmenter(\n",
    "  layers=[\n",
    "      # keras.layers.Rescaling(scale=1./255),\n",
    "      keras_cv.layers.RandomFlip(),\n",
    "      # keras.layers.RandomTranslation(height_factor=0.2,width_factor=0.2),\n",
    "      RandomBlend(value_range=(0, 1), factor=(0.01, 1.0)),\n",
    "      # keras_cv.layers.RandAugment(value_range=(0, 255)),\n",
    "      # keras_cv.layers.CutMix(),\n",
    "      # keras_cv.layers.MixUp()\n",
    "    ]\n",
    ")\n",
    "\n",
    "normalization_layer = tf.keras.layers.Rescaling(1./255)\n",
    "\n",
    "def augment_data(images, labels):\n",
    "  inputs = {\"images\": images, \"labels\": labels}\n",
    "  outputs = augmenter(inputs)\n",
    "  return outputs['images'], outputs['labels']\n",
    "\n",
    "\n",
    "def label_one_hot(images, labels):\n",
    "  labels = tf.one_hot(labels, 200)\n",
    "  outputs = {\"images\": images, \"labels\": labels}\n",
    "  return outputs['images'], outputs['labels']"
   ]
  },
  {
   "cell_type": "code",
   "execution_count": 7,
   "metadata": {},
   "outputs": [],
   "source": [
    "ds_train = ds_train.map(lambda x, y: (normalization_layer(x), y))"
   ]
  },
  {
   "cell_type": "code",
   "execution_count": 8,
   "metadata": {},
   "outputs": [],
   "source": [
    "ds_val = ds_val.map(lambda x, y: (normalization_layer(x), y))"
   ]
  },
  {
   "cell_type": "code",
   "execution_count": 9,
   "metadata": {},
   "outputs": [],
   "source": [
    "ds_train = ds_train.map(label_one_hot, num_parallel_calls=tf.data.AUTOTUNE)\n",
    "ds_val = ds_val.map(label_one_hot, num_parallel_calls=tf.data.AUTOTUNE)"
   ]
  },
  {
   "cell_type": "code",
   "execution_count": 10,
   "metadata": {},
   "outputs": [
    {
     "name": "stdout",
     "output_type": "stream",
     "text": [
      "WARNING:tensorflow:Using a while_loop for converting RngReadAndSkip\n",
      "WARNING:tensorflow:Using a while_loop for converting Bitcast\n",
      "WARNING:tensorflow:Using a while_loop for converting Bitcast\n",
      "WARNING:tensorflow:Using a while_loop for converting StatelessRandomUniformV2\n",
      "WARNING:tensorflow:Using a while_loop for converting RngReadAndSkip\n",
      "WARNING:tensorflow:Using a while_loop for converting Bitcast\n",
      "WARNING:tensorflow:Using a while_loop for converting Bitcast\n",
      "WARNING:tensorflow:Using a while_loop for converting StatelessRandomUniformV2\n",
      "Here is the transformation: Tensor(\"augmenter/random_blend/map/while/random_uniform:0\", shape=(), dtype=float32)\n",
      "0\n"
     ]
    }
   ],
   "source": [
    "ds_train = ds_train.map(augment_data, num_parallel_calls=tf.data.AUTOTUNE)"
   ]
  },
  {
   "cell_type": "code",
   "execution_count": null,
   "metadata": {},
   "outputs": [],
   "source": [
    "inputs = keras.Input(shape=(64,64,3))\n",
    "x = layers.Conv2D(filters=32, kernel_size=5, use_bias=False)(inputs)\n",
    "\n",
    "for size in [32,64,128,256,512]:\n",
    "    residual = x\n",
    "    \n",
    "    x = layers.BatchNormalization()(x)\n",
    "    x = layers.Activation(\"relu\")(x)\n",
    "    x = layers.SeparableConv2D(size, 3, padding=\"same\", use_bias=False)(x)\n",
    "\n",
    "    x = layers.BatchNormalization()(x)\n",
    "    x = layers.Activation(\"relu\")(x)\n",
    "    x = layers.SeparableConv2D(size, 3, padding=\"same\", use_bias=False)(x)\n",
    "\n",
    "    x = layers.MaxPooling2D(3, strides=2, padding=\"same\")(x)\n",
    "\n",
    "    residual = layers.Conv2D(size, 1, strides=2, padding=\"same\", use_bias=False)(residual)\n",
    "    x = layers.add([x, residual])\n",
    "\n",
    "\n",
    "x = layers.Flatten()(x)\n",
    "x = layers.Dropout(0.3)(x)\n",
    "x = layers.Dense(512, activation=\"relu\")(x)\n",
    "x = layers.Dropout(0.3)(x)\n",
    "x = layers.Dense(256, activation=\"relu\")(x)\n",
    "x = layers.Dropout(0.3)(x)\n",
    "x = layers.Dense(128, activation=\"relu\")(x)\n",
    "x = layers.Dropout(0.3)(x)\n",
    "outputs = layers.Dense(200, activation=\"softmax\")(x)\n",
    "model = keras.Model(inputs, outputs)\n",
    "model.summary()"
   ]
  },
  {
   "cell_type": "code",
   "execution_count": 12,
   "metadata": {},
   "outputs": [],
   "source": [
    "opt = tf.optimizers.Adam(learning_rate=0.0001)\n",
    "\n",
    "model.compile(\n",
    "  loss='categorical_crossentropy',\n",
    "  optimizer=opt,\n",
    "  metrics=['accuracy', 'TopKCategoricalAccuracy']\n",
    ")"
   ]
  },
  {
   "cell_type": "code",
   "execution_count": null,
   "metadata": {},
   "outputs": [],
   "source": [
    "history = model.fit(ds_train, batch_size=32,validation_data=ds_val, epochs=30)"
   ]
  },
  {
   "cell_type": "code",
   "execution_count": null,
   "metadata": {},
   "outputs": [],
   "source": [
    "history2 = model.fit(ds_train, batch_size=32,validation_data=ds_val, epochs=30)"
   ]
  },
  {
   "cell_type": "code",
   "execution_count": 11,
   "metadata": {},
   "outputs": [],
   "source": [
    "opt = tf.optimizers.SGD(momentum=0.9),\n",
    "\n",
    "model = keras_cv.models.DenseNet121(\n",
    "    include_rescaling=False, include_top=True, classes=200)\n",
    "    \n",
    "model.compile(\n",
    "    loss=losses.CategoricalCrossentropy(),\n",
    "    optimizer=optimizers.SGD(momentum=0.9),\n",
    "    metrics=[\"accuracy\", \"top_k_categorical_accuracy\"],\n",
    ")"
   ]
  },
  {
   "cell_type": "code",
   "execution_count": 12,
   "metadata": {},
   "outputs": [
    {
     "name": "stdout",
     "output_type": "stream",
     "text": [
      "Epoch 1/50\n"
     ]
    },
    {
     "name": "stderr",
     "output_type": "stream",
     "text": [
      "2022-10-17 23:11:43.885129: I tensorflow/stream_executor/cuda/cuda_dnn.cc:384] Loaded cuDNN version 8303\n",
      "2022-10-17 23:11:45.810619: I tensorflow/stream_executor/cuda/cuda_blas.cc:1786] TensorFloat-32 will be used for the matrix multiplication. This will only be logged once.\n"
     ]
    },
    {
     "name": "stdout",
     "output_type": "stream",
     "text": [
      "3125/3125 [==============================] - 111s 33ms/step - loss: 4.6141 - accuracy: 0.0646 - top_k_categorical_accuracy: 0.2024 - val_loss: 4.7737 - val_accuracy: 0.0686 - val_top_k_categorical_accuracy: 0.2079\n",
      "Epoch 2/50\n",
      "3125/3125 [==============================] - 103s 33ms/step - loss: 3.8262 - accuracy: 0.1591 - top_k_categorical_accuracy: 0.3882 - val_loss: 3.6905 - val_accuracy: 0.1788 - val_top_k_categorical_accuracy: 0.4192\n",
      "Epoch 3/50\n",
      "3125/3125 [==============================] - 104s 33ms/step - loss: 3.4297 - accuracy: 0.2231 - top_k_categorical_accuracy: 0.4791 - val_loss: 3.4112 - val_accuracy: 0.2313 - val_top_k_categorical_accuracy: 0.4903\n",
      "Epoch 4/50\n",
      "3125/3125 [==============================] - 108s 34ms/step - loss: 3.1576 - accuracy: 0.2717 - top_k_categorical_accuracy: 0.5397 - val_loss: 3.3223 - val_accuracy: 0.2465 - val_top_k_categorical_accuracy: 0.5071\n",
      "Epoch 5/50\n",
      "3125/3125 [==============================] - 108s 35ms/step - loss: 2.9578 - accuracy: 0.3081 - top_k_categorical_accuracy: 0.5834 - val_loss: 3.1349 - val_accuracy: 0.2814 - val_top_k_categorical_accuracy: 0.5530\n",
      "Epoch 6/50\n",
      "3125/3125 [==============================] - 104s 33ms/step - loss: 2.7954 - accuracy: 0.3404 - top_k_categorical_accuracy: 0.6180 - val_loss: 3.0032 - val_accuracy: 0.3029 - val_top_k_categorical_accuracy: 0.5752\n",
      "Epoch 7/50\n",
      "3125/3125 [==============================] - 107s 34ms/step - loss: 2.6520 - accuracy: 0.3661 - top_k_categorical_accuracy: 0.6456 - val_loss: 3.0451 - val_accuracy: 0.3095 - val_top_k_categorical_accuracy: 0.5725\n",
      "Epoch 8/50\n",
      "3125/3125 [==============================] - 110s 35ms/step - loss: 2.5283 - accuracy: 0.3908 - top_k_categorical_accuracy: 0.6704 - val_loss: 3.0202 - val_accuracy: 0.3132 - val_top_k_categorical_accuracy: 0.5788\n",
      "Epoch 9/50\n",
      "3125/3125 [==============================] - 109s 35ms/step - loss: 2.4150 - accuracy: 0.4148 - top_k_categorical_accuracy: 0.6916 - val_loss: 2.8844 - val_accuracy: 0.3449 - val_top_k_categorical_accuracy: 0.6071\n",
      "Epoch 10/50\n",
      "3125/3125 [==============================] - 109s 35ms/step - loss: 2.3191 - accuracy: 0.4319 - top_k_categorical_accuracy: 0.7112 - val_loss: 2.8265 - val_accuracy: 0.3500 - val_top_k_categorical_accuracy: 0.6231\n",
      "Epoch 11/50\n",
      "3125/3125 [==============================] - 105s 34ms/step - loss: 2.2227 - accuracy: 0.4513 - top_k_categorical_accuracy: 0.7276 - val_loss: 2.6974 - val_accuracy: 0.3756 - val_top_k_categorical_accuracy: 0.6455\n",
      "Epoch 12/50\n",
      "3125/3125 [==============================] - 104s 33ms/step - loss: 2.1319 - accuracy: 0.4710 - top_k_categorical_accuracy: 0.7447 - val_loss: 2.8296 - val_accuracy: 0.3580 - val_top_k_categorical_accuracy: 0.6223\n",
      "Epoch 13/50\n",
      "3125/3125 [==============================] - 108s 34ms/step - loss: 2.0450 - accuracy: 0.4879 - top_k_categorical_accuracy: 0.7595 - val_loss: 2.7092 - val_accuracy: 0.3779 - val_top_k_categorical_accuracy: 0.6500\n",
      "Epoch 14/50\n",
      "3125/3125 [==============================] - 107s 34ms/step - loss: 1.9628 - accuracy: 0.5051 - top_k_categorical_accuracy: 0.7756 - val_loss: 2.6665 - val_accuracy: 0.3893 - val_top_k_categorical_accuracy: 0.6624\n",
      "Epoch 15/50\n",
      "3125/3125 [==============================] - 109s 35ms/step - loss: 1.8905 - accuracy: 0.5217 - top_k_categorical_accuracy: 0.7873 - val_loss: 2.6097 - val_accuracy: 0.4056 - val_top_k_categorical_accuracy: 0.6714\n",
      "Epoch 16/50\n",
      "3125/3125 [==============================] - 109s 35ms/step - loss: 1.8191 - accuracy: 0.5360 - top_k_categorical_accuracy: 0.7989 - val_loss: 2.8279 - val_accuracy: 0.3677 - val_top_k_categorical_accuracy: 0.6333\n",
      "Epoch 17/50\n",
      "3125/3125 [==============================] - 109s 35ms/step - loss: 1.7511 - accuracy: 0.5501 - top_k_categorical_accuracy: 0.8116 - val_loss: 2.6475 - val_accuracy: 0.4041 - val_top_k_categorical_accuracy: 0.6694\n",
      "Epoch 18/50\n",
      "3125/3125 [==============================] - 110s 35ms/step - loss: 1.6728 - accuracy: 0.5661 - top_k_categorical_accuracy: 0.8239 - val_loss: 2.7802 - val_accuracy: 0.3828 - val_top_k_categorical_accuracy: 0.6507\n",
      "Epoch 19/50\n",
      "3125/3125 [==============================] - 107s 34ms/step - loss: 1.6102 - accuracy: 0.5808 - top_k_categorical_accuracy: 0.8355 - val_loss: 2.6833 - val_accuracy: 0.4063 - val_top_k_categorical_accuracy: 0.6691\n",
      "Epoch 20/50\n",
      "3125/3125 [==============================] - 107s 34ms/step - loss: 1.5470 - accuracy: 0.5950 - top_k_categorical_accuracy: 0.8451 - val_loss: 2.7377 - val_accuracy: 0.4007 - val_top_k_categorical_accuracy: 0.6677\n",
      "Epoch 21/50\n",
      "3125/3125 [==============================] - 107s 34ms/step - loss: 1.4820 - accuracy: 0.6085 - top_k_categorical_accuracy: 0.8552 - val_loss: 2.9321 - val_accuracy: 0.3754 - val_top_k_categorical_accuracy: 0.6402\n",
      "Epoch 22/50\n",
      "3125/3125 [==============================] - 100s 32ms/step - loss: 1.4165 - accuracy: 0.6227 - top_k_categorical_accuracy: 0.8671 - val_loss: 2.7200 - val_accuracy: 0.4135 - val_top_k_categorical_accuracy: 0.6785\n",
      "Epoch 23/50\n",
      "3125/3125 [==============================] - 106s 34ms/step - loss: 1.3634 - accuracy: 0.6341 - top_k_categorical_accuracy: 0.8743 - val_loss: 2.9895 - val_accuracy: 0.3786 - val_top_k_categorical_accuracy: 0.6436\n",
      "Epoch 24/50\n",
      "3125/3125 [==============================] - 108s 35ms/step - loss: 1.3101 - accuracy: 0.6463 - top_k_categorical_accuracy: 0.8816 - val_loss: 2.7827 - val_accuracy: 0.4125 - val_top_k_categorical_accuracy: 0.6745\n",
      "Epoch 25/50\n",
      "3125/3125 [==============================] - 107s 34ms/step - loss: 1.2513 - accuracy: 0.6599 - top_k_categorical_accuracy: 0.8911 - val_loss: 2.8196 - val_accuracy: 0.4082 - val_top_k_categorical_accuracy: 0.6749\n",
      "Epoch 26/50\n",
      "3125/3125 [==============================] - 108s 35ms/step - loss: 1.1972 - accuracy: 0.6711 - top_k_categorical_accuracy: 0.8993 - val_loss: 2.9179 - val_accuracy: 0.3992 - val_top_k_categorical_accuracy: 0.6580\n",
      "Epoch 27/50\n",
      "3125/3125 [==============================] - 103s 33ms/step - loss: 1.1550 - accuracy: 0.6822 - top_k_categorical_accuracy: 0.9055 - val_loss: 2.9421 - val_accuracy: 0.4061 - val_top_k_categorical_accuracy: 0.6637\n",
      "Epoch 28/50\n",
      "3125/3125 [==============================] - 106s 34ms/step - loss: 1.0913 - accuracy: 0.6962 - top_k_categorical_accuracy: 0.9136 - val_loss: 2.9609 - val_accuracy: 0.4055 - val_top_k_categorical_accuracy: 0.6678\n",
      "Epoch 29/50\n",
      "3125/3125 [==============================] - 106s 34ms/step - loss: 1.0526 - accuracy: 0.7052 - top_k_categorical_accuracy: 0.9206 - val_loss: 2.9907 - val_accuracy: 0.4015 - val_top_k_categorical_accuracy: 0.6635\n",
      "Epoch 30/50\n",
      "3125/3125 [==============================] - 106s 34ms/step - loss: 1.0078 - accuracy: 0.7164 - top_k_categorical_accuracy: 0.9261 - val_loss: 2.9649 - val_accuracy: 0.4142 - val_top_k_categorical_accuracy: 0.6786\n",
      "Epoch 31/50\n",
      "3125/3125 [==============================] - 106s 34ms/step - loss: 0.9568 - accuracy: 0.7290 - top_k_categorical_accuracy: 0.9321 - val_loss: 3.0659 - val_accuracy: 0.4042 - val_top_k_categorical_accuracy: 0.6695\n",
      "Epoch 32/50\n",
      "3125/3125 [==============================] - 108s 34ms/step - loss: 0.9202 - accuracy: 0.7376 - top_k_categorical_accuracy: 0.9375 - val_loss: 3.0696 - val_accuracy: 0.4140 - val_top_k_categorical_accuracy: 0.6696\n",
      "Epoch 33/50\n",
      "3125/3125 [==============================] - 108s 34ms/step - loss: 0.8851 - accuracy: 0.7461 - top_k_categorical_accuracy: 0.9408 - val_loss: 3.0910 - val_accuracy: 0.4166 - val_top_k_categorical_accuracy: 0.6729\n",
      "Epoch 34/50\n",
      "2884/3125 [==========================>...] - ETA: 7s - loss: 0.8415 - accuracy: 0.7576 - top_k_categorical_accuracy: 0.9467"
     ]
    },
    {
     "ename": "",
     "evalue": "",
     "output_type": "error",
     "traceback": [
      "\u001b[1;31mCanceled future for execute_request message before replies were done"
     ]
    },
    {
     "ename": "",
     "evalue": "",
     "output_type": "error",
     "traceback": [
      "The Kernel crashed while executing code in the the current cell or a previous cell. Please review the code in the cell(s) to identify a possible cause of the failure. Click <a href='https://aka.ms/vscodeJupyterKernelCrash'>here</a> for more info. View Jupyter <a href='command:jupyter.viewOutput'>log</a> for further details."
     ]
    }
   ],
   "source": [
    "\n",
    "history = model.fit(\n",
    "    ds_train,\n",
    "    epochs=50,\n",
    "    batch_size=32,\n",
    "    validation_data=ds_val,\n",
    ")"
   ]
  },
  {
   "cell_type": "code",
   "execution_count": null,
   "metadata": {},
   "outputs": [],
   "source": [
    "np.save('tinyimagenet_densenet121_flip_blend.npy',history.history)"
   ]
  },
  {
   "cell_type": "code",
   "execution_count": null,
   "metadata": {},
   "outputs": [
    {
     "name": "stderr",
     "output_type": "stream",
     "text": [
      "WARNING:absl:Found untraced functions such as _jit_compiled_convolution_op, _jit_compiled_convolution_op, _jit_compiled_convolution_op, _jit_compiled_convolution_op, _jit_compiled_convolution_op while saving (showing 5 of 120). These functions will not be directly callable after loading.\n"
     ]
    },
    {
     "name": "stdout",
     "output_type": "stream",
     "text": [
      "INFO:tensorflow:Assets written to: tiny_imagenet_only_flip_densenet/assets\n"
     ]
    },
    {
     "name": "stderr",
     "output_type": "stream",
     "text": [
      "INFO:tensorflow:Assets written to: tiny_imagenet_only_flip_densenet/assets\n"
     ]
    }
   ],
   "source": [
    "model.save('tiny_imagenet_flip_blend_densenet')"
   ]
  },
  {
   "cell_type": "code",
   "execution_count": null,
   "metadata": {},
   "outputs": [
    {
     "data": {
      "image/png": "[encoded data removed]",
      "text/plain": [
       "<Figure size 432x288 with 1 Axes>"
      ]
     },
     "metadata": {
      "needs_background": "light"
     },
     "output_type": "display_data"
    }
   ],
   "source": [
    "# Train/Test Accuracy Plot\n",
    "plt.plot(history.history['accuracy'])\n",
    "plt.plot(history.history['val_accuracy'])\n",
    "plt.title('Tiny Imagenet - Densenet121 - Flip/Blend - Val: ')\n",
    "plt.ylabel('accuracy')\n",
    "plt.xlabel('epoch')\n",
    "plt.legend(['train', 'test'], loc='upper left')\n",
    "plt.savefig('tiny_imagenet_only_flip_densenet.pdf')\n",
    "plt.show()"
   ]
  }
 ],
 "metadata": {
  "kernelspec": {
   "display_name": "Python 3.10.6 64-bit",
   "language": "python",
   "name": "python3"
  },
  "language_info": {
   "codemirror_mode": {
    "name": "ipython",
    "version": 3
   },
   "file_extension": ".py",
   "mimetype": "text/x-python",
   "name": "python",
   "nbconvert_exporter": "python",
   "pygments_lexer": "ipython3",
   "version": "3.10.6"
  },
  "orig_nbformat": 4,
  "vscode": {
   "interpreter": {
    "hash": "e7370f93d1d0cde622a1f8e1c04877d8463912d04d973331ad4851f04de6915a"
   }
  }
 },
 "nbformat": 4,
 "nbformat_minor": 2
}
