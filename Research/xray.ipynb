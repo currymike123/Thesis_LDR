{
 "cells": [
  {
   "cell_type": "code",
   "execution_count": 1,
   "metadata": {},
   "outputs": [],
   "source": [
    "import tensorflow as tf\n",
    "from tensorflow import keras\n",
    "from tensorflow.keras import layers\n",
    "import tensorflow_datasets as tfds\n",
    "\n",
    "import numpy as np\n",
    "import os\n",
    "import PIL\n",
    "import PIL.Image\n",
    "import glob\n",
    "\n",
    "import cv2\n",
    "\n",
    "import matplotlib.pyplot as plt\n",
    "from matplotlib import gridspec"
   ]
  },
  {
   "cell_type": "code",
   "execution_count": 2,
   "metadata": {},
   "outputs": [
    {
     "name": "stdout",
     "output_type": "stream",
     "text": [
      "Num GPUs: 1\n"
     ]
    },
    {
     "name": "stderr",
     "output_type": "stream",
     "text": [
      "2022-09-08 14:31:02.778451: I tensorflow/stream_executor/cuda/cuda_gpu_executor.cc:975] successful NUMA node read from SysFS had negative value (-1), but there must be at least one NUMA node, so returning NUMA node zero\n",
      "2022-09-08 14:31:02.796675: I tensorflow/stream_executor/cuda/cuda_gpu_executor.cc:975] successful NUMA node read from SysFS had negative value (-1), but there must be at least one NUMA node, so returning NUMA node zero\n",
      "2022-09-08 14:31:02.796825: I tensorflow/stream_executor/cuda/cuda_gpu_executor.cc:975] successful NUMA node read from SysFS had negative value (-1), but there must be at least one NUMA node, so returning NUMA node zero\n"
     ]
    }
   ],
   "source": [
    "physical_devices = tf.config.list_physical_devices('GPU')\n",
    "print(\"Num GPUs:\", len(physical_devices))"
   ]
  },
  {
   "cell_type": "code",
   "execution_count": 3,
   "metadata": {},
   "outputs": [],
   "source": [
    "x_train = []\n",
    "y_train = []\n",
    "\n",
    "path = \"chest_xray/train/NORMAL\"\n",
    "for image_name in os.listdir(path):\n",
    "    img = cv2.imread(os.path.join(path,image_name))\n",
    "    x_train.append(img)\n",
    "    y_train.append(int(0))\n",
    "\n",
    "path = \"chest_xray/train/PNEUMONIA\"\n",
    "for image_name in os.listdir(path):\n",
    "    img = cv2.imread(os.path.join(path,image_name))\n",
    "    x_train.append(img)\n",
    "    y_train.append(int(1))\n",
    "\n",
    "\n",
    "x_val = []\n",
    "y_val = []\n",
    "\n",
    "path = \"chest_xray/val/NORMAL\"\n",
    "for image_name in os.listdir(path):\n",
    "    img = cv2.imread(os.path.join(path,image_name))\n",
    "    x_val.append(img)\n",
    "    y_val.append(int(0))\n",
    "\n",
    "path = \"chest_xray/val/PNEUMONIA\"\n",
    "for image_name in os.listdir(path):\n",
    "    img = cv2.imread(os.path.join(path,image_name))\n",
    "    x_val.append(img)\n",
    "    y_val.append(int(1))"
   ]
  },
  {
   "cell_type": "code",
   "execution_count": 4,
   "metadata": {},
   "outputs": [],
   "source": [
    "# Multiply Function\n",
    "\n",
    "def multiply(img):\n",
    "    # Get the size of the image\n",
    "    h = img.shape[0]\n",
    "    w = img.shape[1]\n",
    "    d = img.shape[2]\n",
    "\n",
    "    #normalize between 0 & 1\n",
    "    img = img.astype(\"float32\") / 255\n",
    "\n",
    "    # Apply the Filter\n",
    "    for y in range(0,h):\n",
    "        #Search each pixel in the row. x = pixel\n",
    "        for x in range(0,w):\n",
    "            #Search each RGB value.\n",
    "            for z in range(0,d):\n",
    "                # Apply Filter to seperate image. \n",
    "                img[y,x,z] = img[y,x,z] * img[y,x,z]\n",
    "    \n",
    "    # return Multiply image\n",
    "    return img\n",
    "\n",
    "# Screen Function\n",
    "\n",
    "def screen(img):\n",
    "    # Get the size of the image\n",
    "    h = img.shape[0]\n",
    "    w = img.shape[1]\n",
    "    d = img.shape[2]\n",
    "\n",
    "    #normalize between 0 & 1\n",
    "    img = img.astype(\"float32\") / 255\n",
    "\n",
    "    # Apply the Filter\n",
    "    for y in range(0,h):\n",
    "        #Search each pixel in the row. x = pixel\n",
    "        for x in range(0,w):\n",
    "            #Search each RGB value.\n",
    "            for z in range(0,d):\n",
    "                # Apply Filter to seperate image. \n",
    "                img[y,x,z] = 1 - (1 - img[y,x,z]) * (1 - img[y,x,z])\n",
    "    \n",
    "    # return Multiply image\n",
    "    return img\n"
   ]
  },
  {
   "cell_type": "code",
   "execution_count": 5,
   "metadata": {},
   "outputs": [
    {
     "name": "stderr",
     "output_type": "stream",
     "text": [
      "2022-09-08 14:31:28.306991: I tensorflow/stream_executor/cuda/cuda_gpu_executor.cc:975] successful NUMA node read from SysFS had negative value (-1), but there must be at least one NUMA node, so returning NUMA node zero\n",
      "2022-09-08 14:31:28.307214: I tensorflow/stream_executor/cuda/cuda_gpu_executor.cc:975] successful NUMA node read from SysFS had negative value (-1), but there must be at least one NUMA node, so returning NUMA node zero\n",
      "2022-09-08 14:31:28.307350: I tensorflow/stream_executor/cuda/cuda_gpu_executor.cc:975] successful NUMA node read from SysFS had negative value (-1), but there must be at least one NUMA node, so returning NUMA node zero\n",
      "2022-09-08 14:31:28.587904: I tensorflow/stream_executor/cuda/cuda_gpu_executor.cc:975] successful NUMA node read from SysFS had negative value (-1), but there must be at least one NUMA node, so returning NUMA node zero\n",
      "2022-09-08 14:31:28.588045: I tensorflow/stream_executor/cuda/cuda_gpu_executor.cc:975] successful NUMA node read from SysFS had negative value (-1), but there must be at least one NUMA node, so returning NUMA node zero\n",
      "2022-09-08 14:31:28.588157: I tensorflow/stream_executor/cuda/cuda_gpu_executor.cc:975] successful NUMA node read from SysFS had negative value (-1), but there must be at least one NUMA node, so returning NUMA node zero\n",
      "2022-09-08 14:31:28.588235: I tensorflow/core/common_runtime/gpu/gpu_device.cc:1532] Created device /job:localhost/replica:0/task:0/device:GPU:0 with 21434 MB memory:  -> device: 0, name: NVIDIA GeForce RTX 3090, pci bus id: 0000:0a:00.0, compute capability: 8.6\n"
     ]
    }
   ],
   "source": [
    "# Resize all the images to 480x480\n",
    "\n",
    "endTrain = len(x_train)\n",
    "endVal = len(x_val)\n",
    "\n",
    "for image in range(0,endTrain):\n",
    "    x_train[image] = tf.image.resize_with_pad(x_train[image],224,224)\n",
    "\n",
    "for image in range(0,endVal):\n",
    "    x_val[image] = tf.image.resize_with_pad(x_val[image],224,224)"
   ]
  },
  {
   "cell_type": "code",
   "execution_count": 6,
   "metadata": {},
   "outputs": [
    {
     "name": "stdout",
     "output_type": "stream",
     "text": [
      "(5216, 224, 224, 3)\n",
      "(16, 224, 224, 3)\n"
     ]
    },
    {
     "data": {
      "text/plain": [
       "<matplotlib.image.AxesImage at 0x7f6bc4bd4eb0>"
      ]
     },
     "execution_count": 6,
     "metadata": {},
     "output_type": "execute_result"
    },
    {
     "data": {
      "image/png": "[encoded data removed]",
      "text/plain": [
       "<Figure size 432x288 with 1 Axes>"
      ]
     },
     "metadata": {
      "needs_background": "light"
     },
     "output_type": "display_data"
    }
   ],
   "source": [
    "#  Convert to numpy array and check image\n",
    "\n",
    "x_train = np.asarray(x_train, dtype=int)\n",
    "y_train = np.asarray(y_train, dtype=int)\n",
    "x_val = np.asarray(x_val, dtype=int)\n",
    "y_val = np.asarray(y_val, dtype=int)\n",
    "\n",
    "print(x_train.shape)\n",
    "print(x_val.shape)\n",
    "plt.imshow(x_train[0])"
   ]
  },
  {
   "cell_type": "code",
   "execution_count": 7,
   "metadata": {},
   "outputs": [],
   "source": [
    "y_train = np.asarray(y_train).astype('float32').reshape((-1,1))\n",
    "\n",
    "y_val= np.asarray(y_val).astype('float32').reshape((-1,1))"
   ]
  },
  {
   "cell_type": "code",
   "execution_count": 8,
   "metadata": {},
   "outputs": [
    {
     "name": "stdout",
     "output_type": "stream",
     "text": [
      "(5216, 224, 224, 3)\n",
      "(5216, 1)\n",
      "(16, 224, 224, 3)\n",
      "(16, 1)\n"
     ]
    }
   ],
   "source": [
    "print(x_train.shape)\n",
    "print(y_train.shape)\n",
    "print(x_val.shape)\n",
    "print(y_val.shape)"
   ]
  },
  {
   "cell_type": "code",
   "execution_count": 9,
   "metadata": {},
   "outputs": [],
   "source": [
    "# end = len(x_train)\n",
    "\n",
    "# x_dataAug = []\n",
    "# y_dataAug = []\n",
    "# for image in range(0,end):\n",
    "#     x_dataAug.append(multiply(x_train[image]))\n",
    "#     y_dataAug.append(y_train[image])\n",
    "#     x_dataAug.append(screen(x_train[image]))\n",
    "#     y_dataAug.append(y_train[image])"
   ]
  },
  {
   "cell_type": "code",
   "execution_count": 10,
   "metadata": {},
   "outputs": [],
   "source": [
    "# Save the processed x_train files\n",
    "\n",
    "# end = len(x_train)\n",
    "# path = 'chest_xray/processed'\n",
    "# saveImages = np.asarray(x_train)\n",
    "# # saveImages = saveImages * 255\n",
    "# saveImages = saveImages.astype(\"int64\")\n",
    "# for image in range(0,end):\n",
    "#     cv2.imwrite(os.path.join(path, str(image) + '.jpg'),saveImages[image])"
   ]
  },
  {
   "cell_type": "code",
   "execution_count": 11,
   "metadata": {},
   "outputs": [],
   "source": [
    "# pretrained_base = tf.keras.applications.vgg19.VGG19(\n",
    "#     include_top=False, weights='imagenet', input_tensor=None,\n",
    "#     input_shape=[224,224,3], pooling=None, classes=None,\n",
    "#     classifier_activation=None\n",
    "# )"
   ]
  },
  {
   "cell_type": "code",
   "execution_count": 12,
   "metadata": {},
   "outputs": [],
   "source": [
    "model = tf.keras.Sequential([\n",
    "   # Model Creation \n",
    " \n",
    "    layers.BatchNormalization(),\n",
    "    layers.Conv2D(filters=32, kernel_size=3, activation=\"relu\", padding='same', input_shape=[224, 244, 3]),\n",
    "\n",
    "    layers.BatchNormalization(),\n",
    "    \n",
    "\n",
    "    #Second Convolution Block\n",
    "    layers.Conv2D(filters=64, kernel_size=3, activation=\"relu\", padding='same'),\n",
    "\n",
    "    layers.MaxPool2D(pool_size=(2, 2),),\n",
    "    layers.BatchNormalization(),\n",
    "    \n",
    "\n",
    "    #Third Convolution Block\n",
    "    layers.Conv2D(filters=128, kernel_size=3, activation=\"relu\", padding='same'),\n",
    "\n",
    "    layers.BatchNormalization(),\n",
    "    \n",
    "\n",
    "    #Fourth Convolution Block\n",
    "    layers.Conv2D(filters=256, kernel_size=3, activation=\"relu\", padding='same'),\n",
    "\n",
    "    layers.MaxPool2D(pool_size=(2, 2),),\n",
    "    layers.BatchNormalization(),\n",
    "    \n",
    "\n",
    "    #Fifth Convolution Block\n",
    "    layers.Conv2D(filters=512, kernel_size=3, activation=\"relu\", padding='same'),\n",
    "\n",
    "    layers.BatchNormalization(),\n",
    "    \n",
    "\n",
    "    #Sixth Convolution Block\n",
    "    layers.Conv2D(filters=2048, kernel_size=3, activation=\"relu\", padding='same'),\n",
    "\n",
    "    layers.MaxPool2D(pool_size=(2, 2),),\n",
    "    layers.BatchNormalization(),\n",
    "    \n",
    "\n",
    "    #Classifer Head\n",
    "    layers.Flatten(),\n",
    "    layers.Dropout(.4),\n",
    "    layers.Dense(units=512, activation=\"relu\"),\n",
    "    layers.Dropout(0.3),\n",
    "    layers.Dense(units=256, activation=\"relu\"),\n",
    "    layers.Dropout(0.3),\n",
    "     layers.Dense(units=128, activation=\"relu\"),\n",
    "    layers.Dropout(0.3),\n",
    "    layers.Dense(units=1, activation=\"sigmoid\"),\n",
    "])"
   ]
  },
  {
   "cell_type": "code",
   "execution_count": 13,
   "metadata": {},
   "outputs": [],
   "source": [
    "opt = tf.optimizers.Adam(learning_rate=0.0001)"
   ]
  },
  {
   "cell_type": "code",
   "execution_count": 15,
   "metadata": {},
   "outputs": [],
   "source": [
    "model.compile(\n",
    "    optimizer=opt,\n",
    "    loss='BinaryCrossentropy',\n",
    "    metrics=['accuracy']\n",
    ")\n",
    "\n",
    "history = model.fit(\n",
    "    x_train,y_train,\n",
    "    epochs=20,\n",
    "    shuffle=True,\n",
    "    batch_size=16,\n",
    "    validation_data=(x_val,y_val),\n",
    "    verbose=1,\n",
    ")"
   ]
  }
 ],
 "metadata": {
  "kernelspec": {
   "display_name": "Python 3.10.4 64-bit",
   "language": "python",
   "name": "python3"
  },
  "language_info": {
   "codemirror_mode": {
    "name": "ipython",
    "version": 3
   },
   "file_extension": ".py",
   "mimetype": "text/x-python",
   "name": "python",
   "nbconvert_exporter": "python",
   "pygments_lexer": "ipython3",
   "version": "3.10.4"
  },
  "orig_nbformat": 4,
  "vscode": {
   "interpreter": {
    "hash": "e7370f93d1d0cde622a1f8e1c04877d8463912d04d973331ad4851f04de6915a"
   }
  }
 },
 "nbformat": 4,
 "nbformat_minor": 2
}
