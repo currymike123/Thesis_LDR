{
 "cells": [
  {
   "cell_type": "code",
   "execution_count": 1,
   "metadata": {},
   "outputs": [],
   "source": [
    "import tensorflow as tf\n",
    "from tensorflow import keras\n",
    "from tensorflow.keras import layers\n",
    "import tensorflow_datasets as tfds\n",
    "\n",
    "import numpy as np\n",
    "import os\n",
    "import PIL\n",
    "import PIL.Image\n",
    "import glob\n",
    "\n",
    "import cv2\n",
    "\n",
    "import matplotlib.pyplot as plt\n",
    "from matplotlib import gridspec"
   ]
  },
  {
   "cell_type": "code",
   "execution_count": 2,
   "metadata": {},
   "outputs": [
    {
     "name": "stdout",
     "output_type": "stream",
     "text": [
      "Num GPUs: 1\n"
     ]
    },
    {
     "name": "stderr",
     "output_type": "stream",
     "text": [
      "2022-09-08 16:47:06.995807: I tensorflow/stream_executor/cuda/cuda_gpu_executor.cc:975] successful NUMA node read from SysFS had negative value (-1), but there must be at least one NUMA node, so returning NUMA node zero\n",
      "2022-09-08 16:47:07.013564: I tensorflow/stream_executor/cuda/cuda_gpu_executor.cc:975] successful NUMA node read from SysFS had negative value (-1), but there must be at least one NUMA node, so returning NUMA node zero\n",
      "2022-09-08 16:47:07.013706: I tensorflow/stream_executor/cuda/cuda_gpu_executor.cc:975] successful NUMA node read from SysFS had negative value (-1), but there must be at least one NUMA node, so returning NUMA node zero\n"
     ]
    }
   ],
   "source": [
    "physical_devices = tf.config.list_physical_devices('GPU')\n",
    "print(\"Num GPUs:\", len(physical_devices))"
   ]
  },
  {
   "cell_type": "code",
   "execution_count": 3,
   "metadata": {},
   "outputs": [],
   "source": [
    "x_train = []\n",
    "y_train = []\n",
    "\n",
    "x_val = []\n",
    "y_val = []\n",
    "\n",
    "count = 0\n",
    "\n",
    "path = \"chest_xray/train/NORMAL\"\n",
    "for image_name in os.listdir(path):\n",
    "    img = cv2.imread(os.path.join(path,image_name))\n",
    "    if (count % 10 == 0):\n",
    "        x_val.append(img)\n",
    "        y_val.append(int(0))\n",
    "    else:\n",
    "        x_train.append(img)\n",
    "        y_train.append(int(0))\n",
    "    count = count + 1\n",
    "\n",
    "count = 0\n",
    "\n",
    "path = \"chest_xray/train/PNEUMONIA\"\n",
    "for image_name in os.listdir(path):\n",
    "\n",
    "    img = cv2.imread(os.path.join(path,image_name))\n",
    "    if (count % 10 == 0):\n",
    "        x_val.append(img)\n",
    "        y_val.append(int(1))\n",
    "    else:\n",
    "        x_train.append(img)\n",
    "        y_train.append(int(1))\n",
    "    count = count + 1\n",
    "\n",
    "\n",
    "\n",
    "path = \"chest_xray/val/NORMAL\"\n",
    "for image_name in os.listdir(path):\n",
    "    img = cv2.imread(os.path.join(path,image_name))\n",
    "    x_val.append(img)\n",
    "    y_val.append(int(0))\n",
    "\n",
    "path = \"chest_xray/val/PNEUMONIA\"\n",
    "for image_name in os.listdir(path):\n",
    "    img = cv2.imread(os.path.join(path,image_name))\n",
    "    x_val.append(img)\n",
    "    y_val.append(int(1))"
   ]
  },
  {
   "cell_type": "code",
   "execution_count": 4,
   "metadata": {},
   "outputs": [
    {
     "data": {
      "text/plain": [
       "4693"
      ]
     },
     "execution_count": 4,
     "metadata": {},
     "output_type": "execute_result"
    }
   ],
   "source": [
    "# len(x_train)\n",
    "len(y_train)"
   ]
  },
  {
   "cell_type": "code",
   "execution_count": 5,
   "metadata": {},
   "outputs": [],
   "source": [
    "# Multiply Function\n",
    "\n",
    "def multiply(img):\n",
    "    # Get the size of the image\n",
    "    h = img.shape[0]\n",
    "    w = img.shape[1]\n",
    "    d = img.shape[2]\n",
    "\n",
    "    #normalize between 0 & 1\n",
    "    img = img.astype(\"float32\") / 255\n",
    "\n",
    "    # Apply the Filter\n",
    "    for y in range(0,h):\n",
    "        #Search each pixel in the row. x = pixel\n",
    "        for x in range(0,w):\n",
    "            #Search each RGB value.\n",
    "            for z in range(0,d):\n",
    "                # Apply Filter to seperate image. \n",
    "                img[y,x,z] = img[y,x,z] * img[y,x,z]\n",
    "    \n",
    "    # return Multiply image\n",
    "    return img\n",
    "\n",
    "# Screen Function\n",
    "\n",
    "def screen(img):\n",
    "    # Get the size of the image\n",
    "    h = img.shape[0]\n",
    "    w = img.shape[1]\n",
    "    d = img.shape[2]\n",
    "\n",
    "    #normalize between 0 & 1\n",
    "    img = img.astype(\"float32\") / 255\n",
    "\n",
    "    # Apply the Filter\n",
    "    for y in range(0,h):\n",
    "        #Search each pixel in the row. x = pixel\n",
    "        for x in range(0,w):\n",
    "            #Search each RGB value.\n",
    "            for z in range(0,d):\n",
    "                # Apply Filter to seperate image. \n",
    "                img[y,x,z] = 1 - (1 - img[y,x,z]) * (1 - img[y,x,z])\n",
    "    \n",
    "    # return Multiply image\n",
    "    return img\n"
   ]
  },
  {
   "cell_type": "code",
   "execution_count": 6,
   "metadata": {},
   "outputs": [
    {
     "name": "stderr",
     "output_type": "stream",
     "text": [
      "2022-09-08 16:47:30.848063: I tensorflow/stream_executor/cuda/cuda_gpu_executor.cc:975] successful NUMA node read from SysFS had negative value (-1), but there must be at least one NUMA node, so returning NUMA node zero\n",
      "2022-09-08 16:47:30.848274: I tensorflow/stream_executor/cuda/cuda_gpu_executor.cc:975] successful NUMA node read from SysFS had negative value (-1), but there must be at least one NUMA node, so returning NUMA node zero\n",
      "2022-09-08 16:47:30.848427: I tensorflow/stream_executor/cuda/cuda_gpu_executor.cc:975] successful NUMA node read from SysFS had negative value (-1), but there must be at least one NUMA node, so returning NUMA node zero\n",
      "2022-09-08 16:47:31.134156: I tensorflow/stream_executor/cuda/cuda_gpu_executor.cc:975] successful NUMA node read from SysFS had negative value (-1), but there must be at least one NUMA node, so returning NUMA node zero\n",
      "2022-09-08 16:47:31.134302: I tensorflow/stream_executor/cuda/cuda_gpu_executor.cc:975] successful NUMA node read from SysFS had negative value (-1), but there must be at least one NUMA node, so returning NUMA node zero\n",
      "2022-09-08 16:47:31.134411: I tensorflow/stream_executor/cuda/cuda_gpu_executor.cc:975] successful NUMA node read from SysFS had negative value (-1), but there must be at least one NUMA node, so returning NUMA node zero\n",
      "2022-09-08 16:47:31.134487: I tensorflow/core/common_runtime/gpu/gpu_device.cc:1532] Created device /job:localhost/replica:0/task:0/device:GPU:0 with 21633 MB memory:  -> device: 0, name: NVIDIA GeForce RTX 3090, pci bus id: 0000:0a:00.0, compute capability: 8.6\n"
     ]
    }
   ],
   "source": [
    "# Resize all the images to 480x480\n",
    "\n",
    "endTrain = len(x_train)\n",
    "endVal = len(x_val)\n",
    "\n",
    "for image in range(0,endTrain):\n",
    "    x_train[image] = tf.image.resize_with_pad(x_train[image],224,224)\n",
    "\n",
    "for image in range(0,endVal):\n",
    "    x_val[image] = tf.image.resize_with_pad(x_val[image],224,224)"
   ]
  },
  {
   "cell_type": "code",
   "execution_count": 7,
   "metadata": {},
   "outputs": [
    {
     "name": "stdout",
     "output_type": "stream",
     "text": [
      "(4693, 224, 224, 3)\n",
      "(539, 224, 224, 3)\n"
     ]
    },
    {
     "data": {
      "text/plain": [
       "<matplotlib.image.AxesImage at 0x7f099cd28a30>"
      ]
     },
     "execution_count": 7,
     "metadata": {},
     "output_type": "execute_result"
    },
    {
     "data": {
      "image/png": "[encoded data removed]",
      "text/plain": [
       "<Figure size 432x288 with 1 Axes>"
      ]
     },
     "metadata": {
      "needs_background": "light"
     },
     "output_type": "display_data"
    }
   ],
   "source": [
    "#  Convert to numpy array and check image\n",
    "\n",
    "x_train = np.asarray(x_train, dtype=int)\n",
    "y_train = np.asarray(y_train, dtype=int)\n",
    "x_val = np.asarray(x_val, dtype=int)\n",
    "y_val = np.asarray(y_val, dtype=int)\n",
    "\n",
    "print(x_train.shape)\n",
    "print(x_val.shape)\n",
    "plt.imshow(x_train[0])"
   ]
  },
  {
   "cell_type": "code",
   "execution_count": 8,
   "metadata": {},
   "outputs": [],
   "source": [
    "y_train = np.asarray(y_train).astype('float32').reshape((-1,1))\n",
    "\n",
    "y_val= np.asarray(y_val).astype('float32').reshape((-1,1))"
   ]
  },
  {
   "cell_type": "code",
   "execution_count": 9,
   "metadata": {},
   "outputs": [
    {
     "name": "stdout",
     "output_type": "stream",
     "text": [
      "(4693, 224, 224, 3)\n",
      "(4693, 1)\n",
      "(539, 224, 224, 3)\n",
      "(539, 1)\n"
     ]
    }
   ],
   "source": [
    "print(x_train.shape)\n",
    "print(y_train.shape)\n",
    "print(x_val.shape)\n",
    "print(y_val.shape)"
   ]
  },
  {
   "cell_type": "code",
   "execution_count": null,
   "metadata": {},
   "outputs": [],
   "source": []
  },
  {
   "cell_type": "code",
   "execution_count": 10,
   "metadata": {},
   "outputs": [],
   "source": [
    "# end = len(x_train)\n",
    "\n",
    "# x_dataAug = []\n",
    "# y_dataAug = []\n",
    "# for image in range(0,end):\n",
    "#     x_dataAug.append(multiply(x_train[image]))\n",
    "#     y_dataAug.append(y_train[image])\n",
    "#     x_dataAug.append(screen(x_train[image]))\n",
    "#     y_dataAug.append(y_train[image])"
   ]
  },
  {
   "cell_type": "code",
   "execution_count": 11,
   "metadata": {},
   "outputs": [],
   "source": [
    "# Save the processed x_train files\n",
    "\n",
    "# end = len(x_train)\n",
    "# path = 'chest_xray/processed'\n",
    "# saveImages = np.asarray(x_train)\n",
    "# # saveImages = saveImages * 255\n",
    "# saveImages = saveImages.astype(\"int64\")\n",
    "# for image in range(0,end):\n",
    "#     cv2.imwrite(os.path.join(path, str(image) + '.jpg'),saveImages[image])"
   ]
  },
  {
   "cell_type": "code",
   "execution_count": 12,
   "metadata": {},
   "outputs": [],
   "source": [
    "# pretrained_base = tf.keras.applications.vgg19.VGG19(\n",
    "#     include_top=False, weights='imagenet', input_tensor=None,\n",
    "#     input_shape=[224,224,3], pooling=None, classes=None,\n",
    "#     classifier_activation=None\n",
    "# )"
   ]
  },
  {
   "cell_type": "code",
   "execution_count": 13,
   "metadata": {},
   "outputs": [],
   "source": [
    "model = tf.keras.Sequential([\n",
    "   # Model Creation \n",
    " \n",
    "    layers.BatchNormalization(),\n",
    "    layers.Conv2D(filters=32, kernel_size=3, activation=\"relu\", padding='same', input_shape=[224, 244, 3]),\n",
    "\n",
    "    layers.BatchNormalization(),\n",
    "    \n",
    "\n",
    "    #Second Convolution Block\n",
    "    layers.Conv2D(filters=64, kernel_size=3, activation=\"relu\", padding='same'),\n",
    "\n",
    "    layers.MaxPool2D(pool_size=(2, 2),),\n",
    "    layers.BatchNormalization(),\n",
    "    \n",
    "\n",
    "    #Third Convolution Block\n",
    "    layers.Conv2D(filters=128, kernel_size=3, activation=\"relu\", padding='same'),\n",
    "\n",
    "    layers.BatchNormalization(),\n",
    "    \n",
    "\n",
    "    #Fourth Convolution Block\n",
    "    layers.Conv2D(filters=256, kernel_size=3, activation=\"relu\", padding='same'),\n",
    "\n",
    "    layers.MaxPool2D(pool_size=(2, 2),),\n",
    "    layers.BatchNormalization(),\n",
    "    \n",
    "\n",
    "    #Fifth Convolution Block\n",
    "    layers.Conv2D(filters=512, kernel_size=3, activation=\"relu\", padding='same'),\n",
    "\n",
    "    layers.BatchNormalization(),\n",
    "    \n",
    "\n",
    "    #Sixth Convolution Block\n",
    "    layers.Conv2D(filters=2048, kernel_size=3, activation=\"relu\", padding='same'),\n",
    "\n",
    "    layers.MaxPool2D(pool_size=(2, 2),),\n",
    "    layers.BatchNormalization(),\n",
    "    \n",
    "\n",
    "    #Classifer Head\n",
    "    layers.Flatten(),\n",
    "    layers.Dropout(.4),\n",
    "    layers.Dense(units=512, activation=\"relu\"),\n",
    "    layers.Dropout(0.3),\n",
    "    layers.Dense(units=256, activation=\"relu\"),\n",
    "    layers.Dropout(0.3),\n",
    "     layers.Dense(units=128, activation=\"relu\"),\n",
    "    layers.Dropout(0.3),\n",
    "    layers.Dense(units=1, activation=\"sigmoid\"),\n",
    "])"
   ]
  },
  {
   "cell_type": "code",
   "execution_count": 14,
   "metadata": {},
   "outputs": [],
   "source": [
    "opt = tf.optimizers.Adam(learning_rate=0.0001)"
   ]
  },
  {
   "cell_type": "code",
   "execution_count": 15,
   "metadata": {},
   "outputs": [
    {
     "name": "stderr",
     "output_type": "stream",
     "text": [
      "2022-09-08 16:47:45.279101: W tensorflow/core/framework/cpu_allocator_impl.cc:82] Allocation of 5651423232 exceeds 10% of free system memory.\n",
      "2022-09-08 16:47:48.572123: W tensorflow/core/framework/cpu_allocator_impl.cc:82] Allocation of 5651423232 exceeds 10% of free system memory.\n"
     ]
    },
    {
     "name": "stdout",
     "output_type": "stream",
     "text": [
      "Epoch 1/20\n"
     ]
    },
    {
     "name": "stderr",
     "output_type": "stream",
     "text": [
      "2022-09-08 16:47:51.093626: I tensorflow/stream_executor/cuda/cuda_dnn.cc:384] Loaded cuDNN version 8303\n",
      "2022-09-08 16:47:54.089689: I tensorflow/stream_executor/cuda/cuda_blas.cc:1786] TensorFloat-32 will be used for the matrix multiplication. This will only be logged once.\n"
     ]
    },
    {
     "name": "stdout",
     "output_type": "stream",
     "text": [
      "294/294 [==============================] - 63s 185ms/step - loss: 4.9128 - accuracy: 0.8915 - val_loss: 33.7397 - val_accuracy: 0.7347\n",
      "Epoch 2/20\n",
      "294/294 [==============================] - 49s 168ms/step - loss: 3.9096 - accuracy: 0.9105 - val_loss: 2.2103 - val_accuracy: 0.9239\n",
      "Epoch 3/20\n",
      "294/294 [==============================] - 50s 169ms/step - loss: 2.3679 - accuracy: 0.9388 - val_loss: 3.2757 - val_accuracy: 0.9369\n",
      "Epoch 4/20\n",
      "294/294 [==============================] - 50s 171ms/step - loss: 2.3118 - accuracy: 0.9391 - val_loss: 0.8761 - val_accuracy: 0.9647\n",
      "Epoch 5/20\n",
      "294/294 [==============================] - 50s 169ms/step - loss: 1.2695 - accuracy: 0.9563 - val_loss: 1.1236 - val_accuracy: 0.9351\n",
      "Epoch 6/20\n",
      "294/294 [==============================] - 50s 169ms/step - loss: 1.3560 - accuracy: 0.9597 - val_loss: 1.7006 - val_accuracy: 0.9536\n",
      "Epoch 7/20\n",
      "294/294 [==============================] - 50s 169ms/step - loss: 0.9602 - accuracy: 0.9642 - val_loss: 0.6038 - val_accuracy: 0.9647\n",
      "Epoch 8/20\n",
      "294/294 [==============================] - 50s 169ms/step - loss: 0.8672 - accuracy: 0.9668 - val_loss: 0.8997 - val_accuracy: 0.9610\n",
      "Epoch 9/20\n",
      "294/294 [==============================] - 50s 169ms/step - loss: 0.7106 - accuracy: 0.9727 - val_loss: 0.9022 - val_accuracy: 0.9629\n",
      "Epoch 10/20\n",
      "294/294 [==============================] - 50s 169ms/step - loss: 0.8261 - accuracy: 0.9659 - val_loss: 1.1568 - val_accuracy: 0.9555\n",
      "Epoch 11/20\n",
      "294/294 [==============================] - 50s 169ms/step - loss: 0.6082 - accuracy: 0.9746 - val_loss: 0.7690 - val_accuracy: 0.9666\n",
      "Epoch 12/20\n",
      "294/294 [==============================] - 50s 168ms/step - loss: 0.5006 - accuracy: 0.9789 - val_loss: 1.0633 - val_accuracy: 0.9518\n",
      "Epoch 13/20\n",
      "294/294 [==============================] - 50s 168ms/step - loss: 0.4270 - accuracy: 0.9819 - val_loss: 0.7199 - val_accuracy: 0.9722\n",
      "Epoch 14/20\n",
      "294/294 [==============================] - 50s 169ms/step - loss: 0.3597 - accuracy: 0.9840 - val_loss: 0.8383 - val_accuracy: 0.9629\n",
      "Epoch 15/20\n",
      "294/294 [==============================] - 50s 169ms/step - loss: 0.4596 - accuracy: 0.9804 - val_loss: 0.8364 - val_accuracy: 0.9703\n",
      "Epoch 16/20\n",
      "294/294 [==============================] - 50s 169ms/step - loss: 0.3132 - accuracy: 0.9849 - val_loss: 0.7140 - val_accuracy: 0.9573\n",
      "Epoch 17/20\n",
      "294/294 [==============================] - 48s 162ms/step - loss: 0.3905 - accuracy: 0.9834 - val_loss: 0.6495 - val_accuracy: 0.9573\n",
      "Epoch 18/20\n",
      "294/294 [==============================] - 46s 155ms/step - loss: 0.2562 - accuracy: 0.9866 - val_loss: 0.5725 - val_accuracy: 0.9722\n",
      "Epoch 19/20\n",
      "294/294 [==============================] - 46s 155ms/step - loss: 0.2914 - accuracy: 0.9838 - val_loss: 1.1021 - val_accuracy: 0.9443\n",
      "Epoch 20/20\n",
      "294/294 [==============================] - 46s 155ms/step - loss: 0.2223 - accuracy: 0.9859 - val_loss: 0.9733 - val_accuracy: 0.9685\n"
     ]
    }
   ],
   "source": [
    "model.compile(\n",
    "    optimizer=opt,\n",
    "    loss='BinaryCrossentropy',\n",
    "    metrics=['accuracy']\n",
    ")\n",
    "\n",
    "history = model.fit(\n",
    "    x_train,y_train,\n",
    "    epochs=20,\n",
    "    shuffle=True,\n",
    "    batch_size=16,\n",
    "    validation_data=(x_val,y_val),\n",
    "    verbose=1,\n",
    ")"
   ]
  }
 ],
 "metadata": {
  "kernelspec": {
   "display_name": "Python 3.10.4 64-bit",
   "language": "python",
   "name": "python3"
  },
  "language_info": {
   "codemirror_mode": {
    "name": "ipython",
    "version": 3
   },
   "file_extension": ".py",
   "mimetype": "text/x-python",
   "name": "python",
   "nbconvert_exporter": "python",
   "pygments_lexer": "ipython3",
   "version": "3.10.4"
  },
  "orig_nbformat": 4,
  "vscode": {
   "interpreter": {
    "hash": "e7370f93d1d0cde622a1f8e1c04877d8463912d04d973331ad4851f04de6915a"
   }
  }
 },
 "nbformat": 4,
 "nbformat_minor": 2
}
