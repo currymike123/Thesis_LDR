{
 "cells": [
  {
   "cell_type": "code",
   "execution_count": 2,
   "metadata": {},
   "outputs": [],
   "source": [
    "import tensorflow as tf\n",
    "from tensorflow import keras\n",
    "from tensorflow.keras import layers\n",
    "import tensorflow_datasets as tfds\n",
    "\n",
    "import numpy as np\n",
    "import os\n",
    "import PIL\n",
    "import PIL.Image\n",
    "import glob\n",
    "\n",
    "import cv2\n",
    "\n",
    "import matplotlib.pyplot as plt\n",
    "from matplotlib import gridspec"
   ]
  },
  {
   "cell_type": "code",
   "execution_count": 4,
   "metadata": {},
   "outputs": [
    {
     "name": "stdout",
     "output_type": "stream",
     "text": [
      "Found 5216 files belonging to 2 classes.\n"
     ]
    },
    {
     "name": "stderr",
     "output_type": "stream",
     "text": [
      "2022-09-08 09:25:22.722378: I tensorflow/stream_executor/cuda/cuda_gpu_executor.cc:975] successful NUMA node read from SysFS had negative value (-1), but there must be at least one NUMA node, so returning NUMA node zero\n",
      "2022-09-08 09:25:22.751765: I tensorflow/stream_executor/cuda/cuda_gpu_executor.cc:975] successful NUMA node read from SysFS had negative value (-1), but there must be at least one NUMA node, so returning NUMA node zero\n",
      "2022-09-08 09:25:22.751892: I tensorflow/stream_executor/cuda/cuda_gpu_executor.cc:975] successful NUMA node read from SysFS had negative value (-1), but there must be at least one NUMA node, so returning NUMA node zero\n",
      "2022-09-08 09:25:22.753284: I tensorflow/stream_executor/cuda/cuda_gpu_executor.cc:975] successful NUMA node read from SysFS had negative value (-1), but there must be at least one NUMA node, so returning NUMA node zero\n",
      "2022-09-08 09:25:22.753402: I tensorflow/stream_executor/cuda/cuda_gpu_executor.cc:975] successful NUMA node read from SysFS had negative value (-1), but there must be at least one NUMA node, so returning NUMA node zero\n",
      "2022-09-08 09:25:22.753513: I tensorflow/stream_executor/cuda/cuda_gpu_executor.cc:975] successful NUMA node read from SysFS had negative value (-1), but there must be at least one NUMA node, so returning NUMA node zero\n",
      "2022-09-08 09:25:23.276877: I tensorflow/stream_executor/cuda/cuda_gpu_executor.cc:975] successful NUMA node read from SysFS had negative value (-1), but there must be at least one NUMA node, so returning NUMA node zero\n",
      "2022-09-08 09:25:23.277012: I tensorflow/stream_executor/cuda/cuda_gpu_executor.cc:975] successful NUMA node read from SysFS had negative value (-1), but there must be at least one NUMA node, so returning NUMA node zero\n",
      "2022-09-08 09:25:23.277121: I tensorflow/stream_executor/cuda/cuda_gpu_executor.cc:975] successful NUMA node read from SysFS had negative value (-1), but there must be at least one NUMA node, so returning NUMA node zero\n",
      "2022-09-08 09:25:23.277196: I tensorflow/core/common_runtime/gpu/gpu_device.cc:1532] Created device /job:localhost/replica:0/task:0/device:GPU:0 with 21632 MB memory:  -> device: 0, name: NVIDIA GeForce RTX 3090, pci bus id: 0000:0a:00.0, compute capability: 8.6\n"
     ]
    }
   ],
   "source": [
    "ds_train = tf.keras.utils.image_dataset_from_directory('chest_xray/train', labels=\"inferred\")"
   ]
  },
  {
   "cell_type": "code",
   "execution_count": 5,
   "metadata": {},
   "outputs": [],
   "source": [
    "class_names = ds_train.class_names"
   ]
  },
  {
   "cell_type": "code",
   "execution_count": 33,
   "metadata": {},
   "outputs": [],
   "source": [
    "x_train = np.asarray(list(ds_train.map(lambda x, y: x)))\n",
    "y_train = np.asarray(list(ds_train.map(lambda x, y: y)))"
   ]
  },
  {
   "cell_type": "code",
   "execution_count": 24,
   "metadata": {},
   "outputs": [],
   "source": [
    "x_train = []\n",
    "y_train = []\n",
    "\n",
    "path = \"chest_xray/train/NORMAL\"\n",
    "for image_name in os.listdir(path):\n",
    "    img = cv2.imread(os.path.join(path,image_name))\n",
    "    x_train.append(img)\n",
    "    y_train.append(\"0\")\n",
    "\n"
   ]
  },
  {
   "cell_type": "code",
   "execution_count": 34,
   "metadata": {},
   "outputs": [],
   "source": [
    "# Multiply Function\n",
    "\n",
    "def multiply(img):\n",
    "    # Get the size of the image\n",
    "    h = img.shape[0]\n",
    "    w = img.shape[1]\n",
    "    d = img.shape[2]\n",
    "\n",
    "    #normalize between 0 & 1\n",
    "    img = img.astype(\"float32\") / 255\n",
    "\n",
    "    # Apply the Filter\n",
    "    for y in range(0,h):\n",
    "        #Search each pixel in the row. x = pixel\n",
    "        for x in range(0,w):\n",
    "            #Search each RGB value.\n",
    "            for z in range(0,d):\n",
    "                # Apply Filter to seperate image. \n",
    "                img[y,x,z] = img[y,x,z] * img[y,x,z]\n",
    "    \n",
    "    # return Multiply image\n",
    "    return img\n",
    "\n",
    "# Screen Function\n",
    "\n",
    "def screen(img):\n",
    "    # Get the size of the image\n",
    "    h = img.shape[0]\n",
    "    w = img.shape[1]\n",
    "    d = img.shape[2]\n",
    "\n",
    "    #normalize between 0 & 1\n",
    "    img = img.astype(\"float32\") / 255\n",
    "\n",
    "    # Apply the Filter\n",
    "    for y in range(0,h):\n",
    "        #Search each pixel in the row. x = pixel\n",
    "        for x in range(0,w):\n",
    "            #Search each RGB value.\n",
    "            for z in range(0,d):\n",
    "                # Apply Filter to seperate image. \n",
    "                img[y,x,z] = 1 - (1 - img[y,x,z]) * (1 - img[y,x,z])\n",
    "    \n",
    "    # return Multiply image\n",
    "    return img\n"
   ]
  },
  {
   "cell_type": "code",
   "execution_count": 35,
   "metadata": {},
   "outputs": [],
   "source": [
    "test = []\n",
    "\n",
    "test.append(multiply(x_train[0]))"
   ]
  },
  {
   "cell_type": "code",
   "execution_count": 40,
   "metadata": {},
   "outputs": [],
   "source": [
    "end = len(x_train)\n",
    "\n",
    "x_dataAug = []\n",
    "y_dataAug = []\n",
    "for image in range(0,end):\n",
    "    x_dataAug.append(multiply(x_train[image]))\n",
    "    y_dataAug.append('0')\n",
    "    x_dataAug.append(screen(x_train[image]))\n",
    "    y_dataAug.append('0')"
   ]
  },
  {
   "cell_type": "code",
   "execution_count": 12,
   "metadata": {},
   "outputs": [
    {
     "name": "stdout",
     "output_type": "stream",
     "text": [
      "(1430, 1824, 3)\n"
     ]
    }
   ],
   "source": []
  }
 ],
 "metadata": {
  "kernelspec": {
   "display_name": "Python 3.10.4 64-bit",
   "language": "python",
   "name": "python3"
  },
  "language_info": {
   "codemirror_mode": {
    "name": "ipython",
    "version": 3
   },
   "file_extension": ".py",
   "mimetype": "text/x-python",
   "name": "python",
   "nbconvert_exporter": "python",
   "pygments_lexer": "ipython3",
   "version": "3.10.4"
  },
  "orig_nbformat": 4,
  "vscode": {
   "interpreter": {
    "hash": "e7370f93d1d0cde622a1f8e1c04877d8463912d04d973331ad4851f04de6915a"
   }
  }
 },
 "nbformat": 4,
 "nbformat_minor": 2
}
