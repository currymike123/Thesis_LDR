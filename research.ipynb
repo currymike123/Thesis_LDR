{
 "cells": [
  {
   "cell_type": "markdown",
   "metadata": {},
   "source": [
    "### Thesis Research Notebook <br>\n",
    "### LDR Data Augmentation for Convolutional Neural Network Construction "
   ]
  },
  {
   "cell_type": "code",
   "execution_count": 2,
   "metadata": {},
   "outputs": [],
   "source": [
    "import tensorflow\n",
    "from tensorflow import keras\n",
    "from tensorflow.keras import layers"
   ]
  },
  {
   "cell_type": "code",
   "execution_count": 3,
   "metadata": {},
   "outputs": [
    {
     "name": "stdout",
     "output_type": "stream",
     "text": [
      "Downloading data from https://www.cs.toronto.edu/~kriz/cifar-100-python.tar.gz\n",
      "169009152/169001437 [==============================] - 20s 0us/step\n",
      "169017344/169001437 [==============================] - 20s 0us/step\n"
     ]
    }
   ],
   "source": [
    "(x_train, y_train), (x_test, y_test) = keras.datasets.cifar100.load_data()\n",
    "assert x_train.shape == (50000, 32, 32, 3)\n",
    "assert x_test.shape == (10000, 32, 32, 3)\n",
    "assert y_train.shape == (50000, 1)\n",
    "assert y_test.shape == (10000, 1)"
   ]
  },
  {
   "cell_type": "code",
   "execution_count": 6,
   "metadata": {},
   "outputs": [
    {
     "data": {
      "text/plain": [
       "array([[255, 255, 255],\n",
       "       [254, 254, 254],\n",
       "       [254, 254, 254],\n",
       "       [254, 254, 254],\n",
       "       [254, 254, 254],\n",
       "       [254, 254, 254],\n",
       "       [254, 254, 254],\n",
       "       [254, 254, 254],\n",
       "       [254, 254, 254],\n",
       "       [254, 254, 254],\n",
       "       [254, 254, 254],\n",
       "       [254, 254, 254],\n",
       "       [254, 254, 254],\n",
       "       [254, 254, 254],\n",
       "       [254, 254, 254],\n",
       "       [254, 254, 254],\n",
       "       [252, 251, 250],\n",
       "       [253, 246, 231],\n",
       "       [218, 200, 179],\n",
       "       [111,  90,  81],\n",
       "       [163, 155, 155],\n",
       "       [255, 255, 255],\n",
       "       [255, 254, 254],\n",
       "       [253, 252, 253],\n",
       "       [253, 254, 253],\n",
       "       [252, 254, 254],\n",
       "       [247, 252, 253],\n",
       "       [216, 227, 222],\n",
       "       [198, 211, 194],\n",
       "       [170, 176, 150],\n",
       "       [161, 168, 130],\n",
       "       [146, 154, 113]], dtype=uint8)"
      ]
     },
     "execution_count": 6,
     "metadata": {},
     "output_type": "execute_result"
    }
   ],
   "source": []
  }
 ],
 "metadata": {
  "interpreter": {
   "hash": "5898b26040c632259e35e83825f5c0cf1c45d2ec10ee71e62ad915f44b832154"
  },
  "kernelspec": {
   "display_name": "Python 3.8.8 ('tensorflor-cpu')",
   "language": "python",
   "name": "python3"
  },
  "language_info": {
   "codemirror_mode": {
    "name": "ipython",
    "version": 3
   },
   "file_extension": ".py",
   "mimetype": "text/x-python",
   "name": "python",
   "nbconvert_exporter": "python",
   "pygments_lexer": "ipython3",
   "version": "3.8.8"
  },
  "orig_nbformat": 4
 },
 "nbformat": 4,
 "nbformat_minor": 2
}
